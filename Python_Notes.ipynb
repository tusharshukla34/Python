{
 "cells": [
  {
   "cell_type": "markdown",
   "id": "b038c786-127b-4da3-b942-b380bab49956",
   "metadata": {},
   "source": [
    "# Some important Predefine function"
   ]
  },
  {
   "cell_type": "code",
   "execution_count": 21,
   "id": "e5459375-33e0-4dda-a7d6-134898896efe",
   "metadata": {},
   "outputs": [],
   "source": [
    "x=\"tushar\""
   ]
  },
  {
   "cell_type": "code",
   "execution_count": 22,
   "id": "5143de31-b39a-474b-867f-c0cf46ab4d13",
   "metadata": {},
   "outputs": [
    {
     "name": "stdout",
     "output_type": "stream",
     "text": [
      "tushar\n"
     ]
    }
   ],
   "source": [
    "print(x)"
   ]
  },
  {
   "cell_type": "code",
   "execution_count": 23,
   "id": "8b875fbf-2b78-4e98-a376-af7055964c0f",
   "metadata": {},
   "outputs": [
    {
     "name": "stdout",
     "output_type": "stream",
     "text": [
      "<class 'str'>\n"
     ]
    }
   ],
   "source": [
    "print(type(x))"
   ]
  },
  {
   "cell_type": "code",
   "execution_count": 24,
   "id": "462b4b24-24e0-4c15-baed-0f7738e17347",
   "metadata": {},
   "outputs": [
    {
     "name": "stdout",
     "output_type": "stream",
     "text": [
      "1794739238832\n"
     ]
    }
   ],
   "source": [
    "print(id(x))"
   ]
  },
  {
   "cell_type": "code",
   "execution_count": 25,
   "id": "f212e8d8-1224-4723-a93d-157f7ea9c90b",
   "metadata": {},
   "outputs": [
    {
     "name": "stdout",
     "output_type": "stream",
     "text": [
      "u\n"
     ]
    }
   ],
   "source": [
    "print(max(x))"
   ]
  },
  {
   "cell_type": "code",
   "execution_count": 26,
   "id": "6804ac80-7823-44a9-820f-feb2cc473532",
   "metadata": {},
   "outputs": [
    {
     "name": "stdout",
     "output_type": "stream",
     "text": [
      "a\n"
     ]
    }
   ],
   "source": [
    "print(min(x))"
   ]
  },
  {
   "cell_type": "code",
   "execution_count": 27,
   "id": "47bfc2ea-0e66-4eb3-bfeb-cbf50b4a8005",
   "metadata": {},
   "outputs": [
    {
     "name": "stdout",
     "output_type": "stream",
     "text": [
      "6\n"
     ]
    }
   ],
   "source": [
    "print(len(x))"
   ]
  },
  {
   "cell_type": "markdown",
   "id": "7ccc0e85-8ce1-4fe2-ac15-93ab123d0f65",
   "metadata": {},
   "source": [
    " To find Keyword<"
   ]
  },
  {
   "cell_type": "code",
   "execution_count": 6,
   "id": "b2111e13-4e32-43da-a8df-665cf59d9ae5",
   "metadata": {},
   "outputs": [],
   "source": [
    "import keyword"
   ]
  },
  {
   "cell_type": "code",
   "execution_count": 7,
   "id": "33e5a0ba-cb23-4cd2-9df0-32ba9c64645c",
   "metadata": {},
   "outputs": [],
   "source": [
    "key_all = keyword.kwlist"
   ]
  },
  {
   "cell_type": "code",
   "execution_count": 8,
   "id": "8c35c653-cd85-4742-bf58-210c5373f057",
   "metadata": {},
   "outputs": [
    {
     "name": "stdout",
     "output_type": "stream",
     "text": [
      "['False', 'None', 'True', 'and', 'as', 'assert', 'async', 'await', 'break', 'class', 'continue', 'def', 'del', 'elif', 'else', 'except', 'finally', 'for', 'from', 'global', 'if', 'import', 'in', 'is', 'lambda', 'nonlocal', 'not', 'or', 'pass', 'raise', 'return', 'try', 'while', 'with', 'yield']\n"
     ]
    }
   ],
   "source": [
    "print(key_all)"
   ]
  },
  {
   "cell_type": "code",
   "execution_count": 9,
   "id": "fcdec705-a66d-4968-b66f-1c7c3cd7fcde",
   "metadata": {},
   "outputs": [
    {
     "name": "stdout",
     "output_type": "stream",
     "text": [
      "35\n"
     ]
    }
   ],
   "source": [
    "print(len(key_all))"
   ]
  },
  {
   "cell_type": "markdown",
   "id": "60e0926f-bf85-48a9-8590-a647ad4268b2",
   "metadata": {
    "jp-MarkdownHeadingCollapsed": true
   },
   "source": [
    "# To find Keywords"
   ]
  },
  {
   "cell_type": "code",
   "execution_count": 1,
   "id": "48457978-f1d4-428d-98a2-7460591ba62d",
   "metadata": {},
   "outputs": [
    {
     "name": "stdout",
     "output_type": "stream",
     "text": [
      "['False', 'None', 'True', 'and', 'as', 'assert', 'async', 'await', 'break', 'class', 'continue', 'def', 'del', 'elif', 'else', 'except', 'finally', 'for', 'from', 'global', 'if', 'import', 'in', 'is', 'lambda', 'nonlocal', 'not', 'or', 'pass', 'raise', 'return', 'try', 'while', 'with', 'yield']\n",
      "35\n"
     ]
    }
   ],
   "source": [
    "import keyword\n",
    "all_key = keyword.kwlist\n",
    "print(all_key)\n",
    "print(len(all_key))"
   ]
  },
  {
   "cell_type": "markdown",
   "id": "0a2b3b62-6006-4049-a0cc-c72a13679e37",
   "metadata": {
    "jp-MarkdownHeadingCollapsed": true
   },
   "source": [
    "# To find Soft Keyword"
   ]
  },
  {
   "cell_type": "code",
   "execution_count": 2,
   "id": "42172975-5d31-4329-9ce6-92da8a1a459a",
   "metadata": {},
   "outputs": [
    {
     "name": "stdout",
     "output_type": "stream",
     "text": [
      "['_', 'case', 'match', 'type']\n",
      "4\n"
     ]
    }
   ],
   "source": [
    "import keyword\n",
    "soft_key = keyword.softkwlist\n",
    "print(soft_key)\n",
    "print(len(soft_key))"
   ]
  },
  {
   "cell_type": "markdown",
   "id": "cdf566fd-27fb-47ac-ba49-6c99d0a4d61a",
   "metadata": {},
   "source": [
    "# To find String"
   ]
  },
  {
   "cell_type": "code",
   "execution_count": 3,
   "id": "14ba8dce-23b2-4118-9859-e98abdaaad65",
   "metadata": {},
   "outputs": [
    {
     "name": "stdout",
     "output_type": "stream",
     "text": [
      "!\"#$%&'()*+,-./:;<=>?@[\\]^_`{|}~\n",
      "32\n"
     ]
    }
   ],
   "source": [
    "import string\n",
    "str=string.punctuation\n",
    "print(str)\n",
    "print(len(str))"
   ]
  },
  {
   "cell_type": "markdown",
   "id": "8a6f8e11-9519-40c8-bb47-b9dfa55012ad",
   "metadata": {
    "jp-MarkdownHeadingCollapsed": true
   },
   "source": [
    "<h1>Identifier⬇️</h1>\n",
    "<ol>\n",
    "    <li>Do not start with digit(0-9)</li>\n",
    "    <li>Start with letter(a-z,A-Z) and ( _ ) underscore</li>\n",
    "    <li>Case sensitive</li>\n",
    "    <li>Do Not Use any keyword</li>\n",
    "    <li>Do not use Space</li>\n",
    "</ol>"
   ]
  },
  {
   "cell_type": "markdown",
   "id": "4d74d70a-9eb2-454c-829a-4785cc4ac15f",
   "metadata": {},
   "source": [
    "1st point example"
   ]
  },
  {
   "cell_type": "code",
   "execution_count": 1,
   "id": "5ed4ede0-810f-4a88-a5ca-8480a226f5e9",
   "metadata": {},
   "outputs": [
    {
     "ename": "SyntaxError",
     "evalue": "invalid decimal literal (3228895618.py, line 1)",
     "output_type": "error",
     "traceback": [
      "\u001b[1;36m  Cell \u001b[1;32mIn[1], line 1\u001b[1;36m\u001b[0m\n\u001b[1;33m    9x=12\u001b[0m\n\u001b[1;37m    ^\u001b[0m\n\u001b[1;31mSyntaxError\u001b[0m\u001b[1;31m:\u001b[0m invalid decimal literal\n"
     ]
    }
   ],
   "source": [
    "9x=12\n",
    "print(9x)"
   ]
  },
  {
   "cell_type": "markdown",
   "id": "54ae63af-2019-4bd5-88f1-91b50990fc88",
   "metadata": {},
   "source": [
    "2nd point example"
   ]
  },
  {
   "cell_type": "code",
   "execution_count": 2,
   "id": "24204aa9-54ec-435d-9b93-756774a0f40e",
   "metadata": {},
   "outputs": [
    {
     "name": "stdout",
     "output_type": "stream",
     "text": [
      "78\n",
      "34\n"
     ]
    }
   ],
   "source": [
    "a=78\n",
    "A=34\n",
    "print(a)\n",
    "print(A)"
   ]
  },
  {
   "cell_type": "code",
   "execution_count": 8,
   "id": "b9703c02-96cd-44f4-ac71-dee730117a50",
   "metadata": {},
   "outputs": [
    {
     "name": "stdout",
     "output_type": "stream",
     "text": [
      "90\n"
     ]
    }
   ],
   "source": [
    "a_b=90\n",
    "print(a_b)"
   ]
  },
  {
   "cell_type": "markdown",
   "id": "485a969f-c40a-4aad-bd47-04febf074537",
   "metadata": {},
   "source": [
    "3rd point example"
   ]
  },
  {
   "cell_type": "code",
   "execution_count": 3,
   "id": "4da0729d-47fe-4f63-a007-1847dabe3b98",
   "metadata": {},
   "outputs": [
    {
     "name": "stdout",
     "output_type": "stream",
     "text": [
      "34\n"
     ]
    }
   ],
   "source": [
    "a=9\n",
    "print(A)"
   ]
  },
  {
   "cell_type": "markdown",
   "id": "2c38b77b-3b22-4810-ad57-ce1de329acb5",
   "metadata": {},
   "source": [
    "4th point example"
   ]
  },
  {
   "cell_type": "code",
   "execution_count": 6,
   "id": "8a4fae44-1657-43e0-9956-6ecded4968c8",
   "metadata": {},
   "outputs": [
    {
     "ename": "SyntaxError",
     "evalue": "cannot assign to False (3833022726.py, line 1)",
     "output_type": "error",
     "traceback": [
      "\u001b[1;36m  Cell \u001b[1;32mIn[6], line 1\u001b[1;36m\u001b[0m\n\u001b[1;33m    False = 12\u001b[0m\n\u001b[1;37m    ^\u001b[0m\n\u001b[1;31mSyntaxError\u001b[0m\u001b[1;31m:\u001b[0m cannot assign to False\n"
     ]
    }
   ],
   "source": [
    "False = 12\n",
    "print(False)"
   ]
  },
  {
   "cell_type": "markdown",
   "id": "d8d59365-7f0a-4a72-8327-fe9c21838d93",
   "metadata": {},
   "source": [
    "5th point example"
   ]
  },
  {
   "cell_type": "code",
   "execution_count": 7,
   "id": "6b7b0355-4d29-4100-b30a-ca62606813fe",
   "metadata": {},
   "outputs": [
    {
     "ename": "SyntaxError",
     "evalue": "invalid syntax (1846937665.py, line 1)",
     "output_type": "error",
     "traceback": [
      "\u001b[1;36m  Cell \u001b[1;32mIn[7], line 1\u001b[1;36m\u001b[0m\n\u001b[1;33m    x i=1\u001b[0m\n\u001b[1;37m      ^\u001b[0m\n\u001b[1;31mSyntaxError\u001b[0m\u001b[1;31m:\u001b[0m invalid syntax\n"
     ]
    }
   ],
   "source": [
    "x i=1\n",
    "print(x i)"
   ]
  },
  {
   "cell_type": "markdown",
   "id": "fb5cfb2a-20c4-47b9-8887-73b02e696b9d",
   "metadata": {},
   "source": [
    "Numeric"
   ]
  },
  {
   "cell_type": "markdown",
   "id": "30dcfd4d-7a7c-44b1-91a8-a7a7b4cf4021",
   "metadata": {},
   "source": [
    "# Literals(Constant values) types⬇️"
   ]
  },
  {
   "cell_type": "markdown",
   "id": "9e17baf9-c1c7-4cd8-bb7f-548437d7c6e7",
   "metadata": {},
   "source": [
    "<ol>\n",
    "    <li>Numeric</li>\n",
    "    <li>String</li>\n",
    "    <li>List</li>\n",
    "    <li>Tuple</li>\n",
    "    <li>Dictionary</li>\n",
    "    <li>Set</li>\n",
    "    <li>Frozenset</li>\n",
    "    <li>Boolean</li>\n",
    "</ol>"
   ]
  },
  {
   "cell_type": "markdown",
   "id": "d6aefc0e-e17c-4ed8-b5ea-e73fa13e45fb",
   "metadata": {},
   "source": [
    "<h2> 1. Numeric types⬇️</h2>\n",
    "<ol>\n",
    "    <li>Integer</li>\n",
    "    <li>Float</li>\n",
    "    <li>Complex</li>\n",
    "</ol>"
   ]
  },
  {
   "cell_type": "code",
   "execution_count": 4,
   "id": "5586aed9-f18a-4078-bc02-d2b038e7fd35",
   "metadata": {},
   "outputs": [
    {
     "name": "stdout",
     "output_type": "stream",
     "text": [
      "<class 'int'>\n"
     ]
    }
   ],
   "source": [
    "x=1\n",
    "print(type(x))"
   ]
  },
  {
   "cell_type": "code",
   "execution_count": 5,
   "id": "7e79a35b-e29e-408b-abe5-c35059a699f1",
   "metadata": {},
   "outputs": [
    {
     "name": "stdout",
     "output_type": "stream",
     "text": [
      "<class 'float'>\n"
     ]
    }
   ],
   "source": [
    "y=2.9\n",
    "print(type(y))"
   ]
  },
  {
   "cell_type": "code",
   "execution_count": 6,
   "id": "ab2d81b5-bb09-4983-ac02-68b29903afdf",
   "metadata": {},
   "outputs": [
    {
     "name": "stdout",
     "output_type": "stream",
     "text": [
      "<class 'complex'>\n"
     ]
    }
   ],
   "source": [
    "z=2 + 5j\n",
    "print(type(z))"
   ]
  },
  {
   "cell_type": "markdown",
   "id": "cfa9124b-320c-46f1-8018-c629640c3fb5",
   "metadata": {},
   "source": [
    "Complex number = Real number + imaginary number"
   ]
  },
  {
   "cell_type": "markdown",
   "id": "f44f6fa3-8247-40a8-96eb-c34e12595cc7",
   "metadata": {},
   "source": [
    "<h2>2. String⬇️</h2>\n",
    "<ul>\n",
    "    <li>Single quotes</li>\n",
    "    <li>Double quotes</li>\n",
    "    <li>Triple quotes</li>\n",
    "</ul>"
   ]
  },
  {
   "cell_type": "code",
   "execution_count": 7,
   "id": "ac4156d6-4137-4403-bb23-470f7920b938",
   "metadata": {},
   "outputs": [
    {
     "name": "stdout",
     "output_type": "stream",
     "text": [
      "Tushar\n"
     ]
    }
   ],
   "source": [
    "x='Tushar'\n",
    "print(x)"
   ]
  },
  {
   "cell_type": "code",
   "execution_count": 8,
   "id": "3cbe5f65-9aa3-4b60-825f-a78f799010e2",
   "metadata": {},
   "outputs": [
    {
     "name": "stdout",
     "output_type": "stream",
     "text": [
      "Tushar\n"
     ]
    }
   ],
   "source": [
    "x=\"Tushar\"\n",
    "print(x)"
   ]
  },
  {
   "cell_type": "code",
   "execution_count": 10,
   "id": "92d77730-ddef-4280-b780-8351d05c2ebc",
   "metadata": {},
   "outputs": [
    {
     "name": "stdout",
     "output_type": "stream",
     "text": [
      "Tushar\n",
      "     is \n",
      "     here\n"
     ]
    }
   ],
   "source": [
    "x='''Tushar\n",
    "     is \n",
    "     here'''\n",
    "print(x)"
   ]
  },
  {
   "cell_type": "code",
   "execution_count": 11,
   "id": "7a52aa6d-3274-4403-aa86-cde68a495f77",
   "metadata": {},
   "outputs": [
    {
     "name": "stdout",
     "output_type": "stream",
     "text": [
      "This is use of 'quotes' in which we can \"highlight\" something\n"
     ]
    }
   ],
   "source": [
    "x='''This is use of 'quotes' in which we can \"highlight\" something'''\n",
    "print(x)"
   ]
  },
  {
   "cell_type": "markdown",
   "id": "c9ad22d6-d50d-4b10-be68-5a073c3dd72b",
   "metadata": {
    "jp-MarkdownHeadingCollapsed": true
   },
   "source": [
    "<h2>3. List⬇️</h2>\n",
    "<p style= \"font-size:20px;font-weight:bold;\">Collection of elements</p>\n",
    "<ul>\n",
    "    <li>Homogeneous(Same datatype elements)</li>\n",
    "    <li>Hetrogeneous(Different datatype elements)</li>\n",
    "     <li>Represent by <strong>[ ]</strong>  with (<strong> , </strong>) seperater element</li>\n",
    "</ul>"
   ]
  },
  {
   "cell_type": "code",
   "execution_count": 1,
   "id": "e900e3b9-9098-4f67-8dd7-14f7a3ae59ac",
   "metadata": {},
   "outputs": [
    {
     "name": "stdout",
     "output_type": "stream",
     "text": [
      "[1, 4, 3, 2, 6, 7, 7, 88]\n",
      "<class 'list'>\n"
     ]
    }
   ],
   "source": [
    "l=[1,4,3,2,6,7,7,88,]\n",
    "print(l)\n",
    "print(type(l))"
   ]
  },
  {
   "cell_type": "code",
   "execution_count": 2,
   "id": "f8c238eb-3a09-4486-a6d3-8399d66e2910",
   "metadata": {},
   "outputs": [
    {
     "name": "stdout",
     "output_type": "stream",
     "text": [
      "[2, 4, 4.66, (5+3j), 'php', 2, 3, 'java']\n",
      "<class 'list'>\n"
     ]
    }
   ],
   "source": [
    "l1=[2,4,4.66,5+3j,\"php\",2,3,'java']\n",
    "print(l1)\n",
    "print(type(l1))"
   ]
  },
  {
   "cell_type": "markdown",
   "id": "e5c104ca-5ac2-4bec-b6f0-1ad531c2b1c3",
   "metadata": {
    "jp-MarkdownHeadingCollapsed": true
   },
   "source": [
    "<h2>4. Tuple⬇️</h2>\n",
    "<p style= \"font-size:20px;font-weight:bold;\">Collection of elements</p>\n",
    "<ul>\n",
    "    <li>Homogeneous(Same datatype elements)</li>\n",
    "    <li>Hetrogeneous(Different datatype elements)</li>\n",
    "     <li>Represent by <strong>( )</strong>  with (<strong> , </strong>) seperater element</li>\n",
    "</ul>"
   ]
  },
  {
   "cell_type": "code",
   "execution_count": 3,
   "id": "a25723cc-5728-47b7-af2b-106b242e1c9c",
   "metadata": {},
   "outputs": [
    {
     "name": "stdout",
     "output_type": "stream",
     "text": [
      "(2, 5, 2, 3, 2, 4, 6, 7)\n",
      "<class 'tuple'>\n"
     ]
    }
   ],
   "source": [
    "t=(2,5,2,3,2,4,6,7)\n",
    "print(t)\n",
    "print(type(t))"
   ]
  },
  {
   "cell_type": "code",
   "execution_count": 5,
   "id": "2fc8b187-89f8-4f3d-9b21-43fa22e5db1b",
   "metadata": {},
   "outputs": [
    {
     "name": "stdout",
     "output_type": "stream",
     "text": [
      "(2, 4.6, 2, 7, 7, 5, 5, 'php', 'java', 1, 2, 3, 3, 3, 3)\n",
      "<class 'tuple'>\n"
     ]
    }
   ],
   "source": [
    "t1=(2,4.6,2,7,7,5,5,\"php\",'''java''',1,2,3,3,3,3)\n",
    "print(t1)\n",
    "print(type(t1))"
   ]
  },
  {
   "cell_type": "markdown",
   "id": "21d188f6-14e3-4c6c-b8fe-ba98e7438ace",
   "metadata": {
    "jp-MarkdownHeadingCollapsed": true
   },
   "source": [
    "<h2>5. Dictionary⬇️</h2>\n",
    "<p style= \"font-size:20px;font-weight:bold;\">Collection of key value pairs</p>\n",
    "<ul>\n",
    "     <li>Represent by <strong>{ }</strong>  with (<strong> , </strong>) seperater element</li>\n",
    "</ul>"
   ]
  },
  {
   "cell_type": "code",
   "execution_count": 2,
   "id": "5eb26424-1cea-4008-bfcb-3d3bf7a716ae",
   "metadata": {},
   "outputs": [
    {
     "name": "stdout",
     "output_type": "stream",
     "text": [
      "{'name': 'Tushar', 'age': 19, 'course': 'DS'}\n",
      "<class 'dict'>\n"
     ]
    }
   ],
   "source": [
    "d = {'name':'Tushar','age':19,'course':\"DS\"}\n",
    "print(d)\n",
    "print(type(d))"
   ]
  },
  {
   "cell_type": "markdown",
   "id": "a64254dd-4813-4521-9e13-2ef814c92a27",
   "metadata": {
    "jp-MarkdownHeadingCollapsed": true
   },
   "source": [
    "<h2>6. Set⬇️</h2>\n",
    "<p style= \"font-size:20px;font-weight:bold;\">Collection of <strong style = \"color:blue;\">Unique</strong> homogeneous as well as hetrogeneous elements</p>\n",
    "<ul>\n",
    "     <li>Represent by <strong>{ }</strong>  with (<strong> , </strong>) seperater element</li>\n",
    "    <li>Order is not fixed that means unordered collection  (the input we are giving in s variable is not coming in same order)</li>\n",
    "</ul>"
   ]
  },
  {
   "cell_type": "code",
   "execution_count": 3,
   "id": "f3ef4dfb-5f40-4e1a-bd8e-eb6322302d3a",
   "metadata": {},
   "outputs": [
    {
     "name": "stdout",
     "output_type": "stream",
     "text": [
      "{1, 2, 3, 4, 5, 8, 45}\n",
      "<class 'set'>\n"
     ]
    }
   ],
   "source": [
    "s ={1,4,3,2,8,2,3,4,45,5}\n",
    "print(s)\n",
    "print(type(s))"
   ]
  },
  {
   "cell_type": "markdown",
   "id": "85f605f5-7b04-411e-b06a-bc90576a73e9",
   "metadata": {
    "jp-MarkdownHeadingCollapsed": true
   },
   "source": [
    "<h2>7. Frozenset⬇️</h2>\n",
    "<p style= \"font-size:20px;font-weight:bold;\">Collection of <strong style = \"color:blue;\">Unique</strong> elements</p>\n",
    "<ul>\n",
    "     <li>Represent by frozenset(collection)with (<strong> , </strong>) seperater element</li>\n",
    "    <li>Order is not fixed that means unordered collection  (the value we are giving in variable is not coming in same order)</li>\n",
    "</ul>"
   ]
  },
  {
   "cell_type": "code",
   "execution_count": 1,
   "id": "5220f08e-b8ab-4a09-aabf-0b72a9200b3d",
   "metadata": {},
   "outputs": [
    {
     "name": "stdout",
     "output_type": "stream",
     "text": [
      "frozenset({1, 2, 3, 4, 7, 9, 89})\n",
      "<class 'frozenset'>\n",
      "frozenset({2, 3, 5, 5.6, 8})\n",
      "<class 'frozenset'>\n",
      "frozenset({1, 2, 3, 4, 8, 17})\n",
      "<class 'frozenset'>\n",
      "frozenset({'t', 'n', 'y', 'o', 'P', 'h'})\n",
      "<class 'frozenset'>\n"
     ]
    }
   ],
   "source": [
    "t=(2,3,3,4,4,1,1,1,3,89,9,7)\n",
    "s={2,3,5,8,3,5.6,3}\n",
    "l=[1,4,3,2,2,2,2,2,1,1,1,17,8]\n",
    "st='''Python'''\n",
    "fr1= frozenset(t)\n",
    "fr2= frozenset(s)\n",
    "fr3= frozenset(l)\n",
    "fr4= frozenset(st)\n",
    "print(fr1)\n",
    "print(type(fr1))\n",
    "print(fr2)\n",
    "print(type(fr2))\n",
    "print(fr3)\n",
    "print(type(fr3))\n",
    "print(fr4)\n",
    "print(type(fr4))"
   ]
  },
  {
   "cell_type": "markdown",
   "id": "f924d754-5454-494c-a84f-4ba511695c9f",
   "metadata": {},
   "source": [
    "<h1>Operator⬇️</h1>\n",
    "<h3>1. Arithmatic⬇️</h3>"
   ]
  },
  {
   "cell_type": "markdown",
   "id": "89427df5-7c3e-46fe-bea3-17e2db4d4438",
   "metadata": {
    "jp-MarkdownHeadingCollapsed": true
   },
   "source": [
    "<h1 style=\"fontsize:12px;font-weight:100;\"> + (Addition)</h1>"
   ]
  },
  {
   "cell_type": "code",
   "execution_count": 3,
   "id": "c762dd69-1d4b-4b30-bf0e-383139aa2666",
   "metadata": {},
   "outputs": [
    {
     "name": "stdout",
     "output_type": "stream",
     "text": [
      "30\n",
      "<class 'int'>\n"
     ]
    }
   ],
   "source": [
    "x=10\n",
    "y=20\n",
    "z=x+y\n",
    "print(z)\n",
    "print(type(z))"
   ]
  },
  {
   "cell_type": "markdown",
   "id": "91d2e36f-b802-45ac-a49a-f9275843ae0a",
   "metadata": {
    "jp-MarkdownHeadingCollapsed": true
   },
   "source": [
    "<h1 style=\"fontsize:12px;font-weight:100;\">- (Substraction)</h1>"
   ]
  },
  {
   "cell_type": "code",
   "execution_count": 4,
   "id": "76469183-e97c-4615-aded-79cf9c7799ec",
   "metadata": {},
   "outputs": [
    {
     "name": "stdout",
     "output_type": "stream",
     "text": [
      "0\n",
      "<class 'int'>\n"
     ]
    }
   ],
   "source": [
    "x=30\n",
    "y=30\n",
    "z=x-y\n",
    "print(z)\n",
    "print(type(z))"
   ]
  },
  {
   "cell_type": "markdown",
   "id": "ee694798-654d-4a65-b710-e208da36d2aa",
   "metadata": {
    "jp-MarkdownHeadingCollapsed": true
   },
   "source": [
    "<h1 style=\"fontsize:12px;font-weight:100;\">- (Multiplication)</h1>"
   ]
  },
  {
   "cell_type": "code",
   "execution_count": 5,
   "id": "ab0118ca-d3b5-47d7-ac32-5e7b3f034e28",
   "metadata": {},
   "outputs": [
    {
     "name": "stdout",
     "output_type": "stream",
     "text": [
      "900\n",
      "<class 'int'>\n"
     ]
    }
   ],
   "source": [
    "x=30\n",
    "y=30\n",
    "z=x*y\n",
    "print(z)\n",
    "print(type(z))"
   ]
  },
  {
   "cell_type": "markdown",
   "id": "b92be0d0-0616-4bb1-b268-0860a4233f34",
   "metadata": {
    "jp-MarkdownHeadingCollapsed": true
   },
   "source": [
    "<h1 style=\"fontsize:12px;font-weight:100;\">/ (Division)</h1>"
   ]
  },
  {
   "cell_type": "code",
   "execution_count": 6,
   "id": "51bf83de-3bfc-4f32-b725-2bf14607ef63",
   "metadata": {},
   "outputs": [
    {
     "name": "stdout",
     "output_type": "stream",
     "text": [
      "1.0\n",
      "<class 'float'>\n"
     ]
    }
   ],
   "source": [
    "x=30\n",
    "y=30\n",
    "z=x/y\n",
    "print(z)\n",
    "print(type(z))"
   ]
  },
  {
   "cell_type": "markdown",
   "id": "67d5cbb2-977f-4c74-8776-9eab572571df",
   "metadata": {
    "jp-MarkdownHeadingCollapsed": true
   },
   "source": [
    "<h1 style=\"fontsize:12px;font-weight:100;\">% (Modulus)</h1>"
   ]
  },
  {
   "cell_type": "code",
   "execution_count": 9,
   "id": "bc615d52-1f03-4c45-8651-e56f096fd7d2",
   "metadata": {},
   "outputs": [
    {
     "name": "stdout",
     "output_type": "stream",
     "text": [
      "30\n",
      "<class 'int'>\n"
     ]
    }
   ],
   "source": [
    "x=30\n",
    "y=40\n",
    "z=x%y\n",
    "print(z)\n",
    "print(type(z))"
   ]
  },
  {
   "cell_type": "markdown",
   "id": "f04219c3-2da0-4226-8633-18130a6cd43c",
   "metadata": {
    "jp-MarkdownHeadingCollapsed": true
   },
   "source": [
    "<h1 style=\"fontsize:12px;font-weight:100;\">// (Floor)</h1>"
   ]
  },
  {
   "cell_type": "code",
   "execution_count": 17,
   "id": "6f11d125-465a-43f9-b0dd-f93aed4dee14",
   "metadata": {},
   "outputs": [
    {
     "name": "stdout",
     "output_type": "stream",
     "text": [
      "2\n",
      "<class 'int'>\n"
     ]
    }
   ],
   "source": [
    "x=30\n",
    "y=11\n",
    "z=x//y\n",
    "print(z)\n",
    "print(type(z))"
   ]
  },
  {
   "cell_type": "markdown",
   "id": "e7c73106-167c-43e9-838f-25f5527d18b1",
   "metadata": {},
   "source": [
    "<h1 style=\"fontsize:12px;font-weight:100;\">** (Exponential OR Power)</h1>"
   ]
  },
  {
   "cell_type": "code",
   "execution_count": 19,
   "id": "04712cce-a810-4a5a-ae34-f975cf36b2b8",
   "metadata": {},
   "outputs": [
    {
     "name": "stdout",
     "output_type": "stream",
     "text": [
      "17714700000000000\n",
      "<class 'int'>\n"
     ]
    }
   ],
   "source": [
    "x=30\n",
    "y=11\n",
    "z=x**y\n",
    "print(z)\n",
    "print(type(z))"
   ]
  },
  {
   "cell_type": "markdown",
   "id": "247c6508-4fbd-4684-9258-25b802589192",
   "metadata": {},
   "source": [
    "# Typecast\n",
    "\n",
    "<h4 style=\"fontsize:12px;font-weight:100;\">Typecasting (or type conversion) in Python means converting the value of one data type into another</h4>"
   ]
  },
  {
   "cell_type": "code",
   "execution_count": null,
   "id": "3a1af3c3-18bf-4720-8dfc-ced5e5f868ef",
   "metadata": {},
   "outputs": [],
   "source": []
  }
 ],
 "metadata": {
  "kernelspec": {
   "display_name": "Python [conda env:base] *",
   "language": "python",
   "name": "conda-base-py"
  },
  "language_info": {
   "codemirror_mode": {
    "name": "ipython",
    "version": 3
   },
   "file_extension": ".py",
   "mimetype": "text/x-python",
   "name": "python",
   "nbconvert_exporter": "python",
   "pygments_lexer": "ipython3",
   "version": "3.12.7"
  }
 },
 "nbformat": 4,
 "nbformat_minor": 5
}
