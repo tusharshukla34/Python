{
 "cells": [
  {
   "cell_type": "markdown",
   "id": "b038c786-127b-4da3-b942-b380bab49956",
   "metadata": {},
   "source": [
    "<h4>To Remember</h4>"
   ]
  },
  {
   "cell_type": "code",
   "execution_count": 21,
   "id": "e5459375-33e0-4dda-a7d6-134898896efe",
   "metadata": {},
   "outputs": [],
   "source": [
    "x=\"tushar\""
   ]
  },
  {
   "cell_type": "code",
   "execution_count": 22,
   "id": "5143de31-b39a-474b-867f-c0cf46ab4d13",
   "metadata": {},
   "outputs": [
    {
     "name": "stdout",
     "output_type": "stream",
     "text": [
      "tushar\n"
     ]
    }
   ],
   "source": [
    "print(x)"
   ]
  },
  {
   "cell_type": "code",
   "execution_count": 23,
   "id": "8b875fbf-2b78-4e98-a376-af7055964c0f",
   "metadata": {},
   "outputs": [
    {
     "name": "stdout",
     "output_type": "stream",
     "text": [
      "<class 'str'>\n"
     ]
    }
   ],
   "source": [
    "print(type(x))"
   ]
  },
  {
   "cell_type": "code",
   "execution_count": 24,
   "id": "462b4b24-24e0-4c15-baed-0f7738e17347",
   "metadata": {},
   "outputs": [
    {
     "name": "stdout",
     "output_type": "stream",
     "text": [
      "1794739238832\n"
     ]
    }
   ],
   "source": [
    "print(id(x))"
   ]
  },
  {
   "cell_type": "code",
   "execution_count": 25,
   "id": "f212e8d8-1224-4723-a93d-157f7ea9c90b",
   "metadata": {},
   "outputs": [
    {
     "name": "stdout",
     "output_type": "stream",
     "text": [
      "u\n"
     ]
    }
   ],
   "source": [
    "print(max(x))"
   ]
  },
  {
   "cell_type": "code",
   "execution_count": 26,
   "id": "6804ac80-7823-44a9-820f-feb2cc473532",
   "metadata": {},
   "outputs": [
    {
     "name": "stdout",
     "output_type": "stream",
     "text": [
      "a\n"
     ]
    }
   ],
   "source": [
    "print(min(x))"
   ]
  },
  {
   "cell_type": "code",
   "execution_count": 27,
   "id": "47bfc2ea-0e66-4eb3-bfeb-cbf50b4a8005",
   "metadata": {},
   "outputs": [
    {
     "name": "stdout",
     "output_type": "stream",
     "text": [
      "6\n"
     ]
    }
   ],
   "source": [
    "print(len(x))"
   ]
  },
  {
   "cell_type": "markdown",
   "id": "7ccc0e85-8ce1-4fe2-ac15-93ab123d0f65",
   "metadata": {},
   "source": [
    "<h2>Keyword</h2>"
   ]
  },
  {
   "cell_type": "code",
   "execution_count": 6,
   "id": "b2111e13-4e32-43da-a8df-665cf59d9ae5",
   "metadata": {},
   "outputs": [],
   "source": [
    "import keyword"
   ]
  },
  {
   "cell_type": "code",
   "execution_count": 7,
   "id": "33e5a0ba-cb23-4cd2-9df0-32ba9c64645c",
   "metadata": {},
   "outputs": [],
   "source": [
    "key_all = keyword.kwlist"
   ]
  },
  {
   "cell_type": "code",
   "execution_count": 8,
   "id": "8c35c653-cd85-4742-bf58-210c5373f057",
   "metadata": {},
   "outputs": [
    {
     "name": "stdout",
     "output_type": "stream",
     "text": [
      "['False', 'None', 'True', 'and', 'as', 'assert', 'async', 'await', 'break', 'class', 'continue', 'def', 'del', 'elif', 'else', 'except', 'finally', 'for', 'from', 'global', 'if', 'import', 'in', 'is', 'lambda', 'nonlocal', 'not', 'or', 'pass', 'raise', 'return', 'try', 'while', 'with', 'yield']\n"
     ]
    }
   ],
   "source": [
    "print(key_all)"
   ]
  },
  {
   "cell_type": "code",
   "execution_count": 9,
   "id": "fcdec705-a66d-4968-b66f-1c7c3cd7fcde",
   "metadata": {},
   "outputs": [
    {
     "name": "stdout",
     "output_type": "stream",
     "text": [
      "35\n"
     ]
    }
   ],
   "source": [
    "print(len(key_all))"
   ]
  },
  {
   "cell_type": "markdown",
   "id": "0a2b3b62-6006-4049-a0cc-c72a13679e37",
   "metadata": {},
   "source": [
    "<h2>Soft Keyword</h2>"
   ]
  },
  {
   "cell_type": "code",
   "execution_count": 10,
   "id": "42172975-5d31-4329-9ce6-92da8a1a459a",
   "metadata": {},
   "outputs": [],
   "source": [
    "import keyword"
   ]
  },
  {
   "cell_type": "code",
   "execution_count": 11,
   "id": "9febfa50-41d5-4411-b70a-e52e35747b56",
   "metadata": {},
   "outputs": [],
   "source": [
    "soft_key = keyword.softkwlist"
   ]
  },
  {
   "cell_type": "code",
   "execution_count": 12,
   "id": "9bf79640-2e7d-4562-aefa-15937a5b7273",
   "metadata": {},
   "outputs": [
    {
     "name": "stdout",
     "output_type": "stream",
     "text": [
      "['_', 'case', 'match', 'type']\n"
     ]
    }
   ],
   "source": [
    "print(soft_key)"
   ]
  },
  {
   "cell_type": "code",
   "execution_count": 13,
   "id": "f1dc3ca1-b05c-4be1-b83d-f9dcbbdaedfd",
   "metadata": {},
   "outputs": [
    {
     "name": "stdout",
     "output_type": "stream",
     "text": [
      "4\n"
     ]
    }
   ],
   "source": [
    "print(len(soft_key))"
   ]
  },
  {
   "cell_type": "markdown",
   "id": "cdf566fd-27fb-47ac-ba49-6c99d0a4d61a",
   "metadata": {},
   "source": [
    "<h2>String</h2>"
   ]
  },
  {
   "cell_type": "code",
   "execution_count": 14,
   "id": "14ba8dce-23b2-4118-9859-e98abdaaad65",
   "metadata": {},
   "outputs": [],
   "source": [
    "import string"
   ]
  },
  {
   "cell_type": "code",
   "execution_count": 18,
   "id": "418ba7eb-3c76-441f-801e-33e7062aa423",
   "metadata": {},
   "outputs": [],
   "source": [
    "str=string.punctuation"
   ]
  },
  {
   "cell_type": "code",
   "execution_count": 19,
   "id": "a001223d-aa30-4152-aaa9-1f5311f52539",
   "metadata": {},
   "outputs": [
    {
     "name": "stdout",
     "output_type": "stream",
     "text": [
      "!\"#$%&'()*+,-./:;<=>?@[\\]^_`{|}~\n"
     ]
    }
   ],
   "source": [
    "print(str)"
   ]
  },
  {
   "cell_type": "code",
   "execution_count": 20,
   "id": "f66bcaa8-ab0f-4c6d-a032-be43913516cb",
   "metadata": {
    "scrolled": true
   },
   "outputs": [
    {
     "name": "stdout",
     "output_type": "stream",
     "text": [
      "32\n"
     ]
    }
   ],
   "source": [
    "print(len(str))"
   ]
  },
  {
   "cell_type": "markdown",
   "id": "8a6f8e11-9519-40c8-bb47-b9dfa55012ad",
   "metadata": {
    "jp-MarkdownHeadingCollapsed": true
   },
   "source": [
    "<h1>Identifier</h1>"
   ]
  },
  {
   "cell_type": "markdown",
   "id": "fdfddf75-a783-4118-a157-eec4d27a0c68",
   "metadata": {},
   "source": [
    "1.Do not start with digit(0-9)\n",
    "2.Start with letter(a-z,A-Z) and ( _ ) underscore\n",
    "3.Case sensitive\n",
    "4.Do Not Use any keyword\n",
    "5.Do not use Space"
   ]
  },
  {
   "cell_type": "markdown",
   "id": "4d74d70a-9eb2-454c-829a-4785cc4ac15f",
   "metadata": {},
   "source": [
    "1st point example"
   ]
  },
  {
   "cell_type": "code",
   "execution_count": 1,
   "id": "5ed4ede0-810f-4a88-a5ca-8480a226f5e9",
   "metadata": {},
   "outputs": [
    {
     "ename": "SyntaxError",
     "evalue": "invalid decimal literal (3228895618.py, line 1)",
     "output_type": "error",
     "traceback": [
      "\u001b[1;36m  Cell \u001b[1;32mIn[1], line 1\u001b[1;36m\u001b[0m\n\u001b[1;33m    9x=12\u001b[0m\n\u001b[1;37m    ^\u001b[0m\n\u001b[1;31mSyntaxError\u001b[0m\u001b[1;31m:\u001b[0m invalid decimal literal\n"
     ]
    }
   ],
   "source": [
    "9x=12\n",
    "print(9x)"
   ]
  },
  {
   "cell_type": "markdown",
   "id": "54ae63af-2019-4bd5-88f1-91b50990fc88",
   "metadata": {},
   "source": [
    "2nd point example"
   ]
  },
  {
   "cell_type": "code",
   "execution_count": 2,
   "id": "24204aa9-54ec-435d-9b93-756774a0f40e",
   "metadata": {},
   "outputs": [
    {
     "name": "stdout",
     "output_type": "stream",
     "text": [
      "78\n",
      "34\n"
     ]
    }
   ],
   "source": [
    "a=78\n",
    "A=34\n",
    "print(a)\n",
    "print(A)"
   ]
  },
  {
   "cell_type": "code",
   "execution_count": 8,
   "id": "b9703c02-96cd-44f4-ac71-dee730117a50",
   "metadata": {},
   "outputs": [
    {
     "name": "stdout",
     "output_type": "stream",
     "text": [
      "90\n"
     ]
    }
   ],
   "source": [
    "a_b=90\n",
    "print(a_b)"
   ]
  },
  {
   "cell_type": "markdown",
   "id": "485a969f-c40a-4aad-bd47-04febf074537",
   "metadata": {},
   "source": [
    "3rd point example"
   ]
  },
  {
   "cell_type": "code",
   "execution_count": 3,
   "id": "4da0729d-47fe-4f63-a007-1847dabe3b98",
   "metadata": {},
   "outputs": [
    {
     "name": "stdout",
     "output_type": "stream",
     "text": [
      "34\n"
     ]
    }
   ],
   "source": [
    "a=9\n",
    "print(A)"
   ]
  },
  {
   "cell_type": "markdown",
   "id": "2c38b77b-3b22-4810-ad57-ce1de329acb5",
   "metadata": {},
   "source": [
    "4th point example"
   ]
  },
  {
   "cell_type": "code",
   "execution_count": 6,
   "id": "8a4fae44-1657-43e0-9956-6ecded4968c8",
   "metadata": {},
   "outputs": [
    {
     "ename": "SyntaxError",
     "evalue": "cannot assign to False (3833022726.py, line 1)",
     "output_type": "error",
     "traceback": [
      "\u001b[1;36m  Cell \u001b[1;32mIn[6], line 1\u001b[1;36m\u001b[0m\n\u001b[1;33m    False = 12\u001b[0m\n\u001b[1;37m    ^\u001b[0m\n\u001b[1;31mSyntaxError\u001b[0m\u001b[1;31m:\u001b[0m cannot assign to False\n"
     ]
    }
   ],
   "source": [
    "False = 12\n",
    "print(False)"
   ]
  },
  {
   "cell_type": "markdown",
   "id": "d8d59365-7f0a-4a72-8327-fe9c21838d93",
   "metadata": {},
   "source": [
    "5th point example"
   ]
  },
  {
   "cell_type": "code",
   "execution_count": 7,
   "id": "6b7b0355-4d29-4100-b30a-ca62606813fe",
   "metadata": {
    "scrolled": true
   },
   "outputs": [
    {
     "ename": "SyntaxError",
     "evalue": "invalid syntax (1846937665.py, line 1)",
     "output_type": "error",
     "traceback": [
      "\u001b[1;36m  Cell \u001b[1;32mIn[7], line 1\u001b[1;36m\u001b[0m\n\u001b[1;33m    x i=1\u001b[0m\n\u001b[1;37m      ^\u001b[0m\n\u001b[1;31mSyntaxError\u001b[0m\u001b[1;31m:\u001b[0m invalid syntax\n"
     ]
    }
   ],
   "source": [
    "x i=1\n",
    "print(x i)"
   ]
  }
 ],
 "metadata": {
  "kernelspec": {
   "display_name": "Python [conda env:base] *",
   "language": "python",
   "name": "conda-base-py"
  },
  "language_info": {
   "codemirror_mode": {
    "name": "ipython",
    "version": 3
   },
   "file_extension": ".py",
   "mimetype": "text/x-python",
   "name": "python",
   "nbconvert_exporter": "python",
   "pygments_lexer": "ipython3",
   "version": "3.12.7"
  }
 },
 "nbformat": 4,
 "nbformat_minor": 5
}
