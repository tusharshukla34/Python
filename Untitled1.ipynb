{
 "cells": [
  {
   "cell_type": "code",
   "execution_count": null,
   "id": "e955d8ea-c2a3-47bd-873d-02e941ab8b19",
   "metadata": {},
   "outputs": [],
   "source": []
  },
  {
   "cell_type": "code",
   "execution_count": null,
   "id": "377b4202-00fb-482f-86f6-7af8015cc864",
   "metadata": {},
   "outputs": [],
   "source": []
  },
  {
   "cell_type": "code",
   "execution_count": 3,
   "id": "0bc66ca5-0f52-429e-95b7-2acddebdf354",
   "metadata": {},
   "outputs": [
    {
     "name": "stdout",
     "output_type": "stream",
     "text": [
      "['False', 'None', 'True', 'and', 'as', 'assert', 'async', 'await', 'break', 'class', 'continue', 'def', 'del', 'elif', 'else', 'except', 'finally', 'for', 'from', 'global', 'if', 'import', 'in', 'is', 'lambda', 'nonlocal', 'not', 'or', 'pass', 'raise', 'return', 'try', 'while', 'with', 'yield']\n",
      "35\n"
     ]
    }
   ],
   "source": [
    "import keyword\n",
    "all_keys = keyword.kwlist\n",
    "print(all_keys)\n",
    "print(len(all_keys))"
   ]
  },
  {
   "cell_type": "code",
   "execution_count": 7,
   "id": "02012dcf-9b39-4702-8a8b-452a2562fc73",
   "metadata": {
    "scrolled": true
   },
   "outputs": [
    {
     "name": "stdout",
     "output_type": "stream",
     "text": [
      "!\"#$%&'()*+,-./:;<=>?@[\\]^_`{|}~\n",
      "32\n"
     ]
    }
   ],
   "source": [
    "import string\n",
    "all_pun = string.punctuation\n",
    "print(all_pun)\n",
    "print(len(all_pun))"
   ]
  },
  {
   "cell_type": "markdown",
   "id": "389c28a2-b9b5-43c3-a0f1-a6cf527ec2d6",
   "metadata": {},
   "source": [
    "numeric"
   ]
  },
  {
   "cell_type": "code",
   "execution_count": 1,
   "id": "0a2e7358-3de8-4086-b52c-3dc693e3d438",
   "metadata": {},
   "outputs": [
    {
     "name": "stdout",
     "output_type": "stream",
     "text": [
      "<class 'complex'>\n"
     ]
    }
   ],
   "source": [
    "x=5+3j\n",
    "print(type(x))"
   ]
  },
  {
   "cell_type": "markdown",
   "id": "14540df4-1f9d-49c7-b7f7-f6b84df7f02c",
   "metadata": {},
   "source": [
    "string"
   ]
  },
  {
   "cell_type": "code",
   "execution_count": 2,
   "id": "5eef88c7-f03a-41cb-b7f9-959dca4dc058",
   "metadata": {},
   "outputs": [
    {
     "name": "stdout",
     "output_type": "stream",
     "text": [
      "<class 'str'>\n",
      "<class 'str'>\n",
      "<class 'str'>\n"
     ]
    }
   ],
   "source": [
    "x='python'\n",
    "y=\"java\"\n",
    "z='''html'''\n",
    "print(type(x))\n",
    "print(type(y))\n",
    "print(type(z))"
   ]
  },
  {
   "cell_type": "code",
   "execution_count": 4,
   "id": "262f5318-9edc-4a3e-adc7-9d94312fca38",
   "metadata": {},
   "outputs": [
    {
     "name": "stdout",
     "output_type": "stream",
     "text": [
      "This is me\n"
     ]
    }
   ],
   "source": [
    "s='This is me'\n",
    "print(s1)"
   ]
  },
  {
   "cell_type": "code",
   "execution_count": 5,
   "id": "0a727f74-9860-4c11-b92f-72e74b588dce",
   "metadata": {},
   "outputs": [
    {
     "name": "stdout",
     "output_type": "stream",
     "text": [
      "This is me\n"
     ]
    }
   ],
   "source": [
    "s2=\"This is me\"\n",
    "print(s2)"
   ]
  },
  {
   "cell_type": "code",
   "execution_count": 9,
   "id": "20169c09-fc0d-4461-8ca9-94d99a713ece",
   "metadata": {},
   "outputs": [
    {
     "name": "stdout",
     "output_type": "stream",
     "text": [
      "this\n",
      "       is \n",
      "        me\n"
     ]
    }
   ],
   "source": [
    "s3='''this\n",
    "       is \n",
    "        me'''\n",
    "print(s3)"
   ]
  },
  {
   "cell_type": "code",
   "execution_count": 11,
   "id": "e856226b-9984-4b24-9e1d-30636e013ef2",
   "metadata": {},
   "outputs": [
    {
     "name": "stdout",
     "output_type": "stream",
     "text": [
      "this is 'python' lang\n"
     ]
    }
   ],
   "source": [
    "s1=\"this is 'python' lang\"\n",
    "print(s1)"
   ]
  },
  {
   "cell_type": "code",
   "execution_count": 12,
   "id": "f3a50289-82d8-47c6-9dcd-c7e406d127fe",
   "metadata": {},
   "outputs": [
    {
     "name": "stdout",
     "output_type": "stream",
     "text": [
      "this is 'python' \"lang\" \n"
     ]
    }
   ],
   "source": [
    "s1='''this is 'python' \"lang\" '''\n",
    "print(s1)"
   ]
  },
  {
   "cell_type": "code",
   "execution_count": 1,
   "id": "fe281489-0533-44af-8d2b-835fb4062830",
   "metadata": {},
   "outputs": [
    {
     "name": "stdout",
     "output_type": "stream",
     "text": [
      "<class 'list'>\n",
      "[2, 0, 8, 7, 5, 8]\n"
     ]
    }
   ],
   "source": [
    "l=[2,0,8,7,5,8]\n",
    "print(type(l))\n",
    "print(l)"
   ]
  },
  {
   "cell_type": "code",
   "execution_count": 2,
   "id": "6f6a11a4-ee3b-4e77-b5d0-7ba08baf6c9a",
   "metadata": {},
   "outputs": [
    {
     "name": "stdout",
     "output_type": "stream",
     "text": [
      "<class 'list'>\n",
      "[9, 9.7, 'java', 'html', 8]\n"
     ]
    }
   ],
   "source": [
    "l1=[9,9.7,'java',\"html\",8]\n",
    "print(type(l1))\n",
    "print(l1)"
   ]
  },
  {
   "cell_type": "code",
   "execution_count": 5,
   "id": "f4fbe3ea-62eb-4207-b618-d3d5d3be0378",
   "metadata": {},
   "outputs": [
    {
     "name": "stdout",
     "output_type": "stream",
     "text": [
      "<class 'list'>\n",
      "[9, 9.7, (5+3j), 'java', 'html', 8]\n"
     ]
    }
   ],
   "source": [
    "l2=[9,9.7,5+3j,'java',\"html\",8]\n",
    "print(type(l2))\n",
    "print(l2)"
   ]
  },
  {
   "cell_type": "code",
   "execution_count": 6,
   "id": "b7423032-2bc8-4254-98a6-d22fd76865d8",
   "metadata": {},
   "outputs": [
    {
     "name": "stdout",
     "output_type": "stream",
     "text": [
      "<class 'tuple'>\n",
      "(2, 0, 8, 7, 5, 8)\n"
     ]
    }
   ],
   "source": [
    "t=(2,0,8,7,5,8)\n",
    "print(type(t))\n",
    "print(t)"
   ]
  },
  {
   "cell_type": "code",
   "execution_count": 7,
   "id": "a3d56dc8-78dc-4d24-93e6-37bbd2d2b144",
   "metadata": {},
   "outputs": [
    {
     "name": "stdout",
     "output_type": "stream",
     "text": [
      "<class 'tuple'>\n",
      "(9, 9.7, 'java', 'html', 8)\n"
     ]
    }
   ],
   "source": [
    "t1=(9,9.7,'java',\"html\",8)\n",
    "print(type(t1))\n",
    "print(t1)"
   ]
  },
  {
   "cell_type": "code",
   "execution_count": 8,
   "id": "fdcc1939-19b1-4f50-a8cf-b398bc7e43db",
   "metadata": {},
   "outputs": [
    {
     "name": "stdout",
     "output_type": "stream",
     "text": [
      "{'name': 'Tushar', 'age': 19, 'course': 'DS'}\n",
      "<class 'dict'>\n"
     ]
    }
   ],
   "source": [
    "d={'name':'Tushar','age':19,'course':'DS'}\n",
    "print(d)\n",
    "print(type(d))"
   ]
  },
  {
   "cell_type": "code",
   "execution_count": 9,
   "id": "8961f1dc-41fd-4543-8feb-3d7bc94624fc",
   "metadata": {},
   "outputs": [
    {
     "name": "stdout",
     "output_type": "stream",
     "text": [
      "{'php', 4, 5, 7, 9, 'java'}\n",
      "<class 'set'>\n"
     ]
    }
   ],
   "source": [
    "s={7,9,9,9,7,5,4,4,\"php\",'php','java'}\n",
    "print(s)\n",
    "print(type(s))"
   ]
  },
  {
   "cell_type": "code",
   "execution_count": 1,
   "id": "d263bd00-0138-47f0-8e1a-16a7799b0e4f",
   "metadata": {},
   "outputs": [
    {
     "name": "stdout",
     "output_type": "stream",
     "text": [
      "frozenset({33, 2, 3, 4, 5, 6})\n",
      "<class 'frozenset'>\n",
      "frozenset({3, 5, 7, 8, 9})\n",
      "<class 'frozenset'>\n",
      "frozenset({'o', 'p', 'y', 'h', 'n', 't'})\n",
      "<class 'frozenset'>\n"
     ]
    }
   ],
   "source": [
    "l=[2,6,5,4,3,33,4,4]\n",
    "s=(3,7,8,9,8,8,5)\n",
    "s2=\"python\"\n",
    "fs1=frozenset(l)\n",
    "fs2=frozenset(s)\n",
    "fs3=frozenset(s2)\n",
    "print(fs1)\n",
    "print(type(fs1))\n",
    "print(fs2)\n",
    "print(type(fs2))\n",
    "print(fs3)\n",
    "print(type(fs3))"
   ]
  },
  {
   "cell_type": "code",
   "execution_count": 3,
   "id": "d1db8df8-3aac-4df1-b936-d9c8946846d6",
   "metadata": {},
   "outputs": [
    {
     "name": "stdout",
     "output_type": "stream",
     "text": [
      "True\n",
      "<class 'bool'>\n"
     ]
    }
   ],
   "source": [
    "x=True\n",
    "print(x)\n",
    "print(type(x))"
   ]
  },
  {
   "cell_type": "code",
   "execution_count": 4,
   "id": "d51113c3-1cb7-468f-9cc6-a89bb78e4302",
   "metadata": {},
   "outputs": [],
   "source": [
    "x=10\n",
    "y=20"
   ]
  },
  {
   "cell_type": "code",
   "execution_count": 5,
   "id": "8625cf58-0a72-4a7b-b5c3-32bdb168a123",
   "metadata": {},
   "outputs": [
    {
     "name": "stdout",
     "output_type": "stream",
     "text": [
      "30\n",
      "<class 'int'>\n"
     ]
    }
   ],
   "source": [
    "z=x+y\n",
    "print(z)\n",
    "print(type(z))"
   ]
  },
  {
   "cell_type": "code",
   "execution_count": 6,
   "id": "88dad991-b3d2-4a4c-a767-98837da95a0a",
   "metadata": {},
   "outputs": [
    {
     "name": "stdout",
     "output_type": "stream",
     "text": [
      "-10\n",
      "<class 'int'>\n"
     ]
    }
   ],
   "source": [
    "z=x-y\n",
    "print(z)\n",
    "print(type(z))"
   ]
  },
  {
   "cell_type": "code",
   "execution_count": 7,
   "id": "85e63a62-5462-45c1-83f0-fa2c25cbf193",
   "metadata": {},
   "outputs": [
    {
     "name": "stdout",
     "output_type": "stream",
     "text": [
      "200\n",
      "<class 'int'>\n"
     ]
    }
   ],
   "source": [
    "z=x*y\n",
    "print(z)\n",
    "print(type(z))"
   ]
  },
  {
   "cell_type": "code",
   "execution_count": 8,
   "id": "c7125594-9440-4880-8d57-92a98cbbd021",
   "metadata": {},
   "outputs": [
    {
     "name": "stdout",
     "output_type": "stream",
     "text": [
      "0.5\n",
      "<class 'float'>\n"
     ]
    }
   ],
   "source": [
    "z=x/y\n",
    "print(z)\n",
    "print(type(z))"
   ]
  },
  {
   "cell_type": "code",
   "execution_count": 9,
   "id": "0b306c67-580f-4cd2-b2b6-d14eb0d6ddd0",
   "metadata": {},
   "outputs": [
    {
     "name": "stdout",
     "output_type": "stream",
     "text": [
      "10\n",
      "<class 'int'>\n"
     ]
    }
   ],
   "source": [
    "z=x%y\n",
    "print(z)\n",
    "print(type(z))"
   ]
  },
  {
   "cell_type": "code",
   "execution_count": 10,
   "id": "cc6e2301-6bee-4324-b375-06945ea6edc2",
   "metadata": {},
   "outputs": [
    {
     "name": "stdout",
     "output_type": "stream",
     "text": [
      "0\n",
      "<class 'int'>\n"
     ]
    }
   ],
   "source": [
    "z=x//y\n",
    "print(z)\n",
    "print(type(z))"
   ]
  },
  {
   "cell_type": "code",
   "execution_count": 11,
   "id": "5bec86c5-ea86-45d0-bd29-70a2ec390992",
   "metadata": {},
   "outputs": [
    {
     "name": "stdout",
     "output_type": "stream",
     "text": [
      "100000000000000000000\n",
      "<class 'int'>\n"
     ]
    }
   ],
   "source": [
    "z=x**y\n",
    "print(z)\n",
    "print(type(z))"
   ]
  },
  {
   "cell_type": "markdown",
   "id": "50a19e6d-b61a-453a-9c5f-81014873d993",
   "metadata": {},
   "source": [
    "assingment"
   ]
  },
  {
   "cell_type": "code",
   "execution_count": 1,
   "id": "c136df6b-1bcb-409c-8b6f-938104b2489c",
   "metadata": {},
   "outputs": [
    {
     "name": "stdout",
     "output_type": "stream",
     "text": [
      "10\n",
      "22\n"
     ]
    }
   ],
   "source": [
    "x=10\n",
    "print(x)\n",
    "x+=12\n",
    "print(x)"
   ]
  },
  {
   "cell_type": "code",
   "execution_count": 2,
   "id": "ffb96e48-b5e4-4578-ab2d-9ec2874b1156",
   "metadata": {},
   "outputs": [
    {
     "name": "stdout",
     "output_type": "stream",
     "text": [
      "10\n"
     ]
    }
   ],
   "source": [
    "x=20\n",
    "x-=10\n",
    "print(x)"
   ]
  },
  {
   "cell_type": "code",
   "execution_count": 4,
   "id": "9aef077e-11d6-44ac-91c9-4243c52c6c69",
   "metadata": {},
   "outputs": [
    {
     "name": "stdout",
     "output_type": "stream",
     "text": [
      "100\n"
     ]
    }
   ],
   "source": [
    "x=10\n",
    "x*=10\n",
    "print(x)"
   ]
  },
  {
   "cell_type": "code",
   "execution_count": 5,
   "id": "c8f153f5-908e-4301-afe2-c98d852d0c8a",
   "metadata": {},
   "outputs": [
    {
     "name": "stdout",
     "output_type": "stream",
     "text": [
      "10.0\n"
     ]
    }
   ],
   "source": [
    "x=900\n",
    "x/=90\n",
    "print(x)"
   ]
  },
  {
   "cell_type": "markdown",
   "id": "bde3c867-1b0d-427b-bc36-708e8eb5f415",
   "metadata": {},
   "source": [
    "comparison"
   ]
  },
  {
   "cell_type": "code",
   "execution_count": 6,
   "id": "e86700da-536e-419e-9544-a465f19712b9",
   "metadata": {},
   "outputs": [
    {
     "name": "stdout",
     "output_type": "stream",
     "text": [
      "False\n",
      "True\n",
      "True\n",
      "False\n"
     ]
    }
   ],
   "source": [
    "x=9\n",
    "y=77\n",
    "print(x==y)\n",
    "print(x!=y)\n",
    "print(x<y)\n",
    "print(x>y)"
   ]
  },
  {
   "cell_type": "code",
   "execution_count": 7,
   "id": "eaae5944-fa52-4830-a70b-5c48b6e89a54",
   "metadata": {},
   "outputs": [
    {
     "name": "stdout",
     "output_type": "stream",
     "text": [
      "True\n",
      "False\n"
     ]
    }
   ],
   "source": [
    "x=9\n",
    "y=77\n",
    "print(x<=y)\n",
    "print(x>=y)"
   ]
  },
  {
   "cell_type": "code",
   "execution_count": 8,
   "id": "d89155ec-4987-4e08-ade7-81806691a07f",
   "metadata": {},
   "outputs": [
    {
     "name": "stdout",
     "output_type": "stream",
     "text": [
      "False\n"
     ]
    }
   ],
   "source": [
    "x=12\n",
    "y=8\n",
    "z=18\n",
    "print(y>z and y>z)"
   ]
  },
  {
   "cell_type": "code",
   "execution_count": 11,
   "id": "29a80472-bbc0-478c-b814-534e07bc37a2",
   "metadata": {},
   "outputs": [
    {
     "name": "stdout",
     "output_type": "stream",
     "text": [
      "True\n"
     ]
    }
   ],
   "source": [
    "print(z>x and z>y)"
   ]
  },
  {
   "cell_type": "code",
   "execution_count": 13,
   "id": "66d2e25b-240d-4c13-b7a0-f91b8fae4209",
   "metadata": {},
   "outputs": [
    {
     "name": "stdout",
     "output_type": "stream",
     "text": [
      "True\n"
     ]
    }
   ],
   "source": [
    "print(x==y or x>y)"
   ]
  },
  {
   "cell_type": "code",
   "execution_count": 14,
   "id": "29b94418-a535-40c0-89d9-a8b364f486ab",
   "metadata": {},
   "outputs": [
    {
     "name": "stdout",
     "output_type": "stream",
     "text": [
      "True\n"
     ]
    }
   ],
   "source": [
    "print(not(x<y))"
   ]
  },
  {
   "cell_type": "code",
   "execution_count": 4,
   "id": "d7b53b2a-464f-462b-b342-038cd9a9c1c8",
   "metadata": {},
   "outputs": [
    {
     "name": "stdout",
     "output_type": "stream",
     "text": [
      "0\n"
     ]
    }
   ],
   "source": [
    "x=10\n",
    "y=20\n",
    "print(x&y)"
   ]
  },
  {
   "cell_type": "code",
   "execution_count": 9,
   "id": "30116979-6c1a-409e-a34a-a2e3a29a8340",
   "metadata": {},
   "outputs": [
    {
     "name": "stdout",
     "output_type": "stream",
     "text": [
      "3\n"
     ]
    }
   ],
   "source": [
    "x=15\n",
    "y=3\n",
    "print(x&y)"
   ]
  },
  {
   "cell_type": "code",
   "execution_count": 10,
   "id": "b208c68b-b637-46dd-9967-dc618e2b8868",
   "metadata": {},
   "outputs": [
    {
     "name": "stdout",
     "output_type": "stream",
     "text": [
      "320\n"
     ]
    }
   ],
   "source": [
    "x=10\n",
    "print(x<<5)"
   ]
  },
  {
   "cell_type": "code",
   "execution_count": 11,
   "id": "39293e6b-18d4-4431-8f21-e4f32b2c03ec",
   "metadata": {},
   "outputs": [
    {
     "name": "stdout",
     "output_type": "stream",
     "text": [
      "88\n"
     ]
    }
   ],
   "source": [
    "x=11\n",
    "print(x<<3)"
   ]
  },
  {
   "cell_type": "markdown",
   "id": "b24c3738-bb3d-4680-a68e-72b3e7f94af7",
   "metadata": {},
   "source": [
    "bitwise"
   ]
  },
  {
   "cell_type": "code",
   "execution_count": 10,
   "id": "2960955a-32b8-46a1-8ffb-0871f97e1a14",
   "metadata": {},
   "outputs": [
    {
     "name": "stdout",
     "output_type": "stream",
     "text": [
      "10\n"
     ]
    }
   ],
   "source": [
    "x=0b1010\n",
    "print(x)"
   ]
  },
  {
   "cell_type": "code",
   "execution_count": 9,
   "id": "054aaeb7-f7f0-47c4-99aa-53d44801008d",
   "metadata": {},
   "outputs": [
    {
     "name": "stdout",
     "output_type": "stream",
     "text": [
      "0x10111011\n"
     ]
    }
   ],
   "source": [
    "x=0x10111011\n",
    "print(hex(x))"
   ]
  },
  {
   "cell_type": "code",
   "execution_count": 11,
   "id": "1d07f951-c000-4c42-9d0c-94a630083184",
   "metadata": {},
   "outputs": [
    {
     "name": "stdout",
     "output_type": "stream",
     "text": [
      "0b1010\n"
     ]
    }
   ],
   "source": [
    "y=10\n",
    "print(bin(y))"
   ]
  },
  {
   "cell_type": "code",
   "execution_count": 12,
   "id": "8a092915-27c3-4adf-b591-e3f62c27fb18",
   "metadata": {},
   "outputs": [
    {
     "name": "stdout",
     "output_type": "stream",
     "text": [
      "65\n"
     ]
    }
   ],
   "source": [
    "k=0o101\n",
    "print(k)"
   ]
  },
  {
   "cell_type": "code",
   "execution_count": 14,
   "id": "7a2a3ec3-d0ab-4476-bca3-5de2ed6e91f5",
   "metadata": {},
   "outputs": [
    {
     "name": "stdout",
     "output_type": "stream",
     "text": [
      "17\n"
     ]
    }
   ],
   "source": [
    "k=0x011\n",
    "print(k)"
   ]
  },
  {
   "cell_type": "code",
   "execution_count": 15,
   "id": "395cd16e-2840-4499-96b9-fe39ac21c657",
   "metadata": {},
   "outputs": [
    {
     "name": "stdout",
     "output_type": "stream",
     "text": [
      "0b1100\n",
      "0o14\n",
      "0xc\n"
     ]
    }
   ],
   "source": [
    "x=12\n",
    "print(bin(x))\n",
    "print(oct(x))\n",
    "print(hex(x))"
   ]
  },
  {
   "cell_type": "code",
   "execution_count": null,
   "id": "535a1368-62e8-49a4-9e32-771ecb38d023",
   "metadata": {},
   "outputs": [],
   "source": []
  }
 ],
 "metadata": {
  "kernelspec": {
   "display_name": "Python [conda env:base] *",
   "language": "python",
   "name": "conda-base-py"
  },
  "language_info": {
   "codemirror_mode": {
    "name": "ipython",
    "version": 3
   },
   "file_extension": ".py",
   "mimetype": "text/x-python",
   "name": "python",
   "nbconvert_exporter": "python",
   "pygments_lexer": "ipython3",
   "version": "3.12.7"
  }
 },
 "nbformat": 4,
 "nbformat_minor": 5
}
