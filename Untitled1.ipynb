{
 "cells": [
  {
   "cell_type": "code",
   "execution_count": null,
   "id": "e955d8ea-c2a3-47bd-873d-02e941ab8b19",
   "metadata": {},
   "outputs": [],
   "source": []
  },
  {
   "cell_type": "code",
   "execution_count": null,
   "id": "377b4202-00fb-482f-86f6-7af8015cc864",
   "metadata": {},
   "outputs": [],
   "source": []
  },
  {
   "cell_type": "code",
   "execution_count": 3,
   "id": "0bc66ca5-0f52-429e-95b7-2acddebdf354",
   "metadata": {},
   "outputs": [
    {
     "name": "stdout",
     "output_type": "stream",
     "text": [
      "['False', 'None', 'True', 'and', 'as', 'assert', 'async', 'await', 'break', 'class', 'continue', 'def', 'del', 'elif', 'else', 'except', 'finally', 'for', 'from', 'global', 'if', 'import', 'in', 'is', 'lambda', 'nonlocal', 'not', 'or', 'pass', 'raise', 'return', 'try', 'while', 'with', 'yield']\n",
      "35\n"
     ]
    }
   ],
   "source": [
    "import keyword\n",
    "all_keys = keyword.kwlist\n",
    "print(all_keys)\n",
    "print(len(all_keys))"
   ]
  },
  {
   "cell_type": "code",
   "execution_count": 7,
   "id": "02012dcf-9b39-4702-8a8b-452a2562fc73",
   "metadata": {
    "scrolled": true
   },
   "outputs": [
    {
     "name": "stdout",
     "output_type": "stream",
     "text": [
      "!\"#$%&'()*+,-./:;<=>?@[\\]^_`{|}~\n",
      "32\n"
     ]
    }
   ],
   "source": [
    "import string\n",
    "all_pun = string.punctuation\n",
    "print(all_pun)\n",
    "print(len(all_pun))"
   ]
  },
  {
   "cell_type": "markdown",
   "id": "389c28a2-b9b5-43c3-a0f1-a6cf527ec2d6",
   "metadata": {},
   "source": [
    "numeric"
   ]
  },
  {
   "cell_type": "code",
   "execution_count": 1,
   "id": "0a2e7358-3de8-4086-b52c-3dc693e3d438",
   "metadata": {},
   "outputs": [
    {
     "name": "stdout",
     "output_type": "stream",
     "text": [
      "<class 'complex'>\n"
     ]
    }
   ],
   "source": [
    "x=5+3j\n",
    "print(type(x))"
   ]
  },
  {
   "cell_type": "markdown",
   "id": "14540df4-1f9d-49c7-b7f7-f6b84df7f02c",
   "metadata": {},
   "source": [
    "string"
   ]
  },
  {
   "cell_type": "code",
   "execution_count": 2,
   "id": "5eef88c7-f03a-41cb-b7f9-959dca4dc058",
   "metadata": {},
   "outputs": [
    {
     "name": "stdout",
     "output_type": "stream",
     "text": [
      "<class 'str'>\n",
      "<class 'str'>\n",
      "<class 'str'>\n"
     ]
    }
   ],
   "source": [
    "x='python'\n",
    "y=\"java\"\n",
    "z='''html'''\n",
    "print(type(x))\n",
    "print(type(y))\n",
    "print(type(z))"
   ]
  },
  {
   "cell_type": "code",
   "execution_count": 4,
   "id": "262f5318-9edc-4a3e-adc7-9d94312fca38",
   "metadata": {},
   "outputs": [
    {
     "name": "stdout",
     "output_type": "stream",
     "text": [
      "This is me\n"
     ]
    }
   ],
   "source": [
    "s='This is me'\n",
    "print(s1)"
   ]
  },
  {
   "cell_type": "code",
   "execution_count": 5,
   "id": "0a727f74-9860-4c11-b92f-72e74b588dce",
   "metadata": {},
   "outputs": [
    {
     "name": "stdout",
     "output_type": "stream",
     "text": [
      "This is me\n"
     ]
    }
   ],
   "source": [
    "s2=\"This is me\"\n",
    "print(s2)"
   ]
  },
  {
   "cell_type": "code",
   "execution_count": 9,
   "id": "20169c09-fc0d-4461-8ca9-94d99a713ece",
   "metadata": {},
   "outputs": [
    {
     "name": "stdout",
     "output_type": "stream",
     "text": [
      "this\n",
      "       is \n",
      "        me\n"
     ]
    }
   ],
   "source": [
    "s3='''this\n",
    "       is \n",
    "        me'''\n",
    "print(s3)"
   ]
  },
  {
   "cell_type": "code",
   "execution_count": 11,
   "id": "e856226b-9984-4b24-9e1d-30636e013ef2",
   "metadata": {},
   "outputs": [
    {
     "name": "stdout",
     "output_type": "stream",
     "text": [
      "this is 'python' lang\n"
     ]
    }
   ],
   "source": [
    "s1=\"this is 'python' lang\"\n",
    "print(s1)"
   ]
  },
  {
   "cell_type": "code",
   "execution_count": 12,
   "id": "f3a50289-82d8-47c6-9dcd-c7e406d127fe",
   "metadata": {},
   "outputs": [
    {
     "name": "stdout",
     "output_type": "stream",
     "text": [
      "this is 'python' \"lang\" \n"
     ]
    }
   ],
   "source": [
    "s1='''this is 'python' \"lang\" '''\n",
    "print(s1)"
   ]
  },
  {
   "cell_type": "code",
   "execution_count": 1,
   "id": "fe281489-0533-44af-8d2b-835fb4062830",
   "metadata": {},
   "outputs": [
    {
     "name": "stdout",
     "output_type": "stream",
     "text": [
      "<class 'list'>\n",
      "[2, 0, 8, 7, 5, 8]\n"
     ]
    }
   ],
   "source": [
    "l=[2,0,8,7,5,8]\n",
    "print(type(l))\n",
    "print(l)"
   ]
  },
  {
   "cell_type": "code",
   "execution_count": 2,
   "id": "6f6a11a4-ee3b-4e77-b5d0-7ba08baf6c9a",
   "metadata": {},
   "outputs": [
    {
     "name": "stdout",
     "output_type": "stream",
     "text": [
      "<class 'list'>\n",
      "[9, 9.7, 'java', 'html', 8]\n"
     ]
    }
   ],
   "source": [
    "l1=[9,9.7,'java',\"html\",8]\n",
    "print(type(l1))\n",
    "print(l1)"
   ]
  },
  {
   "cell_type": "code",
   "execution_count": 5,
   "id": "f4fbe3ea-62eb-4207-b618-d3d5d3be0378",
   "metadata": {},
   "outputs": [
    {
     "name": "stdout",
     "output_type": "stream",
     "text": [
      "<class 'list'>\n",
      "[9, 9.7, (5+3j), 'java', 'html', 8]\n"
     ]
    }
   ],
   "source": [
    "l2=[9,9.7,5+3j,'java',\"html\",8]\n",
    "print(type(l2))\n",
    "print(l2)"
   ]
  },
  {
   "cell_type": "code",
   "execution_count": 6,
   "id": "b7423032-2bc8-4254-98a6-d22fd76865d8",
   "metadata": {},
   "outputs": [
    {
     "name": "stdout",
     "output_type": "stream",
     "text": [
      "<class 'tuple'>\n",
      "(2, 0, 8, 7, 5, 8)\n"
     ]
    }
   ],
   "source": [
    "t=(2,0,8,7,5,8)\n",
    "print(type(t))\n",
    "print(t)"
   ]
  },
  {
   "cell_type": "code",
   "execution_count": 7,
   "id": "a3d56dc8-78dc-4d24-93e6-37bbd2d2b144",
   "metadata": {},
   "outputs": [
    {
     "name": "stdout",
     "output_type": "stream",
     "text": [
      "<class 'tuple'>\n",
      "(9, 9.7, 'java', 'html', 8)\n"
     ]
    }
   ],
   "source": [
    "t1=(9,9.7,'java',\"html\",8)\n",
    "print(type(t1))\n",
    "print(t1)"
   ]
  },
  {
   "cell_type": "code",
   "execution_count": 8,
   "id": "fdcc1939-19b1-4f50-a8cf-b398bc7e43db",
   "metadata": {},
   "outputs": [
    {
     "name": "stdout",
     "output_type": "stream",
     "text": [
      "{'name': 'Tushar', 'age': 19, 'course': 'DS'}\n",
      "<class 'dict'>\n"
     ]
    }
   ],
   "source": [
    "d={'name':'Tushar','age':19,'course':'DS'}\n",
    "print(d)\n",
    "print(type(d))"
   ]
  },
  {
   "cell_type": "code",
   "execution_count": 9,
   "id": "8961f1dc-41fd-4543-8feb-3d7bc94624fc",
   "metadata": {},
   "outputs": [
    {
     "name": "stdout",
     "output_type": "stream",
     "text": [
      "{'php', 4, 5, 7, 9, 'java'}\n",
      "<class 'set'>\n"
     ]
    }
   ],
   "source": [
    "s={7,9,9,9,7,5,4,4,\"php\",'php','java'}\n",
    "print(s)\n",
    "print(type(s))"
   ]
  },
  {
   "cell_type": "code",
   "execution_count": null,
   "id": "d263bd00-0138-47f0-8e1a-16a7799b0e4f",
   "metadata": {},
   "outputs": [],
   "source": []
  }
 ],
 "metadata": {
  "kernelspec": {
   "display_name": "Python [conda env:base] *",
   "language": "python",
   "name": "conda-base-py"
  },
  "language_info": {
   "codemirror_mode": {
    "name": "ipython",
    "version": 3
   },
   "file_extension": ".py",
   "mimetype": "text/x-python",
   "name": "python",
   "nbconvert_exporter": "python",
   "pygments_lexer": "ipython3",
   "version": "3.12.7"
  }
 },
 "nbformat": 4,
 "nbformat_minor": 5
}
