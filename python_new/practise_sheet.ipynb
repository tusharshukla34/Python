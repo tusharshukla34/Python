{
 "cells": [
  {
   "cell_type": "code",
   "execution_count": 3,
   "id": "203060a6-36bf-4e67-8ff1-30d80be25ddb",
   "metadata": {},
   "outputs": [
    {
     "name": "stdin",
     "output_type": "stream",
     "text": [
      "enter the num 4\n",
      "enter the num 6\n",
      "enter the num 3\n"
     ]
    },
    {
     "name": "stdout",
     "output_type": "stream",
     "text": [
      "6  is greater than 4  and  3\n"
     ]
    }
   ],
   "source": [
    "                                                      # 21-07-2025\n",
    "# Write a program to input three numbers and print the largest one.\n",
    "\n",
    "a = int(input(\"enter the num\"))\n",
    "b = int(input(\"enter the num\"))\n",
    "c = int(input(\"enter the num\"))\n",
    "\n",
    "if a > b and a > c:\n",
    "    print(a,\" is greater than\",b,\" and \",c)\n",
    "elif b > a and b > c:     \n",
    "    print(b,\" is greater than\",a,\" and \",c)\n",
    "else:\n",
    "    print(c,\" is greater than\",a,\" and \",b)\n",
    "\n"
   ]
  },
  {
   "cell_type": "code",
   "execution_count": 7,
   "id": "9bb073c2-0086-414a-9797-5577fc500e10",
   "metadata": {},
   "outputs": [
    {
     "name": "stdin",
     "output_type": "stream",
     "text": [
      "enter a single alphabet i\n"
     ]
    },
    {
     "name": "stdout",
     "output_type": "stream",
     "text": [
      "the given character is Vovel\n"
     ]
    }
   ],
   "source": [
    "# Write a program to check if a given character is a vowel or a consonant.\n",
    "# vovels - A E I O U\n",
    "# consonant - remaining alphabets\n",
    "char = input(\"enter a single alphabet\")\n",
    "\n",
    "if char == 'a':\n",
    "    print(\"the given character is Vovel\")\n",
    "elif char == 'e':\n",
    "    print(\"the given character is Vovel\")\n",
    "elif char == 'i':\n",
    "    print(\"the given character is Vovel\")\n",
    "elif char == 'o':\n",
    "    print(\"the given character is Vovel\")\n",
    "elif char == 'u':\n",
    "    print(\"the given character is Vovel\")\n",
    "else:    \n",
    "    print(\"the given character is consonants\")\n",
    "\n",
    "\n",
    "# if char == \"a\" or \"e\" or \"i\" or \"o\" or \"u\":\n",
    "#     print(\"the given character is Vovel\")\n",
    "# else:    \n",
    "#     print(\"the given character is consonants\") \n"
   ]
  },
  {
   "cell_type": "code",
   "execution_count": 10,
   "id": "115e6413-ad64-45b7-af66-884b6d57a483",
   "metadata": {},
   "outputs": [
    {
     "name": "stdin",
     "output_type": "stream",
     "text": [
      "enter a single alphabet h\n"
     ]
    },
    {
     "name": "stdout",
     "output_type": "stream",
     "text": [
      "the given character is consonants\n"
     ]
    }
   ],
   "source": [
    "char = input(\"enter a single alphabet\")\n",
    "\n",
    "if char in (\"a\",\"e\",\"i\",\"o\",\"u\"):\n",
    "    print(\"the given character is Vovel\")\n",
    "else:    \n",
    "    print(\"the given character is consonants\") "
   ]
  },
  {
   "cell_type": "code",
   "execution_count": null,
   "id": "226040cb-3515-4ef3-a8d2-b28a1e23d7e7",
   "metadata": {},
   "outputs": [],
   "source": []
  }
 ],
 "metadata": {
  "kernelspec": {
   "display_name": "Python [conda env:base] *",
   "language": "python",
   "name": "conda-base-py"
  },
  "language_info": {
   "codemirror_mode": {
    "name": "ipython",
    "version": 3
   },
   "file_extension": ".py",
   "mimetype": "text/x-python",
   "name": "python",
   "nbconvert_exporter": "python",
   "pygments_lexer": "ipython3",
   "version": "3.12.7"
  }
 },
 "nbformat": 4,
 "nbformat_minor": 5
}
