{
 "cells": [
  {
   "cell_type": "code",
   "execution_count": null,
   "id": "904e3b5d-cb70-4794-acca-8ce8e5c11d17",
   "metadata": {},
   "outputs": [],
   "source": [
    "                                             # 11-08-2025"
   ]
  },
  {
   "cell_type": "code",
   "execution_count": 3,
   "id": "f4156ce0-26cb-44b0-84ba-3fac3250801a",
   "metadata": {},
   "outputs": [
    {
     "name": "stdout",
     "output_type": "stream",
     "text": [
      "1 2 3 4 5 6 7 8 9 10 "
     ]
    }
   ],
   "source": [
    "# 1. Print numbers from 1 to 10.\n",
    "\n",
    "for i in range(1,10+1):\n",
    "    print(i , end = \" \")\n"
   ]
  },
  {
   "cell_type": "code",
   "execution_count": 5,
   "id": "9c6b5cf6-b507-4ac6-8f7b-190c3605a209",
   "metadata": {},
   "outputs": [
    {
     "name": "stdout",
     "output_type": "stream",
     "text": [
      "2 4 6 8 10 12 14 16 18 20 22 24 26 28 30 32 34 36 38 40 42 44 46 48 50 "
     ]
    }
   ],
   "source": [
    "# 2. Print even numbers between 1 and 50.\n",
    "\n",
    "for i in range(1,50+1):\n",
    "    if i % 2 == 0:\n",
    "        print(i , end = \" \")"
   ]
  },
  {
   "cell_type": "code",
   "execution_count": 10,
   "id": "ca2dc229-1628-4b97-94c8-cbb2ffb934be",
   "metadata": {},
   "outputs": [
    {
     "name": "stdin",
     "output_type": "stream",
     "text": [
      "enter the number to get multiplication table 25\n"
     ]
    },
    {
     "name": "stdout",
     "output_type": "stream",
     "text": [
      "25 * 1 = 25\n",
      "25 * 2 = 50\n",
      "25 * 3 = 75\n",
      "25 * 4 = 100\n",
      "25 * 5 = 125\n",
      "25 * 6 = 150\n",
      "25 * 7 = 175\n",
      "25 * 8 = 200\n",
      "25 * 9 = 225\n",
      "25 * 10 = 250\n"
     ]
    }
   ],
   "source": [
    "# 3. Print the multiplication table of a number entered by the user.\n",
    "\n",
    "n = int(input(\"enter the number to get multiplication table\"))\n",
    "for i  in range(1,11):\n",
    "    print(n,\"*\",i,\"=\",i*n)"
   ]
  },
  {
   "cell_type": "code",
   "execution_count": 12,
   "id": "dc33f395-23fc-4b05-87ad-bd6010c936bb",
   "metadata": {},
   "outputs": [
    {
     "name": "stdin",
     "output_type": "stream",
     "text": [
      "enter the number hii my self code\n"
     ]
    },
    {
     "name": "stdout",
     "output_type": "stream",
     "text": [
      "h\n",
      "i\n",
      "i\n",
      " \n",
      "m\n",
      "y\n",
      " \n",
      "s\n",
      "e\n",
      "l\n",
      "f\n",
      " \n",
      "c\n",
      "o\n",
      "d\n",
      "e\n"
     ]
    }
   ],
   "source": [
    "# 4. Print each character of a given string on a separate line.\n",
    "\n",
    "a = input(\"enter the number\")\n",
    "for i in a:\n",
    "    print(i)"
   ]
  },
  {
   "cell_type": "code",
   "execution_count": 16,
   "id": "c6ebf530-6def-4a02-a76f-2007d827a9ba",
   "metadata": {},
   "outputs": [
    {
     "name": "stdin",
     "output_type": "stream",
     "text": [
      "enter the number 120\n"
     ]
    },
    {
     "name": "stdout",
     "output_type": "stream",
     "text": [
      "7260\n"
     ]
    }
   ],
   "source": [
    "# 5. Find the sum of numbers from 1 to n (where n is user input).\n",
    "\n",
    "n = int(input(\"enter the number\"))\n",
    "sum = 0\n",
    "for i in range(1,n+1):\n",
    "    sum = sum +i\n",
    "print(sum)    "
   ]
  },
  {
   "cell_type": "code",
   "execution_count": 18,
   "id": "fdb81338-6377-4860-920a-8e71fb7da32c",
   "metadata": {},
   "outputs": [
    {
     "name": "stdin",
     "output_type": "stream",
     "text": [
      "enter the number 5\n"
     ]
    },
    {
     "name": "stdout",
     "output_type": "stream",
     "text": [
      "120\n"
     ]
    }
   ],
   "source": [
    "# 6. Calculate the factorial of a given number.\n",
    "\n",
    "n = int(input(\"enter the number\"))\n",
    "fac = 1\n",
    "for i in range(1,n+1):\n",
    "    fac = fac * i\n",
    "print(fac)    "
   ]
  },
  {
   "cell_type": "code",
   "execution_count": 29,
   "id": "fd68f623-6249-470b-8542-d523a6c7bc98",
   "metadata": {},
   "outputs": [
    {
     "name": "stdin",
     "output_type": "stream",
     "text": [
      "enter the string : hii i am your code\n"
     ]
    },
    {
     "name": "stdout",
     "output_type": "stream",
     "text": [
      "number of vowels present in your string are : 8\n"
     ]
    }
   ],
   "source": [
    "# 7. Count the number of vowels in a string.\n",
    "\n",
    "a = input(\"enter the string :\").lower()\n",
    "count = 0\n",
    "for i in a:\n",
    "    if i in \"aeiou\":\n",
    "        count = count + 1\n",
    "print(\"number of vowels present in your string are :\",count)        "
   ]
  },
  {
   "cell_type": "code",
   "execution_count": 26,
   "id": "4a80fcdd-52f6-4896-a6e1-b2c7fc620080",
   "metadata": {},
   "outputs": [
    {
     "name": "stdout",
     "output_type": "stream",
     "text": [
      "1 4 9 16 25 36 49 64 81 100 121 144 169 196 225 "
     ]
    }
   ],
   "source": [
    "# 8. Print squares of numbers from 1 to 15.\n",
    "\n",
    "for i in range(1,16):\n",
    "    print(i**2, end = \" \")"
   ]
  },
  {
   "cell_type": "code",
   "execution_count": 32,
   "id": "64c48502-66af-4e6e-b644-d91bad737d2b",
   "metadata": {},
   "outputs": [
    {
     "name": "stdout",
     "output_type": "stream",
     "text": [
      "20 19 18 17 16 15 14 13 12 11 10 9 8 7 6 5 4 3 2 1 "
     ]
    }
   ],
   "source": [
    "# 9. Print numbers from 20 down to 1.\n",
    "\n",
    "for i in range(20,0,-1):\n",
    "    print(i, end = \" \")"
   ]
  },
  {
   "cell_type": "code",
   "execution_count": 33,
   "id": "384b47c1-65bc-48bb-8350-4f734878776c",
   "metadata": {},
   "outputs": [
    {
     "name": "stdout",
     "output_type": "stream",
     "text": [
      "2550\n"
     ]
    }
   ],
   "source": [
    "# 10. Calculate the sum of even numbers between 1 and 100.\n",
    "\n",
    "sum_even =0\n",
    "for i in range(1,101):\n",
    "    if i % 2 == 0:\n",
    "        sum_even = i + sum_even\n",
    "print(sum_even)        "
   ]
  },
  {
   "cell_type": "code",
   "execution_count": 40,
   "id": "24907016-3ed1-43cf-a99f-43fcd1dc9a24",
   "metadata": {},
   "outputs": [
    {
     "name": "stdout",
     "output_type": "stream",
     "text": [
      "1\n",
      "3\n",
      "4\n",
      "5\n",
      "67\n",
      "hii\n"
     ]
    }
   ],
   "source": [
    "# 11. Print all items in a list.\n",
    "\n",
    "l =[1,3,4,5,67,\"hii\"]\n",
    "# li = []\n",
    "# li.append(l)\n",
    "# print(li)\n",
    "\n",
    "for i in l:\n",
    "    print(i)"
   ]
  },
  {
   "cell_type": "code",
   "execution_count": 41,
   "id": "25033eaa-68e7-426d-8503-4aeb5d886b11",
   "metadata": {},
   "outputs": [
    {
     "name": "stdout",
     "output_type": "stream",
     "text": [
      "67\n"
     ]
    }
   ],
   "source": [
    "# 12. Find the largest number in a list.\n",
    "\n",
    "l =[1,3,4,5,67]\n",
    "for i in l:\n",
    "    if i == max(l):\n",
    "        print(i)\n",
    "    "
   ]
  },
  {
   "cell_type": "code",
   "execution_count": 44,
   "id": "c8c7c655-5a0f-4c6f-a18a-d0eea205b0f6",
   "metadata": {},
   "outputs": [
    {
     "name": "stdout",
     "output_type": "stream",
     "text": [
      "Total length of the list is: 11\n",
      "number of positive elements in list are : 6\n",
      "number of negative elements in list are : 5\n"
     ]
    }
   ],
   "source": [
    "# 13. Count how many positive and negative numbers are in a list.\n",
    "\n",
    "positive_count = 0\n",
    "negative_count = 0\n",
    "l =[1,3,4,5,67,-9,-2,-6,-3,2,-76]\n",
    "for i in l:\n",
    "    if i > 0:\n",
    "        positive_count = 1 + positive_count\n",
    "    else:\n",
    "        negative_count = 1 + negative_count\n",
    "print(\"Total length of the list is:\",len(l))        \n",
    "print(\"number of positive elements in list are :\",positive_count)\n",
    "print(\"number of negative elements in list are :\",negative_count)"
   ]
  },
  {
   "cell_type": "code",
   "execution_count": 45,
   "id": "af070d4a-22de-4f3c-b914-7710c6b6c922",
   "metadata": {},
   "outputs": [
    {
     "name": "stdout",
     "output_type": "stream",
     "text": [
      "[7, 14, 21, 28, 35, 42, 49]\n"
     ]
    }
   ],
   "source": [
    "# 14. Create a list of numbers between 1 and 50 that are divisible by 7.\n",
    "\n",
    "l = []\n",
    "for i in range(1,51):\n",
    "    if i % 7 == 0:\n",
    "        l.append(i)\n",
    "print(l)        "
   ]
  },
  {
   "cell_type": "code",
   "execution_count": 2,
   "id": "fe1016f5-68dd-47f9-a810-a5643b0ba42e",
   "metadata": {},
   "outputs": [
    {
     "name": "stdout",
     "output_type": "stream",
     "text": [
      "index : tushar\n",
      "index : hii\n",
      "index : php\n",
      "index : sql\n",
      "index : excel\n"
     ]
    }
   ],
   "source": [
    "# 15. Print the index and value of each element in a list.\n",
    "\n",
    "l = [12,13,14,15,16,17,18,23,45,67,89]\n",
    "l1 = [\"tushar\",\"hii\",\"php\",\"sql\",\"excel\"]\n",
    "for i in l1:\n",
    "    print(\"index :\",i)"
   ]
  },
  {
   "cell_type": "code",
   "execution_count": 65,
   "id": "e63ad787-3994-4e92-8bc0-c08da9f3ffdf",
   "metadata": {},
   "outputs": [
    {
     "name": "stdin",
     "output_type": "stream",
     "text": [
      "enter a string to reverse tushar\n"
     ]
    },
    {
     "name": "stdout",
     "output_type": "stream",
     "text": [
      "r\n",
      "a\n",
      "h\n",
      "s\n",
      "u\n",
      "t\n"
     ]
    }
   ],
   "source": [
    "# 16. Reverse a string using a for loop.\n",
    "\n",
    "a = input(\"enter a string to reverse\")\n",
    "rev = a[::-1]\n",
    "for i in rev:\n",
    "    print(i)"
   ]
  },
  {
   "cell_type": "code",
   "execution_count": 66,
   "id": "8c078b0d-4d3e-4cfc-94f0-720680357392",
   "metadata": {},
   "outputs": [
    {
     "name": "stdout",
     "output_type": "stream",
     "text": [
      "apple\n",
      "appa\n",
      "africa\n"
     ]
    }
   ],
   "source": [
    "# 17. From a list of strings, print only those starting with the letter 'a'.\n",
    "\n",
    "l = [\"tushar\",\"apple\",\"appa\",\"africa\",\"set\"]\n",
    "for i in l:\n",
    "    if i[0] == 'a':\n",
    "        print(i)"
   ]
  },
  {
   "cell_type": "code",
   "execution_count": 72,
   "id": "24c1f48b-e22b-40a0-b61d-52d31ab51289",
   "metadata": {},
   "outputs": [
    {
     "name": "stdout",
     "output_type": "stream",
     "text": [
      "['apple', 'appa', 'set', 9, 2, 1, 1, 'apple', 9]\n"
     ]
    }
   ],
   "source": [
    "# 18. Remove duplicates from a list (without using set).\n",
    "\n",
    "l = [\"apple\",\"appa\",\"set\",9,2,1,1,\"apple\",9]\n",
    "l1 = []\n",
    "for i in l:\n",
    "    if i == l[:]:\n",
    "        l1.remove(i)\n",
    "print(l)        "
   ]
  },
  {
   "cell_type": "code",
   "execution_count": 74,
   "id": "7e768a30-4192-4dab-935e-3f6884d37733",
   "metadata": {},
   "outputs": [
    {
     "name": "stdout",
     "output_type": "stream",
     "text": [
      "sum of odd number is : 30\n"
     ]
    }
   ],
   "source": [
    "# 19. From a list of numbers, print the sum of only odd numbers.\n",
    "\n",
    "l = [1,2,3,4,5,21]\n",
    "sum = 0\n",
    "for i in l:\n",
    "    if i % 2 != 0:\n",
    "        sum = sum + i\n",
    "print(\"sum of odd number is :\",sum)        "
   ]
  },
  {
   "cell_type": "code",
   "execution_count": 92,
   "id": "44475330-c24d-4c3b-a6f6-e7496743f45f",
   "metadata": {},
   "outputs": [
    {
     "name": "stdout",
     "output_type": "stream",
     "text": [
      "[1, 8, 27, 64, 125, 216, 343, 512, 729, 1000]\n"
     ]
    }
   ],
   "source": [
    "# 20. Create a new list containing the cubes of numbers from 1 to 10.\n",
    "\n",
    "a = []\n",
    "for i in range(1,11):\n",
    "    cube = i**3\n",
    "    a.append(cube)\n",
    "print(a)"
   ]
  },
  {
   "cell_type": "code",
   "execution_count": 101,
   "id": "adc363df-ebd2-4ec7-ad29-6ea6fce05207",
   "metadata": {},
   "outputs": [
    {
     "name": "stdin",
     "output_type": "stream",
     "text": [
      "enter the number 22\n"
     ]
    },
    {
     "name": "stdout",
     "output_type": "stream",
     "text": [
      "it is a prime number\n"
     ]
    }
   ],
   "source": [
    "# 21. Check if a number is prime.\n",
    "\n",
    "a = int(input(\"enter the number\"))\n",
    "for i in range(1,a):\n",
    "    if a % i == 0:\n",
    "        print(\"it is a prime number\")\n",
    "        break\n",
    "    else:\n",
    "        print(\"not a prime number\")\n",
    "    "
   ]
  },
  {
   "cell_type": "code",
   "execution_count": 10,
   "id": "a272dfa1-98cf-46a0-bf42-d8b4f7290377",
   "metadata": {},
   "outputs": [
    {
     "name": "stdin",
     "output_type": "stream",
     "text": [
      "enter the number 12\n"
     ]
    },
    {
     "name": "stdout",
     "output_type": "stream",
     "text": [
      "1 1 2 3 5 8 13 21 34 55 89 144 233 "
     ]
    }
   ],
   "source": [
    "# 22. Generate the first n terms of the Fibonacci sequence.\n",
    "\n",
    "n = int(input(\"enter the number\"))\n",
    "a = 0\n",
    "b = 1\n",
    "for i in range(0,n+1):\n",
    "    temp = a\n",
    "    a = b\n",
    "    b = temp + b\n",
    "    print(a, end = \" \")"
   ]
  },
  {
   "cell_type": "code",
   "execution_count": 19,
   "id": "fe05d6ac-b7f6-49c7-9a92-64669c90da78",
   "metadata": {},
   "outputs": [
    {
     "name": "stdin",
     "output_type": "stream",
     "text": [
      "enter the number 12\n"
     ]
    },
    {
     "name": "stdout",
     "output_type": "stream",
     "text": [
      "12\n"
     ]
    }
   ],
   "source": [
    "# 23. Find the sum of digits of a given number.\n",
    "\n",
    "a = int(input(\"enter the number\"))\n",
    "sum = 0\n",
    "digit = 0\n",
    "for i in range(1,a+1):\n",
    "    digit = a // 10\n",
    "    sum = sum + digit\n",
    "print(sum)"
   ]
  },
  {
   "cell_type": "code",
   "execution_count": 89,
   "id": "d433d44f-449e-4158-b0d4-71d1e46bce7c",
   "metadata": {},
   "outputs": [
    {
     "name": "stdin",
     "output_type": "stream",
     "text": [
      "enter a sentence : hii everyone here\n"
     ]
    },
    {
     "name": "stdout",
     "output_type": "stream",
     "text": [
      "15\n"
     ]
    }
   ],
   "source": [
    "# 24. Count the number of words in a given sentence.\n",
    "\n",
    "count = 0\n",
    "a = input(\"enter a sentence :\")\n",
    "for i in a:\n",
    "    if i.isalpha():\n",
    "        count = count + 1\n",
    "print(count)"
   ]
  },
  {
   "cell_type": "code",
   "execution_count": 90,
   "id": "8768316a-cac5-4a62-9892-e98550c156a9",
   "metadata": {},
   "outputs": [
    {
     "ename": "TypeError",
     "evalue": "unsupported operand type(s) for %: 'int' and 'type'",
     "output_type": "error",
     "traceback": [
      "\u001b[1;31m---------------------------------------------------------------------------\u001b[0m",
      "\u001b[1;31mTypeError\u001b[0m                                 Traceback (most recent call last)",
      "Cell \u001b[1;32mIn[90], line 4\u001b[0m\n\u001b[0;32m      1\u001b[0m \u001b[38;5;66;03m# 25. Print all prime numbers between 1 and 100.\u001b[39;00m\n\u001b[0;32m      3\u001b[0m \u001b[38;5;28;01mfor\u001b[39;00m i \u001b[38;5;129;01min\u001b[39;00m \u001b[38;5;28mrange\u001b[39m(\u001b[38;5;241m1\u001b[39m,\u001b[38;5;241m101\u001b[39m):\n\u001b[1;32m----> 4\u001b[0m     \u001b[38;5;28;01mif\u001b[39;00m i \u001b[38;5;241m%\u001b[39m \u001b[38;5;28mrange\u001b[39m \u001b[38;5;241m==\u001b[39m \u001b[38;5;241m0\u001b[39m:\n\u001b[0;32m      5\u001b[0m         \u001b[38;5;28mprint\u001b[39m(i)\n",
      "\u001b[1;31mTypeError\u001b[0m: unsupported operand type(s) for %: 'int' and 'type'"
     ]
    }
   ],
   "source": [
    "# 25. Print all prime numbers between 1 and 100.\n",
    "\n",
    "for i in range(1,101):\n",
    "    if i %  == 0:\n",
    "        print(i)"
   ]
  },
  {
   "cell_type": "code",
   "execution_count": 17,
   "id": "be0c4df9-98e0-4001-b6f1-6c1b56ee1acb",
   "metadata": {},
   "outputs": [
    {
     "name": "stdout",
     "output_type": "stream",
     "text": [
      "[78, 45, 34, 23]\n"
     ]
    }
   ],
   "source": [
    "# 26. From a list, print all numbers greater than the average of the list.\n",
    "\n",
    "count = 0\n",
    "sum = 0\n",
    "greater = []\n",
    "l = [1,2,3,4,5,6,7,8,78,45,34,23]\n",
    "for i in l:\n",
    "    sum = sum + i\n",
    "    count = count + 1\n",
    "avg = sum/count          # if avg in loop it will act as running avg because at every loop iteration it will has new avg value\n",
    "for i in l:\n",
    "    if i > avg:\n",
    "        greater.append(i)\n",
    "print(greater)"
   ]
  },
  {
   "cell_type": "code",
   "execution_count": null,
   "id": "ff68a6a4-d72f-4036-85b3-53844a2edf21",
   "metadata": {},
   "outputs": [],
   "source": [
    "# 27. Count the frequency of each character in a string.\n",
    "\n"
   ]
  },
  {
   "cell_type": "code",
   "execution_count": 22,
   "id": "c1ef63e8-663b-44c8-b94a-7759af4b63b3",
   "metadata": {},
   "outputs": [
    {
     "name": "stdout",
     "output_type": "stream",
     "text": [
      "[1, 2, 3, 4, 45]\n"
     ]
    }
   ],
   "source": [
    "# 28. Given two lists, print common elements without using set.\n",
    "\n",
    "l1 = [1,2,3,4,5,6,7,8,78,45,34,23]\n",
    "l2 = [1,2,3,4,45,99,98,97,96]\n",
    "l3 = []\n",
    "for i in l1:\n",
    "    if i in l2:\n",
    "        l3.append(i)\n",
    "print(l3)        "
   ]
  },
  {
   "cell_type": "code",
   "execution_count": 25,
   "id": "7ba5d2a0-40c8-42f6-897a-91964d42f3ed",
   "metadata": {},
   "outputs": [
    {
     "name": "stdout",
     "output_type": "stream",
     "text": [
      "5040\n"
     ]
    }
   ],
   "source": [
    "# 29. Print the product of all elements in a list.\n",
    "\n",
    "l = [1,2,3,4,5,6,7]\n",
    "product = 1\n",
    "for i in l:\n",
    "    product = product * i\n",
    "print(product)    "
   ]
  },
  {
   "cell_type": "markdown",
   "id": "cdc57a4c-842b-4274-8d87-b8a05bf1a0ad",
   "metadata": {},
   "source": [
    "# .split()\n",
    "\n",
    "The  method is a string method in Python used to divide a string into a list of substrings, based on a specified separator\n",
    "\n",
    "                                                               # or\n",
    "\n",
    "it is a Python string method that breaks a string into parts and returns them as a list, using a separator like space or comma."
   ]
  },
  {
   "cell_type": "code",
   "execution_count": 5,
   "id": "a054315b-0486-45dd-bbc8-3ff1e443bd07",
   "metadata": {},
   "outputs": [
    {
     "name": "stdout",
     "output_type": "stream",
     "text": [
      "['hii', 'i', 'am', 'coder']\n"
     ]
    },
    {
     "data": {
      "text/plain": [
       "'hii'"
      ]
     },
     "execution_count": 5,
     "metadata": {},
     "output_type": "execute_result"
    }
   ],
   "source": [
    "# taking list as input\n",
    "a = \"hii i am coder\".split()\n",
    "b = []\n",
    "b.append(a)\n",
    "print(a)\n",
    "b[0][0]"
   ]
  },
  {
   "cell_type": "code",
   "execution_count": 1,
   "id": "1531a9b6-a417-4186-9a20-6dc025b6cda1",
   "metadata": {},
   "outputs": [
    {
     "name": "stdin",
     "output_type": "stream",
     "text": [
      "enter a sentence : hi tushar i am programer\n"
     ]
    },
    {
     "name": "stdout",
     "output_type": "stream",
     "text": [
      "tushar\n",
      "programer\n"
     ]
    }
   ],
   "source": [
    "# 30. Given a sentence, print only the words that have more than 5 letters.\n",
    "\n",
    "a =input(\"enter a sentence :\").split()\n",
    "for i in a:\n",
    "    if len(i) > 5:\n",
    "        print(i)"
   ]
  },
  {
   "cell_type": "code",
   "execution_count": null,
   "id": "4b497d53-7ef6-43e4-9129-c24767f1fa1c",
   "metadata": {},
   "outputs": [],
   "source": [
    "                                                 # 12-08-2025"
   ]
  },
  {
   "cell_type": "code",
   "execution_count": null,
   "id": "aa15a713-466b-4f4b-af10-cfdd4e89c932",
   "metadata": {},
   "outputs": [],
   "source": [
    "# loop starts from here on"
   ]
  },
  {
   "cell_type": "code",
   "execution_count": 2,
   "id": "cffdbb06-76d0-4161-819b-b841c52e4f18",
   "metadata": {},
   "outputs": [
    {
     "name": "stdout",
     "output_type": "stream",
     "text": [
      "* \n",
      "* * \n",
      "* * * \n",
      "* * * * \n",
      "* * * * * \n"
     ]
    }
   ],
   "source": [
    "# increasing triangle\n",
    "n = 5\n",
    "for i in range(n):\n",
    "    for j in range(i+1):\n",
    "        print(\"*\", end = \" \")\n",
    "    print()    "
   ]
  },
  {
   "cell_type": "code",
   "execution_count": 4,
   "id": "0c9ae532-6ceb-4b78-9fe7-5672979fca0d",
   "metadata": {},
   "outputs": [
    {
     "name": "stdout",
     "output_type": "stream",
     "text": [
      "* * * * * \n",
      "* * * * \n",
      "* * * \n",
      "* * \n",
      "* \n"
     ]
    }
   ],
   "source": [
    "# decreasing triangle \n",
    "n = 5 \n",
    "for i in range(n):\n",
    "    for j in range(i,n):\n",
    "        print(\"*\", end = \" \")\n",
    "    print()    \n",
    "        "
   ]
  },
  {
   "cell_type": "code",
   "execution_count": 3,
   "id": "4b6271ca-4a48-4ba8-ba5a-1952398057da",
   "metadata": {},
   "outputs": [
    {
     "name": "stdout",
     "output_type": "stream",
     "text": [
      "        * \n",
      "      * * \n",
      "    * * * \n",
      "  * * * * \n",
      "* * * * * \n"
     ]
    }
   ],
   "source": [
    "n = 5\n",
    "for i in range(n):\n",
    "    for j in range(n-i-1):\n",
    "        print(\" \",end = \" \")\n",
    "    for j in range(i+1):\n",
    "        print(\"*\",end = \" \")\n",
    "    print()    "
   ]
  },
  {
   "cell_type": "code",
   "execution_count": 9,
   "id": "721bcc70-fd89-4412-86fa-dc15ecaae3a2",
   "metadata": {},
   "outputs": [
    {
     "name": "stdout",
     "output_type": "stream",
     "text": [
      "* * * * * \n",
      "  * * * * \n",
      "    * * * \n",
      "      * * \n",
      "        * \n"
     ]
    }
   ],
   "source": [
    "n = 5\n",
    "for i in range(n):\n",
    "    for j in range(i):\n",
    "        print(\" \",end = \" \")\n",
    "    for j in range(n-i):\n",
    "        print(\"*\",end = \" \")\n",
    "    print()    "
   ]
  },
  {
   "cell_type": "code",
   "execution_count": 8,
   "id": "6937bbad-0e39-4b73-ae96-7f7f6398a4c2",
   "metadata": {},
   "outputs": [
    {
     "name": "stdout",
     "output_type": "stream",
     "text": [
      "     * \n",
      "    * * \n",
      "   * * * \n",
      "  * * * * \n",
      " * * * * * \n",
      "* * * * * * \n"
     ]
    }
   ],
   "source": [
    "# Triangle\n",
    "n = 6\n",
    "for i in range(n):\n",
    "    for j in range(n-i-1):\n",
    "        print(\" \",end = \"\")\n",
    "    for j in range(i+1):\n",
    "        print(\"*\",end = \" \")\n",
    "    print()    "
   ]
  },
  {
   "cell_type": "code",
   "execution_count": 11,
   "id": "9956152e-ca90-4f0e-b889-510c2d8fd0e8",
   "metadata": {},
   "outputs": [
    {
     "name": "stdout",
     "output_type": "stream",
     "text": [
      "* * * * * \n",
      " * * * * \n",
      "  * * * \n",
      "   * * \n",
      "    * \n"
     ]
    }
   ],
   "source": [
    "# Reverse Triangle\n",
    "n = 5\n",
    "for i in range(n):\n",
    "    for j in range(i):\n",
    "        print(\" \",end= \"\")\n",
    "    for j in range(i,n):\n",
    "        print(\"*\",end= \" \")\n",
    "    print()    \n",
    "    "
   ]
  },
  {
   "cell_type": "code",
   "execution_count": 10,
   "id": "c5fa8560-7bce-4cf9-949f-94f46763a78b",
   "metadata": {},
   "outputs": [
    {
     "name": "stdout",
     "output_type": "stream",
     "text": [
      "        * \n",
      "      * * * \n",
      "    * * * * * \n",
      "  * * * * * * * \n",
      "* * * * * * * * * \n"
     ]
    }
   ],
   "source": [
    "# Pyramid\n",
    "n = 5\n",
    "for i in range(n):\n",
    "    for j in range(i,n-1):\n",
    "        print(\" \", end=\" \")\n",
    "    for j in range(i):\n",
    "        print(\"*\", end=\" \")\n",
    "    for j in range(i + 1):\n",
    "        print(\"*\", end=\" \")\n",
    "    \n",
    "    print()"
   ]
  },
  {
   "cell_type": "code",
   "execution_count": 11,
   "id": "ead37733-aa74-41ff-adb7-1bd044911467",
   "metadata": {},
   "outputs": [
    {
     "name": "stdout",
     "output_type": "stream",
     "text": [
      "* * * * * * * * * \n",
      "  * * * * * * * \n",
      "    * * * * * \n",
      "      * * * \n",
      "        * \n"
     ]
    }
   ],
   "source": [
    "# Reverse Pyramid\n",
    "n = 5\n",
    "for i in range(n):\n",
    "    for j in range(i):\n",
    "        print(\" \", end=\" \")\n",
    "    for j in range(i,n):\n",
    "        print(\"*\", end=\" \")\n",
    "    for j in range(i,n-1):\n",
    "        print(\"*\", end=\" \")\n",
    "    \n",
    "    print()"
   ]
  },
  {
   "cell_type": "code",
   "execution_count": 24,
   "id": "28dc9e1d-5e18-4d32-b870-a9a2e8b0ac01",
   "metadata": {},
   "outputs": [
    {
     "name": "stdout",
     "output_type": "stream",
     "text": [
      "    *      * *     * * *    * * * *   * * * * *       * \n",
      "   * * \n",
      "  * * * \n",
      " * * * * \n",
      "* * * * * \n"
     ]
    }
   ],
   "source": [
    "n = 5\n",
    "for i in range(n):\n",
    "    for j in range(i,n-1):\n",
    "        print(\" \",end = \"\")\n",
    "    for j in range(i+1):\n",
    "        print(\"*\",end = \" \")  \n",
    "    print(\" \",end=\" \")\n",
    "    \n",
    "for i in range(n):\n",
    "    for j in range(i,n-1):\n",
    "        print(\" \",end = \"\")\n",
    "    for j in range(i+1):\n",
    "        print(\"*\",end = \" \")    \n",
    "    print()    "
   ]
  },
  {
   "cell_type": "code",
   "execution_count": 6,
   "id": "42b42a97-9329-4a55-9d4d-4c9f26f90a2e",
   "metadata": {},
   "outputs": [
    {
     "name": "stdout",
     "output_type": "stream",
     "text": [
      "A \n",
      "A B \n",
      "A B C \n",
      "A B C D \n",
      "A B C D E \n"
     ]
    }
   ],
   "source": [
    "for i in range(0,5):\n",
    "    for j in range(i+1):\n",
    "        print(chr(65 + j),end = \" \")\n",
    "    print() "
   ]
  },
  {
   "cell_type": "code",
   "execution_count": null,
   "id": "e30361e5-d5c7-440a-a539-795e1b786554",
   "metadata": {},
   "outputs": [],
   "source": [
    "                                             # 13-08-2025"
   ]
  },
  {
   "cell_type": "code",
   "execution_count": 25,
   "id": "dfdb28ce-4588-4096-87d0-d92bce7361f4",
   "metadata": {},
   "outputs": [],
   "source": [
    "n = 5"
   ]
  },
  {
   "cell_type": "code",
   "execution_count": 2,
   "id": "f43cc662-349c-4458-84c4-38d511f13dac",
   "metadata": {},
   "outputs": [
    {
     "name": "stdout",
     "output_type": "stream",
     "text": [
      "* \n",
      "* * \n",
      "* * * \n",
      "* * * * \n",
      "* * * * * \n"
     ]
    }
   ],
   "source": [
    "n = 5\n",
    "for i in range(n):\n",
    "    for j in range(i+1):\n",
    "        print(\"*\", end = \" \")\n",
    "    print()    "
   ]
  },
  {
   "cell_type": "code",
   "execution_count": 3,
   "id": "45c54dea-fae9-4c4c-8f3f-bd9a31c16f89",
   "metadata": {},
   "outputs": [
    {
     "name": "stdout",
     "output_type": "stream",
     "text": [
      "        * \n",
      "      * * \n",
      "    * * * \n",
      "  * * * * \n",
      "* * * * * \n"
     ]
    }
   ],
   "source": [
    "n = 5\n",
    "for i in range(n):\n",
    "    for j in range(n-i-1):\n",
    "        print(\" \", end = \" \")\n",
    "    for j in range(i+1):\n",
    "        print(\"*\", end = \" \")\n",
    "    print() "
   ]
  },
  {
   "cell_type": "code",
   "execution_count": 5,
   "id": "38d09e70-3e17-4d6d-8c3a-0fe27b2594c0",
   "metadata": {},
   "outputs": [
    {
     "name": "stdout",
     "output_type": "stream",
     "text": [
      "* * * * * \n",
      "* * * * \n",
      "* * * \n",
      "* * \n",
      "* \n"
     ]
    }
   ],
   "source": [
    "n = 5\n",
    "for i in range(n):\n",
    "    for j in range(i,n):\n",
    "        print(\"*\", end = \" \")\n",
    "    print()    "
   ]
  },
  {
   "cell_type": "code",
   "execution_count": 6,
   "id": "00fcfaeb-f1c8-4dff-a5c6-6339fd88ff19",
   "metadata": {},
   "outputs": [
    {
     "name": "stdout",
     "output_type": "stream",
     "text": [
      "* * * * * \n",
      "  * * * * \n",
      "    * * * \n",
      "      * * \n",
      "        * \n"
     ]
    }
   ],
   "source": [
    "n = 5\n",
    "for i in range(n):\n",
    "    for j in range(i):\n",
    "        print(\" \", end = \" \")\n",
    "    for j in range(n-i):\n",
    "        print(\"*\", end = \" \")\n",
    "    print()    "
   ]
  },
  {
   "cell_type": "code",
   "execution_count": 7,
   "id": "eed69be5-67e7-4de1-87b0-5228049962cc",
   "metadata": {},
   "outputs": [
    {
     "name": "stdout",
     "output_type": "stream",
     "text": [
      "        * \n",
      "      * * * \n",
      "    * * * * * \n",
      "  * * * * * * * \n",
      "* * * * * * * * * \n"
     ]
    }
   ],
   "source": [
    "n = 5\n",
    "for i in range(n):\n",
    "    for j in range(n-i-1):\n",
    "        print(\" \", end = \" \")\n",
    "    for j in range(2*i+1):\n",
    "        print(\"*\", end = \" \")\n",
    "    print()    "
   ]
  },
  {
   "cell_type": "code",
   "execution_count": 16,
   "id": "4ca7a280-cd97-4ed1-a04f-70a9521db909",
   "metadata": {},
   "outputs": [
    {
     "name": "stdout",
     "output_type": "stream",
     "text": [
      "* * * * * * * * * \n",
      "  * * * * * * * \n",
      "    * * * * * \n",
      "      * * * \n",
      "        * \n"
     ]
    }
   ],
   "source": [
    "n = 5\n",
    "for i in range(n):\n",
    "    for j in range(i):\n",
    "        print(\" \", end = \" \")\n",
    "    for j in range(2*(n-i)-1):\n",
    "        print(\"*\", end = \" \")\n",
    "    print()    "
   ]
  },
  {
   "cell_type": "code",
   "execution_count": 15,
   "id": "eda0d230-7c30-4332-9aa9-1b79db2cd20f",
   "metadata": {},
   "outputs": [
    {
     "name": "stdout",
     "output_type": "stream",
     "text": [
      "    *         * \n",
      "   * *       * * \n",
      "  * * *     * * * \n",
      " * * * *   * * * * \n",
      "* * * * * * * * * * \n"
     ]
    }
   ],
   "source": [
    "n = 5\n",
    "for i in range(n):\n",
    "    for j in range(n-i-1):\n",
    "        print(\"\", end = \" \")\n",
    "    for j in range(i+1):\n",
    "        print(\"*\", end = \" \")\n",
    "    for j in range(2*(n-i)-2):\n",
    "        print(\"\", end = \" \")\n",
    "    for j in range(i+1):\n",
    "        print(\"*\",end = \" \")\n",
    "    print()    "
   ]
  },
  {
   "cell_type": "code",
   "execution_count": 14,
   "id": "e58bcce7-683c-4b92-803e-47d30be0343f",
   "metadata": {},
   "outputs": [
    {
     "name": "stdout",
     "output_type": "stream",
     "text": [
      "        *                 * \n",
      "      * * *             * * * \n",
      "    * * * * *         * * * * * \n",
      "  * * * * * * *     * * * * * * * \n",
      "* * * * * * * * * * * * * * * * * * \n"
     ]
    }
   ],
   "source": [
    "for i in range(n):\n",
    "    for j in range(n-i-1):\n",
    "        print(\" \", end = \" \")\n",
    "    for j in range(2*i+1):\n",
    "        print(\"*\", end = \" \")\n",
    "    for j in range(2*(n-i)-2):\n",
    "        print(\" \", end = \" \")\n",
    "    for j in range(2*i+1):\n",
    "        print(\"*\", end = \" \")\n",
    "    print()    "
   ]
  },
  {
   "cell_type": "code",
   "execution_count": 13,
   "id": "def5b34f-8bb7-47ae-931e-073458fdc895",
   "metadata": {},
   "outputs": [
    {
     "name": "stdout",
     "output_type": "stream",
     "text": [
      "* \n",
      "* * \n",
      "* * * \n",
      "* * * * \n",
      "* * * * * \n",
      "* * * * \n",
      "* * * \n",
      "* * \n",
      "* \n",
      "\n"
     ]
    }
   ],
   "source": [
    "n = 5\n",
    "for i in range(n):\n",
    "    for j in range(i+1):\n",
    "        print(\"*\",end = \" \")\n",
    "    print() \n",
    "for i in range(n):\n",
    "    for j in range(n-i-1):\n",
    "        print(\"*\",end = \" \")\n",
    "    print()"
   ]
  },
  {
   "cell_type": "code",
   "execution_count": 1,
   "id": "5e48eba8-a043-4db4-ab67-2b75ae647b7d",
   "metadata": {},
   "outputs": [
    {
     "name": "stdout",
     "output_type": "stream",
     "text": [
      "10\n"
     ]
    }
   ],
   "source": [
    "a = 10\n",
    "print(a)"
   ]
  },
  {
   "cell_type": "code",
   "execution_count": 1,
   "id": "553f67d8-1dfa-4be3-871f-4c187b37c7a7",
   "metadata": {},
   "outputs": [
    {
     "name": "stdout",
     "output_type": "stream",
     "text": [
      "45\n"
     ]
    }
   ],
   "source": [
    "i = 0\n",
    "sum = 0\n",
    "while i < 10:\n",
    "    sum = sum + i\n",
    "    i += 1\n",
    "print(sum)"
   ]
  },
  {
   "cell_type": "code",
   "execution_count": 43,
   "id": "0766929e-4820-4968-a6cd-e6c6b3c65df5",
   "metadata": {},
   "outputs": [
    {
     "name": "stdout",
     "output_type": "stream",
     "text": [
      "**********\n",
      "*        *\n",
      "*        *\n",
      "*        *\n",
      "*        *\n"
     ]
    }
   ],
   "source": [
    "n = 5\n",
    "for i in range(n):\n",
    "    for j in range(n):\n",
    "        if i == 0 or j == 0:\n",
    "            print(\"*\", end = \"\")\n",
    "        else:\n",
    "            print(\" \", end = \"\")\n",
    "    for j in range(n):\n",
    "        if i == 0 or j == n-1:\n",
    "            print(\"*\", end = \"\")\n",
    "        else:\n",
    "            print(\" \", end = \"\")    \n",
    "    print()        "
   ]
  },
  {
   "cell_type": "code",
   "execution_count": 50,
   "id": "64a03793-873b-4a07-847c-a24501333875",
   "metadata": {},
   "outputs": [
    {
     "name": "stdout",
     "output_type": "stream",
     "text": [
      "* * * * * \n",
      "*       * \n",
      "*       * \n",
      "*       * \n",
      "* * * * * \n"
     ]
    }
   ],
   "source": [
    "n = 5\n",
    "for i in range(n):\n",
    "    for j in range(n):\n",
    "        if i == 0 or j == 0 or i == n-1 or j == n-1:\n",
    "            print(\"*\", end = \" \")\n",
    "        else:\n",
    "            print(\" \", end = \" \")\n",
    "    print()"
   ]
  },
  {
   "cell_type": "code",
   "execution_count": 52,
   "id": "2eaa4cb2-a5b5-4dd9-89ae-5ac562a65880",
   "metadata": {},
   "outputs": [
    {
     "name": "stdout",
     "output_type": "stream",
     "text": [
      "* * * * * \n",
      "*     * \n",
      "*   * \n",
      "* * \n",
      "* \n"
     ]
    }
   ],
   "source": [
    "n = 5 \n",
    "for i in range(n):\n",
    "    for j in range(n-i):\n",
    "        if i == 0 or j == 0 or j == n - i -1:\n",
    "            print(\"*\", end = \" \")\n",
    "        else:\n",
    "            print(\" \", end = \" \")\n",
    "    print()"
   ]
  },
  {
   "cell_type": "code",
   "execution_count": 65,
   "id": "c982a596-4b3e-4182-8b5f-cbe887653cd9",
   "metadata": {},
   "outputs": [
    {
     "name": "stdout",
     "output_type": "stream",
     "text": [
      "        * \n",
      "      * * \n",
      "    *   * \n",
      "  *     * \n",
      "* * * * * \n"
     ]
    }
   ],
   "source": [
    "n = 5 \n",
    "for i in range(n):\n",
    "    for j in range(n-i-1):\n",
    "        print(\" \", end = \" \")\n",
    "    for j in range(i+1):\n",
    "        if j == 0 or j ==i or i == n -1:\n",
    "            print(\"*\", end = \" \")\n",
    "        else:\n",
    "            print(\" \", end = \" \")\n",
    "    print()        \n",
    "        "
   ]
  },
  {
   "cell_type": "code",
   "execution_count": 1,
   "id": "9ec6798c-201a-44ea-8120-de53421111ef",
   "metadata": {},
   "outputs": [],
   "source": [
    "                                               # 19-08-2025"
   ]
  },
  {
   "cell_type": "code",
   "execution_count": 18,
   "id": "b59e1527-f7ce-4316-9f85-2226c2193603",
   "metadata": {},
   "outputs": [
    {
     "name": "stdin",
     "output_type": "stream",
     "text": [
      "enter the number 04\n"
     ]
    },
    {
     "name": "stdout",
     "output_type": "stream",
     "text": [
      "4\n",
      "it is armstrong number\n"
     ]
    }
   ],
   "source": [
    "# armstrong number\n",
    "\n",
    "a = int(input(\"enter the number\"))\n",
    "sum = 0\n",
    "digit = 0\n",
    "org = a\n",
    "power = len(str(a))\n",
    "while a != 0:\n",
    "    digit = a % 10\n",
    "    sum = sum + digit**power\n",
    "    a = a // 10    \n",
    "if sum == org:\n",
    "    print(\"it is armstrong number\")\n",
    "else:\n",
    "    print(\"not a armstrong number\")"
   ]
  },
  {
   "cell_type": "code",
   "execution_count": null,
   "id": "24d9c4f0-3ad5-40a1-ba2e-f08a75c6334f",
   "metadata": {},
   "outputs": [],
   "source": []
  }
 ],
 "metadata": {
  "kernelspec": {
   "display_name": "Python [conda env:base] *",
   "language": "python",
   "name": "conda-base-py"
  },
  "language_info": {
   "codemirror_mode": {
    "name": "ipython",
    "version": 3
   },
   "file_extension": ".py",
   "mimetype": "text/x-python",
   "name": "python",
   "nbconvert_exporter": "python",
   "pygments_lexer": "ipython3",
   "version": "3.12.7"
  }
 },
 "nbformat": 4,
 "nbformat_minor": 5
}
