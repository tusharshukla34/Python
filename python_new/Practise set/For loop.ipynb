{
 "cells": [
  {
   "cell_type": "code",
   "execution_count": 3,
   "id": "2511fef2-12e5-48d0-91e2-ef8dd6cce961",
   "metadata": {},
   "outputs": [
    {
     "name": "stdout",
     "output_type": "stream",
     "text": [
      "1 2 3 4 5 6 7 8 9 10 "
     ]
    }
   ],
   "source": [
    "# 1. Print numbers from 1 to 10 using a for loop.\n",
    "\n",
    "for i in range(1,11):\n",
    "    print(i , end = \" \")"
   ]
  },
  {
   "cell_type": "code",
   "execution_count": 5,
   "id": "3e9e049e-7bb2-4004-b862-3dc7e46cefb4",
   "metadata": {},
   "outputs": [
    {
     "name": "stdout",
     "output_type": "stream",
     "text": [
      "2 4 6 8 10 12 14 16 18 20 "
     ]
    }
   ],
   "source": [
    "# 2. Print even numbers from 2 to 20.\n",
    "\n",
    "for i in range(2,21,2):\n",
    "    print(i, end = \" \")"
   ]
  },
  {
   "cell_type": "code",
   "execution_count": 2,
   "id": "920d13a0-fbbb-4495-b2c0-23fb4beeeb5b",
   "metadata": {},
   "outputs": [
    {
     "name": "stdout",
     "output_type": "stream",
     "text": [
      "1\n",
      "4\n",
      "9\n",
      "16\n",
      "25\n"
     ]
    }
   ],
   "source": [
    "# 3. Print the squares of numbers from 1 to 5.\n",
    "\n",
    "for i in range(1,6):\n",
    "    print(i**2)"
   ]
  },
  {
   "cell_type": "code",
   "execution_count": 5,
   "id": "bf389894-50c2-421d-8019-c482642bd998",
   "metadata": {},
   "outputs": [
    {
     "name": "stdout",
     "output_type": "stream",
     "text": [
      "h\n",
      "e\n",
      "l\n",
      "o\n",
      "o\n",
      " \n",
      "g\n",
      "u\n",
      "y\n",
      "s\n"
     ]
    }
   ],
   "source": [
    "# 4. Print each character of a given string.\n",
    "\n",
    "st = \"heloo guys\"\n",
    "for i in st:\n",
    "    print(i)"
   ]
  },
  {
   "cell_type": "code",
   "execution_count": 2,
   "id": "a29214d0-5dbf-4017-a1f7-1de65d4734dc",
   "metadata": {},
   "outputs": [
    {
     "name": "stdout",
     "output_type": "stream",
     "text": [
      "5050\n"
     ]
    }
   ],
   "source": [
    "# 5. Print the sum of numbers from 1 to 100.\n",
    "\n",
    "sum = 0\n",
    "for i in range(1,101):\n",
    "    sum = sum+i\n",
    "print(sum)    "
   ]
  },
  {
   "cell_type": "code",
   "execution_count": 5,
   "id": "d9179ec8-14c1-43e1-b07d-34771a1820b2",
   "metadata": {},
   "outputs": [
    {
     "name": "stdout",
     "output_type": "stream",
     "text": [
      "5 * 1 = 5\n",
      "5 * 2 = 10\n",
      "5 * 3 = 15\n",
      "5 * 4 = 20\n",
      "5 * 5 = 25\n",
      "5 * 6 = 30\n",
      "5 * 7 = 35\n",
      "5 * 8 = 40\n",
      "5 * 9 = 45\n",
      "5 * 10 = 50\n"
     ]
    }
   ],
   "source": [
    "# 6. Print the multiplication table of 5.\n",
    "\n",
    "n = 5\n",
    "for i in range(1,11):\n",
    "    print(n,\"*\",i,\"=\",i*n)"
   ]
  },
  {
   "cell_type": "code",
   "execution_count": 10,
   "id": "6f0766e2-3bf2-4e2f-a518-49f11dc24fa1",
   "metadata": {},
   "outputs": [
    {
     "name": "stdout",
     "output_type": "stream",
     "text": [
      "apple\n",
      "banana\n",
      "guava\n",
      "peach\n"
     ]
    }
   ],
   "source": [
    "# 7. Iterate through a list of fruits and print each one.\n"
   ]
  },
  {
   "cell_type": "code",
   "execution_count": 16,
   "id": "e2dde24e-e364-4e21-8cf6-9f665cb8ccf5",
   "metadata": {},
   "outputs": [
    {
     "name": "stdout",
     "output_type": "stream",
     "text": [
      "10\n",
      "9\n",
      "8\n",
      "7\n",
      "6\n",
      "5\n",
      "4\n",
      "3\n",
      "2\n",
      "1\n"
     ]
    }
   ],
   "source": [
    "# 8. Print the first 10 natural numbers in reverse order.\n",
    "\n"
   ]
  },
  {
   "cell_type": "code",
   "execution_count": 21,
   "id": "a5cf5c76-a715-4285-ac78-8c11f63dc30e",
   "metadata": {},
   "outputs": [
    {
     "name": "stdout",
     "output_type": "stream",
     "text": [
      "Index 0 = apple\n",
      "Index 1 = banana\n",
      "Index 2 = guava\n",
      "Index 3 = peach\n"
     ]
    }
   ],
   "source": [
    "# 9. Print all elements of a list with their indices.\n",
    "\n"
   ]
  },
  {
   "cell_type": "code",
   "execution_count": 24,
   "id": "c527f4d4-2ec3-4c0a-b718-67d754678a53",
   "metadata": {},
   "outputs": [
    {
     "name": "stdout",
     "output_type": "stream",
     "text": [
      "1\n",
      "3\n",
      "5\n",
      "7\n",
      "9\n",
      "11\n",
      "13\n",
      "15\n",
      "17\n",
      "19\n"
     ]
    }
   ],
   "source": [
    "# 10. Print all odd numbers between 1 and 20.\n",
    "\n"
   ]
  },
  {
   "cell_type": "code",
   "execution_count": 9,
   "id": "dc844847-d491-48c4-8a2c-bd3347fae74f",
   "metadata": {},
   "outputs": [
    {
     "ename": "IndentationError",
     "evalue": "unindent does not match any outer indentation level (<string>, line 7)",
     "output_type": "error",
     "traceback": [
      "\u001b[1;36m  File \u001b[1;32m<string>:7\u001b[1;36m\u001b[0m\n\u001b[1;33m    print(i)\u001b[0m\n\u001b[1;37m                    ^\u001b[0m\n\u001b[1;31mIndentationError\u001b[0m\u001b[1;31m:\u001b[0m unindent does not match any outer indentation level\n"
     ]
    }
   ],
   "source": [
    "# 11. Print all prime numbers between 1 and 50.\n",
    "    "
   ]
  },
  {
   "cell_type": "code",
   "execution_count": 8,
   "id": "b0329bf1-bf3d-4f6d-8bfd-0f5771587e20",
   "metadata": {},
   "outputs": [
    {
     "name": "stdin",
     "output_type": "stream",
     "text": [
      "enter the string tushar\n"
     ]
    },
    {
     "name": "stdout",
     "output_type": "stream",
     "text": [
      "2\n"
     ]
    }
   ],
   "source": [
    "# 12. Count how many vowels are in a given string.\n",
    "\n"
   ]
  },
  {
   "cell_type": "code",
   "execution_count": 9,
   "id": "df7a426e-9a33-4da3-8f9e-2b88d2c96474",
   "metadata": {},
   "outputs": [
    {
     "name": "stdout",
     "output_type": "stream",
     "text": [
      "87\n"
     ]
    }
   ],
   "source": [
    "# 13. Given a list of numbers, print only those greater than 10.\n",
    "\n"
   ]
  },
  {
   "cell_type": "code",
   "execution_count": 10,
   "id": "264bab1c-77bf-46f4-b8dc-6dbe04373cb5",
   "metadata": {},
   "outputs": [
    {
     "name": "stdin",
     "output_type": "stream",
     "text": [
      "enter the number 5\n"
     ]
    },
    {
     "name": "stdout",
     "output_type": "stream",
     "text": [
      "120\n"
     ]
    }
   ],
   "source": [
    "# 14. Calculate the factorial of a number using a for loop.\n",
    "\n"
   ]
  },
  {
   "cell_type": "code",
   "execution_count": 18,
   "id": "ebc08a9f-5c47-4e58-889b-e51a4c6e6fd0",
   "metadata": {},
   "outputs": [
    {
     "name": "stdin",
     "output_type": "stream",
     "text": [
      "enter the series nth number 9\n"
     ]
    },
    {
     "name": "stdout",
     "output_type": "stream",
     "text": [
      "0\n",
      "1\n",
      "1\n",
      "2\n",
      "3\n",
      "5\n",
      "8\n",
      "13\n",
      "21\n",
      "34\n"
     ]
    }
   ],
   "source": [
    "# 15. Print the Fibonacci sequence up to n terms using a for loop.\n",
    "\n",
    "   "
   ]
  },
  {
   "cell_type": "code",
   "execution_count": 19,
   "id": "26147b5b-fb33-4b64-a0f8-666f821b3498",
   "metadata": {},
   "outputs": [
    {
     "name": "stdout",
     "output_type": "stream",
     "text": [
      "650\n"
     ]
    }
   ],
   "source": [
    "# 16. Print the sum of even numbers between 1 and 50.\n",
    "\n",
    "      "
   ]
  },
  {
   "cell_type": "code",
   "execution_count": 20,
   "id": "f93b856f-cc8d-4057-8eac-b3160a7cb885",
   "metadata": {},
   "outputs": [
    {
     "name": "stdout",
     "output_type": "stream",
     "text": [
      "everyone\n",
      "what's app\n"
     ]
    }
   ],
   "source": [
    "# 17. Given a list of strings, print those with length > 5.\n",
    "\n"
   ]
  },
  {
   "cell_type": "code",
   "execution_count": 28,
   "id": "6ced1077-b2fe-4889-93a5-5ee1022281dc",
   "metadata": {},
   "outputs": [
    {
     "name": "stdout",
     "output_type": "stream",
     "text": [
      "rahsut\n"
     ]
    }
   ],
   "source": [
    "# 18. Reverse a string using a for loop.\n",
    "\n",
    "    "
   ]
  },
  {
   "cell_type": "code",
   "execution_count": 39,
   "id": "13b9fdad-49e0-43ed-b48f-d32a74e9e552",
   "metadata": {},
   "outputs": [
    {
     "name": "stdout",
     "output_type": "stream",
     "text": [
      "Ascii value of A is 65\n",
      "Ascii value of B is 66\n",
      "Ascii value of C is 67\n",
      "Ascii value of D is 68\n",
      "Ascii value of E is 69\n",
      "Ascii value of F is 70\n",
      "Ascii value of G is 71\n",
      "Ascii value of H is 72\n",
      "Ascii value of I is 73\n",
      "Ascii value of J is 74\n",
      "Ascii value of K is 75\n",
      "Ascii value of L is 76\n",
      "Ascii value of M is 77\n",
      "Ascii value of N is 78\n",
      "Ascii value of O is 79\n",
      "Ascii value of P is 80\n",
      "Ascii value of Q is 81\n",
      "Ascii value of R is 82\n",
      "Ascii value of S is 83\n",
      "Ascii value of T is 84\n",
      "Ascii value of U is 85\n",
      "Ascii value of V is 86\n",
      "Ascii value of W is 87\n",
      "Ascii value of X is 88\n",
      "Ascii value of Y is 89\n",
      "Ascii value of Z is 90\n"
     ]
    }
   ],
   "source": [
    "# 19. Print the ASCII values of characters from 'A' to 'Z'.\n",
    "\n"
   ]
  },
  {
   "cell_type": "code",
   "execution_count": 43,
   "id": "f8698a0c-d941-4b22-b786-d7eb9e30978c",
   "metadata": {},
   "outputs": [
    {
     "name": "stdout",
     "output_type": "stream",
     "text": [
      "count of 1 is : 2\n",
      "count of 2 is : 5\n",
      "count of 3 is : 2\n",
      "count of 4 is : 1\n",
      "count of 13 is : 1\n"
     ]
    }
   ],
   "source": [
    "# 20. Count how many times a specific number appears in a list.\n",
    "\n",
    "\n"
   ]
  },
  {
   "cell_type": "code",
   "execution_count": 5,
   "id": "3a438f52-0795-46d8-87f8-f77496339298",
   "metadata": {},
   "outputs": [
    {
     "name": "stdout",
     "output_type": "stream",
     "text": [
      "        * \n",
      "      * * * \n",
      "    * * * * * \n",
      "  * * * * * * * \n",
      "* * * * * * * * * \n"
     ]
    }
   ],
   "source": [
    "# 21. Print a pyramid pattern of stars with 5 rows.\n",
    "\n"
   ]
  },
  {
   "cell_type": "code",
   "execution_count": 10,
   "id": "c6b9f2dd-5c45-4696-86dc-5335b723a412",
   "metadata": {},
   "outputs": [
    {
     "name": "stdout",
     "output_type": "stream",
     "text": [
      "  * * * * * * * * * \n",
      "    * * * * * * * \n",
      "      * * * * * \n",
      "        * * * \n",
      "          * \n"
     ]
    }
   ],
   "source": [
    "# 22. Print an inverted pyramid pattern of stars with 5 rows.\n",
    "\n"
   ]
  },
  {
   "cell_type": "code",
   "execution_count": 11,
   "id": "908b97c7-f1d4-44bc-86e6-92508c9799d6",
   "metadata": {},
   "outputs": [
    {
     "name": "stdout",
     "output_type": "stream",
     "text": [
      "* \n",
      "* * \n",
      "* * * \n",
      "* * * * \n",
      "* * * * * \n"
     ]
    }
   ],
   "source": [
    "# 23. Print a right-aligned triangle pattern of stars with 5 rows.\n",
    "\n",
    "    "
   ]
  },
  {
   "cell_type": "code",
   "execution_count": 9,
   "id": "a3e73d29-f60c-4946-9c5e-14b16a6c6a20",
   "metadata": {},
   "outputs": [
    {
     "name": "stdout",
     "output_type": "stream",
     "text": [
      "1 * 1 = 1\n",
      "1 * 2 = 2\n",
      "1 * 3 = 3\n",
      "1 * 4 = 4\n",
      "1 * 5 = 5\n",
      "1 * 6 = 6\n",
      "1 * 7 = 7\n",
      "1 * 8 = 8\n",
      "1 * 9 = 9\n",
      "1 * 10 = 10\n",
      "\n",
      "2 * 1 = 2\n",
      "2 * 2 = 4\n",
      "2 * 3 = 6\n",
      "2 * 4 = 8\n",
      "2 * 5 = 10\n",
      "2 * 6 = 12\n",
      "2 * 7 = 14\n",
      "2 * 8 = 16\n",
      "2 * 9 = 18\n",
      "2 * 10 = 20\n",
      "\n",
      "3 * 1 = 3\n",
      "3 * 2 = 6\n",
      "3 * 3 = 9\n",
      "3 * 4 = 12\n",
      "3 * 5 = 15\n",
      "3 * 6 = 18\n",
      "3 * 7 = 21\n",
      "3 * 8 = 24\n",
      "3 * 9 = 27\n",
      "3 * 10 = 30\n",
      "\n",
      "4 * 1 = 4\n",
      "4 * 2 = 8\n",
      "4 * 3 = 12\n",
      "4 * 4 = 16\n",
      "4 * 5 = 20\n",
      "4 * 6 = 24\n",
      "4 * 7 = 28\n",
      "4 * 8 = 32\n",
      "4 * 9 = 36\n",
      "4 * 10 = 40\n",
      "\n",
      "5 * 1 = 5\n",
      "5 * 2 = 10\n",
      "5 * 3 = 15\n",
      "5 * 4 = 20\n",
      "5 * 5 = 25\n",
      "5 * 6 = 30\n",
      "5 * 7 = 35\n",
      "5 * 8 = 40\n",
      "5 * 9 = 45\n",
      "5 * 10 = 50\n",
      "\n",
      "6 * 1 = 6\n",
      "6 * 2 = 12\n",
      "6 * 3 = 18\n",
      "6 * 4 = 24\n",
      "6 * 5 = 30\n",
      "6 * 6 = 36\n",
      "6 * 7 = 42\n",
      "6 * 8 = 48\n",
      "6 * 9 = 54\n",
      "6 * 10 = 60\n",
      "\n",
      "7 * 1 = 7\n",
      "7 * 2 = 14\n",
      "7 * 3 = 21\n",
      "7 * 4 = 28\n",
      "7 * 5 = 35\n",
      "7 * 6 = 42\n",
      "7 * 7 = 49\n",
      "7 * 8 = 56\n",
      "7 * 9 = 63\n",
      "7 * 10 = 70\n",
      "\n",
      "8 * 1 = 8\n",
      "8 * 2 = 16\n",
      "8 * 3 = 24\n",
      "8 * 4 = 32\n",
      "8 * 5 = 40\n",
      "8 * 6 = 48\n",
      "8 * 7 = 56\n",
      "8 * 8 = 64\n",
      "8 * 9 = 72\n",
      "8 * 10 = 80\n",
      "\n",
      "9 * 1 = 9\n",
      "9 * 2 = 18\n",
      "9 * 3 = 27\n",
      "9 * 4 = 36\n",
      "9 * 5 = 45\n",
      "9 * 6 = 54\n",
      "9 * 7 = 63\n",
      "9 * 8 = 72\n",
      "9 * 9 = 81\n",
      "9 * 10 = 90\n",
      "\n",
      "10 * 1 = 10\n",
      "10 * 2 = 20\n",
      "10 * 3 = 30\n",
      "10 * 4 = 40\n",
      "10 * 5 = 50\n",
      "10 * 6 = 60\n",
      "10 * 7 = 70\n",
      "10 * 8 = 80\n",
      "10 * 9 = 90\n",
      "10 * 10 = 100\n",
      "\n"
     ]
    }
   ],
   "source": [
    "# 24. Print the multiplication tables from 1 to 10.\n",
    "\n"
   ]
  },
  {
   "cell_type": "code",
   "execution_count": 28,
   "id": "2ca83e6b-c7fc-411a-84ff-27fa3bc2aadb",
   "metadata": {},
   "outputs": [],
   "source": [
    "# 25. Print all perfect numbers between 1 and 500.\n"
   ]
  },
  {
   "cell_type": "code",
   "execution_count": null,
   "id": "fd898f08-7797-4362-8fa6-c6b1576bdcfa",
   "metadata": {},
   "outputs": [],
   "source": [
    "26. Print all Armstrong numbers between 100 and 999.\n"
   ]
  },
  {
   "cell_type": "code",
   "execution_count": 27,
   "id": "451aec7b-949b-4f17-bafd-b5bbebc3afc3",
   "metadata": {},
   "outputs": [
    {
     "name": "stdout",
     "output_type": "stream",
     "text": [
      "        * \n",
      "      * * * \n",
      "    * * * * * \n",
      "  * * * * * * * \n",
      "* * * * * * * * * \n",
      "  * * * * * * * \n",
      "    * * * * * \n",
      "      * * * \n",
      "        * \n",
      "          \n"
     ]
    }
   ],
   "source": [
    "# 27. Print a diamond pattern of stars with 5 rows on each side.\n",
    "\n",
    "\n"
   ]
  },
  {
   "cell_type": "code",
   "execution_count": 51,
   "id": "0ccbc438-d56d-4b6d-b63c-30e681fb1129",
   "metadata": {},
   "outputs": [
    {
     "name": "stdout",
     "output_type": "stream",
     "text": [
      "even number are: [2, 8, 76, 34, 78]\n",
      "odd number are: [1, 3, 5, 3, 7, 9, 5, 79]\n"
     ]
    }
   ],
   "source": [
    "# 28. Given a list of numbers, separate them into even and odd lists.\n",
    "\n"
   ]
  },
  {
   "cell_type": "code",
   "execution_count": 4,
   "id": "a173d63f-5cb6-4a4b-ae94-22c81b25d5be",
   "metadata": {},
   "outputs": [
    {
     "name": "stdout",
     "output_type": "stream",
     "text": [
      "ab\n",
      "ac\n",
      "ba\n",
      "bc\n",
      "ca\n",
      "cb\n"
     ]
    }
   ],
   "source": [
    "# 29. Generate all 2-letter combinations from 'abc'.\n",
    "\n"
   ]
  },
  {
   "cell_type": "code",
   "execution_count": 3,
   "id": "e6be5d2f-78d2-4c5c-bd8e-516662f3953a",
   "metadata": {},
   "outputs": [
    {
     "name": "stdout",
     "output_type": "stream",
     "text": [
      "1234\n",
      "1243\n",
      "1324\n",
      "1342\n",
      "1423\n",
      "1432\n",
      "2134\n",
      "2143\n",
      "2314\n",
      "2341\n",
      "2413\n",
      "2431\n",
      "3124\n",
      "3142\n",
      "3214\n",
      "3241\n",
      "3412\n",
      "3421\n",
      "4123\n",
      "4132\n",
      "4213\n",
      "4231\n",
      "4312\n",
      "4321\n",
      "number of combination can be produce is : 24\n"
     ]
    }
   ],
   "source": [
    "               "
   ]
  },
  {
   "cell_type": "code",
   "execution_count": 52,
   "id": "2d0a8810-629a-418c-b66e-5f720dfd7d7c",
   "metadata": {},
   "outputs": [
    {
     "name": "stdout",
     "output_type": "stream",
     "text": [
      "78\n"
     ]
    }
   ],
   "source": [
    "# 30. Given a list of numbers, find the second largest using a for loop.\n",
    "\n"
   ]
  },
  {
   "cell_type": "markdown",
   "id": "6741bd3f-ec31-4fba-83ee-1a633c36bfbe",
   "metadata": {},
   "source": [
    "# ⬇️Some extra questions must do"
   ]
  },
  {
   "cell_type": "code",
   "execution_count": 10,
   "id": "3b0d8165-fbb8-4cd1-ab77-b542f66b5fee",
   "metadata": {},
   "outputs": [
    {
     "name": "stdout",
     "output_type": "stream",
     "text": [
      "1\n",
      "2\n",
      "3\n",
      "4\n",
      "5\n",
      "6\n",
      "7\n",
      "8\n",
      "9\n",
      "10\n"
     ]
    }
   ],
   "source": [
    "# Example 1: Print the first 10 natural numbers using for loop.\n"
   ]
  },
  {
   "cell_type": "code",
   "execution_count": 11,
   "id": "0985b53b-5e3a-4668-9cca-3161eede0c45",
   "metadata": {},
   "outputs": [
    {
     "name": "stdin",
     "output_type": "stream",
     "text": [
      "Enter the the even number range u want 20\n"
     ]
    },
    {
     "name": "stdout",
     "output_type": "stream",
     "text": [
      "2\n",
      "4\n",
      "6\n",
      "8\n",
      "10\n",
      "12\n",
      "14\n",
      "16\n",
      "18\n",
      "20\n"
     ]
    }
   ],
   "source": [
    "# Example 2: Python program to print all the even numbers within the given range.\n",
    "\n"
   ]
  },
  {
   "cell_type": "code",
   "execution_count": 12,
   "id": "94bdbe0e-456d-40c2-872d-d36ba93c8020",
   "metadata": {},
   "outputs": [
    {
     "name": "stdin",
     "output_type": "stream",
     "text": [
      "entre the number upto u want the sum from 1 30\n"
     ]
    },
    {
     "name": "stdout",
     "output_type": "stream",
     "text": [
      "465\n"
     ]
    }
   ],
   "source": [
    "# Example 3: Python program to calculate the sum of all numbers from 1 to a given number.\n",
    "\n",
    "   "
   ]
  },
  {
   "cell_type": "code",
   "execution_count": 19,
   "id": "bb610039-10bd-4b84-959f-fd78ce5c61ae",
   "metadata": {},
   "outputs": [
    {
     "name": "stdin",
     "output_type": "stream",
     "text": [
      "enter the range 45\n"
     ]
    },
    {
     "name": "stdout",
     "output_type": "stream",
     "text": [
      "529\n"
     ]
    }
   ],
   "source": [
    "# Example 4: Python program to calculate the sum of all the odd numbers within the given range.\n",
    "\n",
    "     "
   ]
  },
  {
   "cell_type": "code",
   "execution_count": null,
   "id": "5d7efa6c-c980-4a43-a359-289b45fae90b",
   "metadata": {},
   "outputs": [],
   "source": [
    "Example 5: Python program to print a multiplication table of a given number\n"
   ]
  },
  {
   "cell_type": "code",
   "execution_count": null,
   "id": "67c0509f-4ba7-4fb5-8dfe-5833bdf322aa",
   "metadata": {},
   "outputs": [],
   "source": [
    "Example 5: Python program to print a multiplication table of a given number\n"
   ]
  },
  {
   "cell_type": "code",
   "execution_count": null,
   "id": "2624734b-078f-4edb-bfb9-08e5610c2aa5",
   "metadata": {},
   "outputs": [],
   "source": [
    "Example 6: Python program to display numbers from a list using a for loop.\n"
   ]
  },
  {
   "cell_type": "code",
   "execution_count": null,
   "id": "f5f1c05a-79a4-4f07-a620-8d2292009210",
   "metadata": {},
   "outputs": [],
   "source": [
    "Example 7: Python program to count the total number of digits in a number.\n"
   ]
  },
  {
   "cell_type": "code",
   "execution_count": null,
   "id": "f8f1a6d8-ffac-4257-b051-4822255967d9",
   "metadata": {},
   "outputs": [],
   "source": [
    "Example 8: write a python program to check given string is palindrome or not. (madam=madam)\n"
   ]
  },
  {
   "cell_type": "code",
   "execution_count": null,
   "id": "96a49090-6ddf-4432-be6c-40dce59f479b",
   "metadata": {},
   "outputs": [],
   "source": [
    "Example 9: Python program that accepts a word from the user and reverses it.\n"
   ]
  },
  {
   "cell_type": "code",
   "execution_count": null,
   "id": "631e65f0-86d6-483f-9b37-78a6f0caf1d4",
   "metadata": {},
   "outputs": [],
   "source": [
    "Example 10: Python program to check if a given number is an Armstrong number.\n",
    "(153=1**3+5**3+3**3)\n"
   ]
  },
  {
   "cell_type": "code",
   "execution_count": null,
   "id": "f83d053a-5fc6-44e4-8df8-e40164d9c6eb",
   "metadata": {},
   "outputs": [],
   "source": [
    "Example 11: Python program to count the number of even and odd numbers from a\n",
    "series of numbers.\n"
   ]
  },
  {
   "cell_type": "code",
   "execution_count": null,
   "id": "e552afcc-879e-4fda-90bf-5672a0bb332c",
   "metadata": {},
   "outputs": [],
   "source": [
    "Example 12: Python program to display all numbers within a range except the prime\n",
    "numbers.\n"
   ]
  },
  {
   "cell_type": "code",
   "execution_count": null,
   "id": "de4a18c6-4614-49f4-94d7-487149359177",
   "metadata": {},
   "outputs": [],
   "source": [
    "Example 13: Python program to get the Fibonacci series.\n",
    "(0,1,1,2,3,5,8,13,21……………..)\n"
   ]
  },
  {
   "cell_type": "code",
   "execution_count": null,
   "id": "980fe9e6-2101-49c2-abe1-f0242fc927c7",
   "metadata": {},
   "outputs": [],
   "source": [
    "Example 14: Python program to find the factorial of a given number.\n"
   ]
  },
  {
   "cell_type": "code",
   "execution_count": null,
   "id": "174b0267-9815-448f-a239-050e84e98dfb",
   "metadata": {},
   "outputs": [],
   "source": [
    "Example 15: Python program that accepts a string and calculates the number of\n",
    "digits and letters.\n"
   ]
  },
  {
   "cell_type": "code",
   "execution_count": null,
   "id": "3d6173c4-990e-4b7b-9494-6b95323ae712",
   "metadata": {},
   "outputs": [],
   "source": [
    "Example 16: Write a Python program that iterates the integers from 1 to 25.\n"
   ]
  },
  {
   "cell_type": "code",
   "execution_count": null,
   "id": "5f9a38a0-999f-4331-b0ca-07f44db36604",
   "metadata": {},
   "outputs": [],
   "source": [
    "Example 17: Python program to check the validity of password input by users.\n"
   ]
  },
  {
   "cell_type": "code",
   "execution_count": null,
   "id": "6d253bc2-fe31-4eab-8496-92e83b01fedb",
   "metadata": {},
   "outputs": [],
   "source": [
    "Example 18: Python program to convert the month name to a number of days.\n"
   ]
  },
  {
   "cell_type": "code",
   "execution_count": null,
   "id": "6c17eccc-6b05-4c02-ba26-80db25c9bb87",
   "metadata": {},
   "outputs": [],
   "source": []
  },
  {
   "cell_type": "code",
   "execution_count": null,
   "id": "4794c1fd-65f9-4692-a5b0-5b200dd1663e",
   "metadata": {},
   "outputs": [],
   "source": []
  },
  {
   "cell_type": "code",
   "execution_count": null,
   "id": "a32c89b3-c295-4c38-9eba-c99e5abc03ea",
   "metadata": {},
   "outputs": [],
   "source": []
  },
  {
   "cell_type": "code",
   "execution_count": null,
   "id": "937a731d-bf7e-436c-b4e0-b63b8bb59c44",
   "metadata": {},
   "outputs": [],
   "source": []
  }
 ],
 "metadata": {
  "kernelspec": {
   "display_name": "Python [conda env:base] *",
   "language": "python",
   "name": "conda-base-py"
  },
  "language_info": {
   "codemirror_mode": {
    "name": "ipython",
    "version": 3
   },
   "file_extension": ".py",
   "mimetype": "text/x-python",
   "name": "python",
   "nbconvert_exporter": "python",
   "pygments_lexer": "ipython3",
   "version": "3.12.7"
  }
 },
 "nbformat": 4,
 "nbformat_minor": 5
}
