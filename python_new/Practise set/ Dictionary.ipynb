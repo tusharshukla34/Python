{
 "cells": [
  {
   "cell_type": "code",
   "execution_count": null,
   "id": "bb427e6a-47ca-43da-bd22-e0f8fdb1c69b",
   "metadata": {},
   "outputs": [],
   "source": [
    "1. Create a dictionary of 5 students with roll numbers as keys and names as values.\n",
    "2. Access the value of a dictionary using a key.\n",
    "3. Update a value in a dictionary.\n",
    "4. Delete a key-value pair from a dictionary.\n",
    "5. Write a program to check if a key exists in a dictionary.\n",
    "6. Iterate through a dictionary and print keys and values.\n",
    "7. Create a dictionary with squares of numbers 1–5.\n",
    "8. Merge two dictionaries.\n",
    "9. Write a program to get the length of a dictionary.\n",
    "10. Write a program to clear all elements of a dictionary.\n",
    "11. Write a program to find the key with maximum value in a dictionary.\n",
    "12. Write a program to invert a dictionary (swap keys & values).\n",
    "13. Write a program to count occurrences of characters in a string using dictionary.\n",
    "14. Write a program to sort a dictionary by its values.\n",
    "15. Write a program to combine two dictionaries by adding values for common keys.\n",
    "16. Write a program to check if two dictionaries are equal.\n",
    "17. Write a program to extract unique values from a list of dictionaries.\n",
    "18. Write a program to remove keys with empty values.\n",
    "19. Write a program to find common keys in two dictionaries.\n",
    "20. Write a program to convert two lists into a dictionary.\n"
   ]
  }
 ],
 "metadata": {
  "kernelspec": {
   "display_name": "Python [conda env:base] *",
   "language": "python",
   "name": "conda-base-py"
  },
  "language_info": {
   "codemirror_mode": {
    "name": "ipython",
    "version": 3
   },
   "file_extension": ".py",
   "mimetype": "text/x-python",
   "name": "python",
   "nbconvert_exporter": "python",
   "pygments_lexer": "ipython3",
   "version": "3.12.7"
  }
 },
 "nbformat": 4,
 "nbformat_minor": 5
}
