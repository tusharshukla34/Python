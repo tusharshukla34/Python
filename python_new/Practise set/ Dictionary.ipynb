{
 "cells": [
  {
   "cell_type": "code",
   "execution_count": 2,
   "id": "bb427e6a-47ca-43da-bd22-e0f8fdb1c69b",
   "metadata": {},
   "outputs": [
    {
     "name": "stdout",
     "output_type": "stream",
     "text": [
      "{101: 'Tushar', 102: 'Abhinav', 103: 'vishal', 104: 'tanvi'}\n"
     ]
    }
   ],
   "source": [
    "# 1. Create a dictionary of 5 students with roll numbers as keys and names as values.\n",
    "\n",
    "d = {101:\"Tushar\",102:\"Abhinav\",103:\"vishal\",104:\"tanvi\"}\n",
    "print(d)"
   ]
  },
  {
   "cell_type": "code",
   "execution_count": 7,
   "id": "57de0319-667d-4751-bedb-9234e315544c",
   "metadata": {},
   "outputs": [
    {
     "name": "stdout",
     "output_type": "stream",
     "text": [
      "Tushar\n"
     ]
    }
   ],
   "source": [
    "# 2. Access the value of a dictionary using a key.\n",
    "\n",
    "print(d[101])"
   ]
  },
  {
   "cell_type": "code",
   "execution_count": null,
   "id": "88bf4be0-7ef1-4a86-9703-afc7984ae266",
   "metadata": {},
   "outputs": [],
   "source": [
    "3. Update a value in a dictionary.\n",
    "                                                    "
   ]
  },
  {
   "cell_type": "code",
   "execution_count": null,
   "id": "c5c1af02-23fd-4ac1-90c9-2c5f0d89e3e8",
   "metadata": {},
   "outputs": [],
   "source": [
    "4. Delete a key-value pair from a dictionary.\n"
   ]
  },
  {
   "cell_type": "code",
   "execution_count": null,
   "id": "9a913702-0465-4e3b-a34b-d9cba91d54e9",
   "metadata": {},
   "outputs": [],
   "source": [
    "5. Write a program to check if a key exists in a dictionary.\n"
   ]
  },
  {
   "cell_type": "code",
   "execution_count": null,
   "id": "dae78191-f0b0-4725-8a60-35cbbb225e70",
   "metadata": {},
   "outputs": [],
   "source": [
    "6. Iterate through a dictionary and print keys and values.\n"
   ]
  },
  {
   "cell_type": "code",
   "execution_count": null,
   "id": "f51b6f33-123d-4692-832f-5529793495e9",
   "metadata": {},
   "outputs": [],
   "source": [
    "7. Create a dictionary with squares of numbers 1–5.\n"
   ]
  },
  {
   "cell_type": "code",
   "execution_count": null,
   "id": "3e9efc47-9829-4762-8749-65609638fa6e",
   "metadata": {},
   "outputs": [],
   "source": [
    "8. Merge two dictionaries.\n"
   ]
  },
  {
   "cell_type": "code",
   "execution_count": null,
   "id": "5d5fa6a9-8ed6-412d-b871-6c0c23a849d0",
   "metadata": {},
   "outputs": [],
   "source": [
    "9. Write a program to get the length of a dictionary.\n"
   ]
  },
  {
   "cell_type": "code",
   "execution_count": null,
   "id": "4054fff3-020e-4b23-ab7b-574fb44ffbff",
   "metadata": {},
   "outputs": [],
   "source": [
    "10. Write a program to clear all elements of a dictionary.\n"
   ]
  },
  {
   "cell_type": "code",
   "execution_count": null,
   "id": "eea9eca7-6661-40d7-a99c-9baed1ffecad",
   "metadata": {},
   "outputs": [],
   "source": [
    "11. Write a program to find the key with maximum value in a dictionary.\n"
   ]
  },
  {
   "cell_type": "code",
   "execution_count": null,
   "id": "eec98764-50cf-4299-bbbc-3ca97c2afeb7",
   "metadata": {},
   "outputs": [],
   "source": [
    "12. Write a program to invert a dictionary (swap keys & values).\n"
   ]
  },
  {
   "cell_type": "code",
   "execution_count": null,
   "id": "eb640acb-9e2d-4fe4-b4fb-5288888eff5e",
   "metadata": {},
   "outputs": [],
   "source": [
    "13. Write a program to count occurrences of characters in a string using dictionary.\n"
   ]
  },
  {
   "cell_type": "code",
   "execution_count": null,
   "id": "dd879c34-5642-4c32-8ce4-cac9468c7945",
   "metadata": {},
   "outputs": [],
   "source": [
    "14. Write a program to sort a dictionary by its values.\n"
   ]
  },
  {
   "cell_type": "code",
   "execution_count": null,
   "id": "629eeef0-74f8-401d-ad79-35695f9cbec4",
   "metadata": {},
   "outputs": [],
   "source": [
    "15. Write a program to combine two dictionaries by adding values for common keys.\n"
   ]
  },
  {
   "cell_type": "code",
   "execution_count": null,
   "id": "4cdd1eb2-ddcb-42dc-b35a-4df39eb54a3f",
   "metadata": {},
   "outputs": [],
   "source": [
    "16. Write a program to check if two dictionaries are equal.\n"
   ]
  },
  {
   "cell_type": "code",
   "execution_count": null,
   "id": "215b95e6-8aa5-45b5-a408-417e32375ee2",
   "metadata": {},
   "outputs": [],
   "source": [
    "17. Write a program to extract unique values from a list of dictionaries.\n"
   ]
  },
  {
   "cell_type": "code",
   "execution_count": null,
   "id": "1e37174e-23f9-4ceb-8d85-2ea342328387",
   "metadata": {},
   "outputs": [],
   "source": [
    "18. Write a program to remove keys with empty values.\n"
   ]
  },
  {
   "cell_type": "code",
   "execution_count": null,
   "id": "046fc770-0ced-4044-b7e9-7386c6b2b8d8",
   "metadata": {},
   "outputs": [],
   "source": [
    "19. Write a program to find common keys in two dictionaries.\n"
   ]
  },
  {
   "cell_type": "code",
   "execution_count": null,
   "id": "7d235ca3-a05b-4b3c-9716-705e27048400",
   "metadata": {},
   "outputs": [],
   "source": [
    "20. Write a program to convert two lists into a dictionary.\n"
   ]
  },
  {
   "cell_type": "code",
   "execution_count": null,
   "id": "82500632-e76b-4c42-82df-c86697c2c13c",
   "metadata": {},
   "outputs": [],
   "source": [
    "21. Write a nested dictionary for a student with subjects and marks.\n"
   ]
  },
  {
   "cell_type": "code",
   "execution_count": null,
   "id": "53ba93b4-5de4-4c7f-b5f6-61b5ed8c145b",
   "metadata": {},
   "outputs": [],
   "source": [
    "22. Write a program to access values from a nested dictionary.\n"
   ]
  },
  {
   "cell_type": "code",
   "execution_count": null,
   "id": "4d769218-a923-42b2-86c2-db5172342ab3",
   "metadata": {},
   "outputs": [],
   "source": [
    "23. Write a program to flatten a nested dictionary.\n"
   ]
  },
  {
   "cell_type": "code",
   "execution_count": null,
   "id": "57bfcee7-44a5-4877-93d1-9a4eda0bd71a",
   "metadata": {},
   "outputs": [],
   "source": [
    "24. Write a program to group dictionary items by a key.\n"
   ]
  },
  {
   "cell_type": "code",
   "execution_count": null,
   "id": "0cf1ac4f-bb81-45a6-911f-d457b274869f",
   "metadata": {},
   "outputs": [],
   "source": [
    "25. Write a program to create a dictionary from a string with word frequencies.\n"
   ]
  },
  {
   "cell_type": "code",
   "execution_count": null,
   "id": "be3a1142-9d96-47a0-ad1a-005b697a9c88",
   "metadata": {},
   "outputs": [],
   "source": [
    "26. Write a program to merge multiple dictionaries into one.\n"
   ]
  },
  {
   "cell_type": "code",
   "execution_count": null,
   "id": "763dc71e-2f9f-47de-9fee-028c0313d2b2",
   "metadata": {},
   "outputs": [],
   "source": [
    "27. Write a program to sort dictionary by keys alphabetically.\n"
   ]
  },
  {
   "cell_type": "code",
   "execution_count": null,
   "id": "1663b63b-5bae-46e4-bac6-4e069baba9b6",
   "metadata": {},
   "outputs": [],
   "source": [
    "28. Write a program to convert dictionary to JSON string and back.\n"
   ]
  },
  {
   "cell_type": "code",
   "execution_count": null,
   "id": "9a6fa8ee-7ce6-447b-9d26-dc3713777711",
   "metadata": {},
   "outputs": [],
   "source": [
    "29. Write a program to filter dictionary items based on a condition (e.g., values > 50).\n"
   ]
  },
  {
   "cell_type": "code",
   "execution_count": null,
   "id": "d80fe55f-76da-4646-a1f8-949284e00231",
   "metadata": {},
   "outputs": [],
   "source": [
    "30. Write a program to create a dictionary comprehension for cubes of 1–10.\n"
   ]
  }
 ],
 "metadata": {
  "kernelspec": {
   "display_name": "Python [conda env:base] *",
   "language": "python",
   "name": "conda-base-py"
  },
  "language_info": {
   "codemirror_mode": {
    "name": "ipython",
    "version": 3
   },
   "file_extension": ".py",
   "mimetype": "text/x-python",
   "name": "python",
   "nbconvert_exporter": "python",
   "pygments_lexer": "ipython3",
   "version": "3.12.7"
  }
 },
 "nbformat": 4,
 "nbformat_minor": 5
}
