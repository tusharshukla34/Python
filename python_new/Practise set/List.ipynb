{
 "cells": [
  {
   "cell_type": "code",
   "execution_count": 2,
   "id": "cbaf75ab-240a-4bfe-97d7-9224d8d8ffbe",
   "metadata": {},
   "outputs": [
    {
     "name": "stdout",
     "output_type": "stream",
     "text": [
      "[1, 2, 3, 4, 5, 6, 7, 8, 9, 10]\n",
      "<class 'list'>\n"
     ]
    }
   ],
   "source": [
    "# 1. Create a list of 10 numbers.\n",
    "\n"
   ]
  },
  {
   "cell_type": "code",
   "execution_count": 5,
   "id": "f4e8c511-7376-442b-a382-8df7278a47bc",
   "metadata": {},
   "outputs": [
    {
     "name": "stdout",
     "output_type": "stream",
     "text": [
      "1\n",
      "10\n"
     ]
    }
   ],
   "source": [
    "# 2. Access the first and last element of a list.\n",
    "\n"
   ]
  },
  {
   "cell_type": "code",
   "execution_count": null,
   "id": "b14d874f-ed8f-4c3a-9a70-abe88272730a",
   "metadata": {},
   "outputs": [],
   "source": [
    "3. Append an element to a list.\n"
   ]
  },
  {
   "cell_type": "code",
   "execution_count": null,
   "id": "59875b9f-0b09-470c-a7c9-6d0286c19ab0",
   "metadata": {},
   "outputs": [],
   "source": [
    "4. Insert an element at a given index.\n"
   ]
  },
  {
   "cell_type": "code",
   "execution_count": null,
   "id": "26f0e90d-81ef-4c52-aecc-add4b7a43091",
   "metadata": {},
   "outputs": [],
   "source": [
    "5. Remove an element from a list.\n"
   ]
  },
  {
   "cell_type": "code",
   "execution_count": null,
   "id": "ed2ebbfc-8329-4e86-9849-e61f3714ed0b",
   "metadata": {},
   "outputs": [],
   "source": [
    "6. Write a program to find length of a list.\n"
   ]
  },
  {
   "cell_type": "code",
   "execution_count": null,
   "id": "a9c65672-c8d9-4f59-84f6-716b4b78bf30",
   "metadata": {},
   "outputs": [],
   "source": [
    "7. Write a program to reverse a list.\n"
   ]
  },
  {
   "cell_type": "code",
   "execution_count": null,
   "id": "429df0b9-a516-4d15-83c8-404c5fb3b620",
   "metadata": {},
   "outputs": [],
   "source": [
    "8. Write a program to find maximum and minimum elements in a list.\n"
   ]
  },
  {
   "cell_type": "code",
   "execution_count": null,
   "id": "e4fe8ec8-b979-497b-8c3e-8b1e1f84d9db",
   "metadata": {},
   "outputs": [],
   "source": [
    "9. Write a program to count occurrences of a number in a list.\n"
   ]
  },
  {
   "cell_type": "code",
   "execution_count": null,
   "id": "90cbb16b-01c7-4a88-898d-946a18ce5c1d",
   "metadata": {},
   "outputs": [],
   "source": [
    "10. Write a program to check if an element exists in a list.\n"
   ]
  },
  {
   "cell_type": "code",
   "execution_count": null,
   "id": "f282ad5b-52c7-4cf2-9052-27704b5b896b",
   "metadata": {},
   "outputs": [],
   "source": [
    "11. Write a program to remove duplicates from a list.\n"
   ]
  },
  {
   "cell_type": "code",
   "execution_count": null,
   "id": "d591ff6f-3684-4ff5-9c11-bd096ad68b76",
   "metadata": {},
   "outputs": [],
   "source": [
    "12. Write a program to sort a list without using sort().\n"
   ]
  },
  {
   "cell_type": "code",
   "execution_count": null,
   "id": "546c3436-0ead-41a0-8d74-5f2a0b4398f6",
   "metadata": {},
   "outputs": [],
   "source": [
    "13. Write a program to split a list into two halves.\n"
   ]
  },
  {
   "cell_type": "code",
   "execution_count": null,
   "id": "d4632008-29e0-4cfb-9b6e-d30a5328b222",
   "metadata": {},
   "outputs": [],
   "source": [
    "14. Write a program to merge two lists into one.\n"
   ]
  },
  {
   "cell_type": "code",
   "execution_count": null,
   "id": "fbbfd7ee-b04b-41be-83c0-606094009d99",
   "metadata": {},
   "outputs": [],
   "source": [
    "15. Write a program to find common elements between two lists.\n"
   ]
  },
  {
   "cell_type": "code",
   "execution_count": null,
   "id": "9d485fc2-85e9-4d69-833f-532285cba9c9",
   "metadata": {},
   "outputs": [],
   "source": [
    "16. Write a program to create a list of squares using list comprehension.\n"
   ]
  },
  {
   "cell_type": "code",
   "execution_count": null,
   "id": "d56bfa0d-4336-4aa4-a38d-4e40a5a7c47a",
   "metadata": {},
   "outputs": [],
   "source": [
    "17. Write a program to rotate a list by n positions.\n"
   ]
  },
  {
   "cell_type": "code",
   "execution_count": null,
   "id": "5e129bcd-580f-42a7-87cf-c74375799a8e",
   "metadata": {},
   "outputs": [],
   "source": [
    "18. Write a program to find the second largest element in a list.\n"
   ]
  },
  {
   "cell_type": "code",
   "execution_count": null,
   "id": "a33e87d7-3c6c-46dd-bd05-828c3673940a",
   "metadata": {},
   "outputs": [],
   "source": [
    "19. Write a program to flatten a 2D list.\n"
   ]
  },
  {
   "cell_type": "code",
   "execution_count": null,
   "id": "a3d79bf3-4634-4029-86ce-94d2b68e0ecc",
   "metadata": {},
   "outputs": [],
   "source": [
    "20. Write a program to remove all negative numbers from a list\n"
   ]
  },
  {
   "cell_type": "code",
   "execution_count": null,
   "id": "276ea4b2-6cc5-4bd3-b805-84837c68f6de",
   "metadata": {},
   "outputs": [],
   "source": [
    "\n",
    "21. Write a nested dictionary for a student with subjects and marks.\n"
   ]
  },
  {
   "cell_type": "code",
   "execution_count": null,
   "id": "da2809df-daf1-4412-9dae-d606352420a1",
   "metadata": {},
   "outputs": [],
   "source": [
    "22. Write a program to access values from a nested dictionary.\n"
   ]
  },
  {
   "cell_type": "code",
   "execution_count": null,
   "id": "aa6e6dd7-0d94-4a89-b659-09b2724d70b0",
   "metadata": {},
   "outputs": [],
   "source": [
    "23. Write a program to flatten a nested dictionary.\n"
   ]
  },
  {
   "cell_type": "code",
   "execution_count": null,
   "id": "9e80fc46-e000-4017-a440-5b7202b9f432",
   "metadata": {},
   "outputs": [],
   "source": [
    "24. Write a program to group dictionary items by a key.\n"
   ]
  },
  {
   "cell_type": "code",
   "execution_count": null,
   "id": "19362169-ff67-47b6-8cc1-c7ce93a78ccf",
   "metadata": {},
   "outputs": [],
   "source": [
    "25. Write a program to create a dictionary from a string with word frequencies.\n",
    "\n",
    "                                                        "
   ]
  },
  {
   "cell_type": "code",
   "execution_count": null,
   "id": "83bb5665-babb-47df-99c0-198313030171",
   "metadata": {},
   "outputs": [],
   "source": [
    "26. Write a program to merge multiple dictionaries into one.\n"
   ]
  },
  {
   "cell_type": "code",
   "execution_count": null,
   "id": "eafaffbc-ff04-4d44-8cdf-a8a14c662841",
   "metadata": {},
   "outputs": [],
   "source": [
    "27. Write a program to sort dictionary by keys alphabetically.\n"
   ]
  },
  {
   "cell_type": "code",
   "execution_count": null,
   "id": "e54f1149-f956-4802-a315-a107791ee82f",
   "metadata": {},
   "outputs": [],
   "source": [
    "28. Write a program to convert dictionary to JSON string and back.\n"
   ]
  },
  {
   "cell_type": "code",
   "execution_count": null,
   "id": "70df0dab-a53c-4878-ad05-43769625e131",
   "metadata": {},
   "outputs": [],
   "source": [
    "29. Write a program to filter dictionary items based on a condition (e.g., values > 50).\n"
   ]
  },
  {
   "cell_type": "code",
   "execution_count": null,
   "id": "280275c7-a967-49a7-9145-abb35208cac5",
   "metadata": {},
   "outputs": [],
   "source": [
    "30. Write a program to create a dictionary comprehension for cubes of 1–10."
   ]
  }
 ],
 "metadata": {
  "kernelspec": {
   "display_name": "Python [conda env:base] *",
   "language": "python",
   "name": "conda-base-py"
  },
  "language_info": {
   "codemirror_mode": {
    "name": "ipython",
    "version": 3
   },
   "file_extension": ".py",
   "mimetype": "text/x-python",
   "name": "python",
   "nbconvert_exporter": "python",
   "pygments_lexer": "ipython3",
   "version": "3.12.7"
  }
 },
 "nbformat": 4,
 "nbformat_minor": 5
}
