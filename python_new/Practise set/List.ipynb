{
 "cells": [
  {
   "cell_type": "code",
   "execution_count": 2,
   "id": "cbaf75ab-240a-4bfe-97d7-9224d8d8ffbe",
   "metadata": {},
   "outputs": [
    {
     "name": "stdout",
     "output_type": "stream",
     "text": [
      "[1, 2, 3, 4, 5, 6, 7, 8, 9, 10]\n",
      "<class 'list'>\n"
     ]
    }
   ],
   "source": [
    "# 1. Create a list of 10 numbers.\n",
    "\n",
    "n = [1,2,3,4,5,6,7,8,9,10]\n",
    "print(n)\n",
    "print(type(n))"
   ]
  },
  {
   "cell_type": "code",
   "execution_count": 5,
   "id": "f4e8c511-7376-442b-a382-8df7278a47bc",
   "metadata": {},
   "outputs": [
    {
     "name": "stdout",
     "output_type": "stream",
     "text": [
      "1\n",
      "10\n"
     ]
    }
   ],
   "source": [
    "# 2. Access the first and last element of a list.\n",
    "\n",
    "print(n[0])\n",
    "print(n[-1])"
   ]
  },
  {
   "cell_type": "code",
   "execution_count": null,
   "id": "b14d874f-ed8f-4c3a-9a70-abe88272730a",
   "metadata": {},
   "outputs": [],
   "source": [
    "3. Append an element to a list.\n",
    "4. Insert an element at a given index.\n",
    "5. Remove an element from a list.\n",
    "6. Write a program to find length of a list.\n",
    "7. Write a program to reverse a list.\n",
    "8. Write a program to find maximum and minimum elements in a list.\n",
    "9. Write a program to count occurrences of a number in a list.\n",
    "10. Write a program to check if an element exists in a list.\n",
    "11. Write a program to remove duplicates from a list.\n",
    "12. Write a program to sort a list without using sort().\n",
    "13. Write a program to split a list into two halves.\n",
    "14. Write a program to merge two lists into one.\n",
    "15. Write a program to find common elements between two lists.\n",
    "16. Write a program to create a list of squares using list comprehension.\n",
    "17. Write a program to rotate a list by n positions.\n",
    "18. Write a program to find the second largest element in a list.\n",
    "19. Write a program to flatten a 2D list.\n",
    "20. Write a program to remove all negative numbers from a list\n",
    "21. Write a program to implement bubble sort on a list.\n",
    "22. Write a program to implement binary search on a sorted list.\n",
    "23. Write a program to find sublists that sum to a target value.\n",
    "24. Write a program to find all permutations of a list.\n",
    "25. Write a program to rotate a matrix (list of lists) by 90 degrees.\n",
    "26. Write a program to implement quicksort on a list.\n",
    "27. Write a program to zip two lists into a dictionary.\n",
    "28. Write a program to find the longest increasing subsequence in a list.\n",
    "29. Write a program to chunk a list into smaller lists of size n.\n",
    "30. Write a program to generate Pascal’s Triangle using lists.\n",
    "21. Write a nested dictionary for a student with subjects and marks.\n",
    "22. Write a program to access values from a nested dictionary.\n",
    "23. Write a program to flatten a nested dictionary.\n",
    "24. Write a program to group dictionary items by a key.\n",
    "25. Write a program to create a dictionary from a string with word frequencies.\n",
    "26. Write a program to merge multiple dictionaries into one.\n",
    "27. Write a program to sort dictionary by keys alphabetically.\n",
    "28. Write a program to convert dictionary to JSON string and back.\n",
    "29. Write a program to filter dictionary items based on a condition (e.g., values > 50).\n",
    "30. Write a program to create a dictionary comprehension for cubes of 1–10."
   ]
  },
  {
   "cell_type": "code",
   "execution_count": null,
   "id": "59875b9f-0b09-470c-a7c9-6d0286c19ab0",
   "metadata": {},
   "outputs": [],
   "source": []
  },
  {
   "cell_type": "code",
   "execution_count": null,
   "id": "26f0e90d-81ef-4c52-aecc-add4b7a43091",
   "metadata": {},
   "outputs": [],
   "source": []
  },
  {
   "cell_type": "code",
   "execution_count": null,
   "id": "ed2ebbfc-8329-4e86-9849-e61f3714ed0b",
   "metadata": {},
   "outputs": [],
   "source": []
  },
  {
   "cell_type": "code",
   "execution_count": null,
   "id": "a9c65672-c8d9-4f59-84f6-716b4b78bf30",
   "metadata": {},
   "outputs": [],
   "source": []
  },
  {
   "cell_type": "code",
   "execution_count": null,
   "id": "429df0b9-a516-4d15-83c8-404c5fb3b620",
   "metadata": {},
   "outputs": [],
   "source": []
  },
  {
   "cell_type": "code",
   "execution_count": null,
   "id": "e4fe8ec8-b979-497b-8c3e-8b1e1f84d9db",
   "metadata": {},
   "outputs": [],
   "source": []
  },
  {
   "cell_type": "code",
   "execution_count": null,
   "id": "90cbb16b-01c7-4a88-898d-946a18ce5c1d",
   "metadata": {},
   "outputs": [],
   "source": []
  },
  {
   "cell_type": "code",
   "execution_count": null,
   "id": "f282ad5b-52c7-4cf2-9052-27704b5b896b",
   "metadata": {},
   "outputs": [],
   "source": []
  },
  {
   "cell_type": "code",
   "execution_count": null,
   "id": "d591ff6f-3684-4ff5-9c11-bd096ad68b76",
   "metadata": {},
   "outputs": [],
   "source": []
  },
  {
   "cell_type": "code",
   "execution_count": null,
   "id": "546c3436-0ead-41a0-8d74-5f2a0b4398f6",
   "metadata": {},
   "outputs": [],
   "source": []
  },
  {
   "cell_type": "code",
   "execution_count": null,
   "id": "d4632008-29e0-4cfb-9b6e-d30a5328b222",
   "metadata": {},
   "outputs": [],
   "source": []
  }
 ],
 "metadata": {
  "kernelspec": {
   "display_name": "Python [conda env:base] *",
   "language": "python",
   "name": "conda-base-py"
  },
  "language_info": {
   "codemirror_mode": {
    "name": "ipython",
    "version": 3
   },
   "file_extension": ".py",
   "mimetype": "text/x-python",
   "name": "python",
   "nbconvert_exporter": "python",
   "pygments_lexer": "ipython3",
   "version": "3.12.7"
  }
 },
 "nbformat": 4,
 "nbformat_minor": 5
}
