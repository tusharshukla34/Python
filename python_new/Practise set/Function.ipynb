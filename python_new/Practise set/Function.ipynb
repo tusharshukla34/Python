{
 "cells": [
  {
   "cell_type": "code",
   "execution_count": 2,
   "id": "fe542a9d-ca27-4328-8135-7f4c45cdf2e8",
   "metadata": {},
   "outputs": [],
   "source": [
    "# 1. Write a function that prints 'Hello, World!'.\n",
    "\n",
    "def greet():\n",
    "    a = \"Hello World\"\n",
    "    return a"
   ]
  },
  {
   "cell_type": "code",
   "execution_count": 3,
   "id": "b8090a1a-b8f9-4e3c-bb32-8c8d497069f9",
   "metadata": {},
   "outputs": [
    {
     "data": {
      "text/plain": [
       "'Hello World'"
      ]
     },
     "execution_count": 3,
     "metadata": {},
     "output_type": "execute_result"
    }
   ],
   "source": [
    "greet()"
   ]
  },
  {
   "cell_type": "code",
   "execution_count": 6,
   "id": "b8575f59-e693-4673-9103-4fb64009fdc5",
   "metadata": {},
   "outputs": [],
   "source": [
    "# 2. Write a function that takes a number and returns its square.\n",
    "\n",
    "def sqr(a):\n",
    "    b = a**2\n",
    "    return b"
   ]
  },
  {
   "cell_type": "code",
   "execution_count": 7,
   "id": "5d7d046f-48a4-47f8-8859-e296aaca4963",
   "metadata": {},
   "outputs": [
    {
     "data": {
      "text/plain": [
       "16"
      ]
     },
     "execution_count": 7,
     "metadata": {},
     "output_type": "execute_result"
    }
   ],
   "source": [
    "sqr(4)"
   ]
  },
  {
   "cell_type": "code",
   "execution_count": 1,
   "id": "1974043c-e951-42d4-91a7-0ddb5ebd6896",
   "metadata": {},
   "outputs": [],
   "source": [
    "# 3. Write a function that returns the sum of two numbers.\n",
    "\n",
    "def sum(a,b):\n",
    "    c = a+b\n",
    "    return c"
   ]
  },
  {
   "cell_type": "code",
   "execution_count": 2,
   "id": "4b3133c4-016b-4f48-bad3-8ed028bf6348",
   "metadata": {},
   "outputs": [
    {
     "data": {
      "text/plain": [
       "57"
      ]
     },
     "execution_count": 2,
     "metadata": {},
     "output_type": "execute_result"
    }
   ],
   "source": [
    "sum(12,45)"
   ]
  },
  {
   "cell_type": "code",
   "execution_count": 10,
   "id": "e3863ea9-4e5f-45e1-93b6-6598ecf4c0f9",
   "metadata": {},
   "outputs": [],
   "source": [
    "# 4. Write a function that takes a string and returns its length.\n",
    "\n",
    "def len(str):\n",
    "    count = 0\n",
    "    for i in str:\n",
    "        count = count + 1\n",
    "    return count    "
   ]
  },
  {
   "cell_type": "code",
   "execution_count": 9,
   "id": "d65c9baa-9b7b-4d0a-991a-bf02fba70e70",
   "metadata": {},
   "outputs": [
    {
     "data": {
      "text/plain": [
       "6"
      ]
     },
     "execution_count": 9,
     "metadata": {},
     "output_type": "execute_result"
    }
   ],
   "source": [
    "len('tushar')"
   ]
  },
  {
   "cell_type": "code",
   "execution_count": 8,
   "id": "a92e08bf-a786-418d-8c6e-35d889d084cf",
   "metadata": {},
   "outputs": [],
   "source": [
    "# 5. Write a function that checks if a number is even or odd.\n",
    "\n",
    "def check(n):\n",
    "    true = \"even\"\n",
    "    false = \"odd\"\n",
    "    \n",
    "    if n % 2 == 0:\n",
    "        return true\n",
    "    else:\n",
    "        return false"
   ]
  },
  {
   "cell_type": "code",
   "execution_count": 10,
   "id": "94145950-3df5-42a4-b718-48545ec4b10a",
   "metadata": {},
   "outputs": [
    {
     "data": {
      "text/plain": [
       "'even'"
      ]
     },
     "execution_count": 10,
     "metadata": {},
     "output_type": "execute_result"
    }
   ],
   "source": [
    "check(2)"
   ]
  },
  {
   "cell_type": "code",
   "execution_count": 29,
   "id": "6e2c3b90-0017-482a-969e-cdd59e09c0bd",
   "metadata": {},
   "outputs": [],
   "source": [
    "# 6. Write a function that takes a list and returns the maximum number.\n",
    "\n",
    "def max(a):\n",
    "    maxno = a[0]\n",
    "    for i in a:\n",
    "        if i > maxno:\n",
    "            maxno = i\n",
    "    return maxno        "
   ]
  },
  {
   "cell_type": "code",
   "execution_count": 30,
   "id": "eab4ead8-f754-47f0-95f9-555c4a6309d0",
   "metadata": {},
   "outputs": [
    {
     "data": {
      "text/plain": [
       "96"
      ]
     },
     "execution_count": 30,
     "metadata": {},
     "output_type": "execute_result"
    }
   ],
   "source": [
    "lst = [1,56,4,5,89,96,56]\n",
    "max(lst)"
   ]
  },
  {
   "cell_type": "code",
   "execution_count": 1,
   "id": "a1d42c63-377c-49d6-a5b3-d6e3a2d1d2a2",
   "metadata": {},
   "outputs": [],
   "source": [
    "# 7. Write a function that reverses a string.\n",
    "\n",
    "def rev(a):\n",
    "    revv = a[::-1]\n",
    "    return revv"
   ]
  },
  {
   "cell_type": "code",
   "execution_count": 7,
   "id": "07914972-0112-47f7-b670-9f13cd692d19",
   "metadata": {},
   "outputs": [
    {
     "name": "stdout",
     "output_type": "stream",
     "text": [
      "54321\n",
      "rahsut\n"
     ]
    }
   ],
   "source": [
    "print(rev(\"12345\"))\n",
    "print(rev(\"tushar\"))"
   ]
  },
  {
   "cell_type": "code",
   "execution_count": 8,
   "id": "1f58e99e-c7ea-4f4b-89fd-2564f20e88f7",
   "metadata": {},
   "outputs": [],
   "source": [
    "# 8. Write a function that takes two numbers and returns the greater one.\n",
    "\n",
    "def greater(a,b):\n",
    "    if a > b:\n",
    "        return a\n",
    "    else:\n",
    "        return b"
   ]
  },
  {
   "cell_type": "code",
   "execution_count": 9,
   "id": "4d1edecf-6aad-464d-bcb9-c8d5ddab6b71",
   "metadata": {},
   "outputs": [
    {
     "data": {
      "text/plain": [
       "56"
      ]
     },
     "execution_count": 9,
     "metadata": {},
     "output_type": "execute_result"
    }
   ],
   "source": [
    "greater(34,56)"
   ]
  },
  {
   "cell_type": "code",
   "execution_count": null,
   "id": "845f726f-e666-49c6-a518-2981c956d629",
   "metadata": {},
   "outputs": [],
   "source": [
    "9. Write a function that counts vowels in a string.\n"
   ]
  },
  {
   "cell_type": "code",
   "execution_count": null,
   "id": "c59e1f55-eb9b-485f-97b5-bc3e163360c5",
   "metadata": {},
   "outputs": [],
   "source": []
  },
  {
   "cell_type": "code",
   "execution_count": null,
   "id": "74d35aca-ec00-42a8-80be-81b525fd17ba",
   "metadata": {},
   "outputs": [],
   "source": [
    "10. Write a function that converts Celsius to Fahrenheit.\n"
   ]
  },
  {
   "cell_type": "code",
   "execution_count": null,
   "id": "39abd2d3-aee6-41ae-a9e9-f7adaf5ff955",
   "metadata": {},
   "outputs": [],
   "source": []
  },
  {
   "cell_type": "code",
   "execution_count": null,
   "id": "48e2d80e-d2e9-49e4-a6c4-f5f85ea49510",
   "metadata": {},
   "outputs": [],
   "source": [
    "11. Write a function that checks if a number is prime.\n"
   ]
  },
  {
   "cell_type": "code",
   "execution_count": null,
   "id": "36ff2330-9120-4c4a-831d-c01ac6e08412",
   "metadata": {},
   "outputs": [],
   "source": []
  },
  {
   "cell_type": "code",
   "execution_count": null,
   "id": "a7f76440-327a-4f2e-b774-c60745024789",
   "metadata": {},
   "outputs": [],
   "source": [
    "12. Write a function that takes a list and removes duplicates.\n"
   ]
  },
  {
   "cell_type": "code",
   "execution_count": null,
   "id": "58fcf658-529c-4df5-820b-8714731e156f",
   "metadata": {},
   "outputs": [],
   "source": []
  },
  {
   "cell_type": "code",
   "execution_count": null,
   "id": "c97f33b9-94df-418c-894c-5bf28abb2263",
   "metadata": {},
   "outputs": [],
   "source": [
    "13. Write a function that accepts variable-length arguments (*args) and returns their sum.\n"
   ]
  },
  {
   "cell_type": "code",
   "execution_count": null,
   "id": "17799777-8201-447b-a607-dfe20895bc67",
   "metadata": {},
   "outputs": [],
   "source": [
    "14. Write a function using **kwargs to accept student details (name, age, marks).\n"
   ]
  },
  {
   "cell_type": "code",
   "execution_count": null,
   "id": "2af8bf43-80b9-4ea0-b5d6-d5967dc90818",
   "metadata": {},
   "outputs": [],
   "source": [
    "15. Write a recursive function to calculate factorial.\n"
   ]
  },
  {
   "cell_type": "code",
   "execution_count": null,
   "id": "b3e2762d-f365-4343-af08-9914db0557ee",
   "metadata": {},
   "outputs": [],
   "source": [
    "16. Write a recursive function to generate Fibonacci sequence up to n terms.\n"
   ]
  },
  {
   "cell_type": "code",
   "execution_count": null,
   "id": "0c4075b2-985c-495e-844d-1d6a35979403",
   "metadata": {},
   "outputs": [],
   "source": [
    "17. Write a function that takes a string and returns it in title case (first letter capital).\n"
   ]
  },
  {
   "cell_type": "code",
   "execution_count": null,
   "id": "e8026b4e-7028-436c-95e8-945eb1c122cc",
   "metadata": {},
   "outputs": [],
   "source": [
    "18. Write a function that takes a list and returns only even numbers.\n"
   ]
  },
  {
   "cell_type": "code",
   "execution_count": null,
   "id": "cab132e1-091c-4d75-891f-dd7d39659905",
   "metadata": {},
   "outputs": [],
   "source": [
    "19. Write a function to check if a string is palindrome.\n"
   ]
  },
  {
   "cell_type": "code",
   "execution_count": null,
   "id": "082a8d0c-92ad-4e3a-999e-95c8451a2559",
   "metadata": {},
   "outputs": [],
   "source": [
    "20. Write a function that accepts another function as an argument and executes it\n"
   ]
  },
  {
   "cell_type": "code",
   "execution_count": null,
   "id": "a7c9fe2f-ab38-4b95-827d-7ba0c3c8a8fb",
   "metadata": {},
   "outputs": [],
   "source": [
    "21. Write a lambda function to find square of numbers in a list.\n"
   ]
  },
  {
   "cell_type": "code",
   "execution_count": null,
   "id": "4ea6e53f-9d0b-4939-914d-e8db86b56e94",
   "metadata": {},
   "outputs": [],
   "source": [
    "22. Write a higher-order function that returns a function to multiply by n.\n"
   ]
  },
  {
   "cell_type": "code",
   "execution_count": null,
   "id": "adc7c19f-4f99-49bc-b355-ca257b9dc6c5",
   "metadata": {},
   "outputs": [],
   "source": [
    "23. Write a decorator that prints the execution time of a function.\n"
   ]
  },
  {
   "cell_type": "code",
   "execution_count": null,
   "id": "004cff91-09dc-434d-bbde-3fb12f4781ba",
   "metadata": {},
   "outputs": [],
   "source": [
    "24. Write a recursive function to calculate GCD of two numbers.\n"
   ]
  },
  {
   "cell_type": "code",
   "execution_count": null,
   "id": "aa28c1f6-aaa7-404e-b8b9-634a9e3f0396",
   "metadata": {},
   "outputs": [],
   "source": [
    "25. Write a function that returns the nth Fibonacci number using memoization.\n"
   ]
  },
  {
   "cell_type": "code",
   "execution_count": null,
   "id": "54b95bb1-2637-43d0-af58-fd124e908022",
   "metadata": {},
   "outputs": [],
   "source": [
    "26. Write a function that flattens a nested list.\n"
   ]
  },
  {
   "cell_type": "code",
   "execution_count": null,
   "id": "3f578528-9357-44a6-a8c2-ec9eb0a767ab",
   "metadata": {},
   "outputs": [],
   "source": [
    "27. Write a function that returns the frequency of each word in a text.\n"
   ]
  },
  {
   "cell_type": "code",
   "execution_count": null,
   "id": "c1fd54aa-7a76-410b-bfb3-1bf0eea0825d",
   "metadata": {},
   "outputs": [],
   "source": [
    "28. Write a function that implements binary search recursively.\n"
   ]
  },
  {
   "cell_type": "code",
   "execution_count": null,
   "id": "1b3a0819-5e4a-44ea-b359-35a860430b19",
   "metadata": {},
   "outputs": [],
   "source": [
    "29. Write a closure that stores a running total.\n"
   ]
  },
  {
   "cell_type": "code",
   "execution_count": null,
   "id": "8b2f51c4-66f7-487b-8795-c8436a871473",
   "metadata": {},
   "outputs": [],
   "source": [
    "30. Write a function that takes another function and applies it to each element of a list.\n"
   ]
  }
 ],
 "metadata": {
  "kernelspec": {
   "display_name": "Python [conda env:base] *",
   "language": "python",
   "name": "conda-base-py"
  },
  "language_info": {
   "codemirror_mode": {
    "name": "ipython",
    "version": 3
   },
   "file_extension": ".py",
   "mimetype": "text/x-python",
   "name": "python",
   "nbconvert_exporter": "python",
   "pygments_lexer": "ipython3",
   "version": "3.12.7"
  }
 },
 "nbformat": 4,
 "nbformat_minor": 5
}
