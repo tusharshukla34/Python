{
 "cells": [
  {
   "cell_type": "code",
   "execution_count": null,
   "id": "fe542a9d-ca27-4328-8135-7f4c45cdf2e8",
   "metadata": {},
   "outputs": [],
   "source": [
    "1. Write a function that prints 'Hello, World!'.\n",
    "2. Write a function that takes a number and returns its square.\n",
    "3. Write a function that returns the sum of two numbers.\n",
    "4. Write a function that takes a string and returns its length.\n",
    "5. Write a function that checks if a number is even or odd.\n",
    "6. Write a function that takes a list and returns the maximum number.\n",
    "7. Write a function that reverses a string.\n",
    "8. Write a function that takes two numbers and returns the greater one.\n",
    "9. Write a function that counts vowels in a string.\n",
    "10. Write a function that converts Celsius to Fahrenheit.\n",
    "11. Write a function that checks if a number is prime.\n",
    "12. Write a function that takes a list and removes duplicates.\n",
    "13. Write a function that accepts variable-length arguments (*args) and returns their sum.\n",
    "14. Write a function using **kwargs to accept student details (name, age, marks).\n",
    "15. Write a recursive function to calculate factorial.\n",
    "16. Write a recursive function to generate Fibonacci sequence up to n terms.\n",
    "17. Write a function that takes a string and returns it in title case (first letter capital).\n",
    "18. Write a function that takes a list and returns only even numbers.\n",
    "19. Write a function to check if a string is palindrome.\n",
    "20. Write a function that accepts another function as an argument and executes it\n",
    "21. Write a lambda function to find square of numbers in a list.\n",
    "22. Write a higher-order function that returns a function to multiply by n.\n",
    "23. Write a decorator that prints the execution time of a function.\n",
    "24. Write a recursive function to calculate GCD of two numbers.\n",
    "25. Write a function that returns the nth Fibonacci number using memoization.\n",
    "26. Write a function that flattens a nested list.\n",
    "27. Write a function that returns the frequency of each word in a text.\n",
    "28. Write a function that implements binary search recursively.\n",
    "29. Write a closure that stores a running total.\n",
    "30. Write a function that takes another function and applies it to each element of a list."
   ]
  }
 ],
 "metadata": {
  "kernelspec": {
   "display_name": "Python [conda env:base] *",
   "language": "python",
   "name": "conda-base-py"
  },
  "language_info": {
   "codemirror_mode": {
    "name": "ipython",
    "version": 3
   },
   "file_extension": ".py",
   "mimetype": "text/x-python",
   "name": "python",
   "nbconvert_exporter": "python",
   "pygments_lexer": "ipython3",
   "version": "3.12.7"
  }
 },
 "nbformat": 4,
 "nbformat_minor": 5
}
