{
 "cells": [
  {
   "cell_type": "code",
   "execution_count": null,
   "id": "4f4bc131-ecb9-4e9b-aae9-2b455e9a2791",
   "metadata": {},
   "outputs": [],
   "source": [
    "1. Print numbers from 1 to 10 using a while loop.\n"
   ]
  },
  {
   "cell_type": "code",
   "execution_count": null,
   "id": "647dbbf2-ebb1-467b-843d-cc1c2f26397f",
   "metadata": {},
   "outputs": [],
   "source": [
    "2 2. Print even numbers from 2 to 20 using a while loop.\n"
   ]
  },
  {
   "cell_type": "code",
   "execution_count": null,
   "id": "96e63e6d-2e29-40ac-ba36-0e0566f70694",
   "metadata": {},
   "outputs": [],
   "source": [
    "3 3. Print the squares of numbers from 1 to 5 using a while loop.\n"
   ]
  },
  {
   "cell_type": "code",
   "execution_count": null,
   "id": "76a27d54-431e-4df5-9ad2-b1dcda33559c",
   "metadata": {},
   "outputs": [],
   "source": [
    "4 4. Print each character of a given string using a while loop.\n"
   ]
  },
  {
   "cell_type": "code",
   "execution_count": null,
   "id": "3cffa700-2a30-409a-93f4-de93197b7f1e",
   "metadata": {},
   "outputs": [],
   "source": [
    "5 5. Print the sum of numbers from 1 to 100 using a while loop.\n"
   ]
  },
  {
   "cell_type": "code",
   "execution_count": null,
   "id": "87ca2e86-4746-4971-80bf-4918989feaba",
   "metadata": {},
   "outputs": [],
   "source": [
    "6 6. Print the multiplication table of 7 using a while loop.\n"
   ]
  },
  {
   "cell_type": "code",
   "execution_count": null,
   "id": "31b55d81-978d-43bb-bfab-8a02aa97cb59",
   "metadata": {},
   "outputs": [],
   "source": [
    "7 7. Print the first 10 natural numbers in reverse order using a while loop.\n"
   ]
  },
  {
   "cell_type": "code",
   "execution_count": null,
   "id": "ecfe027b-715c-4289-81ee-adb38237883d",
   "metadata": {},
   "outputs": [],
   "source": [
    "8 8. Print all odd numbers between 1 and 20 using a while loop.\n"
   ]
  },
  {
   "cell_type": "code",
   "execution_count": null,
   "id": "82ed26be-0c34-4a1e-a358-186b9a72297f",
   "metadata": {},
   "outputs": [],
   "source": [
    "9 9. Count down from 10 to 1 using a while loop.\n"
   ]
  },
  {
   "cell_type": "code",
   "execution_count": null,
   "id": "2511466b-585b-4959-ba89-e5b915e4d2f7",
   "metadata": {},
   "outputs": [],
   "source": [
    "10 10. Print numbers from 1 to n, where n is taken from the user, using a while loop\n"
   ]
  },
  {
   "cell_type": "code",
   "execution_count": null,
   "id": "426e999b-06cd-4190-a3e8-750352ac96f6",
   "metadata": {},
   "outputs": [],
   "source": [
    "1. Calculate the factorial of a number using a while loop.\n"
   ]
  },
  {
   "cell_type": "code",
   "execution_count": null,
   "id": "ddba006a-f97b-4aa2-bd74-342930933e90",
   "metadata": {},
   "outputs": [],
   "source": [
    "2 2. Print the Fibonacci sequence up to n terms using a while loop.\n"
   ]
  },
  {
   "cell_type": "code",
   "execution_count": null,
   "id": "6585a0cc-c552-4084-a868-09256381497b",
   "metadata": {},
   "outputs": [],
   "source": [
    "3 3. Reverse a string using a while loop.\n"
   ]
  },
  {
   "cell_type": "code",
   "execution_count": null,
   "id": "40d36530-7a7a-4d80-9b26-493e856c5ce7",
   "metadata": {},
   "outputs": [],
   "source": [
    "4 4. Count the number of digits in a given number using a while loop.\n"
   ]
  },
  {
   "cell_type": "code",
   "execution_count": null,
   "id": "ac366f1a-2963-4b4d-b5dd-ab6dd8de6d80",
   "metadata": {},
   "outputs": [],
   "source": [
    "5 5. Sum the digits of a given number using a while loop.\n"
   ]
  },
  {
   "cell_type": "code",
   "execution_count": null,
   "id": "abdf8901-d608-43cb-8e2b-eb5e183239a3",
   "metadata": {},
   "outputs": [],
   "source": [
    "6 6. Find the largest number in a list using a while loop.\n"
   ]
  },
  {
   "cell_type": "code",
   "execution_count": null,
   "id": "ff772557-51ba-496e-9ec2-4436d738857f",
   "metadata": {},
   "outputs": [],
   "source": [
    "7 7. Find the smallest number in a list using a while loop.\n"
   ]
  },
  {
   "cell_type": "code",
   "execution_count": null,
   "id": "f8b3aa11-9023-4e99-b2ab-4320dbd784ef",
   "metadata": {},
   "outputs": [],
   "source": [
    "8 8. Check if a number is prime using a while loop.\n"
   ]
  },
  {
   "cell_type": "code",
   "execution_count": null,
   "id": "1e9e5332-05fd-4a6b-baad-c10cd57ec919",
   "metadata": {},
   "outputs": [],
   "source": [
    "9 9. Print all multiples of 5 up to 100 using a while loop.\n"
   ]
  },
  {
   "cell_type": "code",
   "execution_count": null,
   "id": "ec1f409f-3b5f-401f-a500-18189b260154",
   "metadata": {},
   "outputs": [],
   "source": [
    "10 10. Count how many vowels are in a given string using a while loop.\n"
   ]
  },
  {
   "cell_type": "code",
   "execution_count": null,
   "id": "7d0b63fe-2303-4e42-921f-4c025d48629d",
   "metadata": {},
   "outputs": [],
   "source": [
    "1. Print a pyramid pattern of stars with 5 rows using a while loop.\n"
   ]
  },
  {
   "cell_type": "code",
   "execution_count": null,
   "id": "7a40cd54-2511-4402-b8dc-643d66237ad4",
   "metadata": {},
   "outputs": [],
   "source": [
    "2 2. Print an inverted pyramid pattern of stars with 5 rows using a while loop.\n"
   ]
  },
  {
   "cell_type": "code",
   "execution_count": null,
   "id": "3c86ac15-cb0b-403f-870e-303297944965",
   "metadata": {},
   "outputs": [],
   "source": [
    "3 3. Generate all prime numbers between 1 and 100 using a while loop.\n"
   ]
  },
  {
   "cell_type": "code",
   "execution_count": null,
   "id": "34914eee-ecf3-49b6-81dd-f5942afe0fb8",
   "metadata": {},
   "outputs": [],
   "source": [
    "4 4. Find all Armstrong numbers between 100 and 999 using a while loop.\n"
   ]
  },
  {
   "cell_type": "code",
   "execution_count": null,
   "id": "5a984549-e978-4bd5-8a62-ed4f7df1331c",
   "metadata": {},
   "outputs": [],
   "source": [
    "5 5. Find all perfect numbers between 1 and 500 using a while loop.\n"
   ]
  },
  {
   "cell_type": "code",
   "execution_count": null,
   "id": "c86c2830-9cd7-4a9a-8292-758b6ef38343",
   "metadata": {},
   "outputs": [],
   "source": [
    "6 6. Print a diamond pattern of stars with 5 rows on each side using a while loop.\n"
   ]
  },
  {
   "cell_type": "code",
   "execution_count": null,
   "id": "ec9012a6-c8cc-487f-a8b6-368c981173c7",
   "metadata": {},
   "outputs": [],
   "source": [
    "7 7. Print the multiplication tables from 1 to 5 using a while loop.\n"
   ]
  },
  {
   "cell_type": "code",
   "execution_count": null,
   "id": "e3d10b50-f0dd-44ed-88d4-2170b5a578b4",
   "metadata": {},
   "outputs": [],
   "source": [
    "8 8. Generate all two-digit numbers where the sum of digits is 10 using a while loop.\n"
   ]
  },
  {
   "cell_type": "code",
   "execution_count": null,
   "id": "1c7724b9-b6db-4e19-b752-2e8c0737ca9b",
   "metadata": {},
   "outputs": [],
   "source": [
    "9 9. Reverse a number using a while loop.\n"
   ]
  },
  {
   "cell_type": "code",
   "execution_count": null,
   "id": "d9e4335f-4096-4e4f-b137-c56a19a1a56d",
   "metadata": {},
   "outputs": [],
   "source": [
    "10 10. Check if a string is a palindrome using a while loop.\n"
   ]
  },
  {
   "cell_type": "code",
   "execution_count": null,
   "id": "fd8ee8fa-157d-4b03-b952-fcd3436dd162",
   "metadata": {},
   "outputs": [],
   "source": [
    "Example 1:WAP to print n natural numbers.\n",
    "Example 2:WAP to print sum of n natural numbers.\n",
    "Example 3:WAP to print multi of n natural numbers.\n",
    "Example 4:WAP to print factorial of any natural number.\n",
    "Example 5:WAP to print n even numbers.\n",
    "Example 6:WAP to print sum of n even numbers.\n",
    "Example 7:WAP to print even numbers up-to n natural numbers.\n",
    "Example 8: WAP to print sum of even numbers up-to n natural numbers.\n",
    "Example 9:WAP to print n odd numbers.\n",
    "Example 10:WAP to print sum of n odd numbers.\n",
    "Example 11:WAP to print odd numbers up-to n natural numbers.\n",
    "Example 12: WAP to print sum of odd numbers up-to n natural numbers.\n",
    "Example 13: Write a program to find factorial of given no.\n",
    "Example 14: Write a program to print your names ten times.\n",
    "Example 15: Write a program to find how many vowels and consonants are present\n",
    "in strings.\n",
    "Example 16: Write a program to add 5 in each elements in given list.\n",
    "[10,20,30,40,50]\n",
    "Example 17: Write a program to add 5 in each elements in given tuple.\n",
    "(10,20,30,40,50)\n",
    "Example 18: Write a program to create a list from given string. \n"
   ]
  }
 ],
 "metadata": {
  "kernelspec": {
   "display_name": "Python [conda env:base] *",
   "language": "python",
   "name": "conda-base-py"
  },
  "language_info": {
   "codemirror_mode": {
    "name": "ipython",
    "version": 3
   },
   "file_extension": ".py",
   "mimetype": "text/x-python",
   "name": "python",
   "nbconvert_exporter": "python",
   "pygments_lexer": "ipython3",
   "version": "3.12.7"
  }
 },
 "nbformat": 4,
 "nbformat_minor": 5
}
