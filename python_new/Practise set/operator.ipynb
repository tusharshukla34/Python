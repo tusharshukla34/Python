{
 "cells": [
  {
   "cell_type": "code",
   "execution_count": null,
   "id": "cc846767-c0f9-4f75-a72e-bf98534ec5c2",
   "metadata": {},
   "outputs": [],
   "source": [
    "1. Add two numbers using the + operator.\n"
   ]
  },
  {
   "cell_type": "code",
   "execution_count": null,
   "id": "780860c6-e19b-4263-95db-d604a721db3d",
   "metadata": {},
   "outputs": [],
   "source": [
    "2. Subtract two numbers using the - operator.\n"
   ]
  },
  {
   "cell_type": "code",
   "execution_count": null,
   "id": "48165c65-420b-4fef-8e94-5b5c671f3320",
   "metadata": {},
   "outputs": [],
   "source": [
    "3. Multiply two numbers using the * operator.\n"
   ]
  },
  {
   "cell_type": "code",
   "execution_count": null,
   "id": "ffc87326-07b3-41d7-8515-3103ce6975e6",
   "metadata": {},
   "outputs": [],
   "source": [
    "4. Divide two numbers using the / operator.\n"
   ]
  },
  {
   "cell_type": "code",
   "execution_count": null,
   "id": "b670f22d-87d9-4c21-967f-7252b2c027e3",
   "metadata": {},
   "outputs": [],
   "source": [
    "5. Perform floor division on two numbers.\n"
   ]
  },
  {
   "cell_type": "code",
   "execution_count": null,
   "id": "adec05bf-1a45-46d9-a5d1-96fe2c9fdf13",
   "metadata": {},
   "outputs": [],
   "source": [
    "6. Find the remainder using the % operator.\n"
   ]
  },
  {
   "cell_type": "code",
   "execution_count": null,
   "id": "07abd9f0-4dfe-4041-9861-c39f6dcf1128",
   "metadata": {},
   "outputs": [],
   "source": [
    "7. Calculate the exponent using the ** operator.\n"
   ]
  },
  {
   "cell_type": "code",
   "execution_count": null,
   "id": "7fae7806-e2c2-43ad-9f35-142c2634040c",
   "metadata": {},
   "outputs": [],
   "source": [
    "8. Compare two numbers using the > operator.\n"
   ]
  },
  {
   "cell_type": "code",
   "execution_count": null,
   "id": "2a400592-fbb4-445d-bf12-b8458a9a2d0e",
   "metadata": {},
   "outputs": [],
   "source": [
    "9. Compare two numbers using the < operator.\n"
   ]
  },
  {
   "cell_type": "code",
   "execution_count": null,
   "id": "9c54e5da-9d96-4627-ab5c-f65dbe339a37",
   "metadata": {},
   "outputs": [],
   "source": [
    "10. Check equality between two numbers"
   ]
  },
  {
   "cell_type": "code",
   "execution_count": null,
   "id": "63de15b1-5913-4c8b-9941-1a81f2fb08e1",
   "metadata": {},
   "outputs": [],
   "source": [
    "11. Check if a number is greater than 10 and less than 50 using logical operators.\n"
   ]
  },
  {
   "cell_type": "code",
   "execution_count": null,
   "id": "f7cdb073-c118-4f60-b7b2-8559573bd4f5",
   "metadata": {},
   "outputs": [],
   "source": [
    "12. Check if a number is divisible by 3 or 5 using logical operators.\n"
   ]
  },
  {
   "cell_type": "code",
   "execution_count": null,
   "id": "3cff7acf-676f-4f90-84e8-88bcaf0e0ac4",
   "metadata": {},
   "outputs": [],
   "source": [
    "13. Swap two numbers without using a temporary variable using arithmetic operators.\n"
   ]
  },
  {
   "cell_type": "code",
   "execution_count": null,
   "id": "bfdf7001-3a9b-4dd8-8690-1c353e43ced2",
   "metadata": {},
   "outputs": [],
   "source": [
    "14. Increment a variable by 5 using the += operator.\n"
   ]
  },
  {
   "cell_type": "code",
   "execution_count": null,
   "id": "67f6c254-0a5c-426f-86ab-e27782cb647a",
   "metadata": {},
   "outputs": [],
   "source": [
    "15. Multiply a variable by 3 using the *= operator. "
   ]
  },
  {
   "cell_type": "code",
   "execution_count": null,
   "id": "fdfbafb5-2303-4e3c-8d83-bf27f6b6493a",
   "metadata": {},
   "outputs": [],
   "source": [
    "16. Check if a number is not equal to another number.\n"
   ]
  },
  {
   "cell_type": "code",
   "execution_count": null,
   "id": "e32a05f3-4025-478e-839f-d78def0ec822",
   "metadata": {},
   "outputs": [],
   "source": [
    "17. Check if two variables refer to the same object using identity operators.\n"
   ]
  },
  {
   "cell_type": "code",
   "execution_count": null,
   "id": "82c9d4d3-1212-495e-9a36-558462aa1a94",
   "metadata": {},
   "outputs": [],
   "source": [
    "18. Check if a value exists in a list using membership operators.\n"
   ]
  },
  {
   "cell_type": "code",
   "execution_count": null,
   "id": "6eb3a401-7053-4540-96b4-b187b5976dbc",
   "metadata": {},
   "outputs": [],
   "source": [
    "19. Check if a string does not contain a particular character using membership operators.\n"
   ]
  },
  {
   "cell_type": "code",
   "execution_count": null,
   "id": "acf84d9b-863c-4a1d-bbf4-928cfda9218f",
   "metadata": {},
   "outputs": [],
   "source": [
    "20. Perform bitwise AND operation between two integers."
   ]
  },
  {
   "cell_type": "code",
   "execution_count": null,
   "id": "3b408534-0a94-47c0-9e59-36bb09f2f332",
   "metadata": {},
   "outputs": [],
   "source": [
    "21. Perform bitwise OR operation between two integers.\n"
   ]
  },
  {
   "cell_type": "code",
   "execution_count": null,
   "id": "f770beec-ed93-4658-9bbc-572810e035d2",
   "metadata": {},
   "outputs": [],
   "source": [
    "22. Perform bitwise XOR operation between two integers.\n"
   ]
  },
  {
   "cell_type": "code",
   "execution_count": null,
   "id": "6f9e31f5-5b03-49fa-8975-f9dfc42a3ab6",
   "metadata": {},
   "outputs": [],
   "source": [
    "23. Perform bitwise left shift on a number.\n"
   ]
  },
  {
   "cell_type": "code",
   "execution_count": null,
   "id": "c9140ad5-78c6-45aa-930a-96bcec3a0bb9",
   "metadata": {},
   "outputs": [],
   "source": [
    "24. Perform bitwise right shift on a number.\n"
   ]
  },
  {
   "cell_type": "code",
   "execution_count": null,
   "id": "84ece03c-73a0-494a-a620-1bd5da864d54",
   "metadata": {},
   "outputs": [],
   "source": [
    "25. Use combined comparison and logical operators to check multiple conditions.\n"
   ]
  },
  {
   "cell_type": "code",
   "execution_count": null,
   "id": "110f0827-b342-403e-ba9d-8a0f0d0dedc6",
   "metadata": {},
   "outputs": [],
   "source": [
    "26. Write an expression to check if a number is even and positive.\n"
   ]
  },
  {
   "cell_type": "code",
   "execution_count": null,
   "id": "02b18f18-2a56-4e4f-9447-1dd92f7e15d8",
   "metadata": {},
   "outputs": [],
   "source": [
    "27. Write an expression to check if a number is odd or negative.\n"
   ]
  },
  {
   "cell_type": "code",
   "execution_count": null,
   "id": "228a51c9-c4f1-4439-9638-2b1d714939ca",
   "metadata": {},
   "outputs": [],
   "source": [
    "28. Create a program that checks if a number is in a given range using operators.\n"
   ]
  },
  {
   "cell_type": "code",
   "execution_count": null,
   "id": "cb588fba-9f89-4be6-bfa2-5b1651666016",
   "metadata": {},
   "outputs": [],
   "source": [
    "29. Combine arithmetic, comparison, and logical operators in a single statement.\n"
   ]
  },
  {
   "cell_type": "code",
   "execution_count": null,
   "id": "b42e0abd-5b3d-47be-b1f8-e61de33dee12",
   "metadata": {},
   "outputs": [],
   "source": [
    "30. Simulate ternary operator using if–else in one line"
   ]
  }
 ],
 "metadata": {
  "kernelspec": {
   "display_name": "Python [conda env:base] *",
   "language": "python",
   "name": "conda-base-py"
  },
  "language_info": {
   "codemirror_mode": {
    "name": "ipython",
    "version": 3
   },
   "file_extension": ".py",
   "mimetype": "text/x-python",
   "name": "python",
   "nbconvert_exporter": "python",
   "pygments_lexer": "ipython3",
   "version": "3.12.7"
  }
 },
 "nbformat": 4,
 "nbformat_minor": 5
}
