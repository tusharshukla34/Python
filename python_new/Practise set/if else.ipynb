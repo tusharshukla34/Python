{
 "cells": [
  {
   "cell_type": "code",
   "execution_count": null,
   "id": "e5ebe375-ffab-4ef5-a507-76d3b84b5776",
   "metadata": {},
   "outputs": [],
   "source": [
    "1 1. Check if a number is positive.\n"
   ]
  },
  {
   "cell_type": "code",
   "execution_count": null,
   "id": "2ec69f2f-be55-40b6-bbff-a47b81bd43f2",
   "metadata": {},
   "outputs": [],
   "source": [
    "2 2. Check if a number is negative.\n"
   ]
  },
  {
   "cell_type": "code",
   "execution_count": null,
   "id": "2338ea4e-6b67-4ade-8a6c-f0124602e7ce",
   "metadata": {},
   "outputs": [],
   "source": [
    "3 3. Check if a number is zero.\n"
   ]
  },
  {
   "cell_type": "code",
   "execution_count": null,
   "id": "2bcf5ad0-2e04-4687-87a8-f04cb9ab839a",
   "metadata": {},
   "outputs": [],
   "source": [
    "4 4. Check if a number is even.\n"
   ]
  },
  {
   "cell_type": "code",
   "execution_count": null,
   "id": "5fa0dfbb-a80e-4dcf-8c8c-2e950ceacbf1",
   "metadata": {},
   "outputs": [],
   "source": [
    "5 5. Check if a number is odd.\n"
   ]
  },
  {
   "cell_type": "code",
   "execution_count": null,
   "id": "ca57d3ab-42a4-432e-aeed-bbf1bd3d6ac6",
   "metadata": {},
   "outputs": [],
   "source": [
    "6 6. Compare two numbers and print which is greater.\n"
   ]
  },
  {
   "cell_type": "code",
   "execution_count": null,
   "id": "c525d835-5c21-44a2-bd24-43646e94c5e3",
   "metadata": {},
   "outputs": [],
   "source": [
    "7 7. Check if a number is divisible by 5.\n"
   ]
  },
  {
   "cell_type": "code",
   "execution_count": null,
   "id": "c58eda1b-02ab-4925-941c-e2cc26e8211a",
   "metadata": {},
   "outputs": [],
   "source": [
    "8 8. Check if a number is divisible by 2 and 3.\n"
   ]
  },
  {
   "cell_type": "code",
   "execution_count": null,
   "id": "c6cbb761-7d8a-4007-822a-24486250a2de",
   "metadata": {},
   "outputs": [],
   "source": [
    "9 9. Print 'Pass' if marks are greater than 40 else print 'Fail'.\n"
   ]
  },
  {
   "cell_type": "code",
   "execution_count": null,
   "id": "5f2b58cc-9d5f-454c-9ea2-0c737376870d",
   "metadata": {},
   "outputs": [],
   "source": [
    "10 10. Check if a number is less than 100.\n"
   ]
  },
  {
   "cell_type": "code",
   "execution_count": null,
   "id": "a1d57db9-71bd-44ea-b6c4-074f4be29252",
   "metadata": {},
   "outputs": [],
   "source": [
    "1. Find the largest of two numbers.\n"
   ]
  },
  {
   "cell_type": "code",
   "execution_count": null,
   "id": "b6c1a5ba-1ce5-4e71-80ac-eef433c1ed30",
   "metadata": {},
   "outputs": [],
   "source": [
    "2 2. Find the smallest of two numbers.\n"
   ]
  },
  {
   "cell_type": "code",
   "execution_count": null,
   "id": "afb64a1a-0315-4905-a61a-38d18b5a8c5f",
   "metadata": {},
   "outputs": [],
   "source": [
    "3 3. Find the largest of three numbers.\n"
   ]
  },
  {
   "cell_type": "code",
   "execution_count": null,
   "id": "5b5bdabe-549d-4021-b2bf-416cc14a14ac",
   "metadata": {},
   "outputs": [],
   "source": [
    "4 4. Check if a year is a leap year.\n"
   ]
  },
  {
   "cell_type": "code",
   "execution_count": null,
   "id": "f6130352-73b8-4ca1-8749-4fc60708e0ca",
   "metadata": {},
   "outputs": [],
   "source": [
    "5 5. Check if a character is a vowel or consonant.\n"
   ]
  },
  {
   "cell_type": "code",
   "execution_count": null,
   "id": "1e2e4b24-d670-479f-a4a1-8f428bf3f9c5",
   "metadata": {},
   "outputs": [],
   "source": [
    "6 6. Check if a character is uppercase or lowercase.\n"
   ]
  },
  {
   "cell_type": "code",
   "execution_count": null,
   "id": "dfd5c09f-d16c-47c3-9c43-87d2b96bcd03",
   "metadata": {},
   "outputs": [],
   "source": [
    "7 7. Check if a number is within a specific range.\n"
   ]
  },
  {
   "cell_type": "code",
   "execution_count": null,
   "id": "42a04ad1-aab2-466b-bd51-3e77a703272e",
   "metadata": {},
   "outputs": [],
   "source": [
    "8 8. Compare two strings and print if they are equal.\n"
   ]
  },
  {
   "cell_type": "code",
   "execution_count": null,
   "id": "e09d081f-e378-4e52-a323-199340d58b93",
   "metadata": {},
   "outputs": [],
   "source": [
    "9 9. Check if a number is multiple of both 3 and 7.\n"
   ]
  },
  {
   "cell_type": "code",
   "execution_count": null,
   "id": "08d6d07b-fefd-4778-91a9-2850e6f729c8",
   "metadata": {},
   "outputs": [],
   "source": [
    "10 10. Print grade based on marks (A, B, C, D, F)."
   ]
  },
  {
   "cell_type": "code",
   "execution_count": null,
   "id": "f90bab1e-162a-4e96-b2da-1972a944422e",
   "metadata": {},
   "outputs": [],
   "source": [
    "1. Check if a number is prime.\n"
   ]
  },
  {
   "cell_type": "code",
   "execution_count": null,
   "id": "d8cf1412-0036-4aee-b752-212bd5641fb2",
   "metadata": {},
   "outputs": [],
   "source": [
    "2 2. Check if a number is an Armstrong number.\n"
   ]
  },
  {
   "cell_type": "code",
   "execution_count": null,
   "id": "3f4f3986-820c-43b8-87cd-590a93a84f5c",
   "metadata": {},
   "outputs": [],
   "source": [
    "3 3. Check if a number is a palindrome.\n"
   ]
  },
  {
   "cell_type": "code",
   "execution_count": null,
   "id": "0efb7bea-24a7-41c8-b2ee-9eea6121c5c1",
   "metadata": {},
   "outputs": [],
   "source": [
    "4 4. Check if a string is a palindrome.\n"
   ]
  },
  {
   "cell_type": "code",
   "execution_count": null,
   "id": "481fc9f5-6802-4ef8-9f7b-ba590e396ae5",
   "metadata": {},
   "outputs": [],
   "source": [
    "5 5. Find the second largest of three numbers.\n"
   ]
  },
  {
   "cell_type": "code",
   "execution_count": null,
   "id": "e850b29f-ecc4-4085-94f3-83e746c8ded7",
   "metadata": {},
   "outputs": [],
   "source": [
    "6 6. Check eligibility to vote based on age and nationality.\n"
   ]
  },
  {
   "cell_type": "code",
   "execution_count": null,
   "id": "3b6b269c-61a2-48cf-aba7-0ae2a9d8b714",
   "metadata": {},
   "outputs": [],
   "source": [
    "7 7. Determine if a triangle is equilateral, isosceles, or scalene.\n"
   ]
  },
  {
   "cell_type": "code",
   "execution_count": null,
   "id": "ae48e2d9-319c-4e04-ad9c-89000bbc97e8",
   "metadata": {},
   "outputs": [],
   "source": [
    "8 8. Check if a number is positive, negative, or zero.\n"
   ]
  },
  {
   "cell_type": "code",
   "execution_count": null,
   "id": "5006b1d9-8ba2-4642-8cfa-47b6a1c319a6",
   "metadata": {},
   "outputs": [],
   "source": [
    "9 9. Categorize a given temperature as cold, warm, or hot.\n"
   ]
  },
  {
   "cell_type": "code",
   "execution_count": null,
   "id": "602c2a18-1920-46a5-a3d4-55ee950d34fb",
   "metadata": {},
   "outputs": [],
   "source": [
    "10. Implement a simple calculator using if–elif–else"
   ]
  },
  {
   "cell_type": "code",
   "execution_count": null,
   "id": "88b8924b-7ae6-4544-9921-4dc7e005cb18",
   "metadata": {},
   "outputs": [],
   "source": []
  },
  {
   "cell_type": "code",
   "execution_count": null,
   "id": "9225bc7d-644a-4b6b-b5be-23bdcffa3a14",
   "metadata": {},
   "outputs": [],
   "source": []
  },
  {
   "cell_type": "code",
   "execution_count": null,
   "id": "17c773c0-cc63-40e7-9244-bfa8365967c6",
   "metadata": {},
   "outputs": [],
   "source": []
  }
 ],
 "metadata": {
  "kernelspec": {
   "display_name": "Python [conda env:base] *",
   "language": "python",
   "name": "conda-base-py"
  },
  "language_info": {
   "codemirror_mode": {
    "name": "ipython",
    "version": 3
   },
   "file_extension": ".py",
   "mimetype": "text/x-python",
   "name": "python",
   "nbconvert_exporter": "python",
   "pygments_lexer": "ipython3",
   "version": "3.12.7"
  }
 },
 "nbformat": 4,
 "nbformat_minor": 5
}
