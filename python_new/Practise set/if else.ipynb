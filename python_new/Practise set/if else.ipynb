{
 "cells": [
  {
   "cell_type": "code",
   "execution_count": 1,
   "id": "e5ebe375-ffab-4ef5-a507-76d3b84b5776",
   "metadata": {},
   "outputs": [
    {
     "name": "stdin",
     "output_type": "stream",
     "text": [
      "enter the number 4\n"
     ]
    },
    {
     "name": "stdout",
     "output_type": "stream",
     "text": [
      "positive\n"
     ]
    }
   ],
   "source": [
    "# 1. Check if a number is positive.\n",
    "\n",
    "a = int(input(\"enter the number\"))\n",
    "if a > 0:\n",
    "    print(\"positive\")\n",
    "else:\n",
    "    print(\"don't know\")"
   ]
  },
  {
   "cell_type": "code",
   "execution_count": 3,
   "id": "2ec69f2f-be55-40b6-bbff-a47b81bd43f2",
   "metadata": {},
   "outputs": [
    {
     "name": "stdin",
     "output_type": "stream",
     "text": [
      "enter the number -9\n"
     ]
    },
    {
     "name": "stdout",
     "output_type": "stream",
     "text": [
      "negative\n"
     ]
    }
   ],
   "source": [
    "# 2. Check if a number is negative.\n",
    "\n",
    "a = int(input(\"enter the number\"))\n",
    "if a < 0:\n",
    "    print(\"negative\")\n",
    "else:\n",
    "    print(\"don't know\")"
   ]
  },
  {
   "cell_type": "code",
   "execution_count": 4,
   "id": "2338ea4e-6b67-4ade-8a6c-f0124602e7ce",
   "metadata": {},
   "outputs": [
    {
     "name": "stdin",
     "output_type": "stream",
     "text": [
      "enter the number 3\n"
     ]
    },
    {
     "name": "stdout",
     "output_type": "stream",
     "text": [
      "not zero\n"
     ]
    }
   ],
   "source": [
    "# 3. Check if a number is zero.\n",
    "\n",
    "a = int(input(\"enter the number\"))\n",
    "if a == 0:\n",
    "    print(\"it is zero\")\n",
    "else:\n",
    "    print(\"not zero\")"
   ]
  },
  {
   "cell_type": "code",
   "execution_count": 5,
   "id": "2bcf5ad0-2e04-4687-87a8-f04cb9ab839a",
   "metadata": {},
   "outputs": [
    {
     "name": "stdin",
     "output_type": "stream",
     "text": [
      "enter the number 2\n"
     ]
    },
    {
     "name": "stdout",
     "output_type": "stream",
     "text": [
      "Even number\n"
     ]
    }
   ],
   "source": [
    "# 4. Check if a number is even.\n",
    "\n",
    "a = int(input(\"enter the number\"))\n",
    "if a % 2 == 0:\n",
    "    print(\"Even number\")\n",
    "else:\n",
    "    print(\"not a even\")"
   ]
  },
  {
   "cell_type": "code",
   "execution_count": 8,
   "id": "5fa0dfbb-a80e-4dcf-8c8c-2e950ceacbf1",
   "metadata": {},
   "outputs": [
    {
     "name": "stdin",
     "output_type": "stream",
     "text": [
      "enter the number 2\n"
     ]
    },
    {
     "name": "stdout",
     "output_type": "stream",
     "text": [
      "not a odd\n"
     ]
    }
   ],
   "source": [
    "# 5. Check if a number is odd.\n",
    "\n",
    "a = int(input(\"enter the number\"))\n",
    "if a % 2 != 0:\n",
    "    print(\"odd number\")\n",
    "else:\n",
    "    print(\"not a odd\")"
   ]
  },
  {
   "cell_type": "code",
   "execution_count": 10,
   "id": "ca57d3ab-42a4-432e-aeed-bbf1bd3d6ac6",
   "metadata": {},
   "outputs": [
    {
     "name": "stdin",
     "output_type": "stream",
     "text": [
      "enter the number 45\n",
      "enter the number 67\n"
     ]
    },
    {
     "name": "stdout",
     "output_type": "stream",
     "text": [
      "67 is greater\n"
     ]
    }
   ],
   "source": [
    "# 6. Compare two numbers and print which is greater.\n",
    "\n",
    "a = int(input(\"enter the number\"))\n",
    "b = int(input(\"enter the number\"))\n",
    "if a > b:\n",
    "    print(a,\"is greater\")\n",
    "else:\n",
    "    print(b,\"is greater\")"
   ]
  },
  {
   "cell_type": "code",
   "execution_count": 12,
   "id": "c525d835-5c21-44a2-bd24-43646e94c5e3",
   "metadata": {},
   "outputs": [
    {
     "name": "stdin",
     "output_type": "stream",
     "text": [
      "enter the number 67\n"
     ]
    },
    {
     "name": "stdout",
     "output_type": "stream",
     "text": [
      "not divisible\n"
     ]
    }
   ],
   "source": [
    "# 7. Check if a number is divisible by 5.\n",
    "\n",
    "a = int(input(\"enter the number\"))\n",
    "if a % 5 == 0:\n",
    "    print(\"it is divisible by 5\")\n",
    "else:\n",
    "    print(\"not divisible\")"
   ]
  },
  {
   "cell_type": "code",
   "execution_count": 15,
   "id": "c58eda1b-02ab-4925-941c-e2cc26e8211a",
   "metadata": {},
   "outputs": [
    {
     "name": "stdin",
     "output_type": "stream",
     "text": [
      "enter the number 30\n"
     ]
    },
    {
     "name": "stdout",
     "output_type": "stream",
     "text": [
      "divisible by both 2 and 3\n"
     ]
    }
   ],
   "source": [
    "# 8. Check if a number is divisible by 2 and 3.\n",
    "\n",
    "a = int(input(\"enter the number\"))\n",
    "if a % 2 == 0 and a % 3 == 0:\n",
    "    print(\"divisible by both 2 and 3\")\n",
    "else:\n",
    "    print(\"not divisible\")"
   ]
  },
  {
   "cell_type": "code",
   "execution_count": 17,
   "id": "c6cbb761-7d8a-4007-822a-24486250a2de",
   "metadata": {},
   "outputs": [
    {
     "name": "stdin",
     "output_type": "stream",
     "text": [
      "enter the marks 12\n"
     ]
    },
    {
     "name": "stdout",
     "output_type": "stream",
     "text": [
      "Fail\n"
     ]
    }
   ],
   "source": [
    "# 9. Print 'Pass' if marks are greater than 40 else print 'Fail'.\n",
    "\n",
    "a = int(input(\"enter the marks\"))\n",
    "if a > 40:\n",
    "    print(\"Pass\")\n",
    "else:\n",
    "    print(\"Fail\")"
   ]
  },
  {
   "cell_type": "code",
   "execution_count": 19,
   "id": "5f2b58cc-9d5f-454c-9ea2-0c737376870d",
   "metadata": {},
   "outputs": [
    {
     "name": "stdin",
     "output_type": "stream",
     "text": [
      "enter the number 234\n"
     ]
    },
    {
     "name": "stdout",
     "output_type": "stream",
     "text": [
      "the number is greater than 100\n"
     ]
    }
   ],
   "source": [
    "# 10. Check if a number is less than 100.\n",
    "\n",
    "a = int(input(\"enter the number\"))\n",
    "if a < 100:\n",
    "    print(\"the number is less than 100\")\n",
    "else:\n",
    "    print(\"the number is greater than 100\")"
   ]
  },
  {
   "cell_type": "code",
   "execution_count": 22,
   "id": "a1d57db9-71bd-44ea-b6c4-074f4be29252",
   "metadata": {},
   "outputs": [
    {
     "name": "stdin",
     "output_type": "stream",
     "text": [
      "enter the number 0\n",
      "enter the number 65\n"
     ]
    },
    {
     "name": "stdout",
     "output_type": "stream",
     "text": [
      "65 is greater\n"
     ]
    }
   ],
   "source": [
    "# 11. Find the largest of two numbers.\n",
    "\n",
    "# already done above so doing this with the help of built-in function\n",
    "a = int(input(\"enter the number\"))\n",
    "b = int(input(\"enter the number\"))\n",
    "c = max(a,b)\n",
    "print(c,\"is greater\")"
   ]
  },
  {
   "cell_type": "code",
   "execution_count": 23,
   "id": "b6c1a5ba-1ce5-4e71-80ac-eef433c1ed30",
   "metadata": {},
   "outputs": [
    {
     "name": "stdin",
     "output_type": "stream",
     "text": [
      "enter the number 34\n",
      "enter the number 2\n"
     ]
    },
    {
     "name": "stdout",
     "output_type": "stream",
     "text": [
      "2 is smaller\n"
     ]
    }
   ],
   "source": [
    "# 12. Find the smallest of two numbers.\n",
    "\n",
    "a = int(input(\"enter the number\"))\n",
    "b = int(input(\"enter the number\"))\n",
    "if a < b:\n",
    "    print(a,\"is smaller number\")\n",
    "else:\n",
    "    print(b,\"is smaller\")"
   ]
  },
  {
   "cell_type": "code",
   "execution_count": 26,
   "id": "afb64a1a-0315-4905-a61a-38d18b5a8c5f",
   "metadata": {},
   "outputs": [
    {
     "name": "stdin",
     "output_type": "stream",
     "text": [
      "enter the number 23\n",
      "enter the number 45\n",
      "enter the number 12\n"
     ]
    },
    {
     "name": "stdout",
     "output_type": "stream",
     "text": [
      "45 is greater\n"
     ]
    }
   ],
   "source": [
    "# 13. Find the largest of three numbers.\n",
    "\n",
    "a = int(input(\"enter the number\"))\n",
    "b = int(input(\"enter the number\"))\n",
    "c = int(input(\"enter the number\"))\n",
    "if a > b and a > c:\n",
    "    print(a,\"is greater\")\n",
    "elif b > c and b > a:\n",
    "    print(b,\"is greater\")\n",
    "else:\n",
    "    print(c,\"is greater\")"
   ]
  },
  {
   "cell_type": "code",
   "execution_count": 31,
   "id": "5b5bdabe-549d-4021-b2bf-416cc14a14ac",
   "metadata": {},
   "outputs": [
    {
     "name": "stdin",
     "output_type": "stream",
     "text": [
      "enter the year 2025\n"
     ]
    },
    {
     "name": "stdout",
     "output_type": "stream",
     "text": [
      "not a leap year\n"
     ]
    }
   ],
   "source": [
    "# 14. Check if a year is a leap year.\n",
    "\n",
    "year = int(input(\"enter the year\"))\n",
    "if (year % 4 == 0 and year % 100 != 0) or year % 400 == 0:\n",
    "    print(\"it is leap year\")\n",
    "else:\n",
    "    print(\"not a leap year\")"
   ]
  },
  {
   "cell_type": "code",
   "execution_count": 35,
   "id": "f6130352-73b8-4ca1-8749-4fc60708e0ca",
   "metadata": {},
   "outputs": [
    {
     "name": "stdin",
     "output_type": "stream",
     "text": [
      "enter a single character l\n"
     ]
    },
    {
     "name": "stdout",
     "output_type": "stream",
     "text": [
      "it is consonant\n"
     ]
    }
   ],
   "source": [
    "# 15. Check if a character is a vowel or consonant.\n",
    "\n",
    "char = input(\"enter a single character\")\n",
    "if char in \"aeiou\":\n",
    "    print(\"given character is vowel\")\n",
    "else:\n",
    "    print(\"it is consonant\")"
   ]
  },
  {
   "cell_type": "code",
   "execution_count": 39,
   "id": "1e2e4b24-d670-479f-a4a1-8f428bf3f9c5",
   "metadata": {},
   "outputs": [
    {
     "name": "stdin",
     "output_type": "stream",
     "text": [
      "enter a single character E\n"
     ]
    },
    {
     "name": "stdout",
     "output_type": "stream",
     "text": [
      "it is uppercase\n"
     ]
    }
   ],
   "source": [
    "# 16. Check if a character is uppercase or lowercase.\n",
    "\n",
    "char = input(\"enter a single character\")\n",
    "if char == char.upper():\n",
    "    print(\"it is uppercase\")\n",
    "else:\n",
    "    print(\"it is lowercase\")\n",
    "    "
   ]
  },
  {
   "cell_type": "code",
   "execution_count": 41,
   "id": "dfd5c09f-d16c-47c3-9c43-87d2b96bcd03",
   "metadata": {},
   "outputs": [
    {
     "name": "stdin",
     "output_type": "stream",
     "text": [
      "enter the number 23\n"
     ]
    },
    {
     "name": "stdout",
     "output_type": "stream",
     "text": [
      "the number is between the range of 20 to 30 both not inclusive\n"
     ]
    }
   ],
   "source": [
    "# 17. Check if a number is within a specific range.\n",
    "\n",
    "a = int(input(\"enter the number\"))\n",
    "if a > 20 and a < 30:\n",
    "    print(\"the number is between the range of 20 to 30 both not inclusive\")\n",
    "else:\n",
    "    print(\"not in range of 20 to 30\")"
   ]
  },
  {
   "cell_type": "code",
   "execution_count": 43,
   "id": "42a04ad1-aab2-466b-bd51-3e77a703272e",
   "metadata": {},
   "outputs": [
    {
     "name": "stdin",
     "output_type": "stream",
     "text": [
      "enter the string hii\n",
      "enter the string tushar\n"
     ]
    },
    {
     "name": "stdout",
     "output_type": "stream",
     "text": [
      "length are not equal\n"
     ]
    }
   ],
   "source": [
    "# 18. Compare two strings and print if they are equal.\n",
    "\n",
    "a = input(\"enter the string\")\n",
    "b = input(\"enter the string\")\n",
    "if len(a) == len(b):\n",
    "    print(\"the length of both string are eqaul\")\n",
    "else:\n",
    "    print(\"length are not equal\")"
   ]
  },
  {
   "cell_type": "code",
   "execution_count": 46,
   "id": "cc31fe0a-a1fa-4cc6-90f5-97312ff4c65c",
   "metadata": {},
   "outputs": [
    {
     "name": "stdin",
     "output_type": "stream",
     "text": [
      "enter the number 21\n"
     ]
    },
    {
     "name": "stdout",
     "output_type": "stream",
     "text": [
      "the number is multiple of both 3 and 7\n"
     ]
    }
   ],
   "source": [
    "# 19. Check if a number is multiple of both 3 and 7.\n",
    "\n",
    "a = int(input(\"enter the number\"))\n",
    "if a % 3 == 0 and a % 7 == 0:\n",
    "    print(\"the number is multiple of both 3 and 7\")\n",
    "else:\n",
    "    print(\"the number are not multiple of 3 and 7\")"
   ]
  },
  {
   "cell_type": "code",
   "execution_count": 52,
   "id": "08d6d07b-fefd-4778-91a9-2850e6f729c8",
   "metadata": {},
   "outputs": [
    {
     "name": "stdin",
     "output_type": "stream",
     "text": [
      "enter the marks 90\n"
     ]
    },
    {
     "name": "stdout",
     "output_type": "stream",
     "text": [
      "A\n"
     ]
    }
   ],
   "source": [
    "# 20. Print grade based on marks (A, B, C, D, F).\n",
    "\n",
    "a = int(input(\"enter the marks\"))\n",
    "if a > 80:\n",
    "    print(\"A\")\n",
    "elif a > 60:\n",
    "    print(\"B\")\n",
    "elif a > 50:\n",
    "    print(\"C\")\n",
    "elif a > 40:\n",
    "    print(\"D\")\n",
    "elif a > 35:\n",
    "    print(\"F\")\n",
    "else:\n",
    "    print(\"Fail\")\n"
   ]
  },
  {
   "cell_type": "code",
   "execution_count": 53,
   "id": "f90bab1e-162a-4e96-b2da-1972a944422e",
   "metadata": {},
   "outputs": [
    {
     "name": "stdin",
     "output_type": "stream",
     "text": [
      "enter the number 2\n"
     ]
    },
    {
     "ename": "TypeError",
     "evalue": "unsupported operand type(s) for %: 'int' and 'range'",
     "output_type": "error",
     "traceback": [
      "\u001b[1;31m---------------------------------------------------------------------------\u001b[0m",
      "\u001b[1;31mTypeError\u001b[0m                                 Traceback (most recent call last)",
      "Cell \u001b[1;32mIn[53], line 4\u001b[0m\n\u001b[0;32m      1\u001b[0m \u001b[38;5;66;03m# 21. Check if a number is prime.\u001b[39;00m\n\u001b[0;32m      3\u001b[0m a \u001b[38;5;241m=\u001b[39m \u001b[38;5;28mint\u001b[39m(\u001b[38;5;28minput\u001b[39m(\u001b[38;5;124m\"\u001b[39m\u001b[38;5;124menter the number\u001b[39m\u001b[38;5;124m\"\u001b[39m))\n\u001b[1;32m----> 4\u001b[0m \u001b[38;5;28;01mif\u001b[39;00m a \u001b[38;5;241m%\u001b[39m \u001b[38;5;28mrange\u001b[39m(\u001b[38;5;241m0\u001b[39m,a) \u001b[38;5;241m==\u001b[39m \u001b[38;5;241m0\u001b[39m:\n\u001b[0;32m      5\u001b[0m     \u001b[38;5;28mprint\u001b[39m()\n",
      "\u001b[1;31mTypeError\u001b[0m: unsupported operand type(s) for %: 'int' and 'range'"
     ]
    }
   ],
   "source": [
    "# 21. Check if a number is prime.\n",
    "\n",
    "a = int(input(\"enter the number\"))\n",
    "if a % range(0,a) == 0:\n",
    "    print()"
   ]
  },
  {
   "cell_type": "code",
   "execution_count": 54,
   "id": "d8cf1412-0036-4aee-b752-212bd5641fb2",
   "metadata": {},
   "outputs": [
    {
     "ename": "SyntaxError",
     "evalue": "invalid syntax (1545250236.py, line 1)",
     "output_type": "error",
     "traceback": [
      "\u001b[1;36m  Cell \u001b[1;32mIn[54], line 1\u001b[1;36m\u001b[0m\n\u001b[1;33m    22. Check if a number is an Armstrong number.\u001b[0m\n\u001b[1;37m        ^\u001b[0m\n\u001b[1;31mSyntaxError\u001b[0m\u001b[1;31m:\u001b[0m invalid syntax\n"
     ]
    }
   ],
   "source": [
    "22. Check if a number is an Armstrong number.\n"
   ]
  },
  {
   "cell_type": "code",
   "execution_count": 57,
   "id": "3f4f3986-820c-43b8-87cd-590a93a84f5c",
   "metadata": {},
   "outputs": [
    {
     "name": "stdin",
     "output_type": "stream",
     "text": [
      "enter the number 123\n"
     ]
    },
    {
     "name": "stdout",
     "output_type": "stream",
     "text": [
      "not a palindrome\n"
     ]
    }
   ],
   "source": [
    "# 23. Check if a number is a palindrome.\n",
    "\n",
    "a = input(\"enter the number\")\n",
    "if a == a[::-1]:\n",
    "    print(\"it is palindrome\")\n",
    "else:\n",
    "    print(\"not a palindrome\")"
   ]
  },
  {
   "cell_type": "code",
   "execution_count": 58,
   "id": "0efb7bea-24a7-41c8-b2ee-9eea6121c5c1",
   "metadata": {},
   "outputs": [
    {
     "name": "stdin",
     "output_type": "stream",
     "text": [
      "enter the string nitin\n"
     ]
    },
    {
     "name": "stdout",
     "output_type": "stream",
     "text": [
      "it is palindrome\n"
     ]
    }
   ],
   "source": [
    "# 24. Check if a string is a palindrome.\n",
    "\n",
    "a = input(\"enter the string\")\n",
    "if a == a[::-1]:\n",
    "    print(\"it is palindrome\")\n",
    "else:\n",
    "    print(\"not a palindrome\") "
   ]
  },
  {
   "cell_type": "code",
   "execution_count": 3,
   "id": "481fc9f5-6802-4ef8-9f7b-ba590e396ae5",
   "metadata": {},
   "outputs": [
    {
     "name": "stdin",
     "output_type": "stream",
     "text": [
      "enter the number 45\n",
      "enter the number 87\n",
      "enter the number 86\n"
     ]
    },
    {
     "name": "stdout",
     "output_type": "stream",
     "text": [
      "86 is second largest number\n"
     ]
    }
   ],
   "source": [
    "# 25. Find the second largest of three numbers.\n",
    "\n",
    "a = int(input(\"enter the number\"))\n",
    "b = int(input(\"enter the number\"))\n",
    "c = int(input(\"enter the number\"))\n",
    "if (a > b and a < c) or (a > c and a < b):\n",
    "    print(a,\"is second largest number\")\n",
    "elif (b > a and b < c) or (b > c and b < a):\n",
    "    print(b,\"is second largest number\")\n",
    "else:\n",
    "    print(c,\"is second largest number\")"
   ]
  },
  {
   "cell_type": "code",
   "execution_count": 6,
   "id": "e850b29f-ecc4-4085-94f3-83e746c8ded7",
   "metadata": {},
   "outputs": [
    {
     "name": "stdin",
     "output_type": "stream",
     "text": [
      "enter yur age 76\n",
      "enter your nationality ex:- indian or other -  indian\n"
     ]
    },
    {
     "name": "stdout",
     "output_type": "stream",
     "text": [
      "you can vote\n"
     ]
    }
   ],
   "source": [
    "# 26. Check eligibility to vote based on age and nationality.\n",
    "\n",
    "age = int(input(\"enter yur age\"))\n",
    "nation = input(\"enter your nationality ex:- indian or other - \").upper()\n",
    "if age > 18 and nation == \"INDIAN\":\n",
    "    print(\"you can vote\")\n",
    "else:\n",
    "    print(\"you can not vote\")"
   ]
  },
  {
   "cell_type": "code",
   "execution_count": 11,
   "id": "3b6b269c-61a2-48cf-aba7-0ae2a9d8b714",
   "metadata": {},
   "outputs": [
    {
     "name": "stdin",
     "output_type": "stream",
     "text": [
      "enter the side 4\n",
      "enter the side 5\n",
      "enter the side 5\n"
     ]
    },
    {
     "name": "stdout",
     "output_type": "stream",
     "text": [
      "triangle is isosceles triangle\n"
     ]
    }
   ],
   "source": [
    "# 27. Determine if a triangle is equilateral, isosceles, or scalene.\n",
    "\n",
    "a = int(input(\"enter the side\"))\n",
    "b = int(input(\"enter the side\"))\n",
    "c = int(input(\"enter the side\"))\n",
    "if a == b == c:\n",
    "    print(\"triangle is equilateral triangle\")\n",
    "elif a == b or b ==c or c == a:\n",
    "    print(\"triangle is isosceles triangle\")\n",
    "else:\n",
    "    print(\"triangle is scalene\")"
   ]
  },
  {
   "cell_type": "code",
   "execution_count": null,
   "id": "ae48e2d9-319c-4e04-ad9c-89000bbc97e8",
   "metadata": {},
   "outputs": [],
   "source": [
    "# 28. Check if a number is positive, negative, or zero.\n",
    "\n",
    "#already done"
   ]
  },
  {
   "cell_type": "code",
   "execution_count": null,
   "id": "5006b1d9-8ba2-4642-8cfa-47b6a1c319a6",
   "metadata": {},
   "outputs": [],
   "source": [
    "# 29. Categorize a given temperature as cold, warm, or hot.\n",
    "\n",
    "#already done"
   ]
  },
  {
   "cell_type": "code",
   "execution_count": 20,
   "id": "602c2a18-1920-46a5-a3d4-55ee950d34fb",
   "metadata": {},
   "outputs": [
    {
     "name": "stdin",
     "output_type": "stream",
     "text": [
      "enter the number 2\n",
      "enter the number 3\n",
      "enter the operation to perform on numbers :- + , - , * , / , % , // , ** **\n"
     ]
    },
    {
     "name": "stdout",
     "output_type": "stream",
     "text": [
      "in this case the first value is your number and the second value is power\n",
      "8\n"
     ]
    }
   ],
   "source": [
    "# 30. Implement a simple calculator using if–elif–else\n",
    "\n",
    "a = int(input(\"enter the number\"))\n",
    "b = int(input(\"enter the number\"))\n",
    "op = input(\"enter the operation to perform on numbers :- + , - , * , / , % , // , **\" )\n",
    "if op == \"+\":\n",
    "    print(a+b)\n",
    "elif op == \"-\":\n",
    "    print(a-b)\n",
    "elif op == \"*\":\n",
    "    print(a*b)\n",
    "elif op == \"/\":\n",
    "    print(a/b)\n",
    "elif op == \"%\":\n",
    "    print(a%b)\n",
    "elif op == \"//\":\n",
    "    print(a//b)\n",
    "elif op == \"**\":\n",
    "    print(\"in this case the first value is your number and the second value is power\")\n",
    "    print(a**b)\n",
    "else:\n",
    "    print(\"Invalid input\")"
   ]
  },
  {
   "cell_type": "code",
   "execution_count": null,
   "id": "fdd966f5-1700-4100-9eca-27dbb2ab587e",
   "metadata": {},
   "outputs": [],
   "source": []
  }
 ],
 "metadata": {
  "kernelspec": {
   "display_name": "Python [conda env:base] *",
   "language": "python",
   "name": "conda-base-py"
  },
  "language_info": {
   "codemirror_mode": {
    "name": "ipython",
    "version": 3
   },
   "file_extension": ".py",
   "mimetype": "text/x-python",
   "name": "python",
   "nbconvert_exporter": "python",
   "pygments_lexer": "ipython3",
   "version": "3.12.7"
  }
 },
 "nbformat": 4,
 "nbformat_minor": 5
}
