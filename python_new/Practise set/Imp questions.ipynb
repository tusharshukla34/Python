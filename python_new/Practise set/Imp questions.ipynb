{
 "cells": [
  {
   "cell_type": "code",
   "execution_count": 28,
   "id": "bb7701cb-3351-4d8d-8805-4e2a025c840d",
   "metadata": {},
   "outputs": [
    {
     "name": "stdin",
     "output_type": "stream",
     "text": [
      "enter the number to find prime or not 97\n"
     ]
    },
    {
     "name": "stdout",
     "output_type": "stream",
     "text": [
      "prime\n"
     ]
    }
   ],
   "source": [
    "# prime number\n",
    "\n",
    "n = int(input(\"enter the number to find prime or not\"))\n",
    "if n <= 1:\n",
    "    print(\"not a prime\")\n",
    "else:\n",
    "    for i in range(2,n):\n",
    "        if n % i == 0:\n",
    "            print(\"not a prime\")\n",
    "            break\n",
    "    else:\n",
    "        print(\"prime\")"
   ]
  },
  {
   "cell_type": "code",
   "execution_count": 44,
   "id": "5a92aaa1-c762-457e-b39f-3a450e5167c9",
   "metadata": {},
   "outputs": [],
   "source": [
    "# prime fun\n",
    "\n",
    "def prime(n):\n",
    "    if n <= 1:\n",
    "        print(\"not prime\")\n",
    "    else:\n",
    "        for i in range(2,n):\n",
    "            if n % i == 0:\n",
    "                print(\"not prime\")\n",
    "                break\n",
    "        else:\n",
    "            print(\"prime\")"
   ]
  },
  {
   "cell_type": "code",
   "execution_count": 45,
   "id": "3c1374ad-fe93-4e13-8430-e3f0b59a4c2c",
   "metadata": {},
   "outputs": [
    {
     "name": "stdout",
     "output_type": "stream",
     "text": [
      "prime\n"
     ]
    }
   ],
   "source": [
    "prime(97)"
   ]
  },
  {
   "cell_type": "code",
   "execution_count": null,
   "id": "f9a597c1-2aae-47cf-832b-799df1f8f0bf",
   "metadata": {},
   "outputs": [],
   "source": []
  },
  {
   "cell_type": "code",
   "execution_count": 9,
   "id": "a68a291c-fe0f-4e4b-a55f-204a7252fcce",
   "metadata": {},
   "outputs": [],
   "source": [
    "# creating function for fibonacci\n",
    "def fibo(n):\n",
    "    a = 0\n",
    "    b = 1\n",
    "    for i in range(2,n+1):\n",
    "        temp = a\n",
    "        a = b\n",
    "        b = temp + b\n",
    "    return a    "
   ]
  },
  {
   "cell_type": "code",
   "execution_count": 10,
   "id": "4300c9ae-cf64-4739-9832-4a6546f0326e",
   "metadata": {},
   "outputs": [
    {
     "data": {
      "text/plain": [
       "3"
      ]
     },
     "execution_count": 10,
     "metadata": {},
     "output_type": "execute_result"
    }
   ],
   "source": [
    "fibo(5)"
   ]
  },
  {
   "cell_type": "code",
   "execution_count": 16,
   "id": "e75f579d-ccb0-4378-92c2-8ecd01fa7777",
   "metadata": {},
   "outputs": [
    {
     "name": "stdin",
     "output_type": "stream",
     "text": [
      "Enter the nth number 177\n"
     ]
    },
    {
     "name": "stdout",
     "output_type": "stream",
     "text": [
      "2 3 5 7 11 13 17 19 23 29 31 37 41 43 47 53 59 61 67 71 73 79 83 89 97 101 103 107 109 113 127 131 137 139 149 151 157 163 167 173 "
     ]
    }
   ],
   "source": [
    "# prime range\n",
    "\n",
    "n = int(input(\"Enter the nth number\"))\n",
    "for n in range(2,n):\n",
    "    for i in range(2,n):\n",
    "        if n % i == 0:\n",
    "            break\n",
    "    else:\n",
    "        print(n,end = \" \")"
   ]
  },
  {
   "cell_type": "code",
   "execution_count": 4,
   "id": "0675394a-29bd-4827-bb20-626fd119fb97",
   "metadata": {},
   "outputs": [
    {
     "name": "stdin",
     "output_type": "stream",
     "text": [
      "Enter the nth term 5\n"
     ]
    },
    {
     "name": "stdout",
     "output_type": "stream",
     "text": [
      "1 1 2 3 "
     ]
    }
   ],
   "source": [
    "# fibonacci series\n",
    "\n",
    "n = int(input(\"Enter the nth term\"))\n",
    "a = 0\n",
    "b = 1\n",
    "for i in range(2,n+1):\n",
    "    temp = a\n",
    "    a = b\n",
    "    b = temp + b\n",
    "    print(a,end = \" \")"
   ]
  },
  {
   "cell_type": "code",
   "execution_count": 52,
   "id": "e3ba36bd-5873-48f4-9c60-2a81e8dbf858",
   "metadata": {},
   "outputs": [],
   "source": [
    "# function for sorting a list  (asc)\n",
    "\n",
    "def sort(a):\n",
    "    for i in range(len(a)):\n",
    "        for j in range(i+1,len(a)):\n",
    "            if a[i] > a[j]:\n",
    "                a[i],a[j] = a[j],a[i]\n",
    "    return a        "
   ]
  },
  {
   "cell_type": "code",
   "execution_count": 2,
   "id": "1fea801a-d5c6-475e-860f-bf6442c0bc0b",
   "metadata": {},
   "outputs": [
    {
     "data": {
      "text/plain": [
       "[5, 7, 4, 9, 2, 45, 34, 24, 14]"
      ]
     },
     "execution_count": 2,
     "metadata": {},
     "output_type": "execute_result"
    }
   ],
   "source": [
    "a = [5,7,4,9,2,45,34,24,14]\n",
    "sort(a)"
   ]
  },
  {
   "cell_type": "code",
   "execution_count": 54,
   "id": "723889f4-ce00-4e55-970f-9db8e8640371",
   "metadata": {},
   "outputs": [],
   "source": [
    "# function for sorting a list (desc)\n",
    "\n",
    "def sort(a):\n",
    "    for i in range(len(a)):\n",
    "        for j in range(i+1,len(a)):\n",
    "            if a[i] < a[j]:\n",
    "                a[i],a[j] = a[j],a[i]\n",
    "    return a  "
   ]
  },
  {
   "cell_type": "code",
   "execution_count": 55,
   "id": "a1d28168-ba13-44db-b5f3-febb5bd2cecb",
   "metadata": {},
   "outputs": [
    {
     "data": {
      "text/plain": [
       "[84, 67, 66, 66, 56, 54, 45, 34, 7, 5, 5, 4, 3, 3, 3]"
      ]
     },
     "execution_count": 55,
     "metadata": {},
     "output_type": "execute_result"
    }
   ],
   "source": [
    "a = [45,5,3,67,3,56,84,3,66,5,4,34,66,7,54]\n",
    "sort(a)"
   ]
  },
  {
   "cell_type": "code",
   "execution_count": 58,
   "id": "1f7e8837-64db-49e0-bc06-2b14bc51d87a",
   "metadata": {},
   "outputs": [],
   "source": [
    "# function to find max in a list\n",
    "\n",
    "def max_list(a):\n",
    "    max_n = a[0]\n",
    "    for i in a:\n",
    "        if i > max_n:\n",
    "            max_n = i\n",
    "    return max_n        "
   ]
  },
  {
   "cell_type": "code",
   "execution_count": 59,
   "id": "6b763e5b-4bad-4b68-846c-21f024154056",
   "metadata": {},
   "outputs": [
    {
     "data": {
      "text/plain": [
       "84"
      ]
     },
     "execution_count": 59,
     "metadata": {},
     "output_type": "execute_result"
    }
   ],
   "source": [
    "a = [45,5,3,67,3,56,84,3,66,5,4,34,66,7,54]\n",
    "max_list(a)"
   ]
  },
  {
   "cell_type": "code",
   "execution_count": 60,
   "id": "bf1f97bf-39c3-4ea7-8323-85daeb1ba268",
   "metadata": {},
   "outputs": [
    {
     "name": "stdin",
     "output_type": "stream",
     "text": [
      "Enter the year to check 2000\n"
     ]
    },
    {
     "name": "stdout",
     "output_type": "stream",
     "text": [
      "leap year\n"
     ]
    }
   ],
   "source": [
    "# leap year\n",
    "\n",
    "year = int(input(\"Enter the year to check\"))\n",
    "if (year % 4 == 0 and year % 100 != 0) or year % 400 == 0:\n",
    "    print(\"leap year\")\n",
    "else:\n",
    "    print(\"not a leap yaer\")"
   ]
  },
  {
   "cell_type": "code",
   "execution_count": null,
   "id": "09ba3707-c5d8-4662-95e4-1f69bb8f7cd5",
   "metadata": {},
   "outputs": [],
   "source": [
    "# Palindrome"
   ]
  },
  {
   "cell_type": "code",
   "execution_count": 4,
   "id": "bde372bf-4a29-4555-bb9e-fb5fc90e6f58",
   "metadata": {},
   "outputs": [
    {
     "name": "stdin",
     "output_type": "stream",
     "text": [
      "Enter the number 153\n"
     ]
    },
    {
     "name": "stdout",
     "output_type": "stream",
     "text": [
      "It is armstrong number\n"
     ]
    }
   ],
   "source": [
    "# Armstrong number\n",
    "\n",
    "n = int(input(\"Enter the number\"))\n",
    "org = n\n",
    "sum = 0\n",
    "digit = 0\n",
    "power = len(str(n))\n",
    "\n",
    "while n != 0:\n",
    "    digit = n % 10\n",
    "    sum = sum + digit ** power\n",
    "    n = n // 10\n",
    "if org == sum:\n",
    "    print(\"It is armstrong number\")\n",
    "else:\n",
    "    print(\"Not a armstrong number\")"
   ]
  }
 ],
 "metadata": {
  "kernelspec": {
   "display_name": "Python [conda env:base] *",
   "language": "python",
   "name": "conda-base-py"
  },
  "language_info": {
   "codemirror_mode": {
    "name": "ipython",
    "version": 3
   },
   "file_extension": ".py",
   "mimetype": "text/x-python",
   "name": "python",
   "nbconvert_exporter": "python",
   "pygments_lexer": "ipython3",
   "version": "3.12.7"
  }
 },
 "nbformat": 4,
 "nbformat_minor": 5
}
