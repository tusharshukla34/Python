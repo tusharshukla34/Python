{
 "cells": [
  {
   "cell_type": "code",
   "execution_count": 2,
   "id": "3c44d11e-6906-45f6-a066-ab8a3bbf37da",
   "metadata": {},
   "outputs": [
    {
     "name": "stdout",
     "output_type": "stream",
     "text": [
      "Requirement already satisfied: qrcode[pil] in c:\\users\\hp\\anaconda3\\lib\\site-packages (8.2)\n",
      "Requirement already satisfied: colorama in c:\\users\\hp\\anaconda3\\lib\\site-packages (from qrcode[pil]) (0.4.6)\n",
      "Requirement already satisfied: pillow>=9.1.0 in c:\\users\\hp\\anaconda3\\lib\\site-packages (from qrcode[pil]) (10.4.0)\n",
      "Note: you may need to restart the kernel to use updated packages.\n"
     ]
    }
   ],
   "source": [
    "pip install qrcode[pil]"
   ]
  },
  {
   "cell_type": "code",
   "execution_count": 2,
   "id": "eed06a86-269e-4e61-b30d-d01838d1987b",
   "metadata": {},
   "outputs": [
    {
     "name": "stdout",
     "output_type": "stream",
     "text": [
      "Custom QR code generated successfully!\n"
     ]
    }
   ],
   "source": [
    "import qrcode\n",
    "\n",
    "# Create a QRCode object with custom settings\n",
    "qr = qrcode.QRCode(\n",
    "    version=1,  # controls the size of the QR Code (1 is 21x21)\n",
    "    error_correction=qrcode.constants.ERROR_CORRECT_L,  # L: 7% error correction\n",
    "    box_size=10,  # size of each box in pixels\n",
    "    border=4,  # thickness of the border (default is 4)\n",
    ")\n",
    "\n",
    "# Add your data\n",
    "qr.add_data(\"Tushar\")\n",
    "qr.make(fit=True)\n",
    "\n",
    "# Create the image\n",
    "img = qr.make_image(fill_color=\"darkblue\", back_color=\"lightyellow\")\n",
    "\n",
    "# Save it\n",
    "img.save(\"custom_qrcode.png\")\n",
    "print(\"Custom QR code generated successfully!\")"
   ]
  },
  {
   "cell_type": "code",
   "execution_count": 1,
   "id": "3ed16cc9-74c7-4bc0-ab91-79086ca3dcda",
   "metadata": {},
   "outputs": [
    {
     "name": "stdout",
     "output_type": "stream",
     "text": [
      "System: Windows 11\n",
      "Processor: Intel64 Family 6 Model 170 Stepping 4, GenuineIntel\n",
      "CPU test time: 2.37 seconds\n",
      "Memory allocation time: 0.21 seconds\n",
      "Performance Score: 387.81\n"
     ]
    }
   ],
   "source": [
    "import time\n",
    "import platform\n",
    "\n",
    "print(f\"System: {platform.system()} {platform.release()}\")\n",
    "print(f\"Processor: {platform.processor()}\")\n",
    "\n",
    "# CPU test\n",
    "start = time.time()\n",
    "total = sum(range(50_000_000))  # Summing numbers\n",
    "cpu_time = time.time() - start\n",
    "print(f\"CPU test time: {cpu_time:.2f} seconds\")\n",
    "\n",
    "# Memory test\n",
    "start = time.time()\n",
    "lst = [0] * 50_000_000  # Allocate large list\n",
    "mem_time = time.time() - start\n",
    "print(f\"Memory allocation time: {mem_time:.2f} seconds\")\n",
    "\n",
    "# Simple score (lower time = better score)\n",
    "score = 1000 / (cpu_time + mem_time)\n",
    "print(f\"Performance Score: {score:.2f}\")\n"
   ]
  },
  {
   "cell_type": "code",
   "execution_count": 2,
   "id": "2bc15355-75bf-4ed6-b47d-0819bfe36b7b",
   "metadata": {},
   "outputs": [
    {
     "name": "stdout",
     "output_type": "stream",
     "text": [
      "System: Windows 11\n",
      "Processor: Intel64 Family 6 Model 170 Stepping 4, GenuineIntel\n",
      "CPU test time: 2.31 seconds\n",
      "Memory allocation time: 0.30 seconds\n",
      "Disk write speed: 260.07 MB/s\n",
      "Disk read speed: 872.42 MB/s\n",
      "PyTorch not installed — skipping GPU check.\n",
      "Performance Score: 439.84\n"
     ]
    }
   ],
   "source": [
    "import time\n",
    "import platform\n",
    "import os\n",
    "import tempfile\n",
    "\n",
    "print(f\"System: {platform.system()} {platform.release()}\")\n",
    "print(f\"Processor: {platform.processor()}\")\n",
    "\n",
    "# --- CPU Test ---\n",
    "start = time.time()\n",
    "total = sum(range(50_000_000))\n",
    "cpu_time = time.time() - start\n",
    "print(f\"CPU test time: {cpu_time:.2f} seconds\")\n",
    "\n",
    "# --- Memory Test ---\n",
    "start = time.time()\n",
    "lst = [0] * 50_000_000\n",
    "mem_time = time.time() - start\n",
    "print(f\"Memory allocation time: {mem_time:.2f} seconds\")\n",
    "\n",
    "# --- Disk Test ---\n",
    "file_size_mb = 200\n",
    "temp_file = os.path.join(tempfile.gettempdir(), \"disk_benchmark.tmp\")\n",
    "\n",
    "# Write test\n",
    "start = time.time()\n",
    "with open(temp_file, \"wb\") as f:\n",
    "    f.write(os.urandom(file_size_mb * 1024 * 1024))\n",
    "write_time = time.time() - start\n",
    "\n",
    "# Read test\n",
    "start = time.time()\n",
    "with open(temp_file, \"rb\") as f:\n",
    "    f.read()\n",
    "read_time = time.time() - start\n",
    "\n",
    "# Remove test file\n",
    "os.remove(temp_file)\n",
    "\n",
    "disk_write_speed = file_size_mb / write_time\n",
    "disk_read_speed = file_size_mb / read_time\n",
    "print(f\"Disk write speed: {disk_write_speed:.2f} MB/s\")\n",
    "print(f\"Disk read speed: {disk_read_speed:.2f} MB/s\")\n",
    "\n",
    "# --- GPU Check ---\n",
    "try:\n",
    "    import torch\n",
    "    if torch.cuda.is_available():\n",
    "        gpu_name = torch.cuda.get_device_name(0)\n",
    "        print(f\"GPU detected: {gpu_name}\")\n",
    "    else:\n",
    "        print(\"No GPU detected (or not accessible by PyTorch).\")\n",
    "except ImportError:\n",
    "    print(\"PyTorch not installed — skipping GPU check.\")\n",
    "\n",
    "# --- Combined Performance Score ---\n",
    "score = (1000 / (cpu_time + mem_time)) + (disk_read_speed + disk_write_speed) / 20\n",
    "print(f\"Performance Score: {score:.2f}\")\n"
   ]
  },
  {
   "cell_type": "code",
   "execution_count": 3,
   "id": "9a93f842-fdcf-441d-9b0f-995ea422a35f",
   "metadata": {},
   "outputs": [
    {
     "name": "stdout",
     "output_type": "stream",
     "text": [
      "^C\n"
     ]
    }
   ],
   "source": [
    "!pip install torch --quiet\n"
   ]
  },
  {
   "cell_type": "code",
   "execution_count": null,
   "id": "04540650-3c99-431c-9ada-bb3dafc444ae",
   "metadata": {},
   "outputs": [],
   "source": [
    "import torch\n",
    "import time\n",
    "\n",
    "if torch.cuda.is_available():\n",
    "    device = torch.device(\"cuda\")\n",
    "    gpu_name = torch.cuda.get_device_name(0)\n",
    "    print(f\"GPU detected: {gpu_name}\")\n",
    "\n",
    "    # Create two large random matrices on GPU\n",
    "    size = 4000  # increase for more stress\n",
    "    a = torch.rand((size, size), device=device)\n",
    "    b = torch.rand((size, size), device=device)\n",
    "\n",
    "    # Warm-up run (ignore timing)\n",
    "    torch.matmul(a, b)\n",
    "\n",
    "    # Timed run\n",
    "    torch.cuda.synchronize()\n",
    "    start = time.time()\n",
    "    torch.matmul(a, b)\n",
    "    torch.cuda.synchronize()\n",
    "    gpu_time = time.time() - start\n",
    "\n",
    "    # Simple GFLOPS estimate\n",
    "    flops = 2 * (size ** 3) / gpu_time / 1e9\n",
    "    print(f\"GPU matrix multiply time: {gpu_time:.4f} sec\")\n",
    "    print(f\"Estimated performance: {flops:.2f} GFLOPS\")\n",
    "\n",
    "else:\n",
    "    print(\"No compatible GPU detected or CUDA not available.\")\n"
   ]
  },
  {
   "cell_type": "code",
   "execution_count": 1,
   "id": "6f3b27fe-0f0c-4179-a424-f035a49ba5b7",
   "metadata": {},
   "outputs": [
    {
     "name": "stdout",
     "output_type": "stream",
     "text": [
      "^C\n"
     ]
    }
   ],
   "source": [
    "!pip install cupy-cuda12x --quiet"
   ]
  },
  {
   "cell_type": "code",
   "execution_count": null,
   "id": "e7402fd4-b358-4bc8-8468-8c181792e772",
   "metadata": {},
   "outputs": [],
   "source": [
    "import cupy as cp\n",
    "import time\n",
    "\n",
    "try:\n",
    "    # Check GPU\n",
    "    gpu_name = cp.cuda.runtime.getDeviceProperties(0)[\"name\"].decode(\"utf-8\")\n",
    "    print(f\"GPU detected: {gpu_name}\")\n",
    "\n",
    "    # Create two big random matrices\n",
    "    size = 4000\n",
    "    a = cp.random.rand(size, size, dtype=cp.float32)\n",
    "    b = cp.random.rand(size, size, dtype=cp.float32)\n",
    "\n",
    "    # Warm-up\n",
    "    cp.matmul(a, b)\n",
    "    cp.cuda.Stream.null.synchronize()\n",
    "\n",
    "    # Timed run\n",
    "    start = time.time()\n",
    "    cp.matmul(a, b)\n",
    "    cp.cuda.Stream.null.synchronize()\n",
    "    gpu_time = time.time() - start\n",
    "\n",
    "    # Calculate GFLOPS\n",
    "    flops = 2 * (size ** 3) / gpu_time / 1e9\n",
    "    print(f\"GPU matrix multiply time: {gpu_time:.4f} sec\")\n",
    "    print(f\"Estimated performance: {flops:.2f} GFLOPS\")\n",
    "\n",
    "except cp.cuda.runtime.CUDARuntimeError as e:\n",
    "    print(\"No compatible CUDA GPU detected or drivers not installed.\")\n"
   ]
  },
  {
   "cell_type": "code",
   "execution_count": null,
   "id": "7db158c9-2a02-4ac8-9ca3-4a30c6005d36",
   "metadata": {},
   "outputs": [],
   "source": []
  }
 ],
 "metadata": {
  "kernelspec": {
   "display_name": "Python [conda env:base] *",
   "language": "python",
   "name": "conda-base-py"
  },
  "language_info": {
   "codemirror_mode": {
    "name": "ipython",
    "version": 3
   },
   "file_extension": ".py",
   "mimetype": "text/x-python",
   "name": "python",
   "nbconvert_exporter": "python",
   "pygments_lexer": "ipython3",
   "version": "3.12.7"
  }
 },
 "nbformat": 4,
 "nbformat_minor": 5
}
