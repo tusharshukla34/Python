{
 "cells": [
  {
   "cell_type": "code",
   "execution_count": null,
   "id": "2511fef2-12e5-48d0-91e2-ef8dd6cce961",
   "metadata": {},
   "outputs": [],
   "source": [
    "1. Print numbers from 1 to 10 using a for loop.\n"
   ]
  },
  {
   "cell_type": "code",
   "execution_count": null,
   "id": "3e9e049e-7bb2-4004-b862-3dc7e46cefb4",
   "metadata": {},
   "outputs": [],
   "source": [
    "2. Print even numbers from 2 to 20.\n"
   ]
  },
  {
   "cell_type": "code",
   "execution_count": null,
   "id": "920d13a0-fbbb-4495-b2c0-23fb4beeeb5b",
   "metadata": {},
   "outputs": [],
   "source": [
    "3. Print the squares of numbers from 1 to 5.\n"
   ]
  },
  {
   "cell_type": "code",
   "execution_count": null,
   "id": "bf389894-50c2-421d-8019-c482642bd998",
   "metadata": {},
   "outputs": [],
   "source": [
    "4. Print each character of a given string.\n"
   ]
  },
  {
   "cell_type": "code",
   "execution_count": null,
   "id": "a29214d0-5dbf-4017-a1f7-1de65d4734dc",
   "metadata": {},
   "outputs": [],
   "source": [
    "5. Print the sum of numbers from 1 to 100.\n"
   ]
  },
  {
   "cell_type": "code",
   "execution_count": null,
   "id": "d9179ec8-14c1-43e1-b07d-34771a1820b2",
   "metadata": {},
   "outputs": [],
   "source": [
    "6. Print the multiplication table of 5.\n"
   ]
  },
  {
   "cell_type": "code",
   "execution_count": null,
   "id": "6f0766e2-3bf2-4e2f-a518-49f11dc24fa1",
   "metadata": {},
   "outputs": [],
   "source": [
    "7. Iterate through a list of fruits and print each one.\n"
   ]
  },
  {
   "cell_type": "code",
   "execution_count": null,
   "id": "e2dde24e-e364-4e21-8cf6-9f665cb8ccf5",
   "metadata": {},
   "outputs": [],
   "source": [
    "8. Print the first 10 natural numbers in reverse order.\n"
   ]
  },
  {
   "cell_type": "code",
   "execution_count": null,
   "id": "a5cf5c76-a715-4285-ac78-8c11f63dc30e",
   "metadata": {},
   "outputs": [],
   "source": [
    "9. Print all elements of a list with their indices.\n"
   ]
  },
  {
   "cell_type": "code",
   "execution_count": null,
   "id": "c527f4d4-2ec3-4c0a-b718-67d754678a53",
   "metadata": {},
   "outputs": [],
   "source": [
    "10. Print all odd numbers between 1 and 20."
   ]
  },
  {
   "cell_type": "code",
   "execution_count": null,
   "id": "dc844847-d491-48c4-8a2c-bd3347fae74f",
   "metadata": {},
   "outputs": [],
   "source": [
    "11. Print all prime numbers between 1 and 50.\n"
   ]
  },
  {
   "cell_type": "code",
   "execution_count": null,
   "id": "b0329bf1-bf3d-4f6d-8bfd-0f5771587e20",
   "metadata": {},
   "outputs": [],
   "source": [
    "12. Count how many vowels are in a given string.\n"
   ]
  },
  {
   "cell_type": "code",
   "execution_count": null,
   "id": "df7a426e-9a33-4da3-8f9e-2b88d2c96474",
   "metadata": {},
   "outputs": [],
   "source": [
    "13. Given a list of numbers, print only those greater than 10.\n"
   ]
  },
  {
   "cell_type": "code",
   "execution_count": null,
   "id": "264bab1c-77bf-46f4-b8dc-6dbe04373cb5",
   "metadata": {},
   "outputs": [],
   "source": [
    "14. Calculate the factorial of a number using a for loop.\n"
   ]
  },
  {
   "cell_type": "code",
   "execution_count": null,
   "id": "ebc08a9f-5c47-4e58-889b-e51a4c6e6fd0",
   "metadata": {},
   "outputs": [],
   "source": [
    "15. Print the Fibonacci sequence up to n terms using a for loop.\n"
   ]
  },
  {
   "cell_type": "code",
   "execution_count": null,
   "id": "26147b5b-fb33-4b64-a0f8-666f821b3498",
   "metadata": {},
   "outputs": [],
   "source": [
    "16. Print the sum of even numbers between 1 and 50.\n"
   ]
  },
  {
   "cell_type": "code",
   "execution_count": null,
   "id": "f93b856f-cc8d-4057-8eac-b3160a7cb885",
   "metadata": {},
   "outputs": [],
   "source": [
    "17. Given a list of strings, print those with length > 5.\n"
   ]
  },
  {
   "cell_type": "code",
   "execution_count": null,
   "id": "6ced1077-b2fe-4889-93a5-5ee1022281dc",
   "metadata": {},
   "outputs": [],
   "source": [
    "18. Reverse a string using a for loop.\n"
   ]
  },
  {
   "cell_type": "code",
   "execution_count": null,
   "id": "13b9fdad-49e0-43ed-b48f-d32a74e9e552",
   "metadata": {},
   "outputs": [],
   "source": [
    "19. Print the ASCII values of characters from 'A' to 'Z'.\n"
   ]
  },
  {
   "cell_type": "code",
   "execution_count": null,
   "id": "f8698a0c-d941-4b22-b786-d7eb9e30978c",
   "metadata": {},
   "outputs": [],
   "source": [
    "20. Count how many times a specific number appears in a list.\n"
   ]
  },
  {
   "cell_type": "code",
   "execution_count": null,
   "id": "3a438f52-0795-46d8-87f8-f77496339298",
   "metadata": {},
   "outputs": [],
   "source": [
    "21. Print a pyramid pattern of stars with 5 rows.\n"
   ]
  },
  {
   "cell_type": "code",
   "execution_count": null,
   "id": "c6b9f2dd-5c45-4696-86dc-5335b723a412",
   "metadata": {},
   "outputs": [],
   "source": [
    "22. Print an inverted pyramid pattern of stars with 5 rows.\n"
   ]
  },
  {
   "cell_type": "code",
   "execution_count": null,
   "id": "908b97c7-f1d4-44bc-86e6-92508c9799d6",
   "metadata": {},
   "outputs": [],
   "source": [
    "23. Print a right-aligned triangle pattern of stars with 5 rows.\n"
   ]
  },
  {
   "cell_type": "code",
   "execution_count": null,
   "id": "a3e73d29-f60c-4946-9c5e-14b16a6c6a20",
   "metadata": {},
   "outputs": [],
   "source": [
    "24. Print the multiplication tables from 1 to 10.\n"
   ]
  },
  {
   "cell_type": "code",
   "execution_count": null,
   "id": "2ca83e6b-c7fc-411a-84ff-27fa3bc2aadb",
   "metadata": {},
   "outputs": [],
   "source": [
    "25. Print all perfect numbers between 1 and 500.\n"
   ]
  },
  {
   "cell_type": "code",
   "execution_count": null,
   "id": "fd898f08-7797-4362-8fa6-c6b1576bdcfa",
   "metadata": {},
   "outputs": [],
   "source": [
    "26. Print all Armstrong numbers between 100 and 999.\n"
   ]
  },
  {
   "cell_type": "code",
   "execution_count": null,
   "id": "451aec7b-949b-4f17-bafd-b5bbebc3afc3",
   "metadata": {},
   "outputs": [],
   "source": [
    "27. Print a diamond pattern of stars with 5 rows on each side.\n"
   ]
  },
  {
   "cell_type": "code",
   "execution_count": null,
   "id": "0ccbc438-d56d-4b6d-b63c-30e681fb1129",
   "metadata": {},
   "outputs": [],
   "source": [
    "28. Given a list of numbers, separate them into even and odd lists.\n"
   ]
  },
  {
   "cell_type": "code",
   "execution_count": null,
   "id": "a173d63f-5cb6-4a4b-ae94-22c81b25d5be",
   "metadata": {},
   "outputs": [],
   "source": [
    "29. Generate all 2-letter combinations from 'abc'.\n"
   ]
  },
  {
   "cell_type": "code",
   "execution_count": null,
   "id": "2d0a8810-629a-418c-b66e-5f720dfd7d7c",
   "metadata": {},
   "outputs": [],
   "source": [
    "30. Given a list of numbers, find the second largest using a for loop.\n"
   ]
  },
  {
   "cell_type": "markdown",
   "id": "6741bd3f-ec31-4fba-83ee-1a633c36bfbe",
   "metadata": {},
   "source": [
    "# ⬇️Some extra questions must do"
   ]
  },
  {
   "cell_type": "code",
   "execution_count": null,
   "id": "3b0d8165-fbb8-4cd1-ab77-b542f66b5fee",
   "metadata": {},
   "outputs": [],
   "source": [
    "Example 1: Print the first 10 natural numbers using for loop.\n",
    "    "
   ]
  },
  {
   "cell_type": "code",
   "execution_count": null,
   "id": "0985b53b-5e3a-4668-9cca-3161eede0c45",
   "metadata": {},
   "outputs": [],
   "source": [
    "Example 2: Python program to print all the even numbers within the given range.\n"
   ]
  },
  {
   "cell_type": "code",
   "execution_count": null,
   "id": "94bdbe0e-456d-40c2-872d-d36ba93c8020",
   "metadata": {},
   "outputs": [],
   "source": [
    "Example 3: Python program to calculate the sum of all numbers from 1 to a given\n",
    "number.\n"
   ]
  },
  {
   "cell_type": "code",
   "execution_count": null,
   "id": "bb610039-10bd-4b84-959f-fd78ce5c61ae",
   "metadata": {},
   "outputs": [],
   "source": [
    "Example 4: Python program to calculate the sum of all the odd numbers within the\n",
    "given range.\n"
   ]
  },
  {
   "cell_type": "code",
   "execution_count": null,
   "id": "5d7efa6c-c980-4a43-a359-289b45fae90b",
   "metadata": {},
   "outputs": [],
   "source": [
    "Example 5: Python program to print a multiplication table of a given number\n"
   ]
  },
  {
   "cell_type": "code",
   "execution_count": null,
   "id": "67c0509f-4ba7-4fb5-8dfe-5833bdf322aa",
   "metadata": {},
   "outputs": [],
   "source": [
    "Example 5: Python program to print a multiplication table of a given number\n"
   ]
  },
  {
   "cell_type": "code",
   "execution_count": null,
   "id": "2624734b-078f-4edb-bfb9-08e5610c2aa5",
   "metadata": {},
   "outputs": [],
   "source": [
    "Example 6: Python program to display numbers from a list using a for loop.\n"
   ]
  },
  {
   "cell_type": "code",
   "execution_count": null,
   "id": "f5f1c05a-79a4-4f07-a620-8d2292009210",
   "metadata": {},
   "outputs": [],
   "source": [
    "Example 7: Python program to count the total number of digits in a number.\n"
   ]
  },
  {
   "cell_type": "code",
   "execution_count": null,
   "id": "f8f1a6d8-ffac-4257-b051-4822255967d9",
   "metadata": {},
   "outputs": [],
   "source": [
    "Example 8: WAP to check given string is palindrome or not. (madam=madam)\n"
   ]
  },
  {
   "cell_type": "code",
   "execution_count": null,
   "id": "96a49090-6ddf-4432-be6c-40dce59f479b",
   "metadata": {},
   "outputs": [],
   "source": [
    "Example 9: Python program that accepts a word from the user and reverses it.\n"
   ]
  },
  {
   "cell_type": "code",
   "execution_count": null,
   "id": "631e65f0-86d6-483f-9b37-78a6f0caf1d4",
   "metadata": {},
   "outputs": [],
   "source": [
    "Example 10: Python program to check if a given number is an Armstrong number.\n",
    "(153=1**3+5**3+3**3)\n"
   ]
  },
  {
   "cell_type": "code",
   "execution_count": null,
   "id": "f83d053a-5fc6-44e4-8df8-e40164d9c6eb",
   "metadata": {},
   "outputs": [],
   "source": [
    "Example 11: Python program to count the number of even and odd numbers from a\n",
    "series of numbers.\n"
   ]
  },
  {
   "cell_type": "code",
   "execution_count": null,
   "id": "e552afcc-879e-4fda-90bf-5672a0bb332c",
   "metadata": {},
   "outputs": [],
   "source": [
    "Example 12: Python program to display all numbers within a range except the prime\n",
    "numbers.\n"
   ]
  },
  {
   "cell_type": "code",
   "execution_count": null,
   "id": "de4a18c6-4614-49f4-94d7-487149359177",
   "metadata": {},
   "outputs": [],
   "source": [
    "Example 13: Python program to get the Fibonacci series.\n",
    "(0,1,1,2,3,5,8,13,21……………..)\n"
   ]
  },
  {
   "cell_type": "code",
   "execution_count": null,
   "id": "980fe9e6-2101-49c2-abe1-f0242fc927c7",
   "metadata": {},
   "outputs": [],
   "source": [
    "Example 14: Python program to find the factorial of a given number.\n"
   ]
  },
  {
   "cell_type": "code",
   "execution_count": null,
   "id": "174b0267-9815-448f-a239-050e84e98dfb",
   "metadata": {},
   "outputs": [],
   "source": [
    "Example 15: Python program that accepts a string and calculates the number of\n",
    "digits and letters.\n"
   ]
  },
  {
   "cell_type": "code",
   "execution_count": null,
   "id": "3d6173c4-990e-4b7b-9494-6b95323ae712",
   "metadata": {},
   "outputs": [],
   "source": [
    "Example 16: Write a Python program that iterates the integers from 1 to 25.\n"
   ]
  },
  {
   "cell_type": "code",
   "execution_count": null,
   "id": "5f9a38a0-999f-4331-b0ca-07f44db36604",
   "metadata": {},
   "outputs": [],
   "source": [
    "Example 17: Python program to check the validity of password input by users.\n"
   ]
  },
  {
   "cell_type": "code",
   "execution_count": null,
   "id": "6d253bc2-fe31-4eab-8496-92e83b01fedb",
   "metadata": {},
   "outputs": [],
   "source": [
    "Example 18: Python program to convert the month name to a number of days.\n"
   ]
  },
  {
   "cell_type": "code",
   "execution_count": null,
   "id": "6c17eccc-6b05-4c02-ba26-80db25c9bb87",
   "metadata": {},
   "outputs": [],
   "source": []
  },
  {
   "cell_type": "code",
   "execution_count": null,
   "id": "4794c1fd-65f9-4692-a5b0-5b200dd1663e",
   "metadata": {},
   "outputs": [],
   "source": []
  },
  {
   "cell_type": "code",
   "execution_count": null,
   "id": "a32c89b3-c295-4c38-9eba-c99e5abc03ea",
   "metadata": {},
   "outputs": [],
   "source": []
  },
  {
   "cell_type": "code",
   "execution_count": null,
   "id": "937a731d-bf7e-436c-b4e0-b63b8bb59c44",
   "metadata": {},
   "outputs": [],
   "source": []
  }
 ],
 "metadata": {
  "kernelspec": {
   "display_name": "Python [conda env:base] *",
   "language": "python",
   "name": "conda-base-py"
  },
  "language_info": {
   "codemirror_mode": {
    "name": "ipython",
    "version": 3
   },
   "file_extension": ".py",
   "mimetype": "text/x-python",
   "name": "python",
   "nbconvert_exporter": "python",
   "pygments_lexer": "ipython3",
   "version": "3.12.7"
  }
 },
 "nbformat": 4,
 "nbformat_minor": 5
}
