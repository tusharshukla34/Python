{
 "cells": [
  {
   "cell_type": "code",
   "execution_count": 3,
   "id": "e99da3fa-1170-484d-ad23-4fcfd682eec3",
   "metadata": {},
   "outputs": [
    {
     "name": "stdin",
     "output_type": "stream",
     "text": [
      "enter the number 7\n"
     ]
    },
    {
     "name": "stdout",
     "output_type": "stream",
     "text": [
      "number is positive\n",
      "number is not even\n"
     ]
    }
   ],
   "source": [
    "# 1. Write a program that checks if a number is positive, and if positive, checks if it is even.\n",
    "\n",
    "a = int(input(\"enter the number\"))\n",
    "if a > 0:\n",
    "    print(\"number is positive\")\n",
    "    if a % 2 == 0:\n",
    "        print(\"number is also even\")\n",
    "    else:\n",
    "        print(\"number is not even\")\n",
    "else:\n",
    "    print(\"number is not positive\")"
   ]
  },
  {
   "cell_type": "code",
   "execution_count": 6,
   "id": "fef9f4b2-432a-499e-97d4-319e14cb4297",
   "metadata": {},
   "outputs": [
    {
     "name": "stdin",
     "output_type": "stream",
     "text": [
      "enter your age 12\n"
     ]
    },
    {
     "name": "stdout",
     "output_type": "stream",
     "text": [
      "you are not adult\n"
     ]
    }
   ],
   "source": [
    "# 2. Take a user’s age and check if they are an adult (18+), and if yes, check if they are eligible to vote (18+).\n",
    "\n",
    "age = int(input(\"enter your age\"))\n",
    "if age > 18:\n",
    "    print(\"you are adult\")\n",
    "    if age > 18:\n",
    "        print(\"you can vote\")\n",
    "    else:\n",
    "        print(\"you can not vote\")\n",
    "else:\n",
    "    print(\"you are not adult\")"
   ]
  },
  {
   "cell_type": "code",
   "execution_count": 9,
   "id": "3a4761db-fbaf-42dc-bbdb-8fafe403465c",
   "metadata": {},
   "outputs": [
    {
     "name": "stdin",
     "output_type": "stream",
     "text": [
      "enter the temperature 22\n"
     ]
    },
    {
     "name": "stdout",
     "output_type": "stream",
     "text": [
      "below 30 so plesent\n"
     ]
    }
   ],
   "source": [
    "# 3. Ask the user for a temperature. If it’s above 0, check if it’s above 30.\n",
    "\n",
    "temp = int(input(\"enter the temperature\"))\n",
    "if temp > 0:\n",
    "    if temp > 30:\n",
    "        print(\"its getting hot now\")\n",
    "    else:\n",
    "        print(\"below 30 so plesent\")\n",
    "else:\n",
    "    print(\"cold\")"
   ]
  },
  {
   "cell_type": "code",
   "execution_count": 12,
   "id": "65fe064e-e5a6-47f9-b3c4-d8ffadbdb8f6",
   "metadata": {},
   "outputs": [
    {
     "name": "stdin",
     "output_type": "stream",
     "text": [
      "enter the number 59\n"
     ]
    },
    {
     "name": "stdout",
     "output_type": "stream",
     "text": [
      "number not divisible by 2\n"
     ]
    }
   ],
   "source": [
    "# 4. Check if a number is divisible by 2, and if yes, check if it’s also divisible by 4.\n",
    "\n",
    "a = int(input(\"enter the number\"))\n",
    "if a % 2 == 0:\n",
    "    if a % 4 == 0:\n",
    "        print(\"number is both divisible by 2 and 4\")\n",
    "    else:\n",
    "        print(\"number is only divisible by 2 not 4\")\n",
    "else:\n",
    "    print(\"number not divisible by 2\")"
   ]
  },
  {
   "cell_type": "code",
   "execution_count": 15,
   "id": "2b6e75bf-f4b5-4bec-82ec-9292a2125994",
   "metadata": {},
   "outputs": [
    {
     "name": "stdin",
     "output_type": "stream",
     "text": [
      "enter the score 97\n"
     ]
    },
    {
     "name": "stdout",
     "output_type": "stream",
     "text": [
      "number is both greater than 50 and 90\n"
     ]
    }
   ],
   "source": [
    "# 5. Ask for a score. If score >= 50, check if it’s also >= 90.\n",
    "\n",
    "a = int(input(\"enter the score\"))\n",
    "if a >= 50:\n",
    "    if a >= 90:\n",
    "        print(\"number is both greater than 50 and 90\")\n",
    "    else:\n",
    "        print(\"number is greater than 50 but not by 90\")\n",
    "else:\n",
    "    print(\"number is smaller than 50\")"
   ]
  },
  {
   "cell_type": "code",
   "execution_count": 18,
   "id": "6ba68541-b45a-4648-924f-67f8b0621a6a",
   "metadata": {},
   "outputs": [
    {
     "name": "stdin",
     "output_type": "stream",
     "text": [
      "enter the number -1\n"
     ]
    },
    {
     "name": "stdout",
     "output_type": "stream",
     "text": [
      "not a positive number\n"
     ]
    }
   ],
   "source": [
    "# 6. Check if a number is positive, and inside that check, see if it’s a single-digit number.\n",
    "\n",
    "a = int(input(\"enter the number\"))\n",
    "if a > 0:\n",
    "    if a >= 0 and a < 10:\n",
    "        print(\"the number is positive as well as single digit number\")\n",
    "    else:\n",
    "        print(\"number is positive but not single digit number\")\n",
    "else:\n",
    "    print(\"not a positive number\")"
   ]
  },
  {
   "cell_type": "code",
   "execution_count": 23,
   "id": "77ab0482-71f2-460d-b1dc-65562bca8b05",
   "metadata": {},
   "outputs": [
    {
     "name": "stdin",
     "output_type": "stream",
     "text": [
      "enter the string tushar\n"
     ]
    },
    {
     "name": "stdout",
     "output_type": "stream",
     "text": [
      "The string is not start with A\n"
     ]
    }
   ],
   "source": [
    "# 7. If a string starts with 'A', check if it ends with 'Z'.\n",
    "\n",
    "a = input(\"enter the string\").upper()\n",
    "if a[0] == \"A\":\n",
    "    if a[-1] == \"Z\":\n",
    "        print(\"The string start with A and end with Z\")\n",
    "    else:\n",
    "        print(\"The string start with A but not end with Z\")\n",
    "else:\n",
    "    print(\"The string is not start with A\")"
   ]
  },
  {
   "cell_type": "code",
   "execution_count": 29,
   "id": "fc48490c-02c9-40c9-883e-1e5d7657c0e2",
   "metadata": {},
   "outputs": [
    {
     "name": "stdin",
     "output_type": "stream",
     "text": [
      "enter the year 2009\n"
     ]
    },
    {
     "name": "stdout",
     "output_type": "stream",
     "text": [
      "not a leap year\n"
     ]
    }
   ],
   "source": [
    "# 8. Ask for the current year. If it’s a leap year, check if it’s divisible by 400.\n",
    "\n",
    "year = int(input(\"enter the year\"))\n",
    "if (year % 4 == 0 and year % 100 != 0) or year % 400 == 0:\n",
    "    print(\"its a leap year\")\n",
    "else:\n",
    "    print(\"not a leap year\")\n"
   ]
  },
  {
   "cell_type": "code",
   "execution_count": 32,
   "id": "8bb499cd-1c38-4960-adb6-7159f56e26ff",
   "metadata": {},
   "outputs": [
    {
     "name": "stdin",
     "output_type": "stream",
     "text": [
      "enter the number 22\n"
     ]
    },
    {
     "name": "stdout",
     "output_type": "stream",
     "text": [
      "the number is not greater than 100\n"
     ]
    }
   ],
   "source": [
    "# 9. Check if a number is greater than 100, and if yes, check if it’s less than 200.\n",
    "\n",
    "a = int(input(\"enter the number\"))\n",
    "if a > 100:\n",
    "    if a < 200:\n",
    "        print(\"the number is greater than 100 and less than 200\")\n",
    "    else:\n",
    "        print(\"the number is greator than 100 but not less than 200\")\n",
    "else:\n",
    "    print(\"the number is not greater than 100\")"
   ]
  },
  {
   "cell_type": "code",
   "execution_count": 37,
   "id": "e63e5dc3-78a4-44ff-b946-e7027cff8235",
   "metadata": {},
   "outputs": [
    {
     "name": "stdin",
     "output_type": "stream",
     "text": [
      "enter the number 34\n"
     ]
    },
    {
     "name": "stdout",
     "output_type": "stream",
     "text": [
      "the number is not negative\n"
     ]
    }
   ],
   "source": [
    "# 10. If a number is negative, check if it’s less than -100\n",
    "\n",
    "a = int(input(\"enter the number\"))\n",
    "if a < 0:\n",
    "    if a < -100:\n",
    "        print(\"the number is negative and less than -100\")\n",
    "    else:\n",
    "        print(\"the number is negative but not less than -100\")\n",
    "else:\n",
    "    print(\"the number is not negative\")"
   ]
  },
  {
   "cell_type": "code",
   "execution_count": 52,
   "id": "ffae8e04-e531-4799-b1a2-262a374a6688",
   "metadata": {},
   "outputs": [
    {
     "name": "stdin",
     "output_type": "stream",
     "text": [
      "enter the marks 40\n",
      "enter the marks 40\n"
     ]
    },
    {
     "name": "stdout",
     "output_type": "stream",
     "text": [
      "average is : 60.0\n",
      "both subject marks are above 40 and avg is greater than 50\n"
     ]
    }
   ],
   "source": [
    "# 11. Ask for marks in two subjects. If both are >= 40, check if the average is >= 50.\n",
    "\n",
    "a = int(input(\"enter the marks\"))\n",
    "b = int(input(\"enter the marks\"))\n",
    "if a >= 40 and b >= 40:\n",
    "    avg = a+b/2\n",
    "    print(\"average is :\",avg)\n",
    "    if avg >=50:\n",
    "        print(\"both subject marks are above 40 and avg is greater than 50\")\n",
    "    else:\n",
    "        print(\"both subject marks are greater than 40 but avg is not greater tahn 50\")\n",
    "else:\n",
    "    print(\"marks are not greater than 40\")"
   ]
  },
  {
   "cell_type": "code",
   "execution_count": null,
   "id": "f13962ca-010e-471f-bb7e-783e6d83aeee",
   "metadata": {},
   "outputs": [],
   "source": []
  },
  {
   "cell_type": "code",
   "execution_count": 60,
   "id": "5e7d0b8b-d38e-42b0-aee6-3ef7922b1156",
   "metadata": {},
   "outputs": [
    {
     "name": "stdin",
     "output_type": "stream",
     "text": [
      "enter a character a\n"
     ]
    },
    {
     "name": "stdout",
     "output_type": "stream",
     "text": [
      "the char is not vowel\n"
     ]
    }
   ],
   "source": [
    "# 12. Take a character. If it’s a vowel, check if it’s uppercase.\n",
    "\n",
    "a = input(\"enter a character\")\n",
    "if a in \"AEIOU\":\n",
    "    if a == a.upper():\n",
    "        print(\"the char is vowel and also uppercase\")\n",
    "    else:\n",
    "        print(\"the char is vowel but not uppercase\")\n",
    "else:\n",
    "    print(\"the char is not vowel\")"
   ]
  },
  {
   "cell_type": "code",
   "execution_count": 67,
   "id": "806a817c-a8cc-4e00-a664-5fb3ecfd0bd9",
   "metadata": {},
   "outputs": [
    {
     "name": "stdin",
     "output_type": "stream",
     "text": [
      "enter the number 450\n"
     ]
    },
    {
     "name": "stdout",
     "output_type": "stream",
     "text": [
      "the number is divisible by 5 and the last digit is 0\n"
     ]
    }
   ],
   "source": [
    "# 13. Ask for an integer. If divisible by 5, check if the last digit is 0.\n",
    "\n",
    "a = int(input(\"enter the number\"))\n",
    "if a % 5 == 0:\n",
    "    if str(a)[-1] == '0':\n",
    "        print(\"the number is divisible by 5 and the last digit is 0\")\n",
    "    else:\n",
    "        print(\"the number is divisible by 5 but the last digit is not 0\")\n",
    "else:\n",
    "    print(\"the number is not divisible by 5\")"
   ]
  },
  {
   "cell_type": "code",
   "execution_count": 71,
   "id": "7c6f326f-f98f-4f9e-8cd0-11d797d62a35",
   "metadata": {},
   "outputs": [
    {
     "name": "stdin",
     "output_type": "stream",
     "text": [
      "enter the username admin\n",
      "enter the password 1234\n"
     ]
    },
    {
     "name": "stdout",
     "output_type": "stream",
     "text": [
      "username and password matched\n"
     ]
    }
   ],
   "source": [
    "# 14. Ask for a username. If it matches 'admin', check if password matches '1234'.\n",
    "\n",
    "user = \"admin\"\n",
    "passw = 1234\n",
    "u = input(\"enter the username\").lower()\n",
    "p = int(input(\"enter the password\"))\n",
    "if u == user:\n",
    "    if p == passw:\n",
    "        print(\"username and password matched\")\n",
    "    else:\n",
    "        print(\"username matched but not password\")\n",
    "else:\n",
    "    print(\"wrong username\")"
   ]
  },
  {
   "cell_type": "code",
   "execution_count": 75,
   "id": "70029558-0048-4070-9cd5-b5bdb8a0772e",
   "metadata": {},
   "outputs": [
    {
     "name": "stdin",
     "output_type": "stream",
     "text": [
      "enter the height 1245\n",
      "enter the weight 32\n"
     ]
    },
    {
     "name": "stdout",
     "output_type": "stream",
     "text": [
      "the height is greater than 150 but not greater than 50\n"
     ]
    }
   ],
   "source": [
    "# 15. Ask for height in cm. If >= 150, check if weight is also >= 50.\n",
    "\n",
    "height = int(input(\"enter the height\"))\n",
    "weight = int(input(\"enter the weight\"))\n",
    "if height >= 150:\n",
    "    if weight >= 50:\n",
    "        print(\"the height greater than 150 and weight is greater than 50\")\n",
    "    else:\n",
    "        print(\"the height is greater than 150 but not greater than 50\")\n",
    "else:\n",
    "    print(\"the height is less than 150\")"
   ]
  },
  {
   "cell_type": "code",
   "execution_count": 76,
   "id": "0a8b13ab-447a-42a6-85ae-09cf2128cad4",
   "metadata": {},
   "outputs": [
    {
     "name": "stdin",
     "output_type": "stream",
     "text": [
      "Enter speed:  89\n"
     ]
    },
    {
     "name": "stdout",
     "output_type": "stream",
     "text": [
      "Over limit by more than 20 km/h\n"
     ]
    }
   ],
   "source": [
    "# 16. Ask for speed of a vehicle. If above speed limit, check if over limit by more than 20 km/h.\n",
    "\n",
    "speed = int(input(\"Enter speed: \"))\n",
    "if speed > 60:\n",
    "    if speed - 60 > 20:\n",
    "        print(\"Over limit by more than 20 km/h\")\n"
   ]
  },
  {
   "cell_type": "code",
   "execution_count": 80,
   "id": "dbbcc8e7-30db-4bb8-aa61-7ea7aaff8452",
   "metadata": {},
   "outputs": [
    {
     "name": "stdin",
     "output_type": "stream",
     "text": [
      "enter the day of week 6\n",
      "if its public holiday say 'Yes' or 'No'  yes\n"
     ]
    },
    {
     "name": "stdout",
     "output_type": "stream",
     "text": [
      "it's weekend and public holiday\n"
     ]
    }
   ],
   "source": [
    "# 17. Ask for day of week. If it's Saturday or Sunday, check if it’s also a public holiday.\n",
    "\n",
    "day = int(input(\"enter the day of week\"))\n",
    "public = input(\"if its public holiday say 'Yes' or 'No' \")\n",
    "if day == 7 or day == 6:\n",
    "    if public == \"yes\":\n",
    "        print(\"it's weekend and public holiday\")\n",
    "    else:\n",
    "        print(\"it's weekend not a public holiday\")\n",
    "else:\n",
    "    print(\"not a weekend\")"
   ]
  },
  {
   "cell_type": "code",
   "execution_count": 81,
   "id": "49f02751-613a-40b6-8074-026ea60b7b23",
   "metadata": {},
   "outputs": [
    {
     "ename": "SyntaxError",
     "evalue": "invalid character '’' (U+2019) (1025460928.py, line 1)",
     "output_type": "error",
     "traceback": [
      "\u001b[1;36m  Cell \u001b[1;32mIn[81], line 1\u001b[1;36m\u001b[0m\n\u001b[1;33m    18. If a number is odd, check if it’s prime.\u001b[0m\n\u001b[1;37m                                       ^\u001b[0m\n\u001b[1;31mSyntaxError\u001b[0m\u001b[1;31m:\u001b[0m invalid character '’' (U+2019)\n"
     ]
    }
   ],
   "source": [
    "# 18. If a number is odd, check if it’s prime.\n",
    "\n",
    "n = int(input(\"enter the number\"))\n",
    "if n % 2 != 0:\n",
    "    if "
   ]
  },
  {
   "cell_type": "code",
   "execution_count": 84,
   "id": "4a1960f1-6842-40b8-a033-72a93f995f85",
   "metadata": {},
   "outputs": [
    {
     "name": "stdin",
     "output_type": "stream",
     "text": [
      "enter the string annu\n"
     ]
    },
    {
     "name": "stdout",
     "output_type": "stream",
     "text": [
      "length is smaller than 5\n"
     ]
    }
   ],
   "source": [
    "# 19. Ask for a string. If length > 5, check if it contains the letter 'x'.\n",
    "\n",
    "a = input(\"enter the string\")\n",
    "if len(a) > 5:\n",
    "    if \"x\" in a:\n",
    "        print(\"the length of string is greater than 5 and contains 'x' \")\n",
    "    else:\n",
    "        print(\"the length of string is greater than 5 but not contain 'x'\")\n",
    "else:\n",
    "    print(\"length is smaller than 5\")"
   ]
  },
  {
   "cell_type": "code",
   "execution_count": 86,
   "id": "d84e814c-08dc-4dbb-8848-39d9bea4ee02",
   "metadata": {},
   "outputs": [
    {
     "name": "stdin",
     "output_type": "stream",
     "text": [
      "enter the amount 3456\n",
      "if you are premium member type yes or otherwise no:  no\n"
     ]
    },
    {
     "name": "stdout",
     "output_type": "stream",
     "text": [
      "amount is greater than 1000 not a premium member\n"
     ]
    }
   ],
   "source": [
    "# 20. Ask for purchase amount. If > 1000, check if customer is a 'Premium' member.\n",
    "\n",
    "amount = int(input(\"enter the amount\"))\n",
    "member = input(\"if you are premium member type yes or otherwise no: \")\n",
    "if amount > 1000:\n",
    "    if member == \"yes\":\n",
    "        print(\"amount is greater than 1000 and also a premium member\")\n",
    "    else:\n",
    "        print(\"amount is greater than 1000 not a premium member\")"
   ]
  },
  {
   "cell_type": "code",
   "execution_count": null,
   "id": "d3e1abf4-0146-4690-8c45-d38a54dc82ac",
   "metadata": {},
   "outputs": [],
   "source": [
    "21. Check if a year is a leap year, and if it is, check if February has 29 days.\n",
    "\n"
   ]
  },
  {
   "cell_type": "code",
   "execution_count": 4,
   "id": "38b69598-9bda-4b22-ad36-458f2e057089",
   "metadata": {},
   "outputs": [
    {
     "name": "stdin",
     "output_type": "stream",
     "text": [
      "entre the number 45\n",
      "entre the number 3\n",
      "entre the number 7\n"
     ]
    },
    {
     "name": "stdout",
     "output_type": "stream",
     "text": [
      "45 is greatest and 3 is smallest\n"
     ]
    }
   ],
   "source": [
    "# 22. Ask for three numbers. If first is largest, check if second is smallest.\n",
    "\n",
    "a = int(input(\"entre the number\"))\n",
    "b = int(input(\"enter the number\"))\n",
    "c = int(input(\"enter the number\"))\n",
    "if a > b and a > c:\n",
    "    if b < a and b < c:\n",
    "        print(a,\"is greatest and\",b,\"is smallest\")"
   ]
  },
  {
   "cell_type": "code",
   "execution_count": 9,
   "id": "89774473-2d33-4950-9b1b-2207cf1ae229",
   "metadata": {},
   "outputs": [
    {
     "name": "stdin",
     "output_type": "stream",
     "text": [
      "enter the time in format of 24 hour 17\n"
     ]
    },
    {
     "name": "stdout",
     "output_type": "stream",
     "text": [
      "not afternoon\n"
     ]
    }
   ],
   "source": [
    "# 23. Ask for time in 24-hour format. If between 6 and 18, check if it’s before noon.\n",
    "\n",
    "a = int(input(\"enter the time in format of 24 hour\"))\n",
    "if a >= 6 and a <= 18:\n",
    "    if a >= 12 and a <= 13:\n",
    "        print(\"its afternoon\")\n",
    "    else:\n",
    "        print(\"not afternoon\")\n",
    "        "
   ]
  },
  {
   "cell_type": "code",
   "execution_count": 17,
   "id": "051523d0-94f6-402d-949c-1ce00ed27c0d",
   "metadata": {},
   "outputs": [
    {
     "name": "stdin",
     "output_type": "stream",
     "text": [
      "enter marks of english: 35\n",
      "enter marks of hindi: 35\n",
      "enter marks of math: 35\n",
      "enter marks of science: 35\n",
      "enter marks of social science: 35\n"
     ]
    },
    {
     "name": "stdout",
     "output_type": "stream",
     "text": [
      "pass in all subject\n",
      "35.0\n",
      "avg is not greater than 75\n"
     ]
    }
   ],
   "source": [
    "# 24. Ask for exam marks. If pass in all subjects, check if average > 75.\n",
    "\n",
    "e = int(input(\"enter marks of english:\"))\n",
    "h = int(input(\"enter marks of hindi:\"))\n",
    "m = int(input(\"enter marks of math:\"))\n",
    "s = int(input(\"enter marks of science:\"))\n",
    "ss = int(input(\"enter marks of social science:\"))\n",
    "if e >= 35 and h >= 35 and m >= 35 and s >= 35 and ss >= 35:\n",
    "    print(\"pass in all subject\")\n",
    "    avg = (e+h+m+s+ss)/5\n",
    "    print(avg)\n",
    "    if avg > 75:\n",
    "        print(\"average is greater than 75 \")\n",
    "    else:\n",
    "        print(\"avg is not greater than 75\")\n",
    "else:\n",
    "    print(\"Fail\")"
   ]
  },
  {
   "cell_type": "code",
   "execution_count": 4,
   "id": "e4ab2bfb-62c1-4c62-a2c9-26a43d27063f",
   "metadata": {},
   "outputs": [
    {
     "name": "stdin",
     "output_type": "stream",
     "text": [
      "enter the avilable balance 6790\n",
      "enter the withdrawl balance 8000\n"
     ]
    },
    {
     "name": "stdout",
     "output_type": "stream",
     "text": [
      "insuffcient balance\n"
     ]
    }
   ],
   "source": [
    "# 25. Ask for bank balance. If > 5000, check if withdrawal request is <= balance.\n",
    "\n",
    "avl_bal = float(input(\"enter the avilable balance\"))\n",
    "wit_bal = float(input(\"enter the withdrawl balance\"))\n",
    "if avl_bal >= 5000:\n",
    "    if wit_bal <= avl_bal:\n",
    "        print(\"suffcient funds\")\n",
    "        print(\"you can withdraw\")\n",
    "        rem_bal = avl_bal - wit_bal\n",
    "        print(\"remaining amount after withdrawl:\",rem_bal)\n",
    "    else:\n",
    "        print(\"insuffcient balance\")"
   ]
  },
  {
   "cell_type": "code",
   "execution_count": null,
   "id": "b6468c2b-0ef7-482f-a5aa-cf48c2a7f8e2",
   "metadata": {},
   "outputs": [],
   "source": [
    "# 26. Ask for temperature in Celsius. If above freezing, check if it’s also above boiling point.\n",
    "\n",
    "#already done"
   ]
  },
  {
   "cell_type": "code",
   "execution_count": 6,
   "id": "cddc274a-7e71-4448-94a4-33b5d294ace0",
   "metadata": {},
   "outputs": [
    {
     "name": "stdin",
     "output_type": "stream",
     "text": [
      "enter the string racecar\n"
     ]
    },
    {
     "name": "stdout",
     "output_type": "stream",
     "text": [
      "its palindrome and length is greater than 5\n"
     ]
    }
   ],
   "source": [
    "# 27. If a string is a palindrome, check if it’s longer than 5 characters.\n",
    "\n",
    "a = input(\"enter the string\")\n",
    "if a == a[::-1]:\n",
    "    if len(str(a)) > 5:\n",
    "        print(\"its palindrome and length is greater than 5\")\n",
    "    else:\n",
    "        print(\"it is palindrome but length is not greater than 5\")"
   ]
  },
  {
   "cell_type": "code",
   "execution_count": 1,
   "id": "ecd2aec9-a0c0-45e9-8a7a-e6d8cbd10854",
   "metadata": {},
   "outputs": [
    {
     "name": "stdin",
     "output_type": "stream",
     "text": [
      "give coordinate of x 3\n",
      "give coordinate of y 5\n"
     ]
    },
    {
     "name": "stdout",
     "output_type": "stream",
     "text": [
      "you are at first quadrant\n"
     ]
    }
   ],
   "source": [
    "# 28. Ask for coordinates (x, y). If point is in first quadrant, check if x > y.\n",
    "\n",
    "x = int(input(\"give coordinate of x\"))\n",
    "y = int(input(\"give coordinate of y\"))\n",
    "if x > 0 and y > 0:\n",
    "    print(\"you are at first quadrant\")"
   ]
  },
  {
   "cell_type": "code",
   "execution_count": 6,
   "id": "8b5daf82-1252-403b-9a67-770cab075c58",
   "metadata": {},
   "outputs": [
    {
     "name": "stdin",
     "output_type": "stream",
     "text": [
      "enter the income 1230\n"
     ]
    },
    {
     "name": "stdout",
     "output_type": "stream",
     "text": [
      "income not above the 50000\n"
     ]
    }
   ],
   "source": [
    "# 29. Ask for income. If > 50000, check if tax bracket is above 20%.\n",
    "\n",
    "income = float(input(\"enter the income\"))\n",
    "if income > 50000:\n",
    "    tax = int(input(\"enter the tax bracket percent\"))\n",
    "    if tax > 20:\n",
    "        print(\"tax bracket is above 20%\")\n",
    "    else:\n",
    "        print(\"income is above 50000 but it is under the tax bracket\")\n",
    "else:\n",
    "    print(\"income not above the 50000\")        "
   ]
  },
  {
   "cell_type": "code",
   "execution_count": 8,
   "id": "aee42f68-00df-4fed-a764-ad12ddbdaf45",
   "metadata": {},
   "outputs": [
    {
     "ename": "SyntaxError",
     "evalue": "invalid decimal literal (774843542.py, line 15)",
     "output_type": "error",
     "traceback": [
      "\u001b[1;36m  Cell \u001b[1;32mIn[8], line 15\u001b[1;36m\u001b[0m\n\u001b[1;33m    98h\u001b[0m\n\u001b[1;37m     ^\u001b[0m\n\u001b[1;31mSyntaxError\u001b[0m\u001b[1;31m:\u001b[0m invalid decimal literal\n"
     ]
    }
   ],
   "source": [
    "# 30. Ask for a password. If it contains both letters and numbers, check if it also contains a special character.\n",
    "\n",
    "import string\n",
    "all_char = string.punctuation\n",
    "print(all_char)\n",
    "passw = input(\"enter the password\")\n",
    "for i in all_char:\n",
    "        if i in passw:\n",
    "            if passw.isalnum():\n",
    "                print(\"password contains special char , number and alphabets\")\n",
    "            else:\n",
    "                print(\"it only special char and \")\n",
    "                "
   ]
  },
  {
   "cell_type": "markdown",
   "id": "53803250-373d-4b5c-b681-fb0ca7b3db93",
   "metadata": {},
   "source": [
    "# ⬇️Extra questions must do "
   ]
  },
  {
   "cell_type": "code",
   "execution_count": null,
   "id": "84e615ff-95d9-4b40-bca1-8708d08a1920",
   "metadata": {},
   "outputs": [],
   "source": [
    "Example 1: Write a program to check given no is positive. (Only if-statement)\n",
    "                                                                        "
   ]
  },
  {
   "cell_type": "code",
   "execution_count": null,
   "id": "2a80e914-1c83-4fb5-9dcb-8752b950e071",
   "metadata": {},
   "outputs": [],
   "source": [
    "Example 2: Write a program to check given no is positive or negative. (Only if-else\n",
    "statement)\n"
   ]
  },
  {
   "cell_type": "code",
   "execution_count": null,
   "id": "9732bc73-fc7c-474c-b93b-3842aa07f689",
   "metadata": {},
   "outputs": [],
   "source": [
    "Example 3: Write a program to check given no is positive, negative or Zero.(Only ifelif-else statement)\n"
   ]
  },
  {
   "cell_type": "code",
   "execution_count": 2,
   "id": "6b84b967-fdad-4aa6-a2ec-ccf75792ac02",
   "metadata": {},
   "outputs": [
    {
     "name": "stdout",
     "output_type": "stream",
     "text": [
      "before swap a = 30 ,b = 20\n",
      "after swap a = 20 ,b = 30\n"
     ]
    }
   ],
   "source": [
    "# Example 4: Write a program to swap two variables without using third variable.\n",
    "\n",
    "a = 30\n",
    "b = 20\n",
    "print(\"before swap a =\",a,\",b =\",b)\n",
    "if a != b:\n",
    "    a = a + b\n",
    "    b = a - b\n",
    "    a = a - b\n",
    "else:\n",
    "    print(\"number are same swaping is not needed\")\n",
    "    \n",
    "print(\"after swap a =\",a,\",b =\",b)    "
   ]
  },
  {
   "cell_type": "code",
   "execution_count": 3,
   "id": "8bcb1fb1-b31c-4aa0-b4ef-5f8587a13009",
   "metadata": {},
   "outputs": [
    {
     "name": "stdout",
     "output_type": "stream",
     "text": [
      "before swap a = 30 ,b = 20\n",
      "after swap a = 20 ,b = 30\n"
     ]
    }
   ],
   "source": [
    "# Example 5: Write a program to swap two variables using third variable.\n",
    "\n",
    "a = 30\n",
    "b = 20\n",
    "print(\"before swap a =\",a,\",b =\",b)\n",
    "if a != b:\n",
    "    c = a\n",
    "    a = b\n",
    "    b = c\n",
    "else:\n",
    "    print(\"number are same swaping is not needed\")\n",
    "    \n",
    "print(\"after swap a =\",a,\",b =\",b) "
   ]
  },
  {
   "cell_type": "code",
   "execution_count": 6,
   "id": "9ad231e8-0171-4981-a7d5-86bbb4c4c5b7",
   "metadata": {},
   "outputs": [
    {
     "name": "stdin",
     "output_type": "stream",
     "text": [
      "enter the number 12\n",
      "enter the number 14\n"
     ]
    },
    {
     "name": "stdout",
     "output_type": "stream",
     "text": [
      "before swap a = 12 ,b = 14\n",
      "after swap a = 14 ,b = 12\n"
     ]
    }
   ],
   "source": [
    "# Example 6: Write a program to swap two variables using using Addition and Subtraction.\n",
    "\n",
    "a = int(input(\"enter the number\"))\n",
    "b = int(input(\"enter the number\"))\n",
    "print(\"before swap a =\",a,\",b =\",b)\n",
    "if a != b:\n",
    "    a = a + b\n",
    "    b = a - b\n",
    "    a = a - b\n",
    "else:\n",
    "    print(\"the given number are equal no need to swap them\")\n",
    "    \n",
    "print(\"after swap a =\",a,\",b =\",b)    "
   ]
  },
  {
   "cell_type": "code",
   "execution_count": 4,
   "id": "e8094867-eddf-4a91-abc8-e52c90e0d834",
   "metadata": {},
   "outputs": [
    {
     "name": "stdout",
     "output_type": "stream",
     "text": [
      "4\n"
     ]
    }
   ],
   "source": [
    "# Example 9: Write a program to find squre root of given no.\n",
    "\n",
    "n = 16\n",
    "count = 0\n",
    "i = 0\n",
    "while(n != 0):\n",
    "    i = i + 1\n",
    "    if i % 2 != 0:\n",
    "        r = n - i\n",
    "        n = r\n",
    "        count = count + 1\n",
    "print(count)        "
   ]
  },
  {
   "cell_type": "code",
   "execution_count": null,
   "id": "e17af3bc-cf4c-4291-aa4d-2f925ae3e37d",
   "metadata": {},
   "outputs": [],
   "source": [
    "Example 10: Write a program to find largest no among the three inputs numbers.\n"
   ]
  },
  {
   "cell_type": "code",
   "execution_count": 12,
   "id": "0f4635aa-c1a5-4d6b-8bb6-6c10c91eaaf1",
   "metadata": {},
   "outputs": [
    {
     "name": "stdin",
     "output_type": "stream",
     "text": [
      "enter the base value of triangle 45\n",
      "enter the height of triangle 3\n"
     ]
    },
    {
     "name": "stdout",
     "output_type": "stream",
     "text": [
      "area of triangle is : 67.5\n"
     ]
    }
   ],
   "source": [
    "# Example 11: Write a program to find area of triangle. (1/2* hight*base)\n",
    "\n",
    "base = float(input(\"enter the base value of triangle\"))\n",
    "height = float(input(\"enter the height of triangle\"))\n",
    "area = 1/2 *height*base\n",
    "print(\"area of triangle is :\",area)"
   ]
  },
  {
   "cell_type": "code",
   "execution_count": 13,
   "id": "4c40a9d5-7c5b-4478-bdad-bd792191fbef",
   "metadata": {},
   "outputs": [
    {
     "name": "stdin",
     "output_type": "stream",
     "text": [
      "enter the side : 5\n"
     ]
    },
    {
     "name": "stdout",
     "output_type": "stream",
     "text": [
      "area of square : 25\n"
     ]
    }
   ],
   "source": [
    "# Example 12: Write a program to find area of square.\n",
    "\n",
    "side = int(input(\"enter the side :\"))\n",
    "area = side**2\n",
    "print(\"area of square :\",area)"
   ]
  },
  {
   "cell_type": "code",
   "execution_count": 17,
   "id": "1100e334-245a-4c6a-8be5-891b7e8c57a9",
   "metadata": {},
   "outputs": [
    {
     "name": "stdin",
     "output_type": "stream",
     "text": [
      "enter the year 1700\n"
     ]
    },
    {
     "name": "stdout",
     "output_type": "stream",
     "text": [
      "it is not a leap year\n"
     ]
    }
   ],
   "source": [
    "# Example 13: Write a program to find given year is leep year or not.\n",
    "\n",
    "year = int(input(\"enter the year\"))\n",
    "if (year % 4 == 0 and year % 100 != 0) or year % 400 == 0:\n",
    "    print(\"it is leap year\")\n",
    "else:\n",
    "    print(\"it is not a leap year\")"
   ]
  },
  {
   "cell_type": "code",
   "execution_count": 2,
   "id": "7a7f554e-c9e0-4cbf-8bba-8a984ae60646",
   "metadata": {},
   "outputs": [
    {
     "name": "stdin",
     "output_type": "stream",
     "text": [
      "enter the radius 4\n"
     ]
    },
    {
     "name": "stdout",
     "output_type": "stream",
     "text": [
      "Area of circle is : 50.24\n"
     ]
    }
   ],
   "source": [
    "# Example 14: Write a program to take circle radius from user and calculate area of circle.\n",
    "\n",
    "pi = 3.14\n",
    "r = float(input(\"enter the radius\"))\n",
    "area = pi * r**2\n",
    "print(\"Area of circle is :\",area)"
   ]
  },
  {
   "cell_type": "code",
   "execution_count": 4,
   "id": "a6bfd4f5-6e74-47a9-9f7e-5487a59fa6ee",
   "metadata": {},
   "outputs": [
    {
     "name": "stdin",
     "output_type": "stream",
     "text": [
      "enter the width 23\n",
      "enter the length 2\n"
     ]
    },
    {
     "name": "stdout",
     "output_type": "stream",
     "text": [
      "Area of rectangle : 46\n"
     ]
    }
   ],
   "source": [
    "# Example 15: Write a program to take length and width from user and calculate area of rectangle.\n",
    "\n",
    "width = int(input(\"enter the width\"))\n",
    "length = int(input(\"enter the length\"))\n",
    "area = width*length\n",
    "print(\"Area of rectangle :\",area)"
   ]
  },
  {
   "cell_type": "code",
   "execution_count": null,
   "id": "566ddc84-a80c-42bf-9a92-8446bc797ca8",
   "metadata": {},
   "outputs": [],
   "source": [
    "Example 16: Write a program  to take side length from user and calculate area of squar."
   ]
  },
  {
   "cell_type": "code",
   "execution_count": 8,
   "id": "176291be-e98c-404d-8adf-735ec9f90c74",
   "metadata": {},
   "outputs": [
    {
     "name": "stdin",
     "output_type": "stream",
     "text": [
      "enter the math marks 98\n",
      "enter the english marks 97\n",
      "enter the hindi marks 96\n",
      "enter the science marks 95\n",
      "enter the computer marks 90\n"
     ]
    },
    {
     "name": "stdout",
     "output_type": "stream",
     "text": [
      "Total marks are : 476.0\n",
      "percentage is : 95.19999999999999\n",
      "division is : 0.952\n"
     ]
    }
   ],
   "source": [
    "# Example 17: Write a program to take marks value from user and show their total marks, percentage and division.\n",
    "\n",
    "math = float(input(\"enter the math marks\"))\n",
    "english = float(input(\"enter the english marks\"))\n",
    "hindi = float(input(\"enter the hindi marks\"))\n",
    "science = float(input(\"enter the science marks\"))\n",
    "computer = float(input(\"enter the computer marks\"))\n",
    "total = math + english + hindi + science + computer \n",
    "percen = (total/500)*100\n",
    "division = total/500\n",
    "print(\"Total marks are :\",total)\n",
    "print(\"percentage is :\",percen)\n",
    "print(\"division is :\",division)"
   ]
  },
  {
   "cell_type": "code",
   "execution_count": 4,
   "id": "46025fd9-352a-4f43-8b86-bf8be1b587a8",
   "metadata": {},
   "outputs": [
    {
     "name": "stdin",
     "output_type": "stream",
     "text": [
      "enter the number 9756\n"
     ]
    },
    {
     "name": "stdout",
     "output_type": "stream",
     "text": [
      "Even number\n"
     ]
    }
   ],
   "source": [
    "# Example 18: Write a program to check given number is even or odd. \n",
    "\n",
    "n = int(input(\"enter the number\"))\n",
    "if n % 2 == 0:\n",
    "    print(\"Even number\")\n",
    "else:\n",
    "    print(\"Odd number\")"
   ]
  },
  {
   "cell_type": "code",
   "execution_count": 3,
   "id": "e22ad66d-0f7a-4266-bb2d-2e9968b5ed7d",
   "metadata": {},
   "outputs": [
    {
     "name": "stdin",
     "output_type": "stream",
     "text": [
      "Enter the year to check 2001\n"
     ]
    },
    {
     "name": "stdout",
     "output_type": "stream",
     "text": [
      "The given year is not a leap year\n"
     ]
    }
   ],
   "source": [
    "# Example 19: Write a program to check given year is leep year or not.\n",
    "\n",
    "year = int(input(\"Enter the year to check\"))\n",
    "if (year % 4== 0 and year % 100 == 0) or year % 400 == 0:\n",
    "    print(\"The given year is leap year\")\n",
    "else:\n",
    "    print(\"The given year is not a leap year\")"
   ]
  },
  {
   "cell_type": "code",
   "execution_count": 8,
   "id": "f433562a-b9f4-4118-8378-377ef655b174",
   "metadata": {},
   "outputs": [
    {
     "name": "stdin",
     "output_type": "stream",
     "text": [
      "Enter your account type : saving\n"
     ]
    },
    {
     "name": "stdout",
     "output_type": "stream",
     "text": [
      "You have a saving account in the bank\n"
     ]
    }
   ],
   "source": [
    "# Example 20: Write a program to take account type from user and check bank account type.\n",
    "\n",
    "account_type = input(\"Enter your account type :\").lower()\n",
    "if account_type == \"saving\":\n",
    "    print(\"You have a saving account in the bank\")\n",
    "elif account_type == \"current\":\n",
    "    print(\"You have a current account in the bank\")\n",
    "else:\n",
    "    print(\"Invalid account type\")"
   ]
  },
  {
   "cell_type": "code",
   "execution_count": 11,
   "id": "85aaaa0b-04e8-4847-bf00-5a8042597fc6",
   "metadata": {},
   "outputs": [
    {
     "name": "stdin",
     "output_type": "stream",
     "text": [
      "Enter your account type from below option :\n",
      "saving\n",
      "current\n",
      " e\n"
     ]
    }
   ],
   "source": [
    "# Example 21: Write a program to ATM withdrawal.\n",
    "\n"
   ]
  },
  {
   "cell_type": "code",
   "execution_count": null,
   "id": "209b0e08-7688-4059-8b5e-c624ec477d72",
   "metadata": {},
   "outputs": [],
   "source": [
    "Example 22: Write a program to take balance from user and notify Minimum Balance Penalty.\n"
   ]
  },
  {
   "cell_type": "code",
   "execution_count": null,
   "id": "295f83c4-5e0f-46f2-9f08-28e09690c3e3",
   "metadata": {},
   "outputs": [],
   "source": [
    "Example 23: Write a program to take role from user and check what services they access.\n"
   ]
  },
  {
   "cell_type": "code",
   "execution_count": null,
   "id": "e9b28107-5bd7-4ae6-a34f-c788556313d6",
   "metadata": {},
   "outputs": [],
   "source": [
    "Example 24: Write a program to take loan_type from user and check loan interest rate based on\n",
    "loan type.\n"
   ]
  },
  {
   "cell_type": "code",
   "execution_count": null,
   "id": "750b8954-6af9-4a43-ad3b-091bdb52744d",
   "metadata": {},
   "outputs": [],
   "source": [
    "Example 25: Write a program to take marks value from user and show their total marks,\n",
    "percentage and division.\n"
   ]
  }
 ],
 "metadata": {
  "kernelspec": {
   "display_name": "Python [conda env:base] *",
   "language": "python",
   "name": "conda-base-py"
  },
  "language_info": {
   "codemirror_mode": {
    "name": "ipython",
    "version": 3
   },
   "file_extension": ".py",
   "mimetype": "text/x-python",
   "name": "python",
   "nbconvert_exporter": "python",
   "pygments_lexer": "ipython3",
   "version": "3.12.7"
  }
 },
 "nbformat": 4,
 "nbformat_minor": 5
}
