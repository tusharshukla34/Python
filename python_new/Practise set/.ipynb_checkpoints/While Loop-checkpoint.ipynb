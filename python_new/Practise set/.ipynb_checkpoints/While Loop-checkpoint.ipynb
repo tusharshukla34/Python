{
 "cells": [
  {
   "cell_type": "code",
   "execution_count": 8,
   "id": "4f4bc131-ecb9-4e9b-aae9-2b455e9a2791",
   "metadata": {},
   "outputs": [
    {
     "name": "stdout",
     "output_type": "stream",
     "text": [
      "1\n",
      "2\n",
      "3\n",
      "4\n",
      "5\n",
      "6\n",
      "7\n",
      "8\n",
      "9\n",
      "10\n"
     ]
    }
   ],
   "source": [
    "# 1. Print numbers from 1 to 10 using a while loop.\n",
    "\n",
    "i = 1\n",
    "while i <= 10:\n",
    "    print(i)\n",
    "    i += 1"
   ]
  },
  {
   "cell_type": "code",
   "execution_count": 14,
   "id": "647dbbf2-ebb1-467b-843d-cc1c2f26397f",
   "metadata": {},
   "outputs": [
    {
     "name": "stdout",
     "output_type": "stream",
     "text": [
      "2\n",
      "4\n",
      "6\n",
      "8\n",
      "10\n",
      "12\n",
      "14\n",
      "16\n",
      "18\n",
      "20\n"
     ]
    }
   ],
   "source": [
    "# 2. Print even numbers from 2 to 20 using a while loop.\n",
    "\n",
    "# i = 2\n",
    "# while i <= 20:\n",
    "#     if i % 2 == 0:\n",
    "#         print(i)\n",
    "#     i += 1   \n",
    "\n",
    "# or\n",
    "\n",
    "i = 2\n",
    "while i <= 20:\n",
    "    print(i)\n",
    "    i += 2"
   ]
  },
  {
   "cell_type": "code",
   "execution_count": 3,
   "id": "96e63e6d-2e29-40ac-ba36-0e0566f70694",
   "metadata": {},
   "outputs": [
    {
     "name": "stdout",
     "output_type": "stream",
     "text": [
      "sq of 1 is 1\n",
      "sq of 2 is 4\n",
      "sq of 3 is 9\n",
      "sq of 4 is 16\n",
      "sq of 5 is 25\n"
     ]
    }
   ],
   "source": [
    "# 3. Print the squares of numbers from 1 to 5 using a while loop.\n",
    "\n",
    "i = 1\n",
    "while i <= 5:\n",
    "    print(\"sq of\",i,\"is\",i**2)\n",
    "    i += 1"
   ]
  },
  {
   "cell_type": "code",
   "execution_count": 13,
   "id": "76a27d54-431e-4df5-9ad2-b1dcda33559c",
   "metadata": {},
   "outputs": [
    {
     "name": "stdout",
     "output_type": "stream",
     "text": [
      "t\n",
      "u\n",
      "s\n",
      "h\n",
      "a\n",
      "r\n"
     ]
    }
   ],
   "source": [
    "# 4. Print each character of a given string using a while loop.\n",
    "\n",
    "n = \"tushar\"\n",
    "i = 0\n",
    "while i < len(n):\n",
    "    print(n[i])\n",
    "    i += 1"
   ]
  },
  {
   "cell_type": "code",
   "execution_count": 6,
   "id": "3cffa700-2a30-409a-93f4-de93197b7f1e",
   "metadata": {},
   "outputs": [
    {
     "name": "stdout",
     "output_type": "stream",
     "text": [
      "5050\n"
     ]
    }
   ],
   "source": [
    "# 5. Print the sum of numbers from 1 to 100 using a while loop.\n",
    "\n"
   ]
  },
  {
   "cell_type": "code",
   "execution_count": 7,
   "id": "87ca2e86-4746-4971-80bf-4918989feaba",
   "metadata": {},
   "outputs": [
    {
     "name": "stdout",
     "output_type": "stream",
     "text": [
      "7 * 1 = 7\n",
      "7 * 2 = 14\n",
      "7 * 3 = 21\n",
      "7 * 4 = 28\n",
      "7 * 5 = 35\n",
      "7 * 6 = 42\n",
      "7 * 7 = 49\n",
      "7 * 8 = 56\n",
      "7 * 9 = 63\n",
      "7 * 10 = 70\n"
     ]
    }
   ],
   "source": [
    "# 6. Print the multiplication table of 7 using a while loop.\n",
    "\n"
   ]
  },
  {
   "cell_type": "code",
   "execution_count": 8,
   "id": "31b55d81-978d-43bb-bfab-8a02aa97cb59",
   "metadata": {},
   "outputs": [
    {
     "name": "stdout",
     "output_type": "stream",
     "text": [
      "10\n",
      "9\n",
      "8\n",
      "7\n",
      "6\n",
      "5\n",
      "4\n",
      "3\n",
      "2\n",
      "1\n"
     ]
    }
   ],
   "source": [
    "# 7. Print the first 10 natural numbers in reverse order using a while loop.\n",
    "\n"
   ]
  },
  {
   "cell_type": "code",
   "execution_count": 9,
   "id": "ecfe027b-715c-4289-81ee-adb38237883d",
   "metadata": {},
   "outputs": [
    {
     "name": "stdout",
     "output_type": "stream",
     "text": [
      "1\n",
      "3\n",
      "5\n",
      "7\n",
      "9\n",
      "11\n",
      "13\n",
      "15\n",
      "17\n",
      "19\n"
     ]
    }
   ],
   "source": [
    "# 8. Print all odd numbers between 1 and 20 using a while loop.\n",
    "\n"
   ]
  },
  {
   "cell_type": "code",
   "execution_count": 10,
   "id": "82ed26be-0c34-4a1e-a358-186b9a72297f",
   "metadata": {},
   "outputs": [
    {
     "name": "stdout",
     "output_type": "stream",
     "text": [
      "10\n",
      "9\n",
      "8\n",
      "7\n",
      "6\n",
      "5\n",
      "4\n",
      "3\n",
      "2\n",
      "1\n"
     ]
    }
   ],
   "source": [
    "# 9. Count down from 10 to 1 using a while loop.\n",
    "\n",
    "   "
   ]
  },
  {
   "cell_type": "code",
   "execution_count": 11,
   "id": "2511466b-585b-4959-ba89-e5b915e4d2f7",
   "metadata": {},
   "outputs": [
    {
     "name": "stdin",
     "output_type": "stream",
     "text": [
      "enter the number 7\n"
     ]
    },
    {
     "name": "stdout",
     "output_type": "stream",
     "text": [
      "1 2 3 4 5 6 7 "
     ]
    }
   ],
   "source": [
    "# 10. Print numbers from 1 to n, where n is taken from the user, using a while loop\n",
    "\n"
   ]
  },
  {
   "cell_type": "code",
   "execution_count": 12,
   "id": "426e999b-06cd-4190-a3e8-750352ac96f6",
   "metadata": {},
   "outputs": [
    {
     "name": "stdin",
     "output_type": "stream",
     "text": [
      "enter the number 8\n"
     ]
    },
    {
     "name": "stdout",
     "output_type": "stream",
     "text": [
      "40320\n"
     ]
    }
   ],
   "source": [
    "# 11. Calculate the factorial of a number using a while loop.\n",
    "\n",
    "    "
   ]
  },
  {
   "cell_type": "code",
   "execution_count": 18,
   "id": "ddba006a-f97b-4aa2-bd74-342930933e90",
   "metadata": {},
   "outputs": [
    {
     "name": "stdin",
     "output_type": "stream",
     "text": [
      "enter the number- 9\n"
     ]
    },
    {
     "name": "stdout",
     "output_type": "stream",
     "text": [
      "1 1 2 3 5 8 13 21 34 55 "
     ]
    }
   ],
   "source": [
    "# 12. Print the Fibonacci sequence up to n terms using a while loop.\n",
    "\n"
   ]
  },
  {
   "cell_type": "code",
   "execution_count": 6,
   "id": "6585a0cc-c552-4084-a868-09256381497b",
   "metadata": {},
   "outputs": [
    {
     "name": "stdin",
     "output_type": "stream",
     "text": [
      "enter the string amita\n"
     ]
    },
    {
     "name": "stdout",
     "output_type": "stream",
     "text": [
      "atima\n"
     ]
    }
   ],
   "source": [
    "# 13. Reverse a string using a while loop.\n",
    "\n",
    " "
   ]
  },
  {
   "cell_type": "code",
   "execution_count": 10,
   "id": "40d36530-7a7a-4d80-9b26-493e856c5ce7",
   "metadata": {},
   "outputs": [
    {
     "name": "stdin",
     "output_type": "stream",
     "text": [
      "enter the number 3754\n"
     ]
    },
    {
     "name": "stdout",
     "output_type": "stream",
     "text": [
      "2\n"
     ]
    }
   ],
   "source": [
    "# 14. Count the number of digits in a given number using a while loop.\n",
    "\n"
   ]
  },
  {
   "cell_type": "code",
   "execution_count": null,
   "id": "ac366f1a-2963-4b4d-b5dd-ab6dd8de6d80",
   "metadata": {},
   "outputs": [],
   "source": [
    "15. Sum the digits of a given number using a while loop.\n"
   ]
  },
  {
   "cell_type": "code",
   "execution_count": null,
   "id": "abdf8901-d608-43cb-8e2b-eb5e183239a3",
   "metadata": {},
   "outputs": [],
   "source": [
    "16. Find the largest number in a list using a while loop.\n"
   ]
  },
  {
   "cell_type": "code",
   "execution_count": null,
   "id": "ff772557-51ba-496e-9ec2-4436d738857f",
   "metadata": {},
   "outputs": [],
   "source": [
    "17. Find the smallest number in a list using a while loop.\n"
   ]
  },
  {
   "cell_type": "code",
   "execution_count": null,
   "id": "f8b3aa11-9023-4e99-b2ab-4320dbd784ef",
   "metadata": {},
   "outputs": [],
   "source": [
    "18. Check if a number is prime using a while loop.\n"
   ]
  },
  {
   "cell_type": "code",
   "execution_count": null,
   "id": "1e9e5332-05fd-4a6b-baad-c10cd57ec919",
   "metadata": {},
   "outputs": [],
   "source": [
    "19. Print all multiples of 5 up to 100 using a while loop.\n"
   ]
  },
  {
   "cell_type": "code",
   "execution_count": null,
   "id": "ec1f409f-3b5f-401f-a500-18189b260154",
   "metadata": {},
   "outputs": [],
   "source": [
    "20. Count how many vowels are in a given string using a while loop.\n"
   ]
  },
  {
   "cell_type": "code",
   "execution_count": null,
   "id": "7d0b63fe-2303-4e42-921f-4c025d48629d",
   "metadata": {},
   "outputs": [],
   "source": [
    "21. Print a pyramid pattern of stars with 5 rows using a while loop.\n"
   ]
  },
  {
   "cell_type": "code",
   "execution_count": null,
   "id": "7a40cd54-2511-4402-b8dc-643d66237ad4",
   "metadata": {},
   "outputs": [],
   "source": [
    "22. Print an inverted pyramid pattern of stars with 5 rows using a while loop.\n"
   ]
  },
  {
   "cell_type": "code",
   "execution_count": null,
   "id": "3c86ac15-cb0b-403f-870e-303297944965",
   "metadata": {},
   "outputs": [],
   "source": [
    "23. Generate all prime numbers between 1 and 100 using a while loop.\n"
   ]
  },
  {
   "cell_type": "code",
   "execution_count": null,
   "id": "df973a01-c784-4774-bcab-c636d5c34e4a",
   "metadata": {},
   "outputs": [],
   "source": [
    "# armstrong number\n",
    "\n",
    "n = int(input(\"enter the digit to check armstrong number\"))\n",
    "org = n\n",
    "sum = 0\n",
    "digit = 0\n",
    "power = (len(str(n)))\n",
    "while (n!= 0):\n",
    "    digit = n % 10\n",
    "    sum = sum + digit**power\n",
    "    n = n//10\n",
    "if sum == org:\n",
    "    print(\"it is armstrong number\")\n",
    "else:\n",
    "    print(\"not a armstrong number\")"
   ]
  },
  {
   "cell_type": "code",
   "execution_count": null,
   "id": "34914eee-ecf3-49b6-81dd-f5942afe0fb8",
   "metadata": {},
   "outputs": [],
   "source": [
    "24. Find all Armstrong numbers between 100 and 999 using a while loop.\n"
   ]
  },
  {
   "cell_type": "code",
   "execution_count": null,
   "id": "5a984549-e978-4bd5-8a62-ed4f7df1331c",
   "metadata": {},
   "outputs": [],
   "source": [
    "25. Find all perfect numbers between 1 and 500 using a while loop.\n"
   ]
  },
  {
   "cell_type": "code",
   "execution_count": null,
   "id": "c86c2830-9cd7-4a9a-8292-758b6ef38343",
   "metadata": {},
   "outputs": [],
   "source": [
    "26. Print a diamond pattern of stars with 5 rows on each side using a while loop.\n"
   ]
  },
  {
   "cell_type": "code",
   "execution_count": null,
   "id": "ec9012a6-c8cc-487f-a8b6-368c981173c7",
   "metadata": {},
   "outputs": [],
   "source": [
    "27. Print the multiplication tables from 1 to 5 using a while loop.\n"
   ]
  },
  {
   "cell_type": "code",
   "execution_count": null,
   "id": "e3d10b50-f0dd-44ed-88d4-2170b5a578b4",
   "metadata": {},
   "outputs": [],
   "source": [
    "28. Generate all two-digit numbers where the sum of digits is 10 using a while loop.\n"
   ]
  },
  {
   "cell_type": "code",
   "execution_count": null,
   "id": "1c7724b9-b6db-4e19-b752-2e8c0737ca9b",
   "metadata": {},
   "outputs": [],
   "source": [
    "29. Reverse a number using a while loop.\n"
   ]
  },
  {
   "cell_type": "code",
   "execution_count": null,
   "id": "d9e4335f-4096-4e4f-b137-c56a19a1a56d",
   "metadata": {},
   "outputs": [],
   "source": [
    "30. Check if a string is a palindrome using a while loop.\n"
   ]
  },
  {
   "cell_type": "markdown",
   "id": "afffecb2-05c0-493e-9b3a-487cd502b8b9",
   "metadata": {},
   "source": [
    "# ⬇️Extra questions must do "
   ]
  },
  {
   "cell_type": "code",
   "execution_count": null,
   "id": "fd8ee8fa-157d-4b03-b952-fcd3436dd162",
   "metadata": {},
   "outputs": [],
   "source": [
    "Example 1: Write a program to print n natural numbers.\n"
   ]
  },
  {
   "cell_type": "code",
   "execution_count": null,
   "id": "a4623264-6f63-4a82-8fc5-9d803943424c",
   "metadata": {},
   "outputs": [],
   "source": [
    "Example 2: Write a program to print sum of n natural numbers.\n"
   ]
  },
  {
   "cell_type": "code",
   "execution_count": null,
   "id": "b74d8400-3e0b-4b02-88f2-b5b31f1c43ae",
   "metadata": {},
   "outputs": [],
   "source": [
    "Example 3: Write a program to print multi of n natural numbers.\n"
   ]
  },
  {
   "cell_type": "code",
   "execution_count": null,
   "id": "ea048165-fa29-4fbe-a70a-6fcbc869003f",
   "metadata": {},
   "outputs": [],
   "source": [
    "Example 4: Write a program to print factorial of any natural number.\n"
   ]
  },
  {
   "cell_type": "code",
   "execution_count": null,
   "id": "5793f09a-12a4-4eb3-99b4-21376ddb833c",
   "metadata": {},
   "outputs": [],
   "source": [
    "Example 5: Write a program to print n even numbers.\n"
   ]
  },
  {
   "cell_type": "code",
   "execution_count": null,
   "id": "d46e279a-b4c2-4974-9cda-9022377b95c7",
   "metadata": {},
   "outputs": [],
   "source": [
    "Example 6: Write a program to print sum of n even numbers.\n"
   ]
  },
  {
   "cell_type": "code",
   "execution_count": null,
   "id": "de62f41e-e949-4f22-974a-8268aa104324",
   "metadata": {},
   "outputs": [],
   "source": [
    "Example 7: Write a program to print even numbers up-to n natural numbers.\n"
   ]
  },
  {
   "cell_type": "code",
   "execution_count": null,
   "id": "62644d0a-428d-41b9-af20-f534ba344aec",
   "metadata": {},
   "outputs": [],
   "source": [
    "Example 8: Write a program to print sum of even numbers up-to n natural numbers.\n"
   ]
  },
  {
   "cell_type": "code",
   "execution_count": null,
   "id": "4bb745a1-2dc7-479e-acb0-527795086ba4",
   "metadata": {},
   "outputs": [],
   "source": [
    "Example 9: Write a program to print n odd numbers.\n"
   ]
  },
  {
   "cell_type": "code",
   "execution_count": null,
   "id": "5e4e7246-939d-4e9c-a175-34ea9f0fcd7d",
   "metadata": {},
   "outputs": [],
   "source": [
    "Example 10: Write a program to print sum of n odd numbers.\n"
   ]
  },
  {
   "cell_type": "code",
   "execution_count": null,
   "id": "372c01be-d14d-45af-ba01-a7ae380ca9f1",
   "metadata": {},
   "outputs": [],
   "source": [
    "Example 11: Write a program to print odd numbers up-to n natural numbers.\n"
   ]
  },
  {
   "cell_type": "code",
   "execution_count": null,
   "id": "fbb605d8-c11b-4f10-ab8f-1f5440a875e7",
   "metadata": {},
   "outputs": [],
   "source": [
    "Example 12: Write a program to print sum of odd numbers up-to n natural numbers.\n"
   ]
  },
  {
   "cell_type": "code",
   "execution_count": null,
   "id": "b7c85f4f-4e0e-46d3-be60-d07ad001398f",
   "metadata": {},
   "outputs": [],
   "source": [
    "Example 13: Write a program to find factorial of given no.\n"
   ]
  },
  {
   "cell_type": "code",
   "execution_count": null,
   "id": "90076518-2740-4cd5-bef7-5b2f6458a103",
   "metadata": {},
   "outputs": [],
   "source": [
    "Example 14: Write a program to print your names ten times.\n"
   ]
  },
  {
   "cell_type": "code",
   "execution_count": null,
   "id": "b7c16cb9-e7c0-443d-bf2b-ef88385d00ab",
   "metadata": {},
   "outputs": [],
   "source": [
    "Example 15: Write a program to find how many vowels and consonants are present\n",
    "in strings.\n"
   ]
  },
  {
   "cell_type": "code",
   "execution_count": null,
   "id": "c1c9e965-2528-46f8-bbf4-753466c9dea7",
   "metadata": {},
   "outputs": [],
   "source": [
    "Example 16: Write a program to add 5 in each elements in given list.\n",
    "[10,20,30,40,50]\n"
   ]
  },
  {
   "cell_type": "code",
   "execution_count": null,
   "id": "e891a833-5750-41ac-8f77-44d307777e4b",
   "metadata": {},
   "outputs": [],
   "source": [
    "Example 17: Write a program to add 5 in each elements in given tuple.\n",
    "(10,20,30,40,50)\n"
   ]
  },
  {
   "cell_type": "code",
   "execution_count": null,
   "id": "4a77f924-10af-49d3-9b8a-13d917a7a7b7",
   "metadata": {},
   "outputs": [],
   "source": [
    "Example 18: Write a program to create a list from given string. \n"
   ]
  }
 ],
 "metadata": {
  "kernelspec": {
   "display_name": "Python [conda env:base] *",
   "language": "python",
   "name": "conda-base-py"
  },
  "language_info": {
   "codemirror_mode": {
    "name": "ipython",
    "version": 3
   },
   "file_extension": ".py",
   "mimetype": "text/x-python",
   "name": "python",
   "nbconvert_exporter": "python",
   "pygments_lexer": "ipython3",
   "version": "3.12.7"
  }
 },
 "nbformat": 4,
 "nbformat_minor": 5
}
