{
 "cells": [
  {
   "cell_type": "code",
   "execution_count": 2,
   "id": "bb427e6a-47ca-43da-bd22-e0f8fdb1c69b",
   "metadata": {},
   "outputs": [
    {
     "name": "stdout",
     "output_type": "stream",
     "text": [
      "{101: 'Tushar', 102: 'Abhinav', 103: 'vishal', 104: 'tanvi'}\n"
     ]
    }
   ],
   "source": [
    "# 1. Create a dictionary of 5 students with roll numbers as keys and names as values.\n",
    "\n",
    "d = {101:\"Tushar\",102:\"Abhinav\",103:\"vishal\",104:\"tanvi\"}\n",
    "print(d)"
   ]
  },
  {
   "cell_type": "code",
   "execution_count": 7,
   "id": "57de0319-667d-4751-bedb-9234e315544c",
   "metadata": {},
   "outputs": [
    {
     "name": "stdout",
     "output_type": "stream",
     "text": [
      "Tushar\n"
     ]
    }
   ],
   "source": [
    "# 2. Access the value of a dictionary using a key.\n",
    "\n",
    "print(d[101])"
   ]
  },
  {
   "cell_type": "code",
   "execution_count": null,
   "id": "88bf4be0-7ef1-4a86-9703-afc7984ae266",
   "metadata": {},
   "outputs": [],
   "source": [
    "3. Update a value in a dictionary.\n",
    "4. Delete a key-value pair from a dictionary.\n",
    "5. Write a program to check if a key exists in a dictionary.\n",
    "6. Iterate through a dictionary and print keys and values.\n",
    "7. Create a dictionary with squares of numbers 1–5.\n",
    "8. Merge two dictionaries.\n",
    "9. Write a program to get the length of a dictionary.\n",
    "10. Write a program to clear all elements of a dictionary.\n",
    "11. Write a program to find the key with maximum value in a dictionary.\n",
    "12. Write a program to invert a dictionary (swap keys & values).\n",
    "13. Write a program to count occurrences of characters in a string using dictionary.\n",
    "14. Write a program to sort a dictionary by its values.\n",
    "15. Write a program to combine two dictionaries by adding values for common keys.\n",
    "16. Write a program to check if two dictionaries are equal.\n",
    "17. Write a program to extract unique values from a list of dictionaries.\n",
    "18. Write a program to remove keys with empty values.\n",
    "19. Write a program to find common keys in two dictionaries.\n",
    "20. Write a program to convert two lists into a dictionary."
   ]
  },
  {
   "cell_type": "code",
   "execution_count": null,
   "id": "c5c1af02-23fd-4ac1-90c9-2c5f0d89e3e8",
   "metadata": {},
   "outputs": [],
   "source": []
  },
  {
   "cell_type": "code",
   "execution_count": null,
   "id": "9a913702-0465-4e3b-a34b-d9cba91d54e9",
   "metadata": {},
   "outputs": [],
   "source": []
  },
  {
   "cell_type": "code",
   "execution_count": null,
   "id": "dae78191-f0b0-4725-8a60-35cbbb225e70",
   "metadata": {},
   "outputs": [],
   "source": []
  },
  {
   "cell_type": "code",
   "execution_count": null,
   "id": "f51b6f33-123d-4692-832f-5529793495e9",
   "metadata": {},
   "outputs": [],
   "source": []
  },
  {
   "cell_type": "code",
   "execution_count": null,
   "id": "3e9efc47-9829-4762-8749-65609638fa6e",
   "metadata": {},
   "outputs": [],
   "source": []
  },
  {
   "cell_type": "code",
   "execution_count": null,
   "id": "5d5fa6a9-8ed6-412d-b871-6c0c23a849d0",
   "metadata": {},
   "outputs": [],
   "source": []
  },
  {
   "cell_type": "code",
   "execution_count": null,
   "id": "4054fff3-020e-4b23-ab7b-574fb44ffbff",
   "metadata": {},
   "outputs": [],
   "source": []
  },
  {
   "cell_type": "code",
   "execution_count": null,
   "id": "eea9eca7-6661-40d7-a99c-9baed1ffecad",
   "metadata": {},
   "outputs": [],
   "source": []
  },
  {
   "cell_type": "code",
   "execution_count": null,
   "id": "eec98764-50cf-4299-bbbc-3ca97c2afeb7",
   "metadata": {},
   "outputs": [],
   "source": []
  },
  {
   "cell_type": "code",
   "execution_count": null,
   "id": "1663b63b-5bae-46e4-bac6-4e069baba9b6",
   "metadata": {},
   "outputs": [],
   "source": []
  },
  {
   "cell_type": "code",
   "execution_count": null,
   "id": "9a6fa8ee-7ce6-447b-9d26-dc3713777711",
   "metadata": {},
   "outputs": [],
   "source": []
  },
  {
   "cell_type": "code",
   "execution_count": null,
   "id": "d80fe55f-76da-4646-a1f8-949284e00231",
   "metadata": {},
   "outputs": [],
   "source": []
  },
  {
   "cell_type": "code",
   "execution_count": null,
   "id": "ef442232-95ce-4a00-8527-d5c69fab0cd1",
   "metadata": {},
   "outputs": [],
   "source": []
  },
  {
   "cell_type": "code",
   "execution_count": null,
   "id": "1d31f195-2fc2-4ade-a180-d2a01c2c54ed",
   "metadata": {},
   "outputs": [],
   "source": []
  },
  {
   "cell_type": "code",
   "execution_count": null,
   "id": "a9b15c28-5784-4ced-b0bc-c9f8b0998154",
   "metadata": {},
   "outputs": [],
   "source": []
  },
  {
   "cell_type": "code",
   "execution_count": null,
   "id": "f3b4cf62-05c8-4c28-87db-a1e1434a09f7",
   "metadata": {},
   "outputs": [],
   "source": []
  },
  {
   "cell_type": "code",
   "execution_count": null,
   "id": "73f4430a-1551-4280-9771-32fbfaec4a63",
   "metadata": {},
   "outputs": [],
   "source": []
  },
  {
   "cell_type": "code",
   "execution_count": null,
   "id": "9726c723-c112-4acc-812c-45738aeb89c2",
   "metadata": {},
   "outputs": [],
   "source": []
  },
  {
   "cell_type": "code",
   "execution_count": null,
   "id": "85746882-a452-445a-9c08-25f8bdc13548",
   "metadata": {},
   "outputs": [],
   "source": []
  },
  {
   "cell_type": "code",
   "execution_count": null,
   "id": "8e207272-cf71-4dcc-a937-1cda8c80391f",
   "metadata": {},
   "outputs": [],
   "source": []
  },
  {
   "cell_type": "code",
   "execution_count": null,
   "id": "5fd6643b-4ad3-4f24-a961-0a255b59bb1e",
   "metadata": {},
   "outputs": [],
   "source": []
  },
  {
   "cell_type": "code",
   "execution_count": null,
   "id": "824f9be6-af67-484b-b767-351c14718538",
   "metadata": {},
   "outputs": [],
   "source": []
  },
  {
   "cell_type": "code",
   "execution_count": null,
   "id": "9628d8f8-a100-4348-b248-4239da87e5ba",
   "metadata": {},
   "outputs": [],
   "source": []
  },
  {
   "cell_type": "code",
   "execution_count": null,
   "id": "bd65da59-7452-4af6-9ed5-a80ddff3a454",
   "metadata": {},
   "outputs": [],
   "source": []
  }
 ],
 "metadata": {
  "kernelspec": {
   "display_name": "Python [conda env:base] *",
   "language": "python",
   "name": "conda-base-py"
  },
  "language_info": {
   "codemirror_mode": {
    "name": "ipython",
    "version": 3
   },
   "file_extension": ".py",
   "mimetype": "text/x-python",
   "name": "python",
   "nbconvert_exporter": "python",
   "pygments_lexer": "ipython3",
   "version": "3.12.7"
  }
 },
 "nbformat": 4,
 "nbformat_minor": 5
}
