{
 "cells": [
  {
   "cell_type": "code",
   "execution_count": null,
   "id": "220f986e-99b5-4447-a1a2-04de4f3d8298",
   "metadata": {},
   "outputs": [],
   "source": [
    "1. Print a 3x3 grid of stars.\n"
   ]
  },
  {
   "cell_type": "code",
   "execution_count": null,
   "id": "285b867f-3823-4912-8c08-a80266f709f1",
   "metadata": {},
   "outputs": [],
   "source": [
    "2 2. Print a multiplication table from 1 to 3.\n"
   ]
  },
  {
   "cell_type": "code",
   "execution_count": null,
   "id": "e96e61bf-b1d7-4680-86e2-496af7b4bce4",
   "metadata": {},
   "outputs": [],
   "source": [
    "3 3. Print numbers from 1 to 3 in three rows.\n"
   ]
  },
  {
   "cell_type": "code",
   "execution_count": null,
   "id": "e67f35e7-10da-4ade-9cd3-6d77a4fde16d",
   "metadata": {},
   "outputs": [],
   "source": [
    "4 4. Print the coordinates (i, j) where i and j go from 1 to 3.\n"
   ]
  },
  {
   "cell_type": "code",
   "execution_count": null,
   "id": "ae538eab-8bd0-48f3-aa76-4dd75162c71f",
   "metadata": {},
   "outputs": [],
   "source": [
    "5 5. Print a square pattern of numbers from 1 to 5.\n"
   ]
  },
  {
   "cell_type": "code",
   "execution_count": null,
   "id": "2a44b3b7-8aae-4e7c-84da-d51d01421caa",
   "metadata": {},
   "outputs": [],
   "source": [
    "6 6. Print each element of a 2D list.\n"
   ]
  },
  {
   "cell_type": "code",
   "execution_count": null,
   "id": "b86d1bc8-bb61-4ce8-869e-6c9ce4fec485",
   "metadata": {},
   "outputs": [],
   "source": [
    "7 7. Print a right triangle pattern of stars with 4 rows.\n"
   ]
  },
  {
   "cell_type": "code",
   "execution_count": null,
   "id": "3b9c3878-168e-4023-bbb4-3cf1bcf70ffe",
   "metadata": {},
   "outputs": [],
   "source": [
    "8 8. Print all pairs of even numbers from 2 to 6.\n"
   ]
  },
  {
   "cell_type": "code",
   "execution_count": null,
   "id": "0e25b51d-01bc-4f3a-aa8b-ce87886af200",
   "metadata": {},
   "outputs": [],
   "source": [
    "9 9. Print a 5x5 grid where each row contains the same number.\n"
   ]
  },
  {
   "cell_type": "code",
   "execution_count": null,
   "id": "4a068c26-d409-48ad-8d9f-b341bd8ae5f9",
   "metadata": {},
   "outputs": [],
   "source": [
    "10 10. Print a 5x5 grid where each column contains the same number.\n"
   ]
  },
  {
   "cell_type": "code",
   "execution_count": null,
   "id": "b3126dc4-731d-48dc-905c-25ebfcfaa347",
   "metadata": {},
   "outputs": [],
   "source": [
    "1. Print a pyramid of stars with 5 rows using nested loops.\n"
   ]
  },
  {
   "cell_type": "code",
   "execution_count": null,
   "id": "0c434198-ff0f-4d5e-a64a-3b18fa95ca45",
   "metadata": {},
   "outputs": [],
   "source": [
    "2 2. Print an inverted pyramid of stars with 5 rows using nested loops.\n"
   ]
  },
  {
   "cell_type": "code",
   "execution_count": null,
   "id": "f8bd1500-f1ca-45de-8f85-210e009c4547",
   "metadata": {},
   "outputs": [],
   "source": [
    "3 3. Print a multiplication table from 1 to 5 in a tabular form.\n"
   ]
  },
  {
   "cell_type": "code",
   "execution_count": null,
   "id": "d1679a8a-2193-499d-8205-493d860d8c2e",
   "metadata": {},
   "outputs": [],
   "source": [
    "4 4. Print the sum of each row in a 2D list.\n"
   ]
  },
  {
   "cell_type": "code",
   "execution_count": null,
   "id": "1fa7d0ad-25d1-44e9-872a-62b21d5c0be8",
   "metadata": {},
   "outputs": [],
   "source": [
    "5 5. Print the transpose of a 3x3 matrix.\n"
   ]
  },
  {
   "cell_type": "code",
   "execution_count": null,
   "id": "01a70ad6-70f2-4036-9e86-44435c9528bb",
   "metadata": {},
   "outputs": [],
   "source": [
    "6 6. Print all pairs of numbers (i, j) where i != j from 1 to 4.\n"
   ]
  },
  {
   "cell_type": "code",
   "execution_count": null,
   "id": "678149e3-5af2-4002-9c81-600e20f352f0",
   "metadata": {},
   "outputs": [],
   "source": [
    "7 7. Print all prime pairs (p, q) where p and q are prime numbers between 1 and 10.\n"
   ]
  },
  {
   "cell_type": "code",
   "execution_count": null,
   "id": "cac1cc9d-f444-41e0-a2a4-3f1ee06598b2",
   "metadata": {},
   "outputs": [],
   "source": [
    "8 8. Print a pattern where the ith row contains numbers from 1 to i.\n"
   ]
  },
  {
   "cell_type": "code",
   "execution_count": null,
   "id": "13ef06ec-a015-4fa3-8da8-1788f0e1243a",
   "metadata": {},
   "outputs": [],
   "source": [
    "9 9. Print a pattern where the ith row contains i repeated i times.\n"
   ]
  },
  {
   "cell_type": "code",
   "execution_count": null,
   "id": "61a5f7a0-3465-4f4b-97ed-79b8c3efaf3d",
   "metadata": {},
   "outputs": [],
   "source": [
    "10 10. Print the border of a 5x5 square of stars.\n"
   ]
  },
  {
   "cell_type": "code",
   "execution_count": null,
   "id": "d47d5932-fb6f-4642-ba87-1009302dd604",
   "metadata": {},
   "outputs": [],
   "source": [
    "1. Print a diamond pattern of stars with 5 rows on each side using nested loops.\n"
   ]
  },
  {
   "cell_type": "code",
   "execution_count": null,
   "id": "338ca7fe-22e2-4e09-9ddb-827eab1c7c7e",
   "metadata": {},
   "outputs": [],
   "source": [
    "2 2. Print a chessboard pattern of size 8x8 with 'B' and 'W'.\n"
   ]
  },
  {
   "cell_type": "code",
   "execution_count": null,
   "id": "c8ba2776-0d15-45a3-a4d6-9c217b5a2d5b",
   "metadata": {},
   "outputs": [],
   "source": [
    "3 3. Print Pascal's triangle for 5 rows.\n"
   ]
  },
  {
   "cell_type": "code",
   "execution_count": null,
   "id": "1406eedc-f8ec-4278-bec0-59914c8276c6",
   "metadata": {},
   "outputs": [],
   "source": [
    "4 4. Print all unique pairs (i, j) where 1 <= i < j <= 5.\n"
   ]
  },
  {
   "cell_type": "code",
   "execution_count": null,
   "id": "ae05a812-6466-4b45-bdb1-88cfaa742ba9",
   "metadata": {},
   "outputs": [],
   "source": [
    "5 5. Given a 2D list, print its elements in spiral order.\n"
   ]
  },
  {
   "cell_type": "code",
   "execution_count": null,
   "id": "fe70f07e-1bc9-482b-9923-f4789cfaec65",
   "metadata": {},
   "outputs": [],
   "source": [
    "6 6. Print all Pythagorean triplets with values under 20.\n"
   ]
  },
  {
   "cell_type": "code",
   "execution_count": null,
   "id": "7a015ab7-84b0-4b3c-80a2-c90e32e44e6a",
   "metadata": {},
   "outputs": [],
   "source": [
    "7 7. Print a hollow pyramid pattern of stars with 5 rows.\n"
   ]
  },
  {
   "cell_type": "code",
   "execution_count": null,
   "id": "511758fe-a169-4e1c-9567-1ce163d56439",
   "metadata": {},
   "outputs": [],
   "source": [
    "8 8. Print all combinations of three letters from 'abcde'.\n"
   ]
  },
  {
   "cell_type": "code",
   "execution_count": null,
   "id": "ecac92db-d875-48a2-8263-d1a7654f5050",
   "metadata": {},
   "outputs": [],
   "source": [
    "9 9. Print a multiplication table from 1 to 10 aligned properly.\n"
   ]
  },
  {
   "cell_type": "code",
   "execution_count": null,
   "id": "1dcdc885-05ca-4325-bd88-4e71a7d63997",
   "metadata": {},
   "outputs": [],
   "source": [
    "10 10. Print a hollow diamond pattern of stars with 5 rows on each side.\n"
   ]
  }
 ],
 "metadata": {
  "kernelspec": {
   "display_name": "Python [conda env:base] *",
   "language": "python",
   "name": "conda-base-py"
  },
  "language_info": {
   "codemirror_mode": {
    "name": "ipython",
    "version": 3
   },
   "file_extension": ".py",
   "mimetype": "text/x-python",
   "name": "python",
   "nbconvert_exporter": "python",
   "pygments_lexer": "ipython3",
   "version": "3.12.7"
  }
 },
 "nbformat": 4,
 "nbformat_minor": 5
}
