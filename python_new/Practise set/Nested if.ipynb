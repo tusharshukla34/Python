{
 "cells": [
  {
   "cell_type": "code",
   "execution_count": null,
   "id": "e99da3fa-1170-484d-ad23-4fcfd682eec3",
   "metadata": {},
   "outputs": [],
   "source": [
    "1. Write a program that checks if a number is positive, and if positive, checks if it is even.\n"
   ]
  },
  {
   "cell_type": "code",
   "execution_count": null,
   "id": "fef9f4b2-432a-499e-97d4-319e14cb4297",
   "metadata": {},
   "outputs": [],
   "source": [
    "2 2. Take a user’s age and check if they are an adult (18+), and if yes, check if they are eligible to\n",
    "vote (18+).\n"
   ]
  },
  {
   "cell_type": "code",
   "execution_count": null,
   "id": "3a4761db-fbaf-42dc-bbdb-8fafe403465c",
   "metadata": {},
   "outputs": [],
   "source": [
    "3 3. Ask the user for a temperature. If it’s above 0, check if it’s above 30.\n"
   ]
  },
  {
   "cell_type": "code",
   "execution_count": null,
   "id": "65fe064e-e5a6-47f9-b3c4-d8ffadbdb8f6",
   "metadata": {},
   "outputs": [],
   "source": [
    "4 4. Check if a number is divisible by 2, and if yes, check if it’s also divisible by 4.\n"
   ]
  },
  {
   "cell_type": "code",
   "execution_count": null,
   "id": "2b6e75bf-f4b5-4bec-82ec-9292a2125994",
   "metadata": {},
   "outputs": [],
   "source": [
    "5 5. Ask for a score. If score >= 50, check if it’s also >= 90.\n"
   ]
  },
  {
   "cell_type": "code",
   "execution_count": null,
   "id": "6ba68541-b45a-4648-924f-67f8b0621a6a",
   "metadata": {},
   "outputs": [],
   "source": [
    "6 6. Check if a number is positive, and inside that check, see if it’s a single-digit number.\n"
   ]
  },
  {
   "cell_type": "code",
   "execution_count": null,
   "id": "77ab0482-71f2-460d-b1dc-65562bca8b05",
   "metadata": {},
   "outputs": [],
   "source": [
    "7 7. If a string starts with 'A', check if it ends with 'Z'.\n"
   ]
  },
  {
   "cell_type": "code",
   "execution_count": null,
   "id": "fc48490c-02c9-40c9-883e-1e5d7657c0e2",
   "metadata": {},
   "outputs": [],
   "source": [
    "8 8. Ask for the current year. If it’s a leap year, check if it’s divisible by 400.\n"
   ]
  },
  {
   "cell_type": "code",
   "execution_count": null,
   "id": "8bb499cd-1c38-4960-adb6-7159f56e26ff",
   "metadata": {},
   "outputs": [],
   "source": [
    "9 9. Check if a number is greater than 100, and if yes, check if it’s less than 200.\n"
   ]
  },
  {
   "cell_type": "code",
   "execution_count": null,
   "id": "e63e5dc3-78a4-44ff-b946-e7027cff8235",
   "metadata": {},
   "outputs": [],
   "source": [
    "10 10. If a number is negative, check if it’s less than -100"
   ]
  },
  {
   "cell_type": "code",
   "execution_count": null,
   "id": "ffae8e04-e531-4799-b1a2-262a374a6688",
   "metadata": {},
   "outputs": [],
   "source": [
    "1. Ask for marks in two subjects. If both are >= 40, check if the average is >= 50.\n"
   ]
  },
  {
   "cell_type": "code",
   "execution_count": null,
   "id": "5e7d0b8b-d38e-42b0-aee6-3ef7922b1156",
   "metadata": {},
   "outputs": [],
   "source": [
    "2 2. Take a character. If it’s a vowel, check if it’s uppercase.\n"
   ]
  },
  {
   "cell_type": "code",
   "execution_count": null,
   "id": "806a817c-a8cc-4e00-a664-5fb3ecfd0bd9",
   "metadata": {},
   "outputs": [],
   "source": [
    "3 3. Ask for an integer. If divisible by 5, check if the last digit is 0.\n"
   ]
  },
  {
   "cell_type": "code",
   "execution_count": null,
   "id": "7c6f326f-f98f-4f9e-8cd0-11d797d62a35",
   "metadata": {},
   "outputs": [],
   "source": [
    "4 4. Ask for a username. If it matches 'admin', check if password matches '1234'.\n"
   ]
  },
  {
   "cell_type": "code",
   "execution_count": null,
   "id": "70029558-0048-4070-9cd5-b5bdb8a0772e",
   "metadata": {},
   "outputs": [],
   "source": [
    "5 5. Ask for height in cm. If >= 150, check if weight is also >= 50.\n"
   ]
  },
  {
   "cell_type": "code",
   "execution_count": null,
   "id": "0a8b13ab-447a-42a6-85ae-09cf2128cad4",
   "metadata": {},
   "outputs": [],
   "source": [
    "6 6. Ask for speed of a vehicle. If above speed limit, check if over limit by more than 20 km/h.\n"
   ]
  },
  {
   "cell_type": "code",
   "execution_count": null,
   "id": "dbbcc8e7-30db-4bb8-aa61-7ea7aaff8452",
   "metadata": {},
   "outputs": [],
   "source": [
    "7 7. Ask for day of week. If it's Saturday or Sunday, check if it’s also a public holiday.\n"
   ]
  },
  {
   "cell_type": "code",
   "execution_count": null,
   "id": "49f02751-613a-40b6-8074-026ea60b7b23",
   "metadata": {},
   "outputs": [],
   "source": [
    "8 8. If a number is odd, check if it’s prime.\n"
   ]
  },
  {
   "cell_type": "code",
   "execution_count": null,
   "id": "4a1960f1-6842-40b8-a033-72a93f995f85",
   "metadata": {},
   "outputs": [],
   "source": [
    "9 9. Ask for a string. If length > 5, check if it contains the letter 'x'.\n",
    "10 "
   ]
  },
  {
   "cell_type": "code",
   "execution_count": null,
   "id": "d84e814c-08dc-4dbb-8848-39d9bea4ee02",
   "metadata": {},
   "outputs": [],
   "source": [
    "10. Ask for purchase amount. If > 1000, check if customer is a 'Premium' member."
   ]
  },
  {
   "cell_type": "code",
   "execution_count": null,
   "id": "d3e1abf4-0146-4690-8c45-d38a54dc82ac",
   "metadata": {},
   "outputs": [],
   "source": [
    "1. Check if a year is a leap year, and if it is, check if February has 29 days.\n"
   ]
  },
  {
   "cell_type": "code",
   "execution_count": null,
   "id": "38b69598-9bda-4b22-ad36-458f2e057089",
   "metadata": {},
   "outputs": [],
   "source": [
    "2 2. Ask for three numbers. If first is largest, check if second is smallest.\n"
   ]
  },
  {
   "cell_type": "code",
   "execution_count": null,
   "id": "89774473-2d33-4950-9b1b-2207cf1ae229",
   "metadata": {},
   "outputs": [],
   "source": [
    "3 3. Ask for time in 24-hour format. If between 6 and 18, check if it’s before noon.\n"
   ]
  },
  {
   "cell_type": "code",
   "execution_count": null,
   "id": "051523d0-94f6-402d-949c-1ce00ed27c0d",
   "metadata": {},
   "outputs": [],
   "source": [
    "4 4. Ask for exam marks. If pass in all subjects, check if average > 75.\n"
   ]
  },
  {
   "cell_type": "code",
   "execution_count": null,
   "id": "e4ab2bfb-62c1-4c62-a2c9-26a43d27063f",
   "metadata": {},
   "outputs": [],
   "source": [
    "5 5. Ask for bank balance. If > 5000, check if withdrawal request is <= balance.\n"
   ]
  },
  {
   "cell_type": "code",
   "execution_count": null,
   "id": "b6468c2b-0ef7-482f-a5aa-cf48c2a7f8e2",
   "metadata": {},
   "outputs": [],
   "source": [
    "6 6. Ask for temperature in Celsius. If above freezing, check if it’s also above boiling point.\n"
   ]
  },
  {
   "cell_type": "code",
   "execution_count": null,
   "id": "cddc274a-7e71-4448-94a4-33b5d294ace0",
   "metadata": {},
   "outputs": [],
   "source": [
    "7 7. If a string is a palindrome, check if it’s longer than 5 characters.\n"
   ]
  },
  {
   "cell_type": "code",
   "execution_count": null,
   "id": "ecd2aec9-a0c0-45e9-8a7a-e6d8cbd10854",
   "metadata": {},
   "outputs": [],
   "source": [
    "8 8. Ask for coordinates (x, y). If point is in first quadrant, check if x > y.\n"
   ]
  },
  {
   "cell_type": "code",
   "execution_count": null,
   "id": "8b5daf82-1252-403b-9a67-770cab075c58",
   "metadata": {},
   "outputs": [],
   "source": [
    "9. Ask for income. If > 50000, check if tax bracket is above 20%.\n"
   ]
  },
  {
   "cell_type": "code",
   "execution_count": null,
   "id": "aee42f68-00df-4fed-a764-ad12ddbdaf45",
   "metadata": {},
   "outputs": [],
   "source": [
    "10 10. Ask for a password. If it contains both letters and numbers, check if it also contains a\n",
    "special character."
   ]
  },
  {
   "cell_type": "code",
   "execution_count": null,
   "id": "84e615ff-95d9-4b40-bca1-8708d08a1920",
   "metadata": {},
   "outputs": [],
   "source": [
    "Example 1: Write a program to check given no is positive. (Only if-statement)\n",
    "Example 2: Write a program to check given no is positive or negative. (Only if-else\n",
    "statement)\n",
    "Example 3: Write a program to check given no is positive, negative or Zero.(Only ifelif-else statement)\n",
    "Example 4: Write a program to swap two variables without using third variable.\n",
    "Example 5: Write a program to swap two variables using third variable.\n",
    "Example 6: Write a program to swap two variables using using Addition and\n",
    "Subtraction.\n",
    "Example 9: Write a program to find squre root of given no.\n",
    "Example 10: Write a program to find largest no among the three inputs numbers.\n",
    "Example 11: Write a program to find area of triangle. (1/2* hight*base)\n",
    "Example 12: Write a program to find area of square.\n",
    "Example 13: Write a program to find given year is leep year or not.\n",
    "Example 14: WAP to take circle radius from user and calculate area of circle.\n",
    "Example 15: WAP to take length and width from user and calculate area of rectangle.\n",
    "Example 16: WAP to take side length from user and calculate area of squar.\n",
    "Example 17: WAP to take marks value from user and show their total marks,\n",
    "percentage and division.\n",
    "Example 18: WAP to check given number is even or odd. \n",
    "Example 19: WAP to check given year is leep year or not.\n",
    "Example 20: WAP to take account type from user and check bank account type.\n",
    "Example 21: WAP to ATM withdrawal.\n",
    "Example 22: WAP to take balance from user and notify Minimum Balance Penalty.\n",
    "Example 23: WAP to take role from user and check what services they access.\n",
    "Example 24: WAP to take loan_type from user and check loan interest rate based on\n",
    "loan type.\n",
    "Example 25: WAP to take marks value from user and show their total marks,\n",
    "percentage and division.\n",
    "                                                                        "
   ]
  },
  {
   "cell_type": "code",
   "execution_count": null,
   "id": "2a80e914-1c83-4fb5-9dcb-8752b950e071",
   "metadata": {},
   "outputs": [],
   "source": []
  }
 ],
 "metadata": {
  "kernelspec": {
   "display_name": "Python [conda env:base] *",
   "language": "python",
   "name": "conda-base-py"
  },
  "language_info": {
   "codemirror_mode": {
    "name": "ipython",
    "version": 3
   },
   "file_extension": ".py",
   "mimetype": "text/x-python",
   "name": "python",
   "nbconvert_exporter": "python",
   "pygments_lexer": "ipython3",
   "version": "3.12.7"
  }
 },
 "nbformat": 4,
 "nbformat_minor": 5
}
