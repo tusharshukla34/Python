{
 "cells": [
  {
   "cell_type": "code",
   "execution_count": 3,
   "id": "203060a6-36bf-4e67-8ff1-30d80be25ddb",
   "metadata": {},
   "outputs": [
    {
     "name": "stdin",
     "output_type": "stream",
     "text": [
      "enter the num 4\n",
      "enter the num 6\n",
      "enter the num 3\n"
     ]
    },
    {
     "name": "stdout",
     "output_type": "stream",
     "text": [
      "6  is greater than 4  and  3\n"
     ]
    }
   ],
   "source": [
    "                                                      # 21-07-2025\n",
    "# Write a program to input three numbers and print the largest one.\n",
    "\n",
    "a = int(input(\"enter the num\"))\n",
    "b = int(input(\"enter the num\"))\n",
    "c = int(input(\"enter the num\"))\n",
    "\n",
    "if a > b and a > c:\n",
    "    print(a,\" is greater than\",b,\" and \",c)\n",
    "elif b > a and b > c:     \n",
    "    print(b,\" is greater than\",a,\" and \",c)\n",
    "else:\n",
    "    print(c,\" is greater than\",a,\" and \",b)\n",
    "\n"
   ]
  },
  {
   "cell_type": "code",
   "execution_count": 2,
   "id": "9bb073c2-0086-414a-9797-5577fc500e10",
   "metadata": {},
   "outputs": [
    {
     "name": "stdin",
     "output_type": "stream",
     "text": [
      "enter a single alphabet j\n"
     ]
    },
    {
     "name": "stdout",
     "output_type": "stream",
     "text": [
      "the given character is Vovel\n"
     ]
    }
   ],
   "source": [
    "# Write a program to check if a given character is a vowel or a consonant.\n",
    "# vovels - A E I O U\n",
    "# consonant - remaining alphabets\n",
    "char = input(\"enter a single alphabet\")\n",
    "\n",
    "if char == 'a':\n",
    "    print(\"the given character is Vovel\")\n",
    "elif char == 'e':\n",
    "    print(\"the given character is Vovel\")\n",
    "elif char == 'i':\n",
    "    print(\"the given character is Vovel\")\n",
    "elif char == 'o':\n",
    "    print(\"the given character is Vovel\")\n",
    "elif char == 'u':\n",
    "    print(\"the given character is Vovel\")\n",
    "else:    \n",
    "    print(\"the given character is consonants\")\n",
    "\n",
    "\n",
    "# if char == \"a\" or \"e\" or \"i\" or \"o\" or \"u\":\n",
    "#     print(\"the given character is Vovel\")\n",
    "# else:    \n",
    "#     print(\"the given character is consonants\") \n"
   ]
  },
  {
   "cell_type": "code",
   "execution_count": 10,
   "id": "115e6413-ad64-45b7-af66-884b6d57a483",
   "metadata": {},
   "outputs": [
    {
     "name": "stdin",
     "output_type": "stream",
     "text": [
      "enter a single alphabet h\n"
     ]
    },
    {
     "name": "stdout",
     "output_type": "stream",
     "text": [
      "the given character is consonants\n"
     ]
    }
   ],
   "source": [
    "char = input(\"enter a single alphabet\")\n",
    "\n",
    "if char in (\"a\",\"e\",\"i\",\"o\",\"u\"):\n",
    "    print(\"the given character is Vovel\")\n",
    "else:    \n",
    "    print(\"the given character is consonants\") "
   ]
  },
  {
   "cell_type": "code",
   "execution_count": 3,
   "id": "226040cb-3515-4ef3-a8d2-b28a1e23d7e7",
   "metadata": {},
   "outputs": [
    {
     "name": "stdin",
     "output_type": "stream",
     "text": [
      "Enter the year 1501\n"
     ]
    },
    {
     "name": "stdout",
     "output_type": "stream",
     "text": [
      "The year is not leap year\n",
      "as well as not a century year\n"
     ]
    }
   ],
   "source": [
    "                                                # 22-07-2025\n",
    "year = int(input(\"Enter the year\"))\n",
    "\n",
    "if (year % 400 ==0):\n",
    "    print(\"The year is leap year\")\n",
    "    print(\"as well as a century year\")\n",
    "elif (year % 100 ==0):\n",
    "    print(\"The year is not leap year\")\n",
    "    print(\"but it is a century year\")\n",
    "elif (year % 4 ==0):\n",
    "    print(\"The year is leap year\")\n",
    "    print(\"but it is not a century year\")    \n",
    "else:\n",
    "    print(\"The year is not leap year\")\n",
    "    print(\"as well as not a century year\")\n",
    "    "
   ]
  },
  {
   "cell_type": "code",
   "execution_count": 9,
   "id": "f0b3ddea-44cd-43f2-ae1c-f443954c62a2",
   "metadata": {},
   "outputs": [
    {
     "name": "stdin",
     "output_type": "stream",
     "text": [
      "enter your age 122\n"
     ]
    },
    {
     "name": "stdout",
     "output_type": "stream",
     "text": [
      "you are incredible at this age\n"
     ]
    }
   ],
   "source": [
    "# Write a Python program that uses elif statements to determine and print the category of a user based on their age input:\n",
    "# - If they're a child (0-12 years), print \"The user is a child.\"\n",
    "# - If they're a teenager (13-19 years), print \"The user is a teenager.\"\n",
    "# - If they're an adult (20-59 years), print \"The user is an adult.\"\n",
    "# - If they're a senior (60 years and above), print \"The user is a senior.\" \n",
    "\n",
    "age = int(input(\"enter your age\"))\n",
    "if age < 0:\n",
    "    print(\"ha.. ha... ha.. ha.. what a joke🤣 try again\")\n",
    "elif age > 0 and age <= 12:\n",
    "    print(\"you are a child\")    \n",
    "elif age >12 and age <=19:\n",
    "    print(\"you are a teenager\")\n",
    "elif age > 19 and age <=59:    \n",
    "    print(\"you are a adult\")\n",
    "elif age > 59 and age <=120:\n",
    "    print(\"you are a senior citizen\")\n",
    "elif age > 120 and age <=130:\n",
    "    print(\"you are incredible at this age\")\n",
    "else:\n",
    "    print(\"RIP\")\n"
   ]
  },
  {
   "cell_type": "code",
   "execution_count": 16,
   "id": "37557258-e708-446c-b810-8e667ceb7c82",
   "metadata": {},
   "outputs": [
    {
     "name": "stdin",
     "output_type": "stream",
     "text": [
      "enter the num 1\n",
      "enter the num 4\n",
      "enter the num 7\n"
     ]
    },
    {
     "name": "stdout",
     "output_type": "stream",
     "text": [
      "all number are different\n",
      "greater number is  7\n"
     ]
    }
   ],
   "source": [
    "# 🧠 Question:\n",
    "# Write a Python program that takes three numbers as input and prints:\n",
    "# - \"All numbers are equal\" if all three are the same.\n",
    "# - \"Two numbers are equal\" if only two are equal.\n",
    "# - \"All numbers are different\" if none of them are equal.\n",
    "# 🎯 Bonus twist: After checking, also print out the largest number among the three\n",
    "\n",
    "a = int(input(\"enter the num\"))\n",
    "b = int(input(\"enter the num\"))\n",
    "c = int(input(\"enter the num\"))\n",
    "\n",
    "if a == b == c:\n",
    "    print(\"All numbers are equal\")\n",
    "    print(\"greater number is \", max(a,b,c))\n",
    "elif a == b or b == c or c == a:\n",
    "    print(\"Two numbers are equal\")\n",
    "    print(\"greater number is \", max(a,b,c))\n",
    "else:    \n",
    "    print(\"all number are different\")\n",
    "    print(\"greater number is \", max(a,b,c))\n"
   ]
  },
  {
   "cell_type": "code",
   "execution_count": 10,
   "id": "e53448a8-1413-487a-8ab8-974be61a3bcf",
   "metadata": {},
   "outputs": [
    {
     "name": "stdin",
     "output_type": "stream",
     "text": [
      "enter your age here 23\n"
     ]
    },
    {
     "name": "stdout",
     "output_type": "stream",
     "text": [
      "You are eligible to vote\n"
     ]
    }
   ],
   "source": [
    "                                           # 23-07-2025\n",
    "# Write a Python program using if...else to check whether a user is eligible to vote.\n",
    "age = int(input(\"enter your age here\"))\n",
    "if age < 0:\n",
    "    print(\"What a joke!!! try again.\")\n",
    "elif age >= 18:\n",
    "    print(\"You are eligible to vote\")    \n",
    "else:    \n",
    "    print(\"you are not eligible to vote\")"
   ]
  },
  {
   "cell_type": "code",
   "execution_count": 20,
   "id": "a48eeb9c-3171-484b-ab71-d1fccb9de159",
   "metadata": {},
   "outputs": [
    {
     "name": "stdin",
     "output_type": "stream",
     "text": [
      "Enter your username tushar16\n",
      "Enter your password 455\n"
     ]
    },
    {
     "name": "stdout",
     "output_type": "stream",
     "text": [
      "correct username\n",
      "wrong password\n"
     ]
    }
   ],
   "source": [
    "#🔐 Create a Python program for a basic login system using if...else.\n",
    "# 🎯 Requirements:\n",
    "# - Define a correct username and password in your code.\n",
    "# - Ask the user to input their username and password.\n",
    "# - Use if...else to check:\n",
    "# - If both are correct ➤ show a success message.\n",
    "# - If either is wrong ➤ indicate what's incorrect (username, password, or both).\n",
    "\n",
    "username = \"tushar16\"\n",
    "password = \"1234\"\n",
    "user_name = input(\"Enter your username\")\n",
    "pass_word = input(\"Enter your password\")\n",
    "\n",
    "if user_name == username and pass_word == password:\n",
    "    print(\"login sucesses\")\n",
    "elif user_name != username and pass_word != password:\n",
    "    print(\"wrong username and password\")\n",
    "elif user_name != username:\n",
    "    print(\"wrong username\")\n",
    "else:    \n",
    "    print(\"correct username\")\n",
    "    print( \"wrong password\")\n",
    "\n"
   ]
  },
  {
   "cell_type": "code",
   "execution_count": 26,
   "id": "67d2ae8c-73c2-4a1c-a7de-5b5bdaba77e0",
   "metadata": {},
   "outputs": [
    {
     "name": "stdin",
     "output_type": "stream",
     "text": [
      "Enter the first number 3\n",
      "Enter the second number 4\n"
     ]
    },
    {
     "name": "stdout",
     "output_type": "stream",
     "text": [
      "Choose an operation amoung these + , - , * , or / :-\n"
     ]
    },
    {
     "name": "stdin",
     "output_type": "stream",
     "text": [
      "enter the operation from above:  4\n"
     ]
    },
    {
     "name": "stdout",
     "output_type": "stream",
     "text": [
      "invalid operation?\n"
     ]
    }
   ],
   "source": [
    "''' Write a Python program that asks the user to enter two numbers and choose an operation\n",
    " : addition, subtraction, multiplication, or division. Then use if...else to perform and display the result. '''\n",
    "# 🎯 Requirements:\n",
    "# - Ask the user to input two numbers.\n",
    "# - Ask them to choose an operation: +, -, *, or /.\n",
    "# - Use if...elif...else to perform the correct operation.\n",
    "# - If the operation is invalid, display an appropriate message.\n",
    "\n",
    "a = int(input(\"Enter the first number\"))\n",
    "b = int(input(\"Enter the second number\"))\n",
    "print(\"Choose an operation amoung these + , - , * , or / :-\")\n",
    "op = input(\"enter the operation from above: \")\n",
    "if op == '+':\n",
    "    print(a+b)\n",
    "elif op == '-':    \n",
    "    print(a-b)\n",
    "elif op == '*':\n",
    "    print(a*b)\n",
    "elif op == '/' and b == 0:\n",
    "    print(\"cannot divide by zero\")\n",
    "elif op == '/':\n",
    "    print(a/b)\n",
    "else:\n",
    "    print(\"invalid operation?\")"
   ]
  },
  {
   "cell_type": "code",
   "execution_count": 32,
   "id": "7e49ac0c-a20c-454e-96e7-b9be3523c233",
   "metadata": {},
   "outputs": [
    {
     "name": "stdin",
     "output_type": "stream",
     "text": [
      "Enter the temerature in celsius 12\n"
     ]
    },
    {
     "name": "stdout",
     "output_type": "stream",
     "text": [
      "celsius to fahraneit is : 53.6\n",
      "it's cold\n"
     ]
    }
   ],
   "source": [
    "''' Write a Python program using if...else to create a simple temperature converter \n",
    "from Celsius to Fahrenheit and classify the temperature.'''\n",
    "# 🎯 Requirements:\n",
    "# - Ask the user to enter temperature in Celsius.\n",
    "# - Convert it to Fahrenheit using the formula:\n",
    "# F = \\frac{9}{5} \\times C + 32\n",
    "# - Use if...elif...else to classify the result:\n",
    "# - If Fahrenheit ≥ 95 ➤ “It’s hot!”\n",
    "# - If Fahrenheit is between 60 and 94 ➤ “It’s pleasant.”\n",
    "# - If Fahrenheit < 60 ➤ “It’s cold!”\n",
    "\n",
    "temp = float(input(\"Enter the temerature in celsius\"))\n",
    "f = (temp * 9/5) + 32\n",
    "print(\"celsius to fahraneit is :\",f)\n",
    "if f >= 95:\n",
    "    print(\"it's hot\")\n",
    "elif f >= 60 and f <= 94:   \n",
    "    print(\"it's pleasant\")\n",
    "elif f < 60:\n",
    "    print(\"it's cold\")\n"
   ]
  },
  {
   "cell_type": "code",
   "execution_count": 36,
   "id": "6380418f-fcb2-46c4-86a4-ffa7496e7013",
   "metadata": {},
   "outputs": [
    {
     "name": "stdin",
     "output_type": "stream",
     "text": [
      "enter your purchase amount:  10000\n"
     ]
    },
    {
     "name": "stdout",
     "output_type": "stream",
     "text": [
      "bom.... you got 20% of discount\n",
      "you have to pay $ 8000.0\n"
     ]
    }
   ],
   "source": [
    "# Write a program that takes the purchase amount as input and applies a discount:\n",
    "# - If the amount is above ₹5000 → 20% discount\n",
    "# - Otherwise → 10% discount\n",
    "# Print the final amount after applying the discount\n",
    "\n",
    "price = float(input(\"enter your purchase amount: \"))\n",
    "if price >= 5000:\n",
    "    print(\"bom.... you got 20% of discount\")\n",
    "    d = price * (20/100)\n",
    "    acutal_price = price - d\n",
    "    print(\"you have to pay $\",acutal_price)\n",
    "else:\n",
    "    print(\"you got 10% of discount\")\n",
    "    d = price * (10/100)\n",
    "    acutal_price = price - d\n",
    "    print(\"you have to pay $\",acutal_price)"
   ]
  },
  {
   "cell_type": "code",
   "execution_count": 41,
   "id": "4a65aaff-ec7d-4eac-ac25-b8505c041095",
   "metadata": {},
   "outputs": [
    {
     "name": "stdin",
     "output_type": "stream",
     "text": [
      "enter a three digit number 092\n"
     ]
    },
    {
     "name": "stdout",
     "output_type": "stream",
     "text": [
      "not a spy\n"
     ]
    }
   ],
   "source": [
    "'''Ask the user for a number. If the sum of its digits equals the product of its digits\n",
    "   print \"Spy number!\", else \"Not a spy number.\" '''\n",
    "# Example: 112 → sum = 1+1+2 = 4, product = 1×1×2 = 2 → Not a spy number.\n",
    "\n",
    "a = int(input(\"enter a three digit number\"))\n",
    "\n",
    "hundered = a //100\n",
    "tens = (a//10) % 10\n",
    "ones = a % 10\n",
    "\n",
    "sum = hundered + tens + ones\n",
    "product = hundered * tens * ones\n",
    "\n",
    "if sum == product:\n",
    "    print(\"spy number\")\n",
    "else:\n",
    "    print(\"not a spy\")\n"
   ]
  },
  {
   "cell_type": "code",
   "execution_count": 2,
   "id": "caa90ca8-210b-46af-a443-5f13c859c749",
   "metadata": {},
   "outputs": [
    {
     "name": "stdin",
     "output_type": "stream",
     "text": [
      "enter your mobile number 9087654321\n"
     ]
    },
    {
     "name": "stdout",
     "output_type": "stream",
     "text": [
      "not a valid number\n"
     ]
    }
   ],
   "source": [
    "# Take a mobile number as input. Use if...else to check if:\n",
    "# - It has exactly 10 digits\n",
    "# - It starts with 9, 8, or 7\n",
    "\n",
    "mobile = input(\"enter your mobile number\")\n",
    "if len(mobile) == 10 and (mobile[0] == 9 or mobile[0] == 8 or mobile[0] == 7):\n",
    "    print(\"valid mobile number\")\n",
    "else:\n",
    "    print(\"not a valid number\")"
   ]
  },
  {
   "cell_type": "code",
   "execution_count": 2,
   "id": "8af20e90-2d50-4521-a72e-7eb0542b4c9f",
   "metadata": {},
   "outputs": [],
   "source": [
    "                                                     # 31-07-2025"
   ]
  },
  {
   "cell_type": "code",
   "execution_count": 24,
   "id": "bee21621-27bc-4903-bb2d-86b94f3142fa",
   "metadata": {},
   "outputs": [
    {
     "name": "stdin",
     "output_type": "stream",
     "text": [
      "enter the 5 digit number 56478\n"
     ]
    },
    {
     "name": "stdout",
     "output_type": "stream",
     "text": [
      "its not a palindrome number\n",
      "sum is not equal\n"
     ]
    }
   ],
   "source": [
    "# Write a Python program to check if a 5-digit number is a palindrome.\n",
    "# If not, check whether the first two digits sum equals the last two digits\n",
    "\n",
    "a = int(input(\"enter the 5 digit number\"))\n",
    "a_str = str(a)\n",
    "if a > 9999 and a < 100000:\n",
    "    if a_str == a_str[::-1]:\n",
    "        print(\"its a palindrome number\")\n",
    "    else:\n",
    "        print(\"its not a palindrome number\") \n",
    "        sum1 = int(a_str[0]) + int(a_str[1])\n",
    "        sum2 = int(a_str[3]) + int(a_str[4])\n",
    "        if sum1 == sum2:\n",
    "            print(\"the sum of first two digit and the sum of last two digit number are equal \")\n",
    "        else:\n",
    "            print(\"sum is not equal\")\n",
    "else:\n",
    "    print(\"please enter 5 digit number only !!!!!!!!!!!\")"
   ]
  },
  {
   "cell_type": "code",
   "execution_count": 34,
   "id": "dc4eb1ff-4d9e-4d90-bc47-2cd0b3ade0e2",
   "metadata": {},
   "outputs": [
    {
     "name": "stdin",
     "output_type": "stream",
     "text": [
      "enter the string Nitin\n"
     ]
    },
    {
     "name": "stdout",
     "output_type": "stream",
     "text": [
      "its palindrome\n"
     ]
    }
   ],
   "source": [
    "# - Create a program where you input a name, and using nested if statements,\n",
    "# check if it's a palindrome and also contains only alphabetic characters.\n",
    "\n",
    "name = input(\"enter the string\").strip()\n",
    "if name.isalpha():\n",
    "    if  name.lower() == name.lower()[::-1]:\n",
    "        print(\"its palindrome\")\n",
    "    else:\n",
    "        print(\"not a palindrome\")\n",
    "else:\n",
    "    print(\"enter the alphabet only\")\n",
    "\n"
   ]
  },
  {
   "cell_type": "code",
   "execution_count": 49,
   "id": "def8c0ae-6bd0-4999-9e69-4bb02d36ab99",
   "metadata": {},
   "outputs": [
    {
     "name": "stdin",
     "output_type": "stream",
     "text": [
      "enter three digit number 123\n"
     ]
    },
    {
     "name": "stdout",
     "output_type": "stream",
     "text": [
      "the middle number is even\n"
     ]
    }
   ],
   "source": [
    "# Ask the user to enter a 3-digit number. If it's a palindrome, print that. Else, check if the middle digit is even.\n",
    "\n",
    "n = input(\"enter three digit number\")\n",
    "if int(n) > 99 and int(n) < 1000:\n",
    "    if n == n[::-1]:\n",
    "        print(\"its a palindrome\")\n",
    "    else:\n",
    "        m = int(n[1])\n",
    "        if m % 2 == 0:\n",
    "            print(\"the middle number is even\")\n",
    "        else:\n",
    "            print(\"the middle number is odd\")\n",
    "else:\n",
    "    print(\"please enter a three digit number only\")"
   ]
  },
  {
   "cell_type": "code",
   "execution_count": null,
   "id": "13294961-799e-4457-8455-b84d3bf6cf13",
   "metadata": {},
   "outputs": [],
   "source": []
  },
  {
   "cell_type": "code",
   "execution_count": null,
   "id": "d13b237b-2e42-4ab7-b5fb-ea4eb3991b64",
   "metadata": {},
   "outputs": [],
   "source": []
  }
 ],
 "metadata": {
  "kernelspec": {
   "display_name": "Python [conda env:base] *",
   "language": "python",
   "name": "conda-base-py"
  },
  "language_info": {
   "codemirror_mode": {
    "name": "ipython",
    "version": 3
   },
   "file_extension": ".py",
   "mimetype": "text/x-python",
   "name": "python",
   "nbconvert_exporter": "python",
   "pygments_lexer": "ipython3",
   "version": "3.12.7"
  }
 },
 "nbformat": 4,
 "nbformat_minor": 5
}
