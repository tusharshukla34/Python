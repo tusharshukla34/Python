{
 "cells": [
  {
   "cell_type": "code",
   "execution_count": 23,
   "id": "203060a6-36bf-4e67-8ff1-30d80be25ddb",
   "metadata": {},
   "outputs": [
    {
     "name": "stdin",
     "output_type": "stream",
     "text": [
      "enter the num 34\n",
      "enter the num 67\n",
      "enter the num 3\n"
     ]
    },
    {
     "name": "stdout",
     "output_type": "stream",
     "text": [
      "67  is greater than 34  and  3\n"
     ]
    }
   ],
   "source": [
    "# 21-07-2025\n",
    "# Write a program to input three numbers and print the largest one.\n",
    "\n",
    "a = int(input(\"enter the num\"))\n",
    "b = int(input(\"enter the num\"))\n",
    "c = int(input(\"enter the num\"))\n",
    "\n",
    "if a > b and a > c:\n",
    "    print(a,\" is greater than\",b,\" and \",c)\n",
    "elif b > a and b > c:     \n",
    "    print(b,\" is greater than\",a,\" and \",c)\n",
    "else:\n",
    "    print(c,\" is greater than\",a,\" and \",b)\n",
    "\n"
   ]
  },
  {
   "cell_type": "code",
   "execution_count": 2,
   "id": "9bb073c2-0086-414a-9797-5577fc500e10",
   "metadata": {},
   "outputs": [
    {
     "name": "stdin",
     "output_type": "stream",
     "text": [
      "enter a single alphabet j\n"
     ]
    },
    {
     "name": "stdout",
     "output_type": "stream",
     "text": [
      "the given character is Vovel\n"
     ]
    }
   ],
   "source": [
    "# Write a program to check if a given character is a vowel or a consonant.\n",
    "# vovels - A E I O U\n",
    "# consonant - remaining alphabets\n",
    "char = input(\"enter a single alphabet\")\n",
    "\n",
    "if char == 'a':\n",
    "    print(\"the given character is Vovel\")\n",
    "elif char == 'e':\n",
    "    print(\"the given character is Vovel\")\n",
    "elif char == 'i':\n",
    "    print(\"the given character is Vovel\")\n",
    "elif char == 'o':\n",
    "    print(\"the given character is Vovel\")\n",
    "elif char == 'u':\n",
    "    print(\"the given character is Vovel\")\n",
    "else:    \n",
    "    print(\"the given character is consonants\")\n",
    "\n",
    "\n",
    "# if char == \"a\" or \"e\" or \"i\" or \"o\" or \"u\":\n",
    "#     print(\"the given character is Vovel\")\n",
    "# else:    \n",
    "#     print(\"the given character is consonants\") \n"
   ]
  },
  {
   "cell_type": "code",
   "execution_count": 10,
   "id": "115e6413-ad64-45b7-af66-884b6d57a483",
   "metadata": {},
   "outputs": [
    {
     "name": "stdin",
     "output_type": "stream",
     "text": [
      "enter a single alphabet h\n"
     ]
    },
    {
     "name": "stdout",
     "output_type": "stream",
     "text": [
      "the given character is consonants\n"
     ]
    }
   ],
   "source": [
    "char = input(\"enter a single alphabet\")\n",
    "\n",
    "if char in (\"a\",\"e\",\"i\",\"o\",\"u\"):\n",
    "    print(\"the given character is Vovel\")\n",
    "else:    \n",
    "    print(\"the given character is consonants\") "
   ]
  },
  {
   "cell_type": "code",
   "execution_count": 3,
   "id": "226040cb-3515-4ef3-a8d2-b28a1e23d7e7",
   "metadata": {},
   "outputs": [
    {
     "name": "stdin",
     "output_type": "stream",
     "text": [
      "Enter the year 1501\n"
     ]
    },
    {
     "name": "stdout",
     "output_type": "stream",
     "text": [
      "The year is not leap year\n",
      "as well as not a century year\n"
     ]
    }
   ],
   "source": [
    "                                                # 22-07-2025\n",
    "year = int(input(\"Enter the year\"))\n",
    "\n",
    "if (year % 400 ==0):\n",
    "    print(\"The year is leap year\")\n",
    "    print(\"as well as a century year\")\n",
    "elif (year % 100 ==0):\n",
    "    print(\"The year is not leap year\")\n",
    "    print(\"but it is a century year\")\n",
    "elif (year % 4 ==0):\n",
    "    print(\"The year is leap year\")\n",
    "    print(\"but it is not a century year\")    \n",
    "else:\n",
    "    print(\"The year is not leap year\")\n",
    "    print(\"as well as not a century year\")\n",
    "    "
   ]
  },
  {
   "cell_type": "code",
   "execution_count": 9,
   "id": "f0b3ddea-44cd-43f2-ae1c-f443954c62a2",
   "metadata": {},
   "outputs": [
    {
     "name": "stdin",
     "output_type": "stream",
     "text": [
      "enter your age 122\n"
     ]
    },
    {
     "name": "stdout",
     "output_type": "stream",
     "text": [
      "you are incredible at this age\n"
     ]
    }
   ],
   "source": [
    "# Write a Python program that uses elif statements to determine and print the category of a user based on their age input:\n",
    "# - If they're a child (0-12 years), print \"The user is a child.\"\n",
    "# - If they're a teenager (13-19 years), print \"The user is a teenager.\"\n",
    "# - If they're an adult (20-59 years), print \"The user is an adult.\"\n",
    "# - If they're a senior (60 years and above), print \"The user is a senior.\" \n",
    "\n",
    "age = int(input(\"enter your age\"))\n",
    "if age < 0:\n",
    "    print(\"ha.. ha... ha.. ha.. what a joke🤣 try again\")\n",
    "elif age > 0 and age <= 12:\n",
    "    print(\"you are a child\")    \n",
    "elif age >12 and age <=19:\n",
    "    print(\"you are a teenager\")\n",
    "elif age > 19 and age <=59:    \n",
    "    print(\"you are a adult\")\n",
    "elif age > 59 and age <=120:\n",
    "    print(\"you are a senior citizen\")\n",
    "elif age > 120 and age <=130:\n",
    "    print(\"you are incredible at this age\")\n",
    "else:\n",
    "    print(\"RIP\")\n"
   ]
  },
  {
   "cell_type": "code",
   "execution_count": 16,
   "id": "37557258-e708-446c-b810-8e667ceb7c82",
   "metadata": {},
   "outputs": [
    {
     "name": "stdin",
     "output_type": "stream",
     "text": [
      "enter the num 1\n",
      "enter the num 4\n",
      "enter the num 7\n"
     ]
    },
    {
     "name": "stdout",
     "output_type": "stream",
     "text": [
      "all number are different\n",
      "greater number is  7\n"
     ]
    }
   ],
   "source": [
    "# 🧠 Question:\n",
    "# Write a Python program that takes three numbers as input and prints:\n",
    "# - \"All numbers are equal\" if all three are the same.\n",
    "# - \"Two numbers are equal\" if only two are equal.\n",
    "# - \"All numbers are different\" if none of them are equal.\n",
    "# 🎯 Bonus twist: After checking, also print out the largest number among the three\n",
    "\n",
    "a = int(input(\"enter the num\"))\n",
    "b = int(input(\"enter the num\"))\n",
    "c = int(input(\"enter the num\"))\n",
    "\n",
    "if a == b == c:\n",
    "    print(\"All numbers are equal\")\n",
    "    print(\"greater number is \", max(a,b,c))\n",
    "elif a == b or b == c or c == a:\n",
    "    print(\"Two numbers are equal\")\n",
    "    print(\"greater number is \", max(a,b,c))\n",
    "else:    \n",
    "    print(\"all number are different\")\n",
    "    print(\"greater number is \", max(a,b,c))\n"
   ]
  },
  {
   "cell_type": "code",
   "execution_count": 10,
   "id": "e53448a8-1413-487a-8ab8-974be61a3bcf",
   "metadata": {},
   "outputs": [
    {
     "name": "stdin",
     "output_type": "stream",
     "text": [
      "enter your age here 23\n"
     ]
    },
    {
     "name": "stdout",
     "output_type": "stream",
     "text": [
      "You are eligible to vote\n"
     ]
    }
   ],
   "source": [
    "                                           # 23-07-2025\n",
    "# Write a Python program using if...else to check whether a user is eligible to vote.\n",
    "age = int(input(\"enter your age here\"))\n",
    "if age < 0:\n",
    "    print(\"What a joke!!! try again.\")\n",
    "elif age >= 18:\n",
    "    print(\"You are eligible to vote\")    \n",
    "else:    \n",
    "    print(\"you are not eligible to vote\")"
   ]
  },
  {
   "cell_type": "code",
   "execution_count": 20,
   "id": "a48eeb9c-3171-484b-ab71-d1fccb9de159",
   "metadata": {},
   "outputs": [
    {
     "name": "stdin",
     "output_type": "stream",
     "text": [
      "Enter your username tushar16\n",
      "Enter your password 455\n"
     ]
    },
    {
     "name": "stdout",
     "output_type": "stream",
     "text": [
      "correct username\n",
      "wrong password\n"
     ]
    }
   ],
   "source": [
    "#🔐 Create a Python program for a basic login system using if...else.\n",
    "# 🎯 Requirements:\n",
    "# - Define a correct username and password in your code.\n",
    "# - Ask the user to input their username and password.\n",
    "# - Use if...else to check:\n",
    "# - If both are correct ➤ show a success message.\n",
    "# - If either is wrong ➤ indicate what's incorrect (username, password, or both).\n",
    "\n",
    "username = \"tushar16\"\n",
    "password = \"1234\"\n",
    "user_name = input(\"Enter your username\")\n",
    "pass_word = input(\"Enter your password\")\n",
    "\n",
    "if user_name == username and pass_word == password:\n",
    "    print(\"login sucesses\")\n",
    "elif user_name != username and pass_word != password:\n",
    "    print(\"wrong username and password\")\n",
    "elif user_name != username:\n",
    "    print(\"wrong username\")\n",
    "else:    \n",
    "    print(\"correct username\")\n",
    "    print( \"wrong password\")\n",
    "\n"
   ]
  },
  {
   "cell_type": "code",
   "execution_count": 26,
   "id": "67d2ae8c-73c2-4a1c-a7de-5b5bdaba77e0",
   "metadata": {},
   "outputs": [
    {
     "name": "stdin",
     "output_type": "stream",
     "text": [
      "Enter the first number 3\n",
      "Enter the second number 4\n"
     ]
    },
    {
     "name": "stdout",
     "output_type": "stream",
     "text": [
      "Choose an operation amoung these + , - , * , or / :-\n"
     ]
    },
    {
     "name": "stdin",
     "output_type": "stream",
     "text": [
      "enter the operation from above:  4\n"
     ]
    },
    {
     "name": "stdout",
     "output_type": "stream",
     "text": [
      "invalid operation?\n"
     ]
    }
   ],
   "source": [
    "''' Write a Python program that asks the user to enter two numbers and choose an operation\n",
    " : addition, subtraction, multiplication, or division. Then use if...else to perform and display the result. '''\n",
    "# 🎯 Requirements:\n",
    "# - Ask the user to input two numbers.\n",
    "# - Ask them to choose an operation: +, -, *, or /.\n",
    "# - Use if...elif...else to perform the correct operation.\n",
    "# - If the operation is invalid, display an appropriate message.\n",
    "\n",
    "a = int(input(\"Enter the first number\"))\n",
    "b = int(input(\"Enter the second number\"))\n",
    "print(\"Choose an operation amoung these + , - , * , or / :-\")\n",
    "op = input(\"enter the operation from above: \")\n",
    "if op == '+':\n",
    "    print(a+b)\n",
    "elif op == '-':    \n",
    "    print(a-b)\n",
    "elif op == '*':\n",
    "    print(a*b)\n",
    "elif op == '/' and b == 0:\n",
    "    print(\"cannot divide by zero\")\n",
    "elif op == '/':\n",
    "    print(a/b)\n",
    "else:\n",
    "    print(\"invalid operation?\")"
   ]
  },
  {
   "cell_type": "code",
   "execution_count": 32,
   "id": "7e49ac0c-a20c-454e-96e7-b9be3523c233",
   "metadata": {},
   "outputs": [
    {
     "name": "stdin",
     "output_type": "stream",
     "text": [
      "Enter the temerature in celsius 12\n"
     ]
    },
    {
     "name": "stdout",
     "output_type": "stream",
     "text": [
      "celsius to fahraneit is : 53.6\n",
      "it's cold\n"
     ]
    }
   ],
   "source": [
    "''' Write a Python program using if...else to create a simple temperature converter \n",
    "from Celsius to Fahrenheit and classify the temperature.'''\n",
    "# 🎯 Requirements:\n",
    "# - Ask the user to enter temperature in Celsius.\n",
    "# - Convert it to Fahrenheit using the formula:\n",
    "# F = \\frac{9}{5} \\times C + 32\n",
    "# - Use if...elif...else to classify the result:\n",
    "# - If Fahrenheit ≥ 95 ➤ “It’s hot!”\n",
    "# - If Fahrenheit is between 60 and 94 ➤ “It’s pleasant.”\n",
    "# - If Fahrenheit < 60 ➤ “It’s cold!”\n",
    "\n",
    "temp = float(input(\"Enter the temerature in celsius\"))\n",
    "f = (temp * 9/5) + 32\n",
    "print(\"celsius to fahraneit is :\",f)\n",
    "if f >= 95:\n",
    "    print(\"it's hot\")\n",
    "elif f >= 60 and f <= 94:   \n",
    "    print(\"it's pleasant\")\n",
    "elif f < 60:\n",
    "    print(\"it's cold\")\n"
   ]
  },
  {
   "cell_type": "code",
   "execution_count": 36,
   "id": "6380418f-fcb2-46c4-86a4-ffa7496e7013",
   "metadata": {},
   "outputs": [
    {
     "name": "stdin",
     "output_type": "stream",
     "text": [
      "enter your purchase amount:  10000\n"
     ]
    },
    {
     "name": "stdout",
     "output_type": "stream",
     "text": [
      "bom.... you got 20% of discount\n",
      "you have to pay $ 8000.0\n"
     ]
    }
   ],
   "source": [
    "# Write a program that takes the purchase amount as input and applies a discount:\n",
    "# - If the amount is above ₹5000 → 20% discount\n",
    "# - Otherwise → 10% discount\n",
    "# Print the final amount after applying the discount\n",
    "\n",
    "price = float(input(\"enter your purchase amount: \"))\n",
    "if price >= 5000:\n",
    "    print(\"bom.... you got 20% of discount\")\n",
    "    d = price * (20/100)\n",
    "    acutal_price = price - d\n",
    "    print(\"you have to pay $\",acutal_price)\n",
    "else:\n",
    "    print(\"you got 10% of discount\")\n",
    "    d = price * (10/100)\n",
    "    acutal_price = price - d\n",
    "    print(\"you have to pay $\",acutal_price)"
   ]
  },
  {
   "cell_type": "code",
   "execution_count": 41,
   "id": "4a65aaff-ec7d-4eac-ac25-b8505c041095",
   "metadata": {},
   "outputs": [
    {
     "name": "stdin",
     "output_type": "stream",
     "text": [
      "enter a three digit number 092\n"
     ]
    },
    {
     "name": "stdout",
     "output_type": "stream",
     "text": [
      "not a spy\n"
     ]
    }
   ],
   "source": [
    "'''Ask the user for a number. If the sum of its digits equals the product of its digits\n",
    "   print \"Spy number!\", else \"Not a spy number.\" '''\n",
    "# Example: 112 → sum = 1+1+2 = 4, product = 1×1×2 = 2 → Not a spy number.\n",
    "\n",
    "a = int(input(\"enter a three digit number\"))\n",
    "\n",
    "hundered = a //100\n",
    "tens = (a//10) % 10\n",
    "ones = a % 10\n",
    "\n",
    "sum = hundered + tens + ones\n",
    "product = hundered * tens * ones\n",
    "\n",
    "if sum == product:\n",
    "    print(\"spy number\")\n",
    "else:\n",
    "    print(\"not a spy\")\n"
   ]
  },
  {
   "cell_type": "code",
   "execution_count": 2,
   "id": "caa90ca8-210b-46af-a443-5f13c859c749",
   "metadata": {},
   "outputs": [
    {
     "name": "stdin",
     "output_type": "stream",
     "text": [
      "enter your mobile number 9087654321\n"
     ]
    },
    {
     "name": "stdout",
     "output_type": "stream",
     "text": [
      "not a valid number\n"
     ]
    }
   ],
   "source": [
    "# Take a mobile number as input. Use if...else to check if:\n",
    "# - It has exactly 10 digits\n",
    "# - It starts with 9, 8, or 7\n",
    "\n",
    "mobile = input(\"enter your mobile number\")\n",
    "if len(mobile) == 10 and (mobile[0] == 9 or mobile[0] == 8 or mobile[0] == 7):\n",
    "    print(\"valid mobile number\")\n",
    "else:\n",
    "    print(\"not a valid number\")"
   ]
  },
  {
   "cell_type": "code",
   "execution_count": 2,
   "id": "8af20e90-2d50-4521-a72e-7eb0542b4c9f",
   "metadata": {},
   "outputs": [],
   "source": [
    "                                                     # 31-07-2025"
   ]
  },
  {
   "cell_type": "code",
   "execution_count": 24,
   "id": "bee21621-27bc-4903-bb2d-86b94f3142fa",
   "metadata": {},
   "outputs": [
    {
     "name": "stdin",
     "output_type": "stream",
     "text": [
      "enter the 5 digit number 56478\n"
     ]
    },
    {
     "name": "stdout",
     "output_type": "stream",
     "text": [
      "its not a palindrome number\n",
      "sum is not equal\n"
     ]
    }
   ],
   "source": [
    "# Write a Python program to check if a 5-digit number is a palindrome.\n",
    "# If not, check whether the first two digits sum equals the last two digits\n",
    "\n",
    "a = int(input(\"enter the 5 digit number\"))\n",
    "a_str = str(a)\n",
    "if a > 9999 and a < 100000:\n",
    "    if a_str == a_str[::-1]:\n",
    "        print(\"its a palindrome number\")\n",
    "    else:\n",
    "        print(\"its not a palindrome number\") \n",
    "        sum1 = int(a_str[0]) + int(a_str[1])\n",
    "        sum2 = int(a_str[3]) + int(a_str[4])\n",
    "        if sum1 == sum2:\n",
    "            print(\"the sum of first two digit and the sum of last two digit number are equal \")\n",
    "        else:\n",
    "            print(\"sum is not equal\")\n",
    "else:\n",
    "    print(\"please enter 5 digit number only !!!!!!!!!!!\")"
   ]
  },
  {
   "cell_type": "code",
   "execution_count": 34,
   "id": "dc4eb1ff-4d9e-4d90-bc47-2cd0b3ade0e2",
   "metadata": {},
   "outputs": [
    {
     "name": "stdin",
     "output_type": "stream",
     "text": [
      "enter the string Nitin\n"
     ]
    },
    {
     "name": "stdout",
     "output_type": "stream",
     "text": [
      "its palindrome\n"
     ]
    }
   ],
   "source": [
    "# - Create a program where you input a name, and using nested if statements,\n",
    "# check if it's a palindrome and also contains only alphabetic characters.\n",
    "\n",
    "name = input(\"enter the string\").strip()\n",
    "if name.isalpha():\n",
    "    if  name.lower() == name.lower()[::-1]:\n",
    "        print(\"its palindrome\")\n",
    "    else:\n",
    "        print(\"not a palindrome\")\n",
    "else:\n",
    "    print(\"enter the alphabet only\")\n",
    "\n"
   ]
  },
  {
   "cell_type": "code",
   "execution_count": 12,
   "id": "def8c0ae-6bd0-4999-9e69-4bb02d36ab99",
   "metadata": {},
   "outputs": [
    {
     "name": "stdin",
     "output_type": "stream",
     "text": [
      "enter the 3-digit  121\n"
     ]
    },
    {
     "name": "stdout",
     "output_type": "stream",
     "text": [
      "Palindrome Number\n",
      "the number is not palindrome but middle number is even\n"
     ]
    }
   ],
   "source": [
    "# Ask the user to enter a 3-digit number. If it's a palindrome, print that. Else, check if the middle digit is even.\n",
    "\n",
    "n = input(\"enter three digit number\")\n",
    "if int(n) > 99 and int(n) < 1000:\n",
    "    if n == n[::-1]:\n",
    "        print(\"its a palindrome\")\n",
    "    else:\n",
    "        m = int(n[1])\n",
    "        if m % 2 == 0:\n",
    "            print(\"the middle number is even\")\n",
    "        else:\n",
    "            print(\"the middle number is odd\")\n",
    "else:\n",
    "    print(\"please enter a three digit number only\")\n",
    "\n",
    "\n",
    "\n",
    "# num = input(\"enter the 3-digit \")\n",
    "# if num[0] == num[-1]:    \n",
    "# print(\"Palindrome Number\")       \n",
    "#     middle_digit = int(num[1])\n",
    "#     if middle_digit % 2 == 0:\n",
    "#         print(\"the number is not palindrome but middle number is even\")\n",
    "#     else:\n",
    "#         print(\"the number is not palindrome but middle number is odd\")\n",
    "# else:\n",
    "#    print(\"invalid input enter the 3-digit number\")"
   ]
  },
  {
   "cell_type": "code",
   "execution_count": 12,
   "id": "13294961-799e-4457-8455-b84d3bf6cf13",
   "metadata": {},
   "outputs": [
    {
     "name": "stdin",
     "output_type": "stream",
     "text": [
      "entre the number 1345\n"
     ]
    },
    {
     "name": "stdout",
     "output_type": "stream",
     "text": [
      "its not a palindrome\n"
     ]
    }
   ],
   "source": [
    "# Write a program that checks if a given number is a palindrome.\n",
    "# Inside that, use a nested if to verify if it's also divisible by 11.\n",
    "\n",
    "# a = int(input(\"enter the number\"))\n",
    "# if str(a) == str(a)[::-1]:\n",
    "#     print(\"its a palindrome\")\n",
    "#     if a % 11 == 0:\n",
    "#         print(\"its divisible by 11\")\n",
    "#     else:\n",
    "#         print(\"its not divisible by 11\")\n",
    "# else:\n",
    "#     print(\"not a palindrome\")\n",
    "\n",
    "\n",
    "                                                  #or\n",
    "a = input(\"entre the number\")\n",
    "if a == a[::-1]:\n",
    "    print(\"its a palindrome number\")\n",
    "    if int(a) % 11 == 0:                   # we done typecast here becouse the string cannot be divisible by the integer\n",
    "        print(\"number is divisible by 11\")\n",
    "    else:\n",
    "        print(\"number is not divisible by 11\")\n",
    "else:\n",
    "    print(\"its not a palindrome\")\n"
   ]
  },
  {
   "cell_type": "code",
   "execution_count": 11,
   "id": "d13b237b-2e42-4ab7-b5fb-ea4eb3991b64",
   "metadata": {},
   "outputs": [
    {
     "name": "stdin",
     "output_type": "stream",
     "text": [
      "enter the four digit number 1212\n"
     ]
    },
    {
     "name": "stdout",
     "output_type": "stream",
     "text": [
      "yes the reverse of the number is greter than the original number\n"
     ]
    }
   ],
   "source": [
    "# - Take a 4-digit number as input. Use nested if statements to:\n",
    "# - First, verify it's a valid 4-digit number.\n",
    "# - Then check if it's a palindrome.\n",
    "# - If not, check if the reverse of the number is greater than the original.\n",
    "\n",
    "num = int(input(\"enter the four digit number\"))\n",
    "if num > 999 and num < 10000:\n",
    "    if str(num) == str(num)[::-1]:\n",
    "        print(\"it is palindrome\")\n",
    "    else:\n",
    "        if str(num)[::-1] > str(num):\n",
    "            print(\"yes the reverse of the number is greter than the original number\")\n",
    "        else:\n",
    "            print(\"reverse is not greater than the original one\")\n",
    "else:\n",
    "    print(\"invalid input\")"
   ]
  },
  {
   "cell_type": "code",
   "execution_count": 14,
   "id": "190da3af-5e2c-4cbd-a7f1-13be9cfdc7e0",
   "metadata": {},
   "outputs": [
    {
     "name": "stdin",
     "output_type": "stream",
     "text": [
      "enter a number 4343\n"
     ]
    },
    {
     "name": "stdout",
     "output_type": "stream",
     "text": [
      "not a palindrome\n"
     ]
    }
   ],
   "source": [
    "# Input a number. Use nested if to confirm it’s a palindrome and then check whether its digits form an increasing sequence.\n",
    "\n",
    "num = int(input(\"enter a number\"))\n",
    "if str(num) == str(num)[::-1]:\n",
    "    print(\"it is palindrome\")\n",
    "    if str(num)[0] < str(num)[1] < str(num)[2] <str(num)[3]:\n",
    "        print(\"the number are in increasing sequence\")\n",
    "    else:\n",
    "        print(\"not in increasing sequence\")\n",
    "else:\n",
    "    print(\"not a palindrome\")\n"
   ]
  },
  {
   "cell_type": "code",
   "execution_count": 24,
   "id": "159f5ea4-2711-44c8-8fe5-1e56e72e7f26",
   "metadata": {},
   "outputs": [
    {
     "name": "stdin",
     "output_type": "stream",
     "text": [
      "enter a string or string plus number (alphanumeric) nitin\n"
     ]
    },
    {
     "name": "stdout",
     "output_type": "stream",
     "text": [
      "the string is alphanumeric\n",
      "it is palindrome\n",
      "length is odd\n"
     ]
    }
   ],
   "source": [
    "# - Write a program where you input a string. Use nested if to check:\n",
    "# - If the string is alphanumeric.\n",
    "# - If it’s a palindrome.\n",
    "# - If its length is odd.\n",
    "\n",
    "a = input(\"enter a string or string plus number (alphanumeric)\")\n",
    "if a.isalnum():\n",
    "    print(\"the string is alphanumeric\")\n",
    "    if a == a[::-1]:\n",
    "        print(\"it is palindrome\")\n",
    "        if len(a) % 2 != 0:\n",
    "            print(\"length is odd\")\n",
    "        else:\n",
    "            print(\"length is even\")"
   ]
  },
  {
   "cell_type": "code",
   "execution_count": null,
   "id": "f41224e4-0098-4071-b2b1-e9792f08419f",
   "metadata": {},
   "outputs": [],
   "source": [
    "# - Using nested if, check if a word is a palindrome, and if yes, \n",
    "#  determine whether the number of vowels in it is more than consonants.\n",
    "\n",
    "\n"
   ]
  },
  {
   "cell_type": "code",
   "execution_count": 29,
   "id": "b754cebf-1ce2-4682-9308-29f5391948f8",
   "metadata": {},
   "outputs": [
    {
     "name": "stdin",
     "output_type": "stream",
     "text": [
      "enter the four letter 67\n"
     ]
    },
    {
     "name": "stdout",
     "output_type": "stream",
     "text": [
      "not a palindrome\n"
     ]
    }
   ],
   "source": [
    "# - **Write a Python program to take any 4-letter word and:\n",
    "# - Check if it’s a palindrome.\n",
    "# - Then check if it starts and ends with the same vowel.**\n",
    "\n",
    "a = input(\"enter the four letter\").upper()\n",
    "if len(a) <= 4:\n",
    "    if a == a[::-1]:\n",
    "        print(\"it is palindrome\")\n",
    "        if (a[0] and a[-1] in \"AEIOU\") and a[0] == a[-1]:\n",
    "            print(\"yes the first and last word is vovel\")\n",
    "        else:\n",
    "            print(\"no the first and last word are consonant\")\n",
    "    else:\n",
    "        print(\"not a palindrome\")\n",
    "else:     \n",
    "    print(\"not a 4 letter word please write 4 letter word only!!!!!!!!!!!!!!!!!!!\")"
   ]
  },
  {
   "cell_type": "code",
   "execution_count": 40,
   "id": "0c4d9c98-cdc7-47ce-95c8-9237def5b5c0",
   "metadata": {},
   "outputs": [
    {
     "name": "stdin",
     "output_type": "stream",
     "text": [
      "enter the Annual income 700000\n"
     ]
    },
    {
     "name": "stdout",
     "output_type": "stream",
     "text": [
      "You have to pay 20% of tax that would be $ 140000.0\n",
      "You have to pay 20% of tax but 10,000 of rebate applied on your tax that would be $ 130000.0\n"
     ]
    }
   ],
   "source": [
    "# Input: Annual income\n",
    "# Logic:\n",
    "#   If income >= 10,00,000 → apply 30% tax\n",
    "#       If income > 20,00,000 → add surcharge of 5%\n",
    "#   Else if income >= 5,00,000 → apply 20% tax\n",
    "#       If income < 7,50,000 → apply rebate of 10,000\n",
    "#   Else → no tax\n",
    "\n",
    "income = float(input(\"enter the Annual income\"))\n",
    "if income >= 1000000:\n",
    "    tax_amn = income *(1+30/100)\n",
    "    #tax_amn = income *1.30\n",
    "    #tax_amn = income *0.30\n",
    "    tax_to_pay = tax_amn - income\n",
    "    print(\"You have to pay 30% of tax that would be $\",tax_to_pay)\n",
    "    if income > 2000000:\n",
    "        subcharge = income*0.05\n",
    "        print(\"you have to pay subcharge of 5% that would be $\",subcharge)\n",
    "elif income >= 500000:\n",
    "    tax_amn = income *(1+20/100)\n",
    "    tax_to_pay = tax_amn - income\n",
    "    print(\"You have to pay 20% of tax that would be $\",tax_to_pay)\n",
    "    if income < 750000:\n",
    "        tax_amn = income *(1+20/100)\n",
    "        tax_to_pay = tax_amn - income\n",
    "        rebate = tax_to_pay - 10000\n",
    "        print(\"You have to pay 20% of tax but 10,000 of rebate applied on your tax that would be $\",rebate)\n",
    "else:\n",
    "    print(\"No tax applied\")\n"
   ]
  },
  {
   "cell_type": "code",
   "execution_count": null,
   "id": "f16ed16e-51b5-43bc-9a20-7c8dbd6bee4d",
   "metadata": {},
   "outputs": [],
   "source": [
    "# Input: Vehicle type ('diesel', 'petrol', 'electric') and age of vehicle\n",
    "# Logic:\n",
    "#   If diesel → check age\n",
    "#       If age > 10 → print \"Not allowed\"\n",
    "#       Else → charge toll\n",
    "#   If electric → toll is waived\n",
    "#   If petrol → age < 15 → toll applies"
   ]
  },
  {
   "cell_type": "code",
   "execution_count": null,
   "id": "de99cd1a-20d1-4c23-a35a-a67420003ee1",
   "metadata": {},
   "outputs": [],
   "source": [
    "# Input: Student marks and attendance %\n",
    "# Logic:\n",
    "#   If marks > 85 → check attendance\n",
    "#       If attendance > 90 → scholarship granted\n",
    "#       Else → warning\n",
    "#   If marks < 85 → no scholarship"
   ]
  },
  {
   "cell_type": "code",
   "execution_count": null,
   "id": "26735499-79e0-4622-881a-4ad68135276e",
   "metadata": {},
   "outputs": [],
   "source": [
    "# Input: Age and time of show (matinee, evening)\n",
    "# Logic:\n",
    "#   If age < 12 → child price\n",
    "#       If show is matinee → extra 10% off\n",
    "#   If age >= 60 → senior price\n",
    "#       If show is evening → add safety seat surcharge\n",
    "#   Else → adult pricing"
   ]
  },
  {
   "cell_type": "code",
   "execution_count": null,
   "id": "4370af1d-423f-4116-bf80-56735c12f775",
   "metadata": {},
   "outputs": [],
   "source": [
    "# Input: User value (can be numeric, alphabetical, or alphanumeric)\n",
    "# Logic:\n",
    "#   If it’s all digits:\n",
    "#       If even → say “Even number”\n",
    "#       Else → “Odd number”\n",
    "#   If all alphabet → check if all lowercase\n",
    "#       If yes → “Pure lowercase”\n",
    "#       Else → “Mixed case”\n",
    "#   If mixed input → report \"Alphanumeric input\""
   ]
  },
  {
   "cell_type": "code",
   "execution_count": null,
   "id": "0f10a8d9-5a91-4f98-9fef-2050f8e1a6f7",
   "metadata": {},
   "outputs": [],
   "source": [
    "# Input: Units consumed and time of usage (day/night)\n",
    "# Logic:\n",
    "#   If units > 1000:\n",
    "#       If time is night → charge ₹8 per unit\n",
    "#       Else → charge ₹10 per unit\n",
    "#       If units > 1500 → add surcharge of ₹500\n",
    "#   Else if units > 500:\n",
    "#       If time is night → ₹5 per unit\n",
    "#       Else → ₹7 per unit\n",
    "#   Else:\n",
    "#       Flat charge ₹3 per unit regardless of time"
   ]
  },
  {
   "cell_type": "code",
   "execution_count": null,
   "id": "7e02dca9-472b-4548-a8ad-1f0a749a56f1",
   "metadata": {},
   "outputs": [],
   "source": [
    "# Input: Skill ('coding', 'writing', 'design') and Interest ('tech', 'art', 'education')\n",
    "# Logic:\n",
    "#   If skill is coding:\n",
    "#       If interest is tech → suggest \"Software Developer\"\n",
    "#       If interest is education → suggest \"Technical Trainer\"\n",
    "#   If skill is writing:\n",
    "#       If interest is art → suggest \"Content Creator\"\n",
    "#       Else → suggest \"Journalist\"\n",
    "#   If skill is design:\n",
    "#       If interest is tech → suggest \"UX Designer\"\n",
    "#       If interest is art → suggest \"Graphic Artist\""
   ]
  },
  {
   "cell_type": "code",
   "execution_count": null,
   "id": "ca9c1219-ab4f-43d6-906e-6aca020152dd",
   "metadata": {},
   "outputs": [],
   "source": [
    "# Input: Response speed (fast/slow), tone ('positive', 'neutral', 'negative'), and decision style ('impulsive', 'calculated')\n",
    "# Logic:\n",
    "#   If response is fast:\n",
    "#       If tone is positive and decision style is impulsive → output \"Optimistic risk-taker\"\n",
    "#       If tone is neutral and decision style is calculated → output \"Pragmatic strategist\"\n",
    "#   If response is slow:\n",
    "#       If tone is negative → \"Reserved thinker\""
   ]
  },
  {
   "cell_type": "code",
   "execution_count": null,
   "id": "8f610843-3b4e-4a97-8dae-a6561bc9c3f7",
   "metadata": {},
   "outputs": [],
   "source": [
    "# Input: Zone (1–5), time of travel ('peak', 'non-peak'), ticket type ('regular', 'student')\n",
    "# Logic:\n",
    "#   If zone > 3:\n",
    "#       If time is peak and ticket is regular → ₹100\n",
    "#       If student → ₹70 regardless of time\n",
    "#   If zone <= 3:\n",
    "#       If time is peak → ₹80\n",
    "#       Else → ₹50"
   ]
  },
  {
   "cell_type": "code",
   "execution_count": null,
   "id": "b817dde3-59ac-4ecd-8c8c-809419473f05",
   "metadata": {},
   "outputs": [],
   "source": [
    "# Input: Username, password, and OTP code\n",
    "# Logic:\n",
    "#   If username is correct:\n",
    "#       If password is correct:\n",
    "#           If OTP matches → login success\n",
    "#           Else → OTP invalid\n",
    "#       Else → wrong password\n",
    "#   Else → unknown username"
   ]
  },
  {
   "cell_type": "code",
   "execution_count": 1,
   "id": "510e15ca-1bfa-497f-b3eb-1161344eae50",
   "metadata": {},
   "outputs": [],
   "source": [
    "                                              # 05-08-2025"
   ]
  },
  {
   "cell_type": "code",
   "execution_count": 7,
   "id": "ea5374f4-4013-42e3-8f11-ef68a86c9f58",
   "metadata": {},
   "outputs": [
    {
     "name": "stdout",
     "output_type": "stream",
     "text": [
      "1  2  3  4  5  "
     ]
    }
   ],
   "source": [
    "# Write a for loop to print numbers from 1 to 5.\n",
    "\n",
    "for i in range(1,6):\n",
    "    print(i, end = \"  \")"
   ]
  },
  {
   "cell_type": "code",
   "execution_count": 10,
   "id": "028c80a8-5bac-4ea9-ad99-e6bc67cad32c",
   "metadata": {},
   "outputs": [
    {
     "name": "stdout",
     "output_type": "stream",
     "text": [
      "l\n",
      "o\n",
      "o\n",
      "p\n"
     ]
    }
   ],
   "source": [
    "# Use a loop to print each letter in the word \"loop\".\n",
    "\n",
    "a = \"loop\"\n",
    "for i in a:\n",
    "    print(i)"
   ]
  },
  {
   "cell_type": "code",
   "execution_count": 14,
   "id": "85b6cc8d-9bc7-4aff-88c3-b1859413c346",
   "metadata": {},
   "outputs": [
    {
     "name": "stdout",
     "output_type": "stream",
     "text": [
      "10  9  8  7  6  5  4  3  2  1  "
     ]
    }
   ],
   "source": [
    "# Write a for loop that prints numbers from 10 down to 1.\n",
    "\n",
    "for i in range(10,0,-1):\n",
    "    print(i, end = \"  \")"
   ]
  },
  {
   "cell_type": "code",
   "execution_count": 15,
   "id": "d06fef01-5bab-496d-b9f0-91a2007b0af5",
   "metadata": {},
   "outputs": [
    {
     "name": "stdout",
     "output_type": "stream",
     "text": [
      "red\n",
      "green\n",
      "blue\n"
     ]
    }
   ],
   "source": [
    "# Loop through a list colors = [\"red\", \"green\", \"blue\"] and print each color.\n",
    "\n",
    "color = [\"red\",\"green\",\"blue\"]\n",
    "\n",
    "for i in color:\n",
    "    print(i)"
   ]
  },
  {
   "cell_type": "code",
   "execution_count": 17,
   "id": "74ab9c86-725e-4b76-8c64-309c6db9e2cb",
   "metadata": {},
   "outputs": [
    {
     "name": "stdout",
     "output_type": "stream",
     "text": [
      "2  4  6  8  10  "
     ]
    }
   ],
   "source": [
    "# Print all numbers from 1 to 10 that are divisible by 2 using a for loop.\n",
    "\n",
    "for i in range(1,10+1):\n",
    "    if i % 2 == 0:\n",
    "        print(i, end = \"  \")"
   ]
  },
  {
   "cell_type": "code",
   "execution_count": 21,
   "id": "5ae7757a-e43a-4126-bf0a-51d6dc673467",
   "metadata": {},
   "outputs": [
    {
     "name": "stdout",
     "output_type": "stream",
     "text": [
      "15\n"
     ]
    }
   ],
   "source": [
    "# Use a loop to calculate the sum of numbers from 1 to 5.\n",
    "\n",
    "sum = 0\n",
    "for i in range(1,6):\n",
    "    sum = i + sum\n",
    "print(sum)"
   ]
  },
  {
   "cell_type": "code",
   "execution_count": 25,
   "id": "326bb11c-f810-4f6e-a5b2-e23391f8402e",
   "metadata": {},
   "outputs": [
    {
     "name": "stdout",
     "output_type": "stream",
     "text": [
      "square of 1 is : 1\n",
      "square of 2 is : 4\n",
      "square of 3 is : 9\n",
      "square of 4 is : 16\n"
     ]
    }
   ],
   "source": [
    "# Write a for loop to print the square of each number in the list [1, 2, 3, 4].\n",
    "\n",
    "l = [1,2,3,4]\n",
    "\n",
    "for i in l:\n",
    "    print(\"square of\",i,\"is :\", i*i)"
   ]
  },
  {
   "cell_type": "code",
   "execution_count": 26,
   "id": "ba47bc88-39a2-485e-aed2-e35fd2534586",
   "metadata": {},
   "outputs": [
    {
     "name": "stdout",
     "output_type": "stream",
     "text": [
      "p\n",
      "y\n",
      "t\n",
      "h\n",
      "o\n",
      "n\n"
     ]
    }
   ],
   "source": [
    "# Loop through a string \"Python\" and print each character on a new line.\n",
    "\n",
    "a = \"python\"\n",
    "\n",
    "for i in a:\n",
    "    print(i)"
   ]
  },
  {
   "cell_type": "code",
   "execution_count": 29,
   "id": "a63d1898-62a9-4c75-920b-2f49226cbde8",
   "metadata": {},
   "outputs": [
    {
     "name": "stdout",
     "output_type": "stream",
     "text": [
      "3 * 3 is : 9\n",
      "3 * 4 is : 12\n",
      "3 * 5 is : 15\n",
      "3 * 6 is : 18\n",
      "3 * 7 is : 21\n",
      "3 * 8 is : 24\n",
      "3 * 9 is : 27\n",
      "3 * 10 is : 30\n",
      "3 * 11 is : 33\n",
      "3 * 12 is : 36\n",
      "3 * 13 is : 39\n",
      "3 * 14 is : 42\n",
      "3 * 15 is : 45\n",
      "3 * 16 is : 48\n",
      "3 * 17 is : 51\n",
      "3 * 18 is : 54\n",
      "3 * 19 is : 57\n",
      "3 * 20 is : 60\n",
      "3 * 21 is : 63\n",
      "3 * 22 is : 66\n",
      "3 * 23 is : 69\n",
      "3 * 24 is : 72\n",
      "3 * 25 is : 75\n",
      "3 * 26 is : 78\n",
      "3 * 27 is : 81\n",
      "3 * 28 is : 84\n",
      "3 * 29 is : 87\n",
      "3 * 30 is : 90\n"
     ]
    }
   ],
   "source": [
    "# Use for and range() to print multiples of 3 from 3 to 30.\n",
    "\n",
    "for i in range(3,30+1):\n",
    "    print(\"3 *\",i,\"is :\",i*3)"
   ]
  },
  {
   "cell_type": "code",
   "execution_count": 30,
   "id": "bdcd165a-ca9f-46b7-966c-ca8e0264a4fb",
   "metadata": {},
   "outputs": [
    {
     "name": "stdout",
     "output_type": "stream",
     "text": [
      "code length is : 4\n",
      "loop length is : 4\n",
      "debug length is : 5\n"
     ]
    }
   ],
   "source": [
    "# Print the length of each word in the list [\"code\", \"loop\", \"debug\"] using a for loop.\n",
    "\n",
    "l = [\"code\",\"loop\",\"debug\"]\n",
    "\n",
    "for i in l:\n",
    "    print(i,\"length is :\",len(i))"
   ]
  },
  {
   "cell_type": "code",
   "execution_count": 33,
   "id": "08c98816-7c68-463c-a641-6ce628df3f22",
   "metadata": {},
   "outputs": [
    {
     "name": "stdout",
     "output_type": "stream",
     "text": [
      "50\n",
      "52\n",
      "54\n",
      "56\n",
      "58\n",
      "60\n"
     ]
    }
   ],
   "source": [
    "# 🔄 Print numbers from 50 to 60 skipping every second one \t\n",
    "\n",
    "for i in range(50,60+1,2):\n",
    "    print(i)"
   ]
  },
  {
   "cell_type": "code",
   "execution_count": 46,
   "id": "76a7bc6a-88b0-4fc0-b1d6-2561ff52c81b",
   "metadata": {},
   "outputs": [
    {
     "name": "stdin",
     "output_type": "stream",
     "text": [
      "enter a sentence My self tushar solving for loop question to enhance logic building\n"
     ]
    },
    {
     "name": "stdout",
     "output_type": "stream",
     "text": [
      "My s*lf t*sh*r s*lv*ng f*r l**p q**st**n t* *nh*nc* l*g*c b**ld*ng"
     ]
    }
   ],
   "source": [
    "# 🧠 Replace every vowel in \"python is fun\" with \"*\"\n",
    "\n",
    "# a = \"Python is fun\"\n",
    "a = input(\"enter a sentence\")\n",
    "\n",
    "for i in a:\n",
    "    if i in \"aeiou\":\n",
    "        print(\"*\", end =\"\")\n",
    "    else:    \n",
    "        print(i, end =\"\")"
   ]
  },
  {
   "cell_type": "code",
   "execution_count": 50,
   "id": "04611711-9482-4d39-b990-e73a7877be16",
   "metadata": {},
   "outputs": [
    {
     "ename": "SyntaxError",
     "evalue": "invalid syntax. Perhaps you forgot a comma? (2153493717.py, line 5)",
     "output_type": "error",
     "traceback": [
      "\u001b[1;36m  Cell \u001b[1;32mIn[50], line 5\u001b[1;36m\u001b[0m\n\u001b[1;33m    if i == (a to z):\u001b[0m\n\u001b[1;37m             ^\u001b[0m\n\u001b[1;31mSyntaxError\u001b[0m\u001b[1;31m:\u001b[0m invalid syntax. Perhaps you forgot a comma?\n"
     ]
    }
   ],
   "source": [
    "# 🔤 Loop through \"Python\" and print only uppercase characters\n",
    "\n",
    "a = \"Python\"\n",
    "for i in a:\n",
    "    if i == a.upper():\n",
    "        print(i)"
   ]
  },
  {
   "cell_type": "code",
   "execution_count": null,
   "id": "dce355b0-c023-467d-9227-cc4be503ed16",
   "metadata": {},
   "outputs": [],
   "source": [
    "                                                  # 06-08-2025"
   ]
  },
  {
   "cell_type": "code",
   "execution_count": null,
   "id": "9ac1ba53-10bc-441d-9371-23c964bdb634",
   "metadata": {},
   "outputs": [],
   "source": [
    "#fibonacchi series \n",
    "The Fibonacci series is a sequence of numbers where each number is the sum of the\n",
    "two preceding ones. It starts with 0 and 1, and continues infinitely"
   ]
  },
  {
   "cell_type": "code",
   "execution_count": 23,
   "id": "df540161-d7b7-4575-9784-c06cf814c9a2",
   "metadata": {},
   "outputs": [
    {
     "name": "stdin",
     "output_type": "stream",
     "text": [
      "enter the nth number 20\n"
     ]
    },
    {
     "name": "stdout",
     "output_type": "stream",
     "text": [
      "1  1  2  3  5  8  13  21  34  55  89  144  233  377  610  987  1597  2584  4181  6765  10946  "
     ]
    }
   ],
   "source": [
    "# Write a Python program that:\n",
    "# - Accepts a positive integer n from the user.\n",
    "# - Generates the first n Fibonacci numbers.\n",
    "# - Then, prints only those Fibonacci numbers that are divisible by 3 or 5.\n",
    "\n",
    "a = 0\n",
    "b = 1\n",
    "n = int(input(\"enter the nth number\"))\n",
    "for i in range(0,n+1):\n",
    "    temp = a\n",
    "    a = b\n",
    "    b = temp + b\n",
    "    print(a, end = \"  \")\n",
    "    # if a % 3 == 0 and a % 5 == 0:\n",
    "    #     print(\"fibonacchi number divisile by 3 and 5 are :\",a, end = \"   \")"
   ]
  },
  {
   "cell_type": "code",
   "execution_count": 8,
   "id": "f46adce8-5954-4ca3-96e8-e709826acd7a",
   "metadata": {},
   "outputs": [
    {
     "name": "stdin",
     "output_type": "stream",
     "text": [
      "enter the nth number to find prime number 7\n"
     ]
    },
    {
     "name": "stdout",
     "output_type": "stream",
     "text": [
      "7\n"
     ]
    }
   ],
   "source": [
    "# for prime number\n",
    "# A prime number is a natural number greater than 1 that is divisible only by 1 and itself.\n",
    "\n",
    "n = int(input(\"enter the nth number to find prime number\"))\n",
    "\n",
    "\n",
    "for i in range(1,n+1):\n",
    "    if i % n == 0:\n",
    "        print(i)"
   ]
  },
  {
   "cell_type": "code",
   "execution_count": 15,
   "id": "7c39d715-6d28-4933-ae98-580c9b0f2d0c",
   "metadata": {},
   "outputs": [
    {
     "name": "stdout",
     "output_type": "stream",
     "text": [
      "[6, 5, 4, 3, 2, 1]\n"
     ]
    }
   ],
   "source": [
    "a =[1,2,3,4,5,6,7,8,9,0,12.3,4.5]\n",
    "print(a[-7:-15:-1])"
   ]
  },
  {
   "cell_type": "code",
   "execution_count": 1,
   "id": "39a1cdce-aecf-4b58-83c8-187f0b54a86e",
   "metadata": {},
   "outputs": [
    {
     "name": "stdin",
     "output_type": "stream",
     "text": [
      "enter the num 1 12\n",
      "enter the num 1 34\n"
     ]
    },
    {
     "name": "stdout",
     "output_type": "stream",
     "text": [
      "22\n",
      "46\n",
      "408\n",
      "0.35294117647058826\n"
     ]
    }
   ],
   "source": [
    "a = int(input(\"enter the num 1\"))\n",
    "b = int(input(\"enter the num 1\"))\n",
    "sub = b-a\n",
    "sum = a +b\n",
    "product = a*b\n",
    "quotient = a/b\n",
    "print(sub)\n",
    "print(sum)\n",
    "print(product)\n",
    "print(quotient)"
   ]
  },
  {
   "cell_type": "code",
   "execution_count": 3,
   "id": "b33e3db1-4fff-42af-87da-c42d0aa37b90",
   "metadata": {},
   "outputs": [
    {
     "name": "stdin",
     "output_type": "stream",
     "text": [
      "enter the number 0\n"
     ]
    },
    {
     "name": "stdout",
     "output_type": "stream",
     "text": [
      "number is zero\n"
     ]
    }
   ],
   "source": [
    "a = int(input(\"enter the number\"))\n",
    "if a > 0:\n",
    "    print(\"number is positive\")\n",
    "elif a < 0:\n",
    "    print(\"number is negative\")\n",
    "else:\n",
    "    print(\"number is zero\")"
   ]
  },
  {
   "cell_type": "code",
   "execution_count": 10,
   "id": "9ca705d0-a6a3-46d8-a19d-fbbc6c2f0538",
   "metadata": {},
   "outputs": [
    {
     "name": "stdout",
     "output_type": "stream",
     "text": [
      "1\n",
      "2\n",
      "3\n",
      "4\n",
      "5\n",
      "6\n",
      "7\n",
      "8\n",
      "9\n",
      "10\n",
      "11\n",
      "12\n",
      "13\n",
      "14\n",
      "15\n",
      "16\n",
      "17\n",
      "18\n",
      "19\n",
      "20\n",
      "number of even 10\n",
      "number of odd 10\n"
     ]
    }
   ],
   "source": [
    "counte = 0\n",
    "counto = 0\n",
    "for i in range(1,21):\n",
    "    if i % 2 == 0:\n",
    "        print(i)\n",
    "        counte = counte + 1\n",
    "    else:\n",
    "        print(i)\n",
    "        counto = counto + 1\n",
    "print(\"number of even\", counte)\n",
    "print(\"number of odd\", counto)"
   ]
  },
  {
   "cell_type": "code",
   "execution_count": 11,
   "id": "255322e2-17da-40ec-aa84-ba32d6bf7b45",
   "metadata": {},
   "outputs": [
    {
     "name": "stdout",
     "output_type": "stream",
     "text": [
      "not same\n"
     ]
    }
   ],
   "source": [
    "a = \"tushar\"\n",
    "b = 25\n",
    "if a is b:\n",
    "    print(\"same\")\n",
    "else:\n",
    "    print(\"not same\")"
   ]
  },
  {
   "cell_type": "code",
   "execution_count": 12,
   "id": "9ce9d089-09da-408a-b545-e46a0d32714f",
   "metadata": {},
   "outputs": [
    {
     "name": "stdout",
     "output_type": "stream",
     "text": [
      "a is present\n"
     ]
    }
   ],
   "source": [
    "a = \"tushar\"\n",
    "if \"a\" in \"tushar\":\n",
    "    print(\"a is present\")\n",
    "else:\n",
    "    print(\"a is not present\")"
   ]
  },
  {
   "cell_type": "code",
   "execution_count": 13,
   "id": "75500dca-b42e-4c48-a2e6-cc097cf69467",
   "metadata": {},
   "outputs": [
    {
     "name": "stdout",
     "output_type": "stream",
     "text": [
      "7 * 1 is 7\n",
      "7 * 2 is 14\n",
      "7 * 3 is 21\n",
      "7 * 4 is 28\n",
      "7 * 5 is 35\n",
      "7 * 6 is 42\n",
      "7 * 7 is 49\n",
      "7 * 8 is 56\n",
      "7 * 9 is 63\n",
      "7 * 10 is 70\n"
     ]
    }
   ],
   "source": [
    "for i in range(1,11):\n",
    "    print(\"7 *\",i,\"is\",7*i)"
   ]
  },
  {
   "cell_type": "code",
   "execution_count": 14,
   "id": "19283e81-767f-4d00-be0d-9443fcd5e935",
   "metadata": {},
   "outputs": [
    {
     "name": "stdout",
     "output_type": "stream",
     "text": [
      "divisible by both 3 and 2\n",
      "6divisible by both 3 and 2\n",
      "12divisible by both 3 and 2\n",
      "18"
     ]
    }
   ],
   "source": [
    "l = [1,4,7,6,9,12,18]\n",
    "for i in l:\n",
    "    if i % 2 == 0 and i % 3 == 0:\n",
    "        print(\"divisible by both 3 and 2\")\n",
    "        print(i,end = \"\")"
   ]
  },
  {
   "cell_type": "code",
   "execution_count": 17,
   "id": "9f69ec6f-eb6d-4466-8184-1aed45328786",
   "metadata": {},
   "outputs": [
    {
     "name": "stdin",
     "output_type": "stream",
     "text": [
      "enter the number 12\n"
     ]
    },
    {
     "name": "stdout",
     "output_type": "stream",
     "text": [
      "not eligible\n"
     ]
    }
   ],
   "source": [
    "age = int(input(\"enter the number\"))\n",
    "if age >= 18:\n",
    "    print(\"eligible to vote\")\n",
    "else:    \n",
    "    print(\"not eligible\")"
   ]
  },
  {
   "cell_type": "code",
   "execution_count": 19,
   "id": "2b1a8965-358e-4b5f-a5a9-8a7cde75775e",
   "metadata": {},
   "outputs": [],
   "source": [
    "# n = 6\n",
    "# factorial = 1\n",
    "# for i in n:\n",
    "#     factorial = factorial * i\n",
    "#     print(factorial)"
   ]
  },
  {
   "cell_type": "code",
   "execution_count": 20,
   "id": "1411fa40-ff9e-4c64-9eb3-cee675ad4929",
   "metadata": {},
   "outputs": [
    {
     "name": "stdout",
     "output_type": "stream",
     "text": [
      "common elements: [4, 5]\n"
     ]
    }
   ],
   "source": [
    "a = [1,2,3,4,5]\n",
    "b = [4,5,6,7,8]\n",
    "c = []\n",
    "for i in a:\n",
    "    if i in b:\n",
    "        c.append(i)\n",
    "print(\"common elements:\", c)        "
   ]
  },
  {
   "cell_type": "code",
   "execution_count": null,
   "id": "cdf33eea-6602-4bc0-b2b0-f1e663c1e957",
   "metadata": {},
   "outputs": [],
   "source": []
  }
 ],
 "metadata": {
  "kernelspec": {
   "display_name": "Python [conda env:base] *",
   "language": "python",
   "name": "conda-base-py"
  },
  "language_info": {
   "codemirror_mode": {
    "name": "ipython",
    "version": 3
   },
   "file_extension": ".py",
   "mimetype": "text/x-python",
   "name": "python",
   "nbconvert_exporter": "python",
   "pygments_lexer": "ipython3",
   "version": "3.12.7"
  }
 },
 "nbformat": 4,
 "nbformat_minor": 5
}
