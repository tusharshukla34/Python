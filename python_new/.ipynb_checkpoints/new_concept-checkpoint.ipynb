{
 "cells": [
  {
   "cell_type": "markdown",
   "id": "a7a3c896-6eaf-48ae-b636-1dbe0e78dba8",
   "metadata": {},
   "source": [
    "# ⬇️Mathematical operation on set"
   ]
  },
  {
   "cell_type": "code",
   "execution_count": 3,
   "id": "3ec50e78-becc-496e-a5df-b3dbf075c3b8",
   "metadata": {},
   "outputs": [
    {
     "name": "stdout",
     "output_type": "stream",
     "text": [
      "{1, 2, 3, 4, 5, 6, 7, 8, 9, 10}\n"
     ]
    }
   ],
   "source": [
    "a = {1,2,3,4,5}\n",
    "b = {6,7,8,9,10}\n",
    "print(a.union(b))"
   ]
  },
  {
   "cell_type": "code",
   "execution_count": null,
   "id": "b9f2db3b-b322-4ece-98ce-19c9cccdcde2",
   "metadata": {},
   "outputs": [],
   "source": []
  }
 ],
 "metadata": {
  "kernelspec": {
   "display_name": "Python [conda env:base] *",
   "language": "python",
   "name": "conda-base-py"
  },
  "language_info": {
   "codemirror_mode": {
    "name": "ipython",
    "version": 3
   },
   "file_extension": ".py",
   "mimetype": "text/x-python",
   "name": "python",
   "nbconvert_exporter": "python",
   "pygments_lexer": "ipython3",
   "version": "3.12.7"
  }
 },
 "nbformat": 4,
 "nbformat_minor": 5
}
