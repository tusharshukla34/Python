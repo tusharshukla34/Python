{
 "cells": [
  {
   "cell_type": "code",
   "execution_count": 3,
   "id": "843d3758-a3cd-4409-82fc-5d272233def4",
   "metadata": {},
   "outputs": [
    {
     "name": "stdout",
     "output_type": "stream",
     "text": [
      "hiiii\n"
     ]
    }
   ],
   "source": [
    "print(\"hiiii\")"
   ]
  },
  {
   "cell_type": "markdown",
   "id": "e60c8e8f-7973-4b85-9daf-6831eb1fdb62",
   "metadata": {},
   "source": [
    "# first"
   ]
  },
  {
   "cell_type": "markdown",
   "id": "10d2395f-0635-4043-9d08-7e2892bbc062",
   "metadata": {},
   "source": [
    "<h1>HELLO</h1>"
   ]
  },
  {
   "cell_type": "code",
   "execution_count": 3,
   "id": "b772f2d1-7633-4203-b486-266918769846",
   "metadata": {},
   "outputs": [
    {
     "name": "stdout",
     "output_type": "stream",
     "text": [
      "hi.............there\n"
     ]
    }
   ],
   "source": [
    "print(\"hi.............there\")"
   ]
  },
  {
   "cell_type": "code",
   "execution_count": 4,
   "id": "06da69a7-4370-49b9-a30d-fa6fd860ffe3",
   "metadata": {},
   "outputs": [
    {
     "name": "stdout",
     "output_type": "stream",
     "text": [
      "['False', 'None', 'True', 'and', 'as', 'assert', 'async', 'await', 'break', 'class', 'continue', 'def', 'del', 'elif', 'else', 'except', 'finally', 'for', 'from', 'global', 'if', 'import', 'in', 'is', 'lambda', 'nonlocal', 'not', 'or', 'pass', 'raise', 'return', 'try', 'while', 'with', 'yield']\n",
      "35\n"
     ]
    }
   ],
   "source": [
    "import keyword\n",
    "all_keys = keyword.kwlist\n",
    "print(all_keys)\n",
    "print(len(all_keys))"
   ]
  },
  {
   "cell_type": "code",
   "execution_count": 5,
   "id": "1315e2cd-59d3-4a32-9d45-e1a4fb7e6194",
   "metadata": {},
   "outputs": [
    {
     "name": "stdout",
     "output_type": "stream",
     "text": [
      "['_', 'case', 'match', 'type']\n",
      "4\n"
     ]
    }
   ],
   "source": [
    "all_keys = keyword.softkwlist\n",
    "print(all_keys)\n",
    "print(len(all_keys))"
   ]
  },
  {
   "cell_type": "code",
   "execution_count": 7,
   "id": "d0c06b2d-fb19-4d6c-8686-f43a78d6a076",
   "metadata": {},
   "outputs": [
    {
     "name": "stdout",
     "output_type": "stream",
     "text": [
      "abcdefghijklmnopqrstuvwxyz\n",
      "26\n"
     ]
    }
   ],
   "source": [
    "import string\n",
    "lower_case = string.ascii_lowercase\n",
    "print(lower_case)\n",
    "print(len(lower_case))"
   ]
  },
  {
   "cell_type": "code",
   "execution_count": 10,
   "id": "1aaac92c-af94-4c8d-9843-caa4dd14f098",
   "metadata": {},
   "outputs": [
    {
     "name": "stdout",
     "output_type": "stream",
     "text": [
      "ABCDEFGHIJKLMNOPQRSTUVWXYZ\n",
      "26\n"
     ]
    }
   ],
   "source": [
    "upper_case = string.ascii_uppercase\n",
    "print(upper_case)\n",
    "print(len(upper_case))"
   ]
  },
  {
   "cell_type": "code",
   "execution_count": null,
   "id": "2b8cab98-e19d-4f6f-9d14-c5be4ab3ba3d",
   "metadata": {},
   "outputs": [],
   "source": []
  }
 ],
 "metadata": {
  "kernelspec": {
   "display_name": "Python [conda env:base] *",
   "language": "python",
   "name": "conda-base-py"
  },
  "language_info": {
   "codemirror_mode": {
    "name": "ipython",
    "version": 3
   },
   "file_extension": ".py",
   "mimetype": "text/x-python",
   "name": "python",
   "nbconvert_exporter": "python",
   "pygments_lexer": "ipython3",
   "version": "3.12.7"
  }
 },
 "nbformat": 4,
 "nbformat_minor": 5
}
