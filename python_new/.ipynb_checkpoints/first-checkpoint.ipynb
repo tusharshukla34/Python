{
 "cells": [
  {
   "cell_type": "code",
   "execution_count": 3,
   "id": "843d3758-a3cd-4409-82fc-5d272233def4",
   "metadata": {},
   "outputs": [
    {
     "name": "stdout",
     "output_type": "stream",
     "text": [
      "hiiii\n"
     ]
    }
   ],
   "source": [
    "print(\"hiiii\")"
   ]
  },
  {
   "cell_type": "markdown",
   "id": "e60c8e8f-7973-4b85-9daf-6831eb1fdb62",
   "metadata": {},
   "source": [
    "# first"
   ]
  },
  {
   "cell_type": "markdown",
   "id": "10d2395f-0635-4043-9d08-7e2892bbc062",
   "metadata": {},
   "source": [
    "<h1>HELLO</h1>"
   ]
  },
  {
   "cell_type": "code",
   "execution_count": 3,
   "id": "b772f2d1-7633-4203-b486-266918769846",
   "metadata": {},
   "outputs": [
    {
     "name": "stdout",
     "output_type": "stream",
     "text": [
      "hi.............there\n"
     ]
    }
   ],
   "source": [
    "print(\"hi.............there\")"
   ]
  },
  {
   "cell_type": "code",
   "execution_count": 4,
   "id": "06da69a7-4370-49b9-a30d-fa6fd860ffe3",
   "metadata": {},
   "outputs": [
    {
     "name": "stdout",
     "output_type": "stream",
     "text": [
      "['False', 'None', 'True', 'and', 'as', 'assert', 'async', 'await', 'break', 'class', 'continue', 'def', 'del', 'elif', 'else', 'except', 'finally', 'for', 'from', 'global', 'if', 'import', 'in', 'is', 'lambda', 'nonlocal', 'not', 'or', 'pass', 'raise', 'return', 'try', 'while', 'with', 'yield']\n",
      "35\n"
     ]
    }
   ],
   "source": [
    "import keyword\n",
    "all_keys = keyword.kwlist\n",
    "print(all_keys)\n",
    "print(len(all_keys))"
   ]
  },
  {
   "cell_type": "code",
   "execution_count": 5,
   "id": "1315e2cd-59d3-4a32-9d45-e1a4fb7e6194",
   "metadata": {},
   "outputs": [
    {
     "name": "stdout",
     "output_type": "stream",
     "text": [
      "['_', 'case', 'match', 'type']\n",
      "4\n"
     ]
    }
   ],
   "source": [
    "all_keys = keyword.softkwlist\n",
    "print(all_keys)\n",
    "print(len(all_keys))"
   ]
  },
  {
   "cell_type": "code",
   "execution_count": 7,
   "id": "d0c06b2d-fb19-4d6c-8686-f43a78d6a076",
   "metadata": {},
   "outputs": [
    {
     "name": "stdout",
     "output_type": "stream",
     "text": [
      "abcdefghijklmnopqrstuvwxyz\n",
      "26\n"
     ]
    }
   ],
   "source": [
    "import string\n",
    "lower_case = string.ascii_lowercase\n",
    "print(lower_case)\n",
    "print(len(lower_case))"
   ]
  },
  {
   "cell_type": "code",
   "execution_count": 10,
   "id": "1aaac92c-af94-4c8d-9843-caa4dd14f098",
   "metadata": {},
   "outputs": [
    {
     "name": "stdout",
     "output_type": "stream",
     "text": [
      "ABCDEFGHIJKLMNOPQRSTUVWXYZ\n",
      "26\n"
     ]
    }
   ],
   "source": [
    "upper_case = string.ascii_uppercase\n",
    "print(upper_case)\n",
    "print(len(upper_case))"
   ]
  },
  {
   "cell_type": "markdown",
   "id": "246a8291-0e81-498e-8342-526fd8c2e86d",
   "metadata": {},
   "source": [
    "# identifier"
   ]
  },
  {
   "cell_type": "raw",
   "id": "9f126704-5d58-4c5b-8af7-b5e4a2fca26b",
   "metadata": {},
   "source": [
    "1. do not start with digit(0-9)\n",
    "2. always start with (a-z) or (A-Z) or (_) underscore\n",
    "3. Do not use space between character\n",
    "4. case sensitive"
   ]
  },
  {
   "cell_type": "code",
   "execution_count": 1,
   "id": "f70f4dab-f318-4084-b68a-5655e303d444",
   "metadata": {},
   "outputs": [
    {
     "ename": "SyntaxError",
     "evalue": "invalid decimal literal (1182467522.py, line 1)",
     "output_type": "error",
     "traceback": [
      "\u001b[1;36m  Cell \u001b[1;32mIn[1], line 1\u001b[1;36m\u001b[0m\n\u001b[1;33m    1x = 10\u001b[0m\n\u001b[1;37m    ^\u001b[0m\n\u001b[1;31mSyntaxError\u001b[0m\u001b[1;31m:\u001b[0m invalid decimal literal\n"
     ]
    }
   ],
   "source": [
    "1x = 10\n",
    "print(1x)"
   ]
  },
  {
   "cell_type": "code",
   "execution_count": 4,
   "id": "7482aba2-4df4-4720-b549-d576dca53a29",
   "metadata": {},
   "outputs": [
    {
     "name": "stdout",
     "output_type": "stream",
     "text": [
      "10\n"
     ]
    }
   ],
   "source": [
    "X = 10\n",
    "print(X)"
   ]
  },
  {
   "cell_type": "code",
   "execution_count": 3,
   "id": "597094a9-5622-4efa-9619-56d7efdbe5db",
   "metadata": {},
   "outputs": [
    {
     "name": "stdout",
     "output_type": "stream",
     "text": [
      "10\n"
     ]
    }
   ],
   "source": [
    "_x =10\n",
    "print(_x)"
   ]
  },
  {
   "cell_type": "code",
   "execution_count": 6,
   "id": "885f86ae-d911-4e2d-8fbc-1febc942d47a",
   "metadata": {},
   "outputs": [
    {
     "name": "stdout",
     "output_type": "stream",
     "text": [
      "10\n"
     ]
    }
   ],
   "source": [
    "_1 =10\n",
    "print(_1)"
   ]
  },
  {
   "cell_type": "code",
   "execution_count": 7,
   "id": "50d7dcbd-a236-4adf-9d0d-e546fa05845b",
   "metadata": {},
   "outputs": [
    {
     "ename": "SyntaxError",
     "evalue": "invalid syntax (2550559621.py, line 2)",
     "output_type": "error",
     "traceback": [
      "\u001b[1;36m  Cell \u001b[1;32mIn[7], line 2\u001b[1;36m\u001b[0m\n\u001b[1;33m    all key = keyword.kwlist\u001b[0m\n\u001b[1;37m        ^\u001b[0m\n\u001b[1;31mSyntaxError\u001b[0m\u001b[1;31m:\u001b[0m invalid syntax\n"
     ]
    }
   ],
   "source": [
    "import keyword\n",
    "all key = keyword.kwlist\n",
    "print(all key)"
   ]
  },
  {
   "cell_type": "code",
   "execution_count": 8,
   "id": "1ef866e6-a3b3-4142-b0a8-c9d1fc1392da",
   "metadata": {
    "collapsed": true,
    "jupyter": {
     "outputs_hidden": true
    }
   },
   "outputs": [
    {
     "name": "stdout",
     "output_type": "stream",
     "text": [
      "['False', 'None', 'True', 'and', 'as', 'assert', 'async', 'await', 'break', 'class', 'continue', 'def', 'del', 'elif', 'else', 'except', 'finally', 'for', 'from', 'global', 'if', 'import', 'in', 'is', 'lambda', 'nonlocal', 'not', 'or', 'pass', 'raise', 'return', 'try', 'while', 'with', 'yield']\n"
     ]
    }
   ],
   "source": [
    "import keyword\n",
    "all_key = keyword.kwlist\n",
    "print(all_key)"
   ]
  },
  {
   "cell_type": "code",
   "execution_count": 10,
   "id": "228fed78-aa60-4a1c-bce4-75a49d288af8",
   "metadata": {},
   "outputs": [
    {
     "ename": "NameError",
     "evalue": "name 'Y' is not defined",
     "output_type": "error",
     "traceback": [
      "\u001b[1;31m---------------------------------------------------------------------------\u001b[0m",
      "\u001b[1;31mNameError\u001b[0m                                 Traceback (most recent call last)",
      "Cell \u001b[1;32mIn[10], line 2\u001b[0m\n\u001b[0;32m      1\u001b[0m y \u001b[38;5;241m=\u001b[39m \u001b[38;5;241m10\u001b[39m\n\u001b[1;32m----> 2\u001b[0m \u001b[38;5;28mprint\u001b[39m(Y)\n",
      "\u001b[1;31mNameError\u001b[0m: name 'Y' is not defined"
     ]
    }
   ],
   "source": [
    "y = 10\n",
    "print(Y)"
   ]
  },
  {
   "cell_type": "code",
   "execution_count": 11,
   "id": "9d85af8b-04dc-43f1-a067-43cf343cff88",
   "metadata": {},
   "outputs": [],
   "source": [
    "x =10"
   ]
  },
  {
   "cell_type": "code",
   "execution_count": 12,
   "id": "566350b6-a6e1-48b0-8071-bfe8931101a0",
   "metadata": {},
   "outputs": [
    {
     "name": "stdout",
     "output_type": "stream",
     "text": [
      "10\n"
     ]
    }
   ],
   "source": [
    "print(x)"
   ]
  },
  {
   "cell_type": "code",
   "execution_count": null,
   "id": "73049633-c2e6-4b89-9c83-9b0afc774913",
   "metadata": {},
   "outputs": [],
   "source": [
    "z = 20"
   ]
  },
  {
   "cell_type": "code",
   "execution_count": 13,
   "id": "9f2a8eef-8c9b-4377-9a83-93011501aacc",
   "metadata": {},
   "outputs": [
    {
     "ename": "NameError",
     "evalue": "name 'z' is not defined",
     "output_type": "error",
     "traceback": [
      "\u001b[1;31m---------------------------------------------------------------------------\u001b[0m",
      "\u001b[1;31mNameError\u001b[0m                                 Traceback (most recent call last)",
      "Cell \u001b[1;32mIn[13], line 1\u001b[0m\n\u001b[1;32m----> 1\u001b[0m \u001b[38;5;28mprint\u001b[39m(z)\n",
      "\u001b[1;31mNameError\u001b[0m: name 'z' is not defined"
     ]
    }
   ],
   "source": [
    "print(z)"
   ]
  },
  {
   "cell_type": "code",
   "execution_count": null,
   "id": "ad205132-a7fd-422e-b47e-fd61d58092dd",
   "metadata": {},
   "outputs": [],
   "source": [
    "xyz=10"
   ]
  },
  {
   "cell_type": "code",
   "execution_count": 14,
   "id": "b063838b-b841-4067-9a14-f37a2cc2eddc",
   "metadata": {},
   "outputs": [
    {
     "ename": "NameError",
     "evalue": "name 'xyz' is not defined",
     "output_type": "error",
     "traceback": [
      "\u001b[1;31m---------------------------------------------------------------------------\u001b[0m",
      "\u001b[1;31mNameError\u001b[0m                                 Traceback (most recent call last)",
      "Cell \u001b[1;32mIn[14], line 1\u001b[0m\n\u001b[1;32m----> 1\u001b[0m \u001b[38;5;28mprint\u001b[39m(xyz)\n",
      "\u001b[1;31mNameError\u001b[0m: name 'xyz' is not defined"
     ]
    }
   ],
   "source": [
    "print(xyz)"
   ]
  },
  {
   "cell_type": "code",
   "execution_count": 15,
   "id": "47fbbadf-09bd-4f02-a9e0-59c8b8fd13b9",
   "metadata": {},
   "outputs": [],
   "source": [
    "xyz=10"
   ]
  },
  {
   "cell_type": "code",
   "execution_count": 16,
   "id": "9f9e93f3-50a6-4ba2-be30-c88421296862",
   "metadata": {},
   "outputs": [
    {
     "name": "stdout",
     "output_type": "stream",
     "text": [
      "10\n"
     ]
    }
   ],
   "source": [
    "print(xyz)"
   ]
  },
  {
   "cell_type": "code",
   "execution_count": 17,
   "id": "40310027-77b9-41f5-917c-7c4b0de80f9a",
   "metadata": {},
   "outputs": [
    {
     "ename": "NameError",
     "evalue": "name 'Xyz' is not defined",
     "output_type": "error",
     "traceback": [
      "\u001b[1;31m---------------------------------------------------------------------------\u001b[0m",
      "\u001b[1;31mNameError\u001b[0m                                 Traceback (most recent call last)",
      "Cell \u001b[1;32mIn[17], line 1\u001b[0m\n\u001b[1;32m----> 1\u001b[0m \u001b[38;5;28mprint\u001b[39m(Xyz)\n",
      "\u001b[1;31mNameError\u001b[0m: name 'Xyz' is not defined"
     ]
    }
   ],
   "source": [
    "print(Xyz)"
   ]
  },
  {
   "cell_type": "code",
   "execution_count": 18,
   "id": "3943ff1d-6eb8-41eb-9919-38970550a87f",
   "metadata": {},
   "outputs": [
    {
     "name": "stdout",
     "output_type": "stream",
     "text": [
      "10\n",
      "20\n"
     ]
    }
   ],
   "source": [
    "_1x =10\n",
    "_xyz_123 =20\n",
    "print(_1x)\n",
    "print(_xyz_123)"
   ]
  },
  {
   "cell_type": "code",
   "execution_count": 19,
   "id": "1a45c257-4ead-4613-85d2-041a8f15c571",
   "metadata": {},
   "outputs": [
    {
     "name": "stdout",
     "output_type": "stream",
     "text": [
      "10\n",
      "10.5\n",
      "Python\n"
     ]
    }
   ],
   "source": [
    "x =10\n",
    "y =10.5\n",
    "z ='Python'\n",
    "print(x)\n",
    "print(y)\n",
    "print(z)"
   ]
  },
  {
   "cell_type": "markdown",
   "id": "9f3e614e-f07d-49e2-87c5-82158c6db362",
   "metadata": {},
   "source": [
    "# literals"
   ]
  },
  {
   "cell_type": "raw",
   "id": "4fab2bc9-2fc3-4955-9401-3ca033522a5a",
   "metadata": {},
   "source": [
    "constant values that assign to any identifier is called as literals"
   ]
  },
  {
   "cell_type": "code",
   "execution_count": 20,
   "id": "95c1512f-6bfe-4c4b-a429-c1e3572f8957",
   "metadata": {},
   "outputs": [
    {
     "name": "stdout",
     "output_type": "stream",
     "text": [
      "<class 'int'>\n"
     ]
    }
   ],
   "source": [
    "x = 10\n",
    "print(type(x))"
   ]
  },
  {
   "cell_type": "code",
   "execution_count": 21,
   "id": "3a3bd89f-cecd-4850-839f-e0634596b804",
   "metadata": {},
   "outputs": [
    {
     "name": "stdout",
     "output_type": "stream",
     "text": [
      "140732679006936\n"
     ]
    }
   ],
   "source": [
    "print(id(x))"
   ]
  },
  {
   "cell_type": "code",
   "execution_count": 23,
   "id": "78251734-13f3-48e9-8d7d-9a4fb0c1e820",
   "metadata": {},
   "outputs": [
    {
     "name": "stdout",
     "output_type": "stream",
     "text": [
      "<class 'float'>\n",
      "2004443909008\n"
     ]
    }
   ],
   "source": [
    "y = 0.4\n",
    "print(type(y))\n",
    "print(id(y))"
   ]
  },
  {
   "cell_type": "code",
   "execution_count": 24,
   "id": "06308366-54b3-483f-b0b4-205f877e86b0",
   "metadata": {},
   "outputs": [
    {
     "name": "stdout",
     "output_type": "stream",
     "text": [
      "<class 'float'>\n",
      "2004411772304\n"
     ]
    }
   ],
   "source": [
    "y = 10.0\n",
    "print(type(y))\n",
    "print(id(y))"
   ]
  },
  {
   "cell_type": "code",
   "execution_count": 25,
   "id": "d8b44060-6f3e-4142-95ed-25cb9b441c67",
   "metadata": {},
   "outputs": [
    {
     "name": "stdout",
     "output_type": "stream",
     "text": [
      "<class 'complex'>\n",
      "<class 'complex'>\n"
     ]
    }
   ],
   "source": [
    "x = 10+20j\n",
    "y = 0+0j\n",
    "print(type(x))\n",
    "print(type(y))"
   ]
  },
  {
   "cell_type": "code",
   "execution_count": 26,
   "id": "c1951ca9-7813-4aad-97c3-b29c788d2c08",
   "metadata": {},
   "outputs": [
    {
     "ename": "NameError",
     "evalue": "name 'j' is not defined",
     "output_type": "error",
     "traceback": [
      "\u001b[1;31m---------------------------------------------------------------------------\u001b[0m",
      "\u001b[1;31mNameError\u001b[0m                                 Traceback (most recent call last)",
      "Cell \u001b[1;32mIn[26], line 1\u001b[0m\n\u001b[1;32m----> 1\u001b[0m z \u001b[38;5;241m=\u001b[39m j\n\u001b[0;32m      2\u001b[0m \u001b[38;5;28mprint\u001b[39m(\u001b[38;5;28mtype\u001b[39m(j))\n",
      "\u001b[1;31mNameError\u001b[0m: name 'j' is not defined"
     ]
    }
   ],
   "source": [
    "z = j\n",
    "print(type(j))"
   ]
  },
  {
   "cell_type": "markdown",
   "id": "e79a9252-2c3b-4556-b6fa-afcd0912b30f",
   "metadata": {},
   "source": [
    "# string"
   ]
  },
  {
   "cell_type": "code",
   "execution_count": 1,
   "id": "e991e841-93d3-4133-8940-01887c5c6a41",
   "metadata": {},
   "outputs": [
    {
     "name": "stdout",
     "output_type": "stream",
     "text": [
      "a\n",
      "<class 'str'>\n",
      "140732713934400\n"
     ]
    }
   ],
   "source": [
    "x = 'a'\n",
    "print(x)\n",
    "print(type(x))\n",
    "print(id(x))"
   ]
  },
  {
   "cell_type": "code",
   "execution_count": 2,
   "id": "7d77e956-c249-47ce-be2c-e6d829a3af22",
   "metadata": {},
   "outputs": [
    {
     "name": "stdout",
     "output_type": "stream",
     "text": [
      "Python\n",
      "<class 'str'>\n",
      "140732712956528\n"
     ]
    }
   ],
   "source": [
    "x = \"Python\"\n",
    "print(x)\n",
    "print(type(x))\n",
    "print(id(x))"
   ]
  },
  {
   "cell_type": "code",
   "execution_count": 3,
   "id": "ead28497-359d-45d7-8928-c35ffda5bb83",
   "metadata": {},
   "outputs": [
    {
     "name": "stdout",
     "output_type": "stream",
     "text": [
      "Hii everyone\n",
      "<class 'str'>\n",
      "1508381023536\n"
     ]
    }
   ],
   "source": [
    "x = '''Hii everyone'''\n",
    "print(x)\n",
    "print(type(x))\n",
    "print(id(x))"
   ]
  },
  {
   "cell_type": "code",
   "execution_count": 4,
   "id": "bf2ed427-69ac-4307-9ecb-590422caa26c",
   "metadata": {},
   "outputs": [
    {
     "ename": "SyntaxError",
     "evalue": "unterminated string literal (detected at line 1) (288648764.py, line 1)",
     "output_type": "error",
     "traceback": [
      "\u001b[1;36m  Cell \u001b[1;32mIn[4], line 1\u001b[1;36m\u001b[0m\n\u001b[1;33m    x = ' this\u001b[0m\n\u001b[1;37m        ^\u001b[0m\n\u001b[1;31mSyntaxError\u001b[0m\u001b[1;31m:\u001b[0m unterminated string literal (detected at line 1)\n"
     ]
    }
   ],
   "source": [
    "x = ' this \n",
    "        is\n",
    "            python class'\n",
    "print(x)"
   ]
  },
  {
   "cell_type": "code",
   "execution_count": 5,
   "id": "3785c14a-e67c-4992-86c3-061e7b47029e",
   "metadata": {},
   "outputs": [
    {
     "ename": "SyntaxError",
     "evalue": "unterminated string literal (detected at line 1) (2027365041.py, line 1)",
     "output_type": "error",
     "traceback": [
      "\u001b[1;36m  Cell \u001b[1;32mIn[5], line 1\u001b[1;36m\u001b[0m\n\u001b[1;33m    x = \" this\u001b[0m\n\u001b[1;37m        ^\u001b[0m\n\u001b[1;31mSyntaxError\u001b[0m\u001b[1;31m:\u001b[0m unterminated string literal (detected at line 1)\n"
     ]
    }
   ],
   "source": [
    "x = \" this \n",
    "        is\n",
    "            python class\"\n",
    "print(x)"
   ]
  },
  {
   "cell_type": "code",
   "execution_count": 6,
   "id": "47be3698-62b2-479e-8fbb-5378854c3087",
   "metadata": {},
   "outputs": [
    {
     "name": "stdout",
     "output_type": "stream",
     "text": [
      " this \n",
      "        is\n",
      "            python class \n"
     ]
    }
   ],
   "source": [
    "x = ''' this \n",
    "        is\n",
    "            python class '''\n",
    "print(x)"
   ]
  },
  {
   "cell_type": "code",
   "execution_count": 9,
   "id": "804a9df0-04e2-45ed-b1c3-ac8ff39265bd",
   "metadata": {},
   "outputs": [
    {
     "name": "stdout",
     "output_type": "stream",
     "text": [
      "python is \"important\"  \n"
     ]
    }
   ],
   "source": [
    "x = 'python is \"important\"  '\n",
    "print(x)"
   ]
  },
  {
   "cell_type": "code",
   "execution_count": 10,
   "id": "3d1f9487-5a92-40be-974f-c758aa322a04",
   "metadata": {},
   "outputs": [
    {
     "ename": "SyntaxError",
     "evalue": "invalid syntax (3508647074.py, line 1)",
     "output_type": "error",
     "traceback": [
      "\u001b[1;36m  Cell \u001b[1;32mIn[10], line 1\u001b[1;36m\u001b[0m\n\u001b[1;33m    x = 'python is 'important' lang '\u001b[0m\n\u001b[1;37m                    ^\u001b[0m\n\u001b[1;31mSyntaxError\u001b[0m\u001b[1;31m:\u001b[0m invalid syntax\n"
     ]
    }
   ],
   "source": [
    "x = 'python is 'important' lang '\n",
    "print(x)"
   ]
  },
  {
   "cell_type": "markdown",
   "id": "14a835b4-093e-4c83-8774-06cd7890ca04",
   "metadata": {},
   "source": [
    "# list"
   ]
  },
  {
   "cell_type": "code",
   "execution_count": 11,
   "id": "843cd095-8666-4095-8d35-b8b94f710696",
   "metadata": {},
   "outputs": [
    {
     "name": "stdout",
     "output_type": "stream",
     "text": [
      "[2, 'python', 4.6, (2, 4, 7, 3), 7]\n",
      "<class 'list'>\n",
      "1508440337280\n",
      "5\n"
     ]
    }
   ],
   "source": [
    "t =[2,'python',4.6,(2,4,7,3),7]\n",
    "print(t)\n",
    "print(type(t))\n",
    "print(id(t))\n",
    "print(len(t))"
   ]
  },
  {
   "cell_type": "code",
   "execution_count": 12,
   "id": "89ecb5db-f664-4d18-b972-d04f143b7662",
   "metadata": {},
   "outputs": [
    {
     "ename": "NameError",
     "evalue": "name 'python' is not defined",
     "output_type": "error",
     "traceback": [
      "\u001b[1;31m---------------------------------------------------------------------------\u001b[0m",
      "\u001b[1;31mNameError\u001b[0m                                 Traceback (most recent call last)",
      "Cell \u001b[1;32mIn[12], line 1\u001b[0m\n\u001b[1;32m----> 1\u001b[0m t \u001b[38;5;241m=\u001b[39m[\u001b[38;5;241m2\u001b[39m,python,\u001b[38;5;241m4.6\u001b[39m,(\u001b[38;5;241m2\u001b[39m,\u001b[38;5;241m4\u001b[39m,\u001b[38;5;241m7\u001b[39m,\u001b[38;5;241m3\u001b[39m),\u001b[38;5;241m7\u001b[39m]\n\u001b[0;32m      2\u001b[0m \u001b[38;5;28mprint\u001b[39m(t)\n",
      "\u001b[1;31mNameError\u001b[0m: name 'python' is not defined"
     ]
    }
   ],
   "source": [
    "t =[2,python,4.6,(2,4,7,3),7]\n",
    "print(t)"
   ]
  },
  {
   "cell_type": "markdown",
   "id": "487ced57-335a-488b-8df6-4293d1fab531",
   "metadata": {},
   "source": [
    "# tuple"
   ]
  },
  {
   "cell_type": "code",
   "execution_count": 13,
   "id": "9bfc9b30-3e68-483d-8385-adcbeb3a2eed",
   "metadata": {},
   "outputs": [
    {
     "name": "stdout",
     "output_type": "stream",
     "text": [
      "(2, 4.5, 'php', 'java', (3, 5, 4))\n",
      "<class 'tuple'>\n",
      "5\n",
      "1508440230304\n"
     ]
    }
   ],
   "source": [
    "r = (2,4.5,\"php\",'java',(3,5,4))\n",
    "print(r)\n",
    "print(type(r))\n",
    "print(len(r))\n",
    "print(id(r))"
   ]
  },
  {
   "cell_type": "code",
   "execution_count": 1,
   "id": "d872cbc6-b3a4-44bb-ab11-6a90053a2435",
   "metadata": {},
   "outputs": [
    {
     "name": "stdin",
     "output_type": "stream",
     "text": [
      "entr the  num 90\n"
     ]
    }
   ],
   "source": [
    "a = int(input(\"entr the  num\"))\n"
   ]
  },
  {
   "cell_type": "code",
   "execution_count": 2,
   "id": "8a54f62b-2bc8-44ee-a96f-ae25a832a830",
   "metadata": {},
   "outputs": [
    {
     "name": "stdout",
     "output_type": "stream",
     "text": [
      "90\n"
     ]
    }
   ],
   "source": [
    "print(a)"
   ]
  },
  {
   "cell_type": "code",
   "execution_count": 3,
   "id": "973440c7-fd92-465c-85ee-1063037c4847",
   "metadata": {},
   "outputs": [
    {
     "name": "stdout",
     "output_type": "stream",
     "text": [
      "<class 'int'>\n"
     ]
    }
   ],
   "source": [
    "print(type(a))"
   ]
  },
  {
   "cell_type": "code",
   "execution_count": 7,
   "id": "e3d440e1-a3bf-40fa-8791-0c4584634309",
   "metadata": {},
   "outputs": [
    {
     "name": "stdin",
     "output_type": "stream",
     "text": [
      "enter the name hi\n"
     ]
    }
   ],
   "source": [
    "# string input\n",
    "a = input(\"enter the name\")"
   ]
  },
  {
   "cell_type": "code",
   "execution_count": 9,
   "id": "6210144d-5e2a-484e-97af-c57300827b2f",
   "metadata": {},
   "outputs": [
    {
     "name": "stdin",
     "output_type": "stream",
     "text": [
      "enter a num 5\n"
     ]
    }
   ],
   "source": [
    "# typecast\n",
    "a = int(input(\"enter a num\"))"
   ]
  },
  {
   "cell_type": "code",
   "execution_count": 5,
   "id": "bd6b83e6-394b-42b5-9d67-356080e7f27c",
   "metadata": {},
   "outputs": [
    {
     "name": "stdin",
     "output_type": "stream",
     "text": [
      "enter the number 8\n"
     ]
    }
   ],
   "source": [
    "a = float(input(\"enter the number\"))"
   ]
  },
  {
   "cell_type": "code",
   "execution_count": 6,
   "id": "74ad77e3-6925-4575-ad39-2993474cca17",
   "metadata": {},
   "outputs": [
    {
     "name": "stdout",
     "output_type": "stream",
     "text": [
      "8.0\n"
     ]
    }
   ],
   "source": [
    "print(a)"
   ]
  },
  {
   "cell_type": "code",
   "execution_count": 10,
   "id": "9ff4f287-c681-424c-9772-59248170354d",
   "metadata": {},
   "outputs": [
    {
     "name": "stdin",
     "output_type": "stream",
     "text": [
      "enter the charcter Tushar\n",
      "enter the next char Shukla\n"
     ]
    },
    {
     "name": "stdout",
     "output_type": "stream",
     "text": [
      "TusharShukla\n"
     ]
    }
   ],
   "source": [
    "# for character input                                                                  17-07-2025\n",
    "a = input(\"enter the charcter\")\n",
    "b = input(\"enter the next char\")\n",
    "print(a+b)"
   ]
  },
  {
   "cell_type": "code",
   "execution_count": 12,
   "id": "8c2b87f9-e8fa-420f-b6f9-5201b21dbccb",
   "metadata": {},
   "outputs": [
    {
     "name": "stdin",
     "output_type": "stream",
     "text": [
      "enter the number 8\n",
      "enter the next number 9\n"
     ]
    },
    {
     "name": "stdout",
     "output_type": "stream",
     "text": [
      "89\n"
     ]
    }
   ],
   "source": [
    "# for numerical data\n",
    "a = input(\"enter the number\")\n",
    "b = input(\"enter the next number\")\n",
    "print(a+b)"
   ]
  },
  {
   "cell_type": "code",
   "execution_count": 13,
   "id": "8675818a-7d6c-43a7-89be-79f62ce847c4",
   "metadata": {},
   "outputs": [
    {
     "name": "stdout",
     "output_type": "stream",
     "text": [
      "<class 'str'>\n"
     ]
    }
   ],
   "source": [
    "# conversion of string into integer\n",
    "a = str(30)\n",
    "print(type(a))"
   ]
  },
  {
   "cell_type": "code",
   "execution_count": 15,
   "id": "8e781464-8b36-4aa6-8189-d0715a535259",
   "metadata": {},
   "outputs": [
    {
     "name": "stdout",
     "output_type": "stream",
     "text": [
      "30\n",
      "<class 'int'>\n"
     ]
    }
   ],
   "source": [
    "b = int(a)\n",
    "print(a)\n",
    "print(type(b))"
   ]
  },
  {
   "cell_type": "code",
   "execution_count": 18,
   "id": "08452c8f-4865-4e5c-8f85-50ab149ecc01",
   "metadata": {},
   "outputs": [
    {
     "name": "stdout",
     "output_type": "stream",
     "text": [
      "<class 'str'>\n",
      "<class 'int'>\n",
      "<class 'float'>\n",
      "40\n",
      "40\n",
      "40.0\n"
     ]
    }
   ],
   "source": [
    "a = str(40)\n",
    "b = int(40)\n",
    "c = float(40)\n",
    "print(type(a))\n",
    "print(type(b))\n",
    "print(type(c))\n",
    "print(a)\n",
    "print(b)\n",
    "print(c)"
   ]
  },
  {
   "cell_type": "code",
   "execution_count": 19,
   "id": "f248937c-7ef4-48e0-9218-e70caae77c1b",
   "metadata": {},
   "outputs": [
    {
     "name": "stdout",
     "output_type": "stream",
     "text": [
      "<class 'int'>\n",
      "<class 'float'>\n",
      "<class 'int'>\n",
      "40\n",
      "40.0\n",
      "40\n"
     ]
    }
   ],
   "source": [
    "# type casting\n",
    "d = int(a)\n",
    "e = float(b)\n",
    "f = int(c)\n",
    "print(type(d))\n",
    "print(type(e))\n",
    "print(type(f))\n",
    "print(d)\n",
    "print(e)\n",
    "print(f)"
   ]
  },
  {
   "cell_type": "code",
   "execution_count": 24,
   "id": "d509e916-d10d-4691-9665-cfe5ebdee597",
   "metadata": {},
   "outputs": [
    {
     "name": "stdin",
     "output_type": "stream",
     "text": [
      "enter the num 5\n",
      "enter your name tushar\n",
      "enter the float number 6\n"
     ]
    },
    {
     "ename": "ValueError",
     "evalue": "invalid literal for int() with base 10: 'tushar'",
     "output_type": "error",
     "traceback": [
      "\u001b[1;31m---------------------------------------------------------------------------\u001b[0m",
      "\u001b[1;31mValueError\u001b[0m                                Traceback (most recent call last)",
      "Cell \u001b[1;32mIn[24], line 5\u001b[0m\n\u001b[0;32m      3\u001b[0m c \u001b[38;5;241m=\u001b[39m \u001b[38;5;28mfloat\u001b[39m(\u001b[38;5;28minput\u001b[39m(\u001b[38;5;124m\"\u001b[39m\u001b[38;5;124menter the float number\u001b[39m\u001b[38;5;124m\"\u001b[39m))\n\u001b[0;32m      4\u001b[0m e \u001b[38;5;241m=\u001b[39m \u001b[38;5;28mint\u001b[39m(a)\n\u001b[1;32m----> 5\u001b[0m f \u001b[38;5;241m=\u001b[39m \u001b[38;5;28mint\u001b[39m(b)\n\u001b[0;32m      6\u001b[0m g \u001b[38;5;241m=\u001b[39m \u001b[38;5;28mint\u001b[39m(c)\n\u001b[0;32m      7\u001b[0m \u001b[38;5;28msum\u001b[39m \u001b[38;5;241m=\u001b[39m e\u001b[38;5;241m+\u001b[39mf\u001b[38;5;241m+\u001b[39mg\n",
      "\u001b[1;31mValueError\u001b[0m: invalid literal for int() with base 10: 'tushar'"
     ]
    }
   ],
   "source": [
    "a = int(input(\"enter the num\"))\n",
    "b = input(\"enter your name\")\n",
    "c = float(input(\"enter the float number\"))\n",
    "e = int(a)\n",
    "f = int(b)\n",
    "g = int(c)\n",
    "sum = e+f+g\n",
    "print(sum)"
   ]
  },
  {
   "cell_type": "code",
   "execution_count": null,
   "id": "f701ce86-05c2-4be8-a189-af2f52fb90af",
   "metadata": {},
   "outputs": [],
   "source": []
  }
 ],
 "metadata": {
  "kernelspec": {
   "display_name": "Python [conda env:base] *",
   "language": "python",
   "name": "conda-base-py"
  },
  "language_info": {
   "codemirror_mode": {
    "name": "ipython",
    "version": 3
   },
   "file_extension": ".py",
   "mimetype": "text/x-python",
   "name": "python",
   "nbconvert_exporter": "python",
   "pygments_lexer": "ipython3",
   "version": "3.12.7"
  }
 },
 "nbformat": 4,
 "nbformat_minor": 5
}
