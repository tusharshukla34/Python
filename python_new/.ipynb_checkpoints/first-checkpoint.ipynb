{
 "cells": [
  {
   "cell_type": "code",
   "execution_count": 3,
   "id": "843d3758-a3cd-4409-82fc-5d272233def4",
   "metadata": {},
   "outputs": [
    {
     "name": "stdout",
     "output_type": "stream",
     "text": [
      "hiiii\n"
     ]
    }
   ],
   "source": [
    "print(\"hiiii\")"
   ]
  },
  {
   "cell_type": "markdown",
   "id": "e60c8e8f-7973-4b85-9daf-6831eb1fdb62",
   "metadata": {},
   "source": [
    "# first"
   ]
  },
  {
   "cell_type": "markdown",
   "id": "10d2395f-0635-4043-9d08-7e2892bbc062",
   "metadata": {},
   "source": [
    "<h1>HELLO</h1>"
   ]
  },
  {
   "cell_type": "code",
   "execution_count": 3,
   "id": "b772f2d1-7633-4203-b486-266918769846",
   "metadata": {},
   "outputs": [
    {
     "name": "stdout",
     "output_type": "stream",
     "text": [
      "hi.............there\n"
     ]
    }
   ],
   "source": [
    "print(\"hi.............there\")"
   ]
  },
  {
   "cell_type": "code",
   "execution_count": 4,
   "id": "06da69a7-4370-49b9-a30d-fa6fd860ffe3",
   "metadata": {},
   "outputs": [
    {
     "name": "stdout",
     "output_type": "stream",
     "text": [
      "['False', 'None', 'True', 'and', 'as', 'assert', 'async', 'await', 'break', 'class', 'continue', 'def', 'del', 'elif', 'else', 'except', 'finally', 'for', 'from', 'global', 'if', 'import', 'in', 'is', 'lambda', 'nonlocal', 'not', 'or', 'pass', 'raise', 'return', 'try', 'while', 'with', 'yield']\n",
      "35\n"
     ]
    }
   ],
   "source": [
    "import keyword\n",
    "all_keys = keyword.kwlist\n",
    "print(all_keys)\n",
    "print(len(all_keys))"
   ]
  },
  {
   "cell_type": "code",
   "execution_count": 5,
   "id": "1315e2cd-59d3-4a32-9d45-e1a4fb7e6194",
   "metadata": {},
   "outputs": [
    {
     "name": "stdout",
     "output_type": "stream",
     "text": [
      "['_', 'case', 'match', 'type']\n",
      "4\n"
     ]
    }
   ],
   "source": [
    "all_keys = keyword.softkwlist\n",
    "print(all_keys)\n",
    "print(len(all_keys))"
   ]
  },
  {
   "cell_type": "code",
   "execution_count": 7,
   "id": "d0c06b2d-fb19-4d6c-8686-f43a78d6a076",
   "metadata": {},
   "outputs": [
    {
     "name": "stdout",
     "output_type": "stream",
     "text": [
      "abcdefghijklmnopqrstuvwxyz\n",
      "26\n"
     ]
    }
   ],
   "source": [
    "import string\n",
    "lower_case = string.ascii_lowercase\n",
    "print(lower_case)\n",
    "print(len(lower_case))"
   ]
  },
  {
   "cell_type": "code",
   "execution_count": 10,
   "id": "1aaac92c-af94-4c8d-9843-caa4dd14f098",
   "metadata": {},
   "outputs": [
    {
     "name": "stdout",
     "output_type": "stream",
     "text": [
      "ABCDEFGHIJKLMNOPQRSTUVWXYZ\n",
      "26\n"
     ]
    }
   ],
   "source": [
    "upper_case = string.ascii_uppercase\n",
    "print(upper_case)\n",
    "print(len(upper_case))"
   ]
  },
  {
   "cell_type": "markdown",
   "id": "246a8291-0e81-498e-8342-526fd8c2e86d",
   "metadata": {},
   "source": [
    "# identifier"
   ]
  },
  {
   "cell_type": "raw",
   "id": "9f126704-5d58-4c5b-8af7-b5e4a2fca26b",
   "metadata": {},
   "source": [
    "1. do not start with digit(0-9)\n",
    "2. always start with (a-z) or (A-Z) or (_) underscore\n",
    "3. Do not use space between character\n",
    "4. case sensitive"
   ]
  },
  {
   "cell_type": "code",
   "execution_count": 1,
   "id": "f70f4dab-f318-4084-b68a-5655e303d444",
   "metadata": {},
   "outputs": [
    {
     "ename": "SyntaxError",
     "evalue": "invalid decimal literal (1182467522.py, line 1)",
     "output_type": "error",
     "traceback": [
      "\u001b[1;36m  Cell \u001b[1;32mIn[1], line 1\u001b[1;36m\u001b[0m\n\u001b[1;33m    1x = 10\u001b[0m\n\u001b[1;37m    ^\u001b[0m\n\u001b[1;31mSyntaxError\u001b[0m\u001b[1;31m:\u001b[0m invalid decimal literal\n"
     ]
    }
   ],
   "source": [
    "1x = 10\n",
    "print(1x)"
   ]
  },
  {
   "cell_type": "code",
   "execution_count": 4,
   "id": "7482aba2-4df4-4720-b549-d576dca53a29",
   "metadata": {},
   "outputs": [
    {
     "name": "stdout",
     "output_type": "stream",
     "text": [
      "10\n"
     ]
    }
   ],
   "source": [
    "X = 10\n",
    "print(X)"
   ]
  },
  {
   "cell_type": "code",
   "execution_count": 3,
   "id": "597094a9-5622-4efa-9619-56d7efdbe5db",
   "metadata": {},
   "outputs": [
    {
     "name": "stdout",
     "output_type": "stream",
     "text": [
      "10\n"
     ]
    }
   ],
   "source": [
    "_x =10\n",
    "print(_x)"
   ]
  },
  {
   "cell_type": "code",
   "execution_count": 6,
   "id": "885f86ae-d911-4e2d-8fbc-1febc942d47a",
   "metadata": {},
   "outputs": [
    {
     "name": "stdout",
     "output_type": "stream",
     "text": [
      "10\n"
     ]
    }
   ],
   "source": [
    "_1 =10\n",
    "print(_1)"
   ]
  },
  {
   "cell_type": "code",
   "execution_count": 7,
   "id": "50d7dcbd-a236-4adf-9d0d-e546fa05845b",
   "metadata": {},
   "outputs": [
    {
     "ename": "SyntaxError",
     "evalue": "invalid syntax (2550559621.py, line 2)",
     "output_type": "error",
     "traceback": [
      "\u001b[1;36m  Cell \u001b[1;32mIn[7], line 2\u001b[1;36m\u001b[0m\n\u001b[1;33m    all key = keyword.kwlist\u001b[0m\n\u001b[1;37m        ^\u001b[0m\n\u001b[1;31mSyntaxError\u001b[0m\u001b[1;31m:\u001b[0m invalid syntax\n"
     ]
    }
   ],
   "source": [
    "import keyword\n",
    "all key = keyword.kwlist\n",
    "print(all key)"
   ]
  },
  {
   "cell_type": "code",
   "execution_count": 8,
   "id": "1ef866e6-a3b3-4142-b0a8-c9d1fc1392da",
   "metadata": {
    "collapsed": true,
    "jupyter": {
     "outputs_hidden": true
    }
   },
   "outputs": [
    {
     "name": "stdout",
     "output_type": "stream",
     "text": [
      "['False', 'None', 'True', 'and', 'as', 'assert', 'async', 'await', 'break', 'class', 'continue', 'def', 'del', 'elif', 'else', 'except', 'finally', 'for', 'from', 'global', 'if', 'import', 'in', 'is', 'lambda', 'nonlocal', 'not', 'or', 'pass', 'raise', 'return', 'try', 'while', 'with', 'yield']\n"
     ]
    }
   ],
   "source": [
    "import keyword\n",
    "all_key = keyword.kwlist\n",
    "print(all_key)"
   ]
  },
  {
   "cell_type": "code",
   "execution_count": 10,
   "id": "228fed78-aa60-4a1c-bce4-75a49d288af8",
   "metadata": {},
   "outputs": [
    {
     "ename": "NameError",
     "evalue": "name 'Y' is not defined",
     "output_type": "error",
     "traceback": [
      "\u001b[1;31m---------------------------------------------------------------------------\u001b[0m",
      "\u001b[1;31mNameError\u001b[0m                                 Traceback (most recent call last)",
      "Cell \u001b[1;32mIn[10], line 2\u001b[0m\n\u001b[0;32m      1\u001b[0m y \u001b[38;5;241m=\u001b[39m \u001b[38;5;241m10\u001b[39m\n\u001b[1;32m----> 2\u001b[0m \u001b[38;5;28mprint\u001b[39m(Y)\n",
      "\u001b[1;31mNameError\u001b[0m: name 'Y' is not defined"
     ]
    }
   ],
   "source": [
    "y = 10\n",
    "print(Y)"
   ]
  },
  {
   "cell_type": "code",
   "execution_count": 11,
   "id": "9d85af8b-04dc-43f1-a067-43cf343cff88",
   "metadata": {},
   "outputs": [],
   "source": [
    "x =10"
   ]
  },
  {
   "cell_type": "code",
   "execution_count": 12,
   "id": "566350b6-a6e1-48b0-8071-bfe8931101a0",
   "metadata": {},
   "outputs": [
    {
     "name": "stdout",
     "output_type": "stream",
     "text": [
      "10\n"
     ]
    }
   ],
   "source": [
    "print(x)"
   ]
  },
  {
   "cell_type": "code",
   "execution_count": null,
   "id": "73049633-c2e6-4b89-9c83-9b0afc774913",
   "metadata": {},
   "outputs": [],
   "source": [
    "z = 20"
   ]
  },
  {
   "cell_type": "code",
   "execution_count": 13,
   "id": "9f2a8eef-8c9b-4377-9a83-93011501aacc",
   "metadata": {},
   "outputs": [
    {
     "ename": "NameError",
     "evalue": "name 'z' is not defined",
     "output_type": "error",
     "traceback": [
      "\u001b[1;31m---------------------------------------------------------------------------\u001b[0m",
      "\u001b[1;31mNameError\u001b[0m                                 Traceback (most recent call last)",
      "Cell \u001b[1;32mIn[13], line 1\u001b[0m\n\u001b[1;32m----> 1\u001b[0m \u001b[38;5;28mprint\u001b[39m(z)\n",
      "\u001b[1;31mNameError\u001b[0m: name 'z' is not defined"
     ]
    }
   ],
   "source": [
    "print(z)"
   ]
  },
  {
   "cell_type": "code",
   "execution_count": null,
   "id": "ad205132-a7fd-422e-b47e-fd61d58092dd",
   "metadata": {},
   "outputs": [],
   "source": [
    "xyz=10"
   ]
  },
  {
   "cell_type": "code",
   "execution_count": 14,
   "id": "b063838b-b841-4067-9a14-f37a2cc2eddc",
   "metadata": {},
   "outputs": [
    {
     "ename": "NameError",
     "evalue": "name 'xyz' is not defined",
     "output_type": "error",
     "traceback": [
      "\u001b[1;31m---------------------------------------------------------------------------\u001b[0m",
      "\u001b[1;31mNameError\u001b[0m                                 Traceback (most recent call last)",
      "Cell \u001b[1;32mIn[14], line 1\u001b[0m\n\u001b[1;32m----> 1\u001b[0m \u001b[38;5;28mprint\u001b[39m(xyz)\n",
      "\u001b[1;31mNameError\u001b[0m: name 'xyz' is not defined"
     ]
    }
   ],
   "source": [
    "print(xyz)"
   ]
  },
  {
   "cell_type": "code",
   "execution_count": 15,
   "id": "47fbbadf-09bd-4f02-a9e0-59c8b8fd13b9",
   "metadata": {},
   "outputs": [],
   "source": [
    "xyz=10"
   ]
  },
  {
   "cell_type": "code",
   "execution_count": 16,
   "id": "9f9e93f3-50a6-4ba2-be30-c88421296862",
   "metadata": {},
   "outputs": [
    {
     "name": "stdout",
     "output_type": "stream",
     "text": [
      "10\n"
     ]
    }
   ],
   "source": [
    "print(xyz)"
   ]
  },
  {
   "cell_type": "code",
   "execution_count": 17,
   "id": "40310027-77b9-41f5-917c-7c4b0de80f9a",
   "metadata": {},
   "outputs": [
    {
     "ename": "NameError",
     "evalue": "name 'Xyz' is not defined",
     "output_type": "error",
     "traceback": [
      "\u001b[1;31m---------------------------------------------------------------------------\u001b[0m",
      "\u001b[1;31mNameError\u001b[0m                                 Traceback (most recent call last)",
      "Cell \u001b[1;32mIn[17], line 1\u001b[0m\n\u001b[1;32m----> 1\u001b[0m \u001b[38;5;28mprint\u001b[39m(Xyz)\n",
      "\u001b[1;31mNameError\u001b[0m: name 'Xyz' is not defined"
     ]
    }
   ],
   "source": [
    "print(Xyz)"
   ]
  },
  {
   "cell_type": "code",
   "execution_count": 18,
   "id": "3943ff1d-6eb8-41eb-9919-38970550a87f",
   "metadata": {},
   "outputs": [
    {
     "name": "stdout",
     "output_type": "stream",
     "text": [
      "10\n",
      "20\n"
     ]
    }
   ],
   "source": [
    "_1x =10\n",
    "_xyz_123 =20\n",
    "print(_1x)\n",
    "print(_xyz_123)"
   ]
  },
  {
   "cell_type": "code",
   "execution_count": 19,
   "id": "1a45c257-4ead-4613-85d2-041a8f15c571",
   "metadata": {},
   "outputs": [
    {
     "name": "stdout",
     "output_type": "stream",
     "text": [
      "10\n",
      "10.5\n",
      "Python\n"
     ]
    }
   ],
   "source": [
    "x =10\n",
    "y =10.5\n",
    "z ='Python'\n",
    "print(x)\n",
    "print(y)\n",
    "print(z)"
   ]
  },
  {
   "cell_type": "markdown",
   "id": "9f3e614e-f07d-49e2-87c5-82158c6db362",
   "metadata": {},
   "source": [
    "# literals"
   ]
  },
  {
   "cell_type": "raw",
   "id": "4fab2bc9-2fc3-4955-9401-3ca033522a5a",
   "metadata": {},
   "source": [
    "constant values that assign to any identifier is called as literals"
   ]
  },
  {
   "cell_type": "code",
   "execution_count": 20,
   "id": "95c1512f-6bfe-4c4b-a429-c1e3572f8957",
   "metadata": {},
   "outputs": [
    {
     "name": "stdout",
     "output_type": "stream",
     "text": [
      "<class 'int'>\n"
     ]
    }
   ],
   "source": [
    "x = 10\n",
    "print(type(x))"
   ]
  },
  {
   "cell_type": "code",
   "execution_count": 21,
   "id": "3a3bd89f-cecd-4850-839f-e0634596b804",
   "metadata": {},
   "outputs": [
    {
     "name": "stdout",
     "output_type": "stream",
     "text": [
      "140732679006936\n"
     ]
    }
   ],
   "source": [
    "print(id(x))"
   ]
  },
  {
   "cell_type": "code",
   "execution_count": 23,
   "id": "78251734-13f3-48e9-8d7d-9a4fb0c1e820",
   "metadata": {},
   "outputs": [
    {
     "name": "stdout",
     "output_type": "stream",
     "text": [
      "<class 'float'>\n",
      "2004443909008\n"
     ]
    }
   ],
   "source": [
    "y = 0.4\n",
    "print(type(y))\n",
    "print(id(y))"
   ]
  },
  {
   "cell_type": "code",
   "execution_count": 24,
   "id": "06308366-54b3-483f-b0b4-205f877e86b0",
   "metadata": {},
   "outputs": [
    {
     "name": "stdout",
     "output_type": "stream",
     "text": [
      "<class 'float'>\n",
      "2004411772304\n"
     ]
    }
   ],
   "source": [
    "y = 10.0\n",
    "print(type(y))\n",
    "print(id(y))"
   ]
  },
  {
   "cell_type": "code",
   "execution_count": 25,
   "id": "d8b44060-6f3e-4142-95ed-25cb9b441c67",
   "metadata": {},
   "outputs": [
    {
     "name": "stdout",
     "output_type": "stream",
     "text": [
      "<class 'complex'>\n",
      "<class 'complex'>\n"
     ]
    }
   ],
   "source": [
    "x = 10+20j\n",
    "y = 0+0j\n",
    "print(type(x))\n",
    "print(type(y))"
   ]
  },
  {
   "cell_type": "code",
   "execution_count": 26,
   "id": "c1951ca9-7813-4aad-97c3-b29c788d2c08",
   "metadata": {},
   "outputs": [
    {
     "ename": "NameError",
     "evalue": "name 'j' is not defined",
     "output_type": "error",
     "traceback": [
      "\u001b[1;31m---------------------------------------------------------------------------\u001b[0m",
      "\u001b[1;31mNameError\u001b[0m                                 Traceback (most recent call last)",
      "Cell \u001b[1;32mIn[26], line 1\u001b[0m\n\u001b[1;32m----> 1\u001b[0m z \u001b[38;5;241m=\u001b[39m j\n\u001b[0;32m      2\u001b[0m \u001b[38;5;28mprint\u001b[39m(\u001b[38;5;28mtype\u001b[39m(j))\n",
      "\u001b[1;31mNameError\u001b[0m: name 'j' is not defined"
     ]
    }
   ],
   "source": [
    "z = j\n",
    "print(type(j))"
   ]
  },
  {
   "cell_type": "markdown",
   "id": "e79a9252-2c3b-4556-b6fa-afcd0912b30f",
   "metadata": {},
   "source": [
    "# string"
   ]
  },
  {
   "cell_type": "code",
   "execution_count": 1,
   "id": "e991e841-93d3-4133-8940-01887c5c6a41",
   "metadata": {},
   "outputs": [
    {
     "name": "stdout",
     "output_type": "stream",
     "text": [
      "a\n",
      "<class 'str'>\n",
      "140732713934400\n"
     ]
    }
   ],
   "source": [
    "x = 'a'\n",
    "print(x)\n",
    "print(type(x))\n",
    "print(id(x))"
   ]
  },
  {
   "cell_type": "code",
   "execution_count": 2,
   "id": "7d77e956-c249-47ce-be2c-e6d829a3af22",
   "metadata": {},
   "outputs": [
    {
     "name": "stdout",
     "output_type": "stream",
     "text": [
      "Python\n",
      "<class 'str'>\n",
      "140732712956528\n"
     ]
    }
   ],
   "source": [
    "x = \"Python\"\n",
    "print(x)\n",
    "print(type(x))\n",
    "print(id(x))"
   ]
  },
  {
   "cell_type": "code",
   "execution_count": 3,
   "id": "ead28497-359d-45d7-8928-c35ffda5bb83",
   "metadata": {},
   "outputs": [
    {
     "name": "stdout",
     "output_type": "stream",
     "text": [
      "Hii everyone\n",
      "<class 'str'>\n",
      "1508381023536\n"
     ]
    }
   ],
   "source": [
    "x = '''Hii everyone'''\n",
    "print(x)\n",
    "print(type(x))\n",
    "print(id(x))"
   ]
  },
  {
   "cell_type": "code",
   "execution_count": 4,
   "id": "bf2ed427-69ac-4307-9ecb-590422caa26c",
   "metadata": {},
   "outputs": [
    {
     "ename": "SyntaxError",
     "evalue": "unterminated string literal (detected at line 1) (288648764.py, line 1)",
     "output_type": "error",
     "traceback": [
      "\u001b[1;36m  Cell \u001b[1;32mIn[4], line 1\u001b[1;36m\u001b[0m\n\u001b[1;33m    x = ' this\u001b[0m\n\u001b[1;37m        ^\u001b[0m\n\u001b[1;31mSyntaxError\u001b[0m\u001b[1;31m:\u001b[0m unterminated string literal (detected at line 1)\n"
     ]
    }
   ],
   "source": [
    "x = ' this \n",
    "        is\n",
    "            python class'\n",
    "print(x)"
   ]
  },
  {
   "cell_type": "code",
   "execution_count": 5,
   "id": "3785c14a-e67c-4992-86c3-061e7b47029e",
   "metadata": {},
   "outputs": [
    {
     "ename": "SyntaxError",
     "evalue": "unterminated string literal (detected at line 1) (2027365041.py, line 1)",
     "output_type": "error",
     "traceback": [
      "\u001b[1;36m  Cell \u001b[1;32mIn[5], line 1\u001b[1;36m\u001b[0m\n\u001b[1;33m    x = \" this\u001b[0m\n\u001b[1;37m        ^\u001b[0m\n\u001b[1;31mSyntaxError\u001b[0m\u001b[1;31m:\u001b[0m unterminated string literal (detected at line 1)\n"
     ]
    }
   ],
   "source": [
    "x = \" this \n",
    "        is\n",
    "            python class\"\n",
    "print(x)"
   ]
  },
  {
   "cell_type": "code",
   "execution_count": 6,
   "id": "47be3698-62b2-479e-8fbb-5378854c3087",
   "metadata": {},
   "outputs": [
    {
     "name": "stdout",
     "output_type": "stream",
     "text": [
      " this \n",
      "        is\n",
      "            python class \n"
     ]
    }
   ],
   "source": [
    "x = ''' this \n",
    "        is\n",
    "            python class '''\n",
    "print(x)"
   ]
  },
  {
   "cell_type": "code",
   "execution_count": 9,
   "id": "804a9df0-04e2-45ed-b1c3-ac8ff39265bd",
   "metadata": {},
   "outputs": [
    {
     "name": "stdout",
     "output_type": "stream",
     "text": [
      "python is \"important\"  \n"
     ]
    }
   ],
   "source": [
    "x = 'python is \"important\"  '\n",
    "print(x)"
   ]
  },
  {
   "cell_type": "code",
   "execution_count": 10,
   "id": "3d1f9487-5a92-40be-974f-c758aa322a04",
   "metadata": {},
   "outputs": [
    {
     "ename": "SyntaxError",
     "evalue": "invalid syntax (3508647074.py, line 1)",
     "output_type": "error",
     "traceback": [
      "\u001b[1;36m  Cell \u001b[1;32mIn[10], line 1\u001b[1;36m\u001b[0m\n\u001b[1;33m    x = 'python is 'important' lang '\u001b[0m\n\u001b[1;37m                    ^\u001b[0m\n\u001b[1;31mSyntaxError\u001b[0m\u001b[1;31m:\u001b[0m invalid syntax\n"
     ]
    }
   ],
   "source": [
    "x = 'python is 'important' lang '\n",
    "print(x)"
   ]
  },
  {
   "cell_type": "markdown",
   "id": "14a835b4-093e-4c83-8774-06cd7890ca04",
   "metadata": {},
   "source": [
    "# list"
   ]
  },
  {
   "cell_type": "code",
   "execution_count": 11,
   "id": "843cd095-8666-4095-8d35-b8b94f710696",
   "metadata": {},
   "outputs": [
    {
     "name": "stdout",
     "output_type": "stream",
     "text": [
      "[2, 'python', 4.6, (2, 4, 7, 3), 7]\n",
      "<class 'list'>\n",
      "1508440337280\n",
      "5\n"
     ]
    }
   ],
   "source": [
    "t =[2,'python',4.6,(2,4,7,3),7]\n",
    "print(t)\n",
    "print(type(t))\n",
    "print(id(t))\n",
    "print(len(t))"
   ]
  },
  {
   "cell_type": "code",
   "execution_count": 12,
   "id": "89ecb5db-f664-4d18-b972-d04f143b7662",
   "metadata": {},
   "outputs": [
    {
     "ename": "NameError",
     "evalue": "name 'python' is not defined",
     "output_type": "error",
     "traceback": [
      "\u001b[1;31m---------------------------------------------------------------------------\u001b[0m",
      "\u001b[1;31mNameError\u001b[0m                                 Traceback (most recent call last)",
      "Cell \u001b[1;32mIn[12], line 1\u001b[0m\n\u001b[1;32m----> 1\u001b[0m t \u001b[38;5;241m=\u001b[39m[\u001b[38;5;241m2\u001b[39m,python,\u001b[38;5;241m4.6\u001b[39m,(\u001b[38;5;241m2\u001b[39m,\u001b[38;5;241m4\u001b[39m,\u001b[38;5;241m7\u001b[39m,\u001b[38;5;241m3\u001b[39m),\u001b[38;5;241m7\u001b[39m]\n\u001b[0;32m      2\u001b[0m \u001b[38;5;28mprint\u001b[39m(t)\n",
      "\u001b[1;31mNameError\u001b[0m: name 'python' is not defined"
     ]
    }
   ],
   "source": [
    "t =[2,python,4.6,(2,4,7,3),7]\n",
    "print(t)"
   ]
  },
  {
   "cell_type": "markdown",
   "id": "487ced57-335a-488b-8df6-4293d1fab531",
   "metadata": {},
   "source": [
    "# tuple"
   ]
  },
  {
   "cell_type": "code",
   "execution_count": 13,
   "id": "9bfc9b30-3e68-483d-8385-adcbeb3a2eed",
   "metadata": {},
   "outputs": [
    {
     "name": "stdout",
     "output_type": "stream",
     "text": [
      "(2, 4.5, 'php', 'java', (3, 5, 4))\n",
      "<class 'tuple'>\n",
      "5\n",
      "1508440230304\n"
     ]
    }
   ],
   "source": [
    "r = (2,4.5,\"php\",'java',(3,5,4))\n",
    "print(r)\n",
    "print(type(r))\n",
    "print(len(r))\n",
    "print(id(r))"
   ]
  },
  {
   "cell_type": "code",
   "execution_count": 1,
   "id": "d872cbc6-b3a4-44bb-ab11-6a90053a2435",
   "metadata": {},
   "outputs": [
    {
     "name": "stdin",
     "output_type": "stream",
     "text": [
      "entr the  num 90\n"
     ]
    }
   ],
   "source": [
    "a = int(input(\"entr the  num\"))\n"
   ]
  },
  {
   "cell_type": "code",
   "execution_count": 2,
   "id": "8a54f62b-2bc8-44ee-a96f-ae25a832a830",
   "metadata": {},
   "outputs": [
    {
     "name": "stdout",
     "output_type": "stream",
     "text": [
      "90\n"
     ]
    }
   ],
   "source": [
    "print(a)"
   ]
  },
  {
   "cell_type": "code",
   "execution_count": 3,
   "id": "973440c7-fd92-465c-85ee-1063037c4847",
   "metadata": {},
   "outputs": [
    {
     "name": "stdout",
     "output_type": "stream",
     "text": [
      "<class 'int'>\n"
     ]
    }
   ],
   "source": [
    "print(type(a))"
   ]
  },
  {
   "cell_type": "code",
   "execution_count": 7,
   "id": "e3d440e1-a3bf-40fa-8791-0c4584634309",
   "metadata": {},
   "outputs": [
    {
     "name": "stdin",
     "output_type": "stream",
     "text": [
      "enter the name hi\n"
     ]
    }
   ],
   "source": [
    "# string input\n",
    "a = input(\"enter the name\")"
   ]
  },
  {
   "cell_type": "code",
   "execution_count": 9,
   "id": "6210144d-5e2a-484e-97af-c57300827b2f",
   "metadata": {},
   "outputs": [
    {
     "name": "stdin",
     "output_type": "stream",
     "text": [
      "enter a num 5\n"
     ]
    }
   ],
   "source": [
    "# typecast\n",
    "a = int(input(\"enter a num\"))"
   ]
  },
  {
   "cell_type": "code",
   "execution_count": 5,
   "id": "bd6b83e6-394b-42b5-9d67-356080e7f27c",
   "metadata": {},
   "outputs": [
    {
     "name": "stdin",
     "output_type": "stream",
     "text": [
      "enter the number 8\n"
     ]
    }
   ],
   "source": [
    "a = float(input(\"enter the number\"))"
   ]
  },
  {
   "cell_type": "code",
   "execution_count": 6,
   "id": "74ad77e3-6925-4575-ad39-2993474cca17",
   "metadata": {},
   "outputs": [
    {
     "name": "stdout",
     "output_type": "stream",
     "text": [
      "8.0\n"
     ]
    }
   ],
   "source": [
    "print(a)"
   ]
  },
  {
   "cell_type": "code",
   "execution_count": 10,
   "id": "9ff4f287-c681-424c-9772-59248170354d",
   "metadata": {},
   "outputs": [
    {
     "name": "stdin",
     "output_type": "stream",
     "text": [
      "enter the charcter Tushar\n",
      "enter the next char Shukla\n"
     ]
    },
    {
     "name": "stdout",
     "output_type": "stream",
     "text": [
      "TusharShukla\n"
     ]
    }
   ],
   "source": [
    "# for character input                                                                  17-07-2025\n",
    "a = input(\"enter the charcter\")\n",
    "b = input(\"enter the next char\")\n",
    "print(a+b)"
   ]
  },
  {
   "cell_type": "code",
   "execution_count": 12,
   "id": "8c2b87f9-e8fa-420f-b6f9-5201b21dbccb",
   "metadata": {},
   "outputs": [
    {
     "name": "stdin",
     "output_type": "stream",
     "text": [
      "enter the number 8\n",
      "enter the next number 9\n"
     ]
    },
    {
     "name": "stdout",
     "output_type": "stream",
     "text": [
      "89\n"
     ]
    }
   ],
   "source": [
    "# for numerical data\n",
    "a = input(\"enter the number\")\n",
    "b = input(\"enter the next number\")\n",
    "print(a+b)"
   ]
  },
  {
   "cell_type": "code",
   "execution_count": 13,
   "id": "8675818a-7d6c-43a7-89be-79f62ce847c4",
   "metadata": {},
   "outputs": [
    {
     "name": "stdout",
     "output_type": "stream",
     "text": [
      "<class 'str'>\n"
     ]
    }
   ],
   "source": [
    "# conversion of string into integer\n",
    "a = str(30)\n",
    "print(type(a))"
   ]
  },
  {
   "cell_type": "code",
   "execution_count": 15,
   "id": "8e781464-8b36-4aa6-8189-d0715a535259",
   "metadata": {},
   "outputs": [
    {
     "name": "stdout",
     "output_type": "stream",
     "text": [
      "30\n",
      "<class 'int'>\n"
     ]
    }
   ],
   "source": [
    "b = int(a)\n",
    "print(a)\n",
    "print(type(b))"
   ]
  },
  {
   "cell_type": "code",
   "execution_count": 18,
   "id": "08452c8f-4865-4e5c-8f85-50ab149ecc01",
   "metadata": {},
   "outputs": [
    {
     "name": "stdout",
     "output_type": "stream",
     "text": [
      "<class 'str'>\n",
      "<class 'int'>\n",
      "<class 'float'>\n",
      "40\n",
      "40\n",
      "40.0\n"
     ]
    }
   ],
   "source": [
    "a = str(40)\n",
    "b = int(40)\n",
    "c = float(40)\n",
    "print(type(a))\n",
    "print(type(b))\n",
    "print(type(c))\n",
    "print(a)\n",
    "print(b)\n",
    "print(c)"
   ]
  },
  {
   "cell_type": "code",
   "execution_count": 19,
   "id": "f248937c-7ef4-48e0-9218-e70caae77c1b",
   "metadata": {},
   "outputs": [
    {
     "name": "stdout",
     "output_type": "stream",
     "text": [
      "<class 'int'>\n",
      "<class 'float'>\n",
      "<class 'int'>\n",
      "40\n",
      "40.0\n",
      "40\n"
     ]
    }
   ],
   "source": [
    "# type casting\n",
    "d = int(a)\n",
    "e = float(b)\n",
    "f = int(c)\n",
    "print(type(d))\n",
    "print(type(e))\n",
    "print(type(f))\n",
    "print(d)\n",
    "print(e)\n",
    "print(f)"
   ]
  },
  {
   "cell_type": "code",
   "execution_count": 24,
   "id": "d509e916-d10d-4691-9665-cfe5ebdee597",
   "metadata": {},
   "outputs": [
    {
     "name": "stdin",
     "output_type": "stream",
     "text": [
      "enter the num 5\n",
      "enter your name tushar\n",
      "enter the float number 6\n"
     ]
    },
    {
     "ename": "ValueError",
     "evalue": "invalid literal for int() with base 10: 'tushar'",
     "output_type": "error",
     "traceback": [
      "\u001b[1;31m---------------------------------------------------------------------------\u001b[0m",
      "\u001b[1;31mValueError\u001b[0m                                Traceback (most recent call last)",
      "Cell \u001b[1;32mIn[24], line 5\u001b[0m\n\u001b[0;32m      3\u001b[0m c \u001b[38;5;241m=\u001b[39m \u001b[38;5;28mfloat\u001b[39m(\u001b[38;5;28minput\u001b[39m(\u001b[38;5;124m\"\u001b[39m\u001b[38;5;124menter the float number\u001b[39m\u001b[38;5;124m\"\u001b[39m))\n\u001b[0;32m      4\u001b[0m e \u001b[38;5;241m=\u001b[39m \u001b[38;5;28mint\u001b[39m(a)\n\u001b[1;32m----> 5\u001b[0m f \u001b[38;5;241m=\u001b[39m \u001b[38;5;28mint\u001b[39m(b)\n\u001b[0;32m      6\u001b[0m g \u001b[38;5;241m=\u001b[39m \u001b[38;5;28mint\u001b[39m(c)\n\u001b[0;32m      7\u001b[0m \u001b[38;5;28msum\u001b[39m \u001b[38;5;241m=\u001b[39m e\u001b[38;5;241m+\u001b[39mf\u001b[38;5;241m+\u001b[39mg\n",
      "\u001b[1;31mValueError\u001b[0m: invalid literal for int() with base 10: 'tushar'"
     ]
    }
   ],
   "source": [
    "a = int(input(\"enter the num\"))\n",
    "b = input(\"enter your name\")\n",
    "c = float(input(\"enter the float number\"))\n",
    "e = int(a)\n",
    "f = int(b)\n",
    "g = int(c)\n",
    "sum = e+f+g\n",
    "print(sum)"
   ]
  },
  {
   "cell_type": "code",
   "execution_count": 3,
   "id": "f701ce86-05c2-4be8-a189-af2f52fb90af",
   "metadata": {},
   "outputs": [
    {
     "name": "stdin",
     "output_type": "stream",
     "text": [
      "enter the character 4\n",
      "enter 2\n",
      "enter 7.8\n"
     ]
    },
    {
     "name": "stdout",
     "output_type": "stream",
     "text": [
      "4\n",
      "2\n",
      "7\n",
      "<class 'int'>\n"
     ]
    }
   ],
   "source": [
    "#                                              18-07-2025\n",
    "a = input(\"enter the character\")\n",
    "b = int(input(\"enter\"))\n",
    "c = float(input(\"enter\"))\n",
    "a = int(a)\n",
    "b = int(b)\n",
    "c = int(c)\n",
    "print(a)\n",
    "print(b)\n",
    "print(c)\n",
    "print(type(a))"
   ]
  },
  {
   "cell_type": "code",
   "execution_count": 5,
   "id": "f243c428-eeab-4fce-b520-f0f975546aa7",
   "metadata": {},
   "outputs": [
    {
     "data": {
      "text/plain": [
       "57"
      ]
     },
     "execution_count": 5,
     "metadata": {},
     "output_type": "execute_result"
    }
   ],
   "source": [
    "# Write a python progarm to add to add two numbers\n",
    "a = 23\n",
    "b = 34\n",
    "sum = a+b\n",
    "sum"
   ]
  },
  {
   "cell_type": "code",
   "execution_count": 7,
   "id": "de61bf31-e83c-4ec0-9e25-ad43d5091a10",
   "metadata": {},
   "outputs": [
    {
     "data": {
      "text/plain": [
       "1"
      ]
     },
     "execution_count": 7,
     "metadata": {},
     "output_type": "execute_result"
    }
   ],
   "source": [
    "# Q2\n",
    "a = 23\n",
    "b = 2\n",
    "remainder = a%b\n",
    "remainder"
   ]
  },
  {
   "cell_type": "code",
   "execution_count": 15,
   "id": "9db132cc-fc92-4f78-8e07-f6faad055524",
   "metadata": {},
   "outputs": [
    {
     "name": "stdin",
     "output_type": "stream",
     "text": [
      "enter the num 45\n",
      "enter the num 3\n"
     ]
    },
    {
     "name": "stdout",
     "output_type": "stream",
     "text": [
      "the floor is :  15\n"
     ]
    }
   ],
   "source": [
    "# floor devision\n",
    "a = int(input(\"enter the num\"))\n",
    "b = int(input(\"enter the num\"))\n",
    "c = a//b\n",
    "print(\"the floor is : \",c)"
   ]
  },
  {
   "cell_type": "code",
   "execution_count": 20,
   "id": "a4e8dd5c-baf3-4bee-81e1-c18139df4b16",
   "metadata": {},
   "outputs": [
    {
     "name": "stdin",
     "output_type": "stream",
     "text": [
      "enter the num 4\n",
      "enter the num 6\n"
     ]
    },
    {
     "name": "stdout",
     "output_type": "stream",
     "text": [
      "is :  0.6666666666666666\n"
     ]
    }
   ],
   "source": [
    "# devision\n",
    "a = int(input(\"enter the num\"))\n",
    "b = int(input(\"enter the num\"))\n",
    "c = a/b\n",
    "print(\"is : \",c)"
   ]
  },
  {
   "cell_type": "code",
   "execution_count": 9,
   "id": "0b9f73d2-8cfc-4310-aa30-7554930bb5da",
   "metadata": {},
   "outputs": [
    {
     "name": "stdin",
     "output_type": "stream",
     "text": [
      "enter hi\n"
     ]
    },
    {
     "name": "stdout",
     "output_type": "stream",
     "text": [
      "<class 'str'>\n"
     ]
    }
   ],
   "source": [
    "# Q3\n",
    "a = input(\"enter\")\n",
    "print(type(a))"
   ]
  },
  {
   "cell_type": "code",
   "execution_count": 18,
   "id": "d60bc54f-5103-4aa3-8ef0-eaabcd1d104c",
   "metadata": {},
   "outputs": [
    {
     "name": "stdout",
     "output_type": "stream",
     "text": [
      "a is greater than b : False\n"
     ]
    }
   ],
   "source": [
    "# Q4\n",
    "a = 34\n",
    "b = 80\n",
    "c = a > b\n",
    "print(\"a is greater than b :\",c)\n"
   ]
  },
  {
   "cell_type": "code",
   "execution_count": 11,
   "id": "8641d149-0af5-4a07-8e24-3dd896bdc88d",
   "metadata": {},
   "outputs": [
    {
     "name": "stdin",
     "output_type": "stream",
     "text": [
      "enter the num1 40\n",
      "enter the num2 40\n"
     ]
    },
    {
     "data": {
      "text/plain": [
       "60.0"
      ]
     },
     "execution_count": 11,
     "metadata": {},
     "output_type": "execute_result"
    }
   ],
   "source": [
    "# Q5\n",
    "a = int(input(\"enter the num1\"))\n",
    "b = int(input(\"enter the num2\"))\n",
    "avg = a+b/2\n",
    "avg"
   ]
  },
  {
   "cell_type": "code",
   "execution_count": 13,
   "id": "ac826379-6160-4c51-bdb5-cb40dae5866b",
   "metadata": {},
   "outputs": [
    {
     "name": "stdin",
     "output_type": "stream",
     "text": [
      "enter the num 5\n"
     ]
    },
    {
     "data": {
      "text/plain": [
       "25"
      ]
     },
     "execution_count": 13,
     "metadata": {},
     "output_type": "execute_result"
    }
   ],
   "source": [
    "# Q6\n",
    "a = int(input(\"enter the num\"))\n",
    "sq = a*a\n",
    "sq"
   ]
  },
  {
   "cell_type": "code",
   "execution_count": 1,
   "id": "5ac05d60-73a5-4d8d-a3b8-3b43d169af12",
   "metadata": {},
   "outputs": [],
   "source": [
    "                                                      # 19-07-2025\n",
    "# membership op # it gives the output in boolean operation whether true and false\n",
    "# in , not in\n"
   ]
  },
  {
   "cell_type": "code",
   "execution_count": 2,
   "id": "7ae05db9-3aac-4329-85b1-bcd26c7b62d3",
   "metadata": {},
   "outputs": [],
   "source": [
    "# list\n",
    "# individual element comma seperated\n",
    "# hetrogeneous \n",
    "# ordered \n",
    "# mutable\n",
    "a =[\"sql\",7,9.09] # sort of datatype"
   ]
  },
  {
   "cell_type": "code",
   "execution_count": 3,
   "id": "916965f7-b25a-426c-9ab6-0a1cc2379910",
   "metadata": {},
   "outputs": [],
   "source": [
    "a = [1,4,3,6,86,4]"
   ]
  },
  {
   "cell_type": "code",
   "execution_count": 4,
   "id": "5ee5d657-36c4-4000-851c-07f218ef059d",
   "metadata": {},
   "outputs": [
    {
     "data": {
      "text/plain": [
       "True"
      ]
     },
     "execution_count": 4,
     "metadata": {},
     "output_type": "execute_result"
    }
   ],
   "source": [
    "86 in a"
   ]
  },
  {
   "cell_type": "code",
   "execution_count": 5,
   "id": "3b3f56f9-fe58-4d19-b528-09c05206ed01",
   "metadata": {},
   "outputs": [
    {
     "data": {
      "text/plain": [
       "False"
      ]
     },
     "execution_count": 5,
     "metadata": {},
     "output_type": "execute_result"
    }
   ],
   "source": [
    "86 not in a"
   ]
  },
  {
   "cell_type": "code",
   "execution_count": 13,
   "id": "5809c922-9095-4ba8-bad6-53c13710a8a5",
   "metadata": {},
   "outputs": [
    {
     "name": "stdin",
     "output_type": "stream",
     "text": [
      "enter the p value : 78000\n",
      "enter the r value : 10\n",
      "enter the t value : 4\n"
     ]
    },
    {
     "name": "stdout",
     "output_type": "stream",
     "text": [
      "simple interest is : 31200.0\n"
     ]
    }
   ],
   "source": [
    "# simple interest\n",
    "a = int(input(\"enter the p value :\"))\n",
    "b = int(input(\"enter the r value :\"))\n",
    "c = int(input(\"enter the t value :\"))\n",
    "si = (a*b*c)/100\n",
    "print(\"simple interest is :\", si )"
   ]
  },
  {
   "cell_type": "code",
   "execution_count": 14,
   "id": "35b756d1-86e8-4d58-8cdc-649f4b2c2866",
   "metadata": {},
   "outputs": [
    {
     "name": "stdout",
     "output_type": "stream",
     "text": [
      "False\n",
      "True\n"
     ]
    }
   ],
   "source": [
    "# identity op (boolean output)\n",
    "a = 4\n",
    "b = 9\n",
    "print(a is b)\n",
    "print(a is not b)"
   ]
  },
  {
   "cell_type": "code",
   "execution_count": 3,
   "id": "a7db34b4-438e-4463-9baa-d758782c1b89",
   "metadata": {},
   "outputs": [
    {
     "name": "stdin",
     "output_type": "stream",
     "text": [
      "enter the number 89\n",
      "enter the number 76\n",
      "enter the number 9\n"
     ]
    },
    {
     "name": "stdout",
     "output_type": "stream",
     "text": [
      "maximum number is : 89\n",
      "menimum number is : 9\n"
     ]
    }
   ],
   "source": [
    "                                                    # 21-07-2025\n",
    "# write the program to print max and min number by taking user input\n",
    "a = int(input(\"enter the number\"))\n",
    "b = int(input(\"enter the number\"))\n",
    "c = int(input(\"enter the number\"))\n",
    "d = max(a,b,c)\n",
    "e = min(a,b,c)\n",
    "print(\"maximum number is :\" ,d)\n",
    "print(\"menimum number is :\" ,e)"
   ]
  },
  {
   "cell_type": "code",
   "execution_count": 5,
   "id": "deaf8bf4-70a4-4180-94e8-3546ba9a7e66",
   "metadata": {},
   "outputs": [
    {
     "name": "stdin",
     "output_type": "stream",
     "text": [
      "entre the number -7\n"
     ]
    },
    {
     "name": "stdout",
     "output_type": "stream",
     "text": [
      "your given number is negative\n"
     ]
    }
   ],
   "source": [
    "# conditional statement\n",
    "a = int(input(\"entre the number\"))\n",
    "if a > 0:\n",
    "    print(\"your given number is positive\")\n",
    "elif a < 0:\n",
    "    print(\"your given number is negative\")\n",
    "else:\n",
    "    print(\"your given number is Zero\")"
   ]
  },
  {
   "cell_type": "code",
   "execution_count": 7,
   "id": "f7b662a9-4fbd-49e6-b002-98e814ad5ed0",
   "metadata": {},
   "outputs": [
    {
     "name": "stdin",
     "output_type": "stream",
     "text": [
      "enter the num 3\n"
     ]
    },
    {
     "name": "stdout",
     "output_type": "stream",
     "text": [
      "odd\n"
     ]
    }
   ],
   "source": [
    "a = int(input(\"enter the num\"))\n",
    "if a%2 == 0:\n",
    "    print(\"even\")\n",
    "else:\n",
    "     print(\"odd\")\n"
   ]
  },
  {
   "cell_type": "code",
   "execution_count": 14,
   "id": "b2b6d4ef-03e4-42ae-850a-5a5cee1b4aff",
   "metadata": {},
   "outputs": [
    {
     "name": "stdin",
     "output_type": "stream",
     "text": [
      "enter the number 75\n"
     ]
    },
    {
     "name": "stdout",
     "output_type": "stream",
     "text": [
      "B grade\n"
     ]
    }
   ],
   "source": [
    "a = int(input(\"enter the number\"))\n",
    "if a >=90:\n",
    "    print(\"A grade\")\n",
    "elif a>=70:\n",
    "     print(\"B grade\")\n",
    "elif a>=60:\n",
    "    print(\"C grade\")\n",
    "elif a>=50:\n",
    "    print(\"D grade\")    \n",
    "else:\n",
    "     print(\"E grade\")"
   ]
  },
  {
   "cell_type": "code",
   "execution_count": 2,
   "id": "a3d21317-e678-47ee-92a7-6573eec04631",
   "metadata": {},
   "outputs": [
    {
     "name": "stdin",
     "output_type": "stream",
     "text": [
      "enter the number 23\n",
      "enter the number 4\n",
      "enter the number 5\n"
     ]
    },
    {
     "name": "stdout",
     "output_type": "stream",
     "text": [
      "23  is greater than 4  and  5\n"
     ]
    }
   ],
   "source": [
    "                                           # 22-07-2025\n",
    "#write a program to find largest num amoung three num\n",
    "a = int(input(\"enter the number\"))\n",
    "b = int(input(\"enter the number\"))\n",
    "c = int(input(\"enter the number\"))\n",
    "\n",
    "if a > b and a > c:\n",
    "    print(a,\" is greater than\",b,\" and \",c)\n",
    "elif b > a and b > c:     \n",
    "    print(b,\" is greater than\",a,\" and \",c)\n",
    "else:\n",
    "    print(c,\" is greater than\",a,\" and \",b)"
   ]
  },
  {
   "cell_type": "code",
   "execution_count": 8,
   "id": "4546a4ef-2a0f-4cd5-a7db-00efc45d7179",
   "metadata": {},
   "outputs": [
    {
     "name": "stdin",
     "output_type": "stream",
     "text": [
      "enter the number 23\n",
      "enter the number 4\n",
      "enter the number 5\n"
     ]
    },
    {
     "name": "stdout",
     "output_type": "stream",
     "text": [
      "c is greater\n"
     ]
    }
   ],
   "source": [
    "a = int(input(\"enter the number\"))\n",
    "b = int(input(\"enter the number\"))\n",
    "c = int(input(\"enter the number\"))\n",
    "if a > b > c:\n",
    "     print(\"a is greater\")\n",
    "elif b > a > c:\n",
    "    print(\"b is greater\")\n",
    "else:  \n",
    "    print(\"c is greater\")"
   ]
  },
  {
   "cell_type": "code",
   "execution_count": 17,
   "id": "53e558fb-06d6-4166-8283-d4a3a61465e5",
   "metadata": {},
   "outputs": [
    {
     "name": "stdin",
     "output_type": "stream",
     "text": [
      "enter your amount 4677\n",
      "enter amount to withdraw 677\n"
     ]
    },
    {
     "name": "stdout",
     "output_type": "stream",
     "text": [
      "sufficient amount\n",
      "the remaining amount is 4000.0 after withdraw\n"
     ]
    }
   ],
   "source": [
    "# write a program to fund withdrawl and to show case available fund\n",
    "\n",
    "a = float(input(\"enter your amount\"))\n",
    "b = float(input(\"enter amount to withdraw\"))\n",
    "\n",
    "if b <= a:\n",
    "    print(\"sufficient amount\")\n",
    "    r = a-b\n",
    "    print(\"the remaining amount is\", r , \"after withdraw\")\n",
    "else:\n",
    "    print(\"insufficient fund\")"
   ]
  },
  {
   "cell_type": "code",
   "execution_count": null,
   "id": "033bf1cf-74f9-4155-8a5e-1add7b411bbf",
   "metadata": {},
   "outputs": [],
   "source": [
    "                                      # 24-07-2025"
   ]
  },
  {
   "cell_type": "code",
   "execution_count": 1,
   "id": "8d98860a-1924-4e75-b510-536ab7cd8816",
   "metadata": {},
   "outputs": [],
   "source": [
    "# indexing and slicing\n",
    "a = [1,6,9,3,5,85,4,3]"
   ]
  },
  {
   "cell_type": "code",
   "execution_count": 2,
   "id": "e529bc8f-1a5b-4652-a807-1aa69b269d5a",
   "metadata": {},
   "outputs": [
    {
     "data": {
      "text/plain": [
       "85"
      ]
     },
     "execution_count": 2,
     "metadata": {},
     "output_type": "execute_result"
    }
   ],
   "source": [
    "a[5]"
   ]
  },
  {
   "cell_type": "code",
   "execution_count": 3,
   "id": "79d1ce99-8981-4f7f-9a54-1321ec6bb501",
   "metadata": {},
   "outputs": [
    {
     "name": "stdout",
     "output_type": "stream",
     "text": [
      "[1, 6, 9, 3, 5, 85, 120, 3]\n"
     ]
    }
   ],
   "source": [
    "a[6] = 120\n",
    "print(a)"
   ]
  },
  {
   "cell_type": "code",
   "execution_count": 4,
   "id": "4f6e34d7-b3f1-44e6-99cf-c050946a515f",
   "metadata": {},
   "outputs": [
    {
     "data": {
      "text/plain": [
       "120"
      ]
     },
     "execution_count": 4,
     "metadata": {},
     "output_type": "execute_result"
    }
   ],
   "source": [
    "a[-2]"
   ]
  },
  {
   "cell_type": "code",
   "execution_count": 5,
   "id": "1942585d-994d-4b1d-b276-c3fa479becfd",
   "metadata": {},
   "outputs": [],
   "source": [
    "# list of list\n",
    "a = [12,45,56,[6,89,['a','b'],[9,7,21,454]]]"
   ]
  },
  {
   "cell_type": "code",
   "execution_count": 8,
   "id": "426cc803-c6da-486c-8964-efafd56759e3",
   "metadata": {},
   "outputs": [
    {
     "name": "stdout",
     "output_type": "stream",
     "text": [
      "454\n"
     ]
    }
   ],
   "source": [
    "print(a[3][3][3])"
   ]
  },
  {
   "cell_type": "code",
   "execution_count": 10,
   "id": "3285dfdd-b71c-4d4b-b1a3-3e1eb3317d29",
   "metadata": {},
   "outputs": [
    {
     "name": "stdout",
     "output_type": "stream",
     "text": [
      "b\n"
     ]
    }
   ],
   "source": [
    "print(a[3][2][1])"
   ]
  },
  {
   "cell_type": "code",
   "execution_count": 12,
   "id": "7a06b3da-27e1-4b37-b2ed-0f861428acc2",
   "metadata": {},
   "outputs": [],
   "source": [
    "a = [10,20,30,[40,50,60,[70,80,90],120,[\"a\",\"b\",\"c\"],900]]"
   ]
  },
  {
   "cell_type": "code",
   "execution_count": 14,
   "id": "b6e48552-46f4-4164-90d8-a25def0c602d",
   "metadata": {},
   "outputs": [
    {
     "data": {
      "text/plain": [
       "900"
      ]
     },
     "execution_count": 14,
     "metadata": {},
     "output_type": "execute_result"
    }
   ],
   "source": [
    "a[3][6]"
   ]
  },
  {
   "cell_type": "code",
   "execution_count": null,
   "id": "1f2d7883-ba02-4c29-b592-f5f6bc353915",
   "metadata": {},
   "outputs": [],
   "source": [
    "                                          #  25-07-25\n",
    "# slicing (subset of the list)\n",
    "# starting position # ending position # stepsize\n"
   ]
  },
  {
   "cell_type": "code",
   "execution_count": 1,
   "id": "4c9ccfa1-3263-467d-922a-fd88eece21ff",
   "metadata": {},
   "outputs": [],
   "source": [
    "a = [1,2,3,4,5,6,7,8,9,10,11,12]"
   ]
  },
  {
   "cell_type": "code",
   "execution_count": 2,
   "id": "90b50a42-bf36-4468-a91c-b1170f58b5bd",
   "metadata": {},
   "outputs": [
    {
     "name": "stdout",
     "output_type": "stream",
     "text": [
      "[1, 2, 3, 4, 5, 6]\n"
     ]
    }
   ],
   "source": [
    "print(a[0:6])  #starting = include , ending = not include"
   ]
  },
  {
   "cell_type": "code",
   "execution_count": 3,
   "id": "823395ce-8691-4cdc-b0f1-fbf66f8112c6",
   "metadata": {},
   "outputs": [
    {
     "name": "stdout",
     "output_type": "stream",
     "text": [
      "[1, 2, 3, 4, 5, 6, 7, 8, 9, 10, 11, 12]\n"
     ]
    }
   ],
   "source": [
    "print(a[0:]) "
   ]
  },
  {
   "cell_type": "code",
   "execution_count": 4,
   "id": "8610cd5e-51ec-40f6-b6f0-b3eab9f348b7",
   "metadata": {},
   "outputs": [
    {
     "name": "stdout",
     "output_type": "stream",
     "text": [
      "[1, 2, 3, 4, 5, 6, 7, 8, 9, 10, 11, 12]\n"
     ]
    }
   ],
   "source": [
    "print(a[0:16])"
   ]
  },
  {
   "cell_type": "code",
   "execution_count": 5,
   "id": "5f042bcf-1c03-4031-968a-6b7d4783324d",
   "metadata": {},
   "outputs": [
    {
     "name": "stdout",
     "output_type": "stream",
     "text": [
      "[1, 2, 3, 4, 5, 6]\n"
     ]
    }
   ],
   "source": [
    "print(a[:6]) "
   ]
  },
  {
   "cell_type": "code",
   "execution_count": 9,
   "id": "215e0545-405d-496a-9698-82a446fc3360",
   "metadata": {},
   "outputs": [
    {
     "name": "stdout",
     "output_type": "stream",
     "text": [
      "[5, 6]\n"
     ]
    }
   ],
   "source": [
    "print(a[4:6]) # fetch subset"
   ]
  },
  {
   "cell_type": "code",
   "execution_count": 6,
   "id": "73d2d6a6-6512-4ba6-afa1-15aabe80fa40",
   "metadata": {},
   "outputs": [
    {
     "name": "stdout",
     "output_type": "stream",
     "text": [
      "[1, 2, 3, 4, 5, 6, 7, 8, 9, 10, 11, 12]\n"
     ]
    }
   ],
   "source": [
    "print(a[:])"
   ]
  },
  {
   "cell_type": "code",
   "execution_count": 7,
   "id": "4ebede8b-0e9a-4b12-a69e-eb1bca72d066",
   "metadata": {},
   "outputs": [
    {
     "name": "stdout",
     "output_type": "stream",
     "text": [
      "[]\n"
     ]
    }
   ],
   "source": [
    "print(a[17:6])"
   ]
  },
  {
   "cell_type": "code",
   "execution_count": 13,
   "id": "1417bd78-bd1d-4a9e-87a4-f838f98fd762",
   "metadata": {},
   "outputs": [
    {
     "name": "stdout",
     "output_type": "stream",
     "text": [
      "[1, 2, 3, 4, 5]\n",
      "2\n"
     ]
    }
   ],
   "source": [
    "print(a[0:5])      # subset of a list , type = list\n",
    "print(a[0:5][1])   # individual element , type = int,str,float"
   ]
  },
  {
   "cell_type": "code",
   "execution_count": 14,
   "id": "143c1f9f-c097-4f40-819e-31666aaa4c45",
   "metadata": {},
   "outputs": [
    {
     "name": "stdout",
     "output_type": "stream",
     "text": [
      "[1, 3, 5, 7]\n"
     ]
    }
   ],
   "source": [
    "print(a[0:8:2]) "
   ]
  },
  {
   "cell_type": "code",
   "execution_count": 17,
   "id": "8c8440ac-6fbe-4e62-b0f5-5d851564f9a9",
   "metadata": {},
   "outputs": [
    {
     "name": "stdout",
     "output_type": "stream",
     "text": [
      "[1, 2, 3, 4, 5, 6, 7, 8, 9, 10, 11, 12]\n"
     ]
    }
   ],
   "source": [
    "print(a[::])"
   ]
  },
  {
   "cell_type": "code",
   "execution_count": 18,
   "id": "c8710a20-2046-499f-98b2-2bc9d344c307",
   "metadata": {},
   "outputs": [
    {
     "name": "stdout",
     "output_type": "stream",
     "text": [
      "[1, 3, 5, 7, 9, 11]\n"
     ]
    }
   ],
   "source": [
    "print(a[::2])"
   ]
  },
  {
   "cell_type": "code",
   "execution_count": 20,
   "id": "92eddb05-922d-4ee5-bfb4-a7e786eb6a42",
   "metadata": {},
   "outputs": [
    {
     "name": "stdout",
     "output_type": "stream",
     "text": [
      "[1, 3]\n"
     ]
    }
   ],
   "source": [
    "print(a[:4:2])"
   ]
  },
  {
   "cell_type": "code",
   "execution_count": 27,
   "id": "10bea3cf-279e-4aea-937f-8f5f9e544975",
   "metadata": {},
   "outputs": [
    {
     "name": "stdout",
     "output_type": "stream",
     "text": [
      "[]\n"
     ]
    }
   ],
   "source": [
    "print(a[-1:-4])   # the stepsize is default +1 and also represent the direction\n",
    "                  # and we are asking for negative direction and by default the direction\n",
    "                    #  is positive so because of this the list is empty'''"
   ]
  },
  {
   "cell_type": "code",
   "execution_count": 24,
   "id": "0f42122e-a790-4701-8f53-bd2742681cce",
   "metadata": {},
   "outputs": [
    {
     "name": "stdout",
     "output_type": "stream",
     "text": [
      "[12, 11, 10]\n"
     ]
    }
   ],
   "source": [
    "print(a[-1:-4:-1]) # this is correct way to do"
   ]
  },
  {
   "cell_type": "code",
   "execution_count": 30,
   "id": "532c86c4-df84-4f9b-af6f-b402fe7ccfc5",
   "metadata": {},
   "outputs": [
    {
     "name": "stdout",
     "output_type": "stream",
     "text": [
      "[12, 11, 10, 9, 8, 7, 6]\n"
     ]
    }
   ],
   "source": [
    "                                   # 26-07-25\n",
    "print(a[-1:4:-1]) "
   ]
  },
  {
   "cell_type": "code",
   "execution_count": 34,
   "id": "bdbc1995-275a-427c-9294-f9c4300da86e",
   "metadata": {},
   "outputs": [],
   "source": [
    "a = [10,20,30,40,50,\"aryan\"]"
   ]
  },
  {
   "cell_type": "code",
   "execution_count": 35,
   "id": "79ade534-6bbc-414f-9d4c-37ec161635af",
   "metadata": {},
   "outputs": [
    {
     "name": "stdout",
     "output_type": "stream",
     "text": [
      "[]\n"
     ]
    }
   ],
   "source": [
    "print(a[4:1])         #coninsight"
   ]
  },
  {
   "cell_type": "code",
   "execution_count": 37,
   "id": "796b19d7-43f8-4091-b776-b3ea1984c7ff",
   "metadata": {},
   "outputs": [
    {
     "name": "stdout",
     "output_type": "stream",
     "text": [
      "[50, 40, 30]\n"
     ]
    }
   ],
   "source": [
    "print(a[4:1:-1])       #resolve"
   ]
  },
  {
   "cell_type": "code",
   "execution_count": 38,
   "id": "c00aef7a-5590-42fe-a9fa-63283c974daf",
   "metadata": {},
   "outputs": [
    {
     "name": "stdin",
     "output_type": "stream",
     "text": [
      "enter the number 4\n"
     ]
    },
    {
     "name": "stdout",
     "output_type": "stream",
     "text": [
      "number is positive\n",
      "number is even\n"
     ]
    }
   ],
   "source": [
    "# nested if \n",
    "# write a python program to check if a number is positive negative or zero is it is positive also check if it is even or odd.\n",
    "\n",
    "a = int(input(\"enter the number\"))\n",
    "if a >= 0:\n",
    "    print(\"number is positive\")\n",
    "    if a%2==0:\n",
    "        print(\"number is even\")\n",
    "    else:\n",
    "        print(\"number is odd\")\n",
    "elif a < 0:\n",
    "    print(\"negative num\")\n",
    "else:\n",
    "      print(\"zero number\")"
   ]
  },
  {
   "cell_type": "code",
   "execution_count": 9,
   "id": "9970d529-426e-4716-aaf0-e5093ad7e61b",
   "metadata": {},
   "outputs": [
    {
     "name": "stdin",
     "output_type": "stream",
     "text": [
      "enter your age 34\n"
     ]
    },
    {
     "name": "stdout",
     "output_type": "stream",
     "text": [
      "adult\n"
     ]
    }
   ],
   "source": [
    "# write a python program to take input age and print status if adult and also check for senior\n",
    "\n",
    "age = int(input(\"enter your age\"))\n",
    "if age > 18:\n",
    "    print(\"adult\")\n",
    "    if age > 65:\n",
    "      print(\"you are senior\")  \n",
    "elif age < 18:\n",
    "     print(\"teen\")\n",
    "    "
   ]
  },
  {
   "cell_type": "code",
   "execution_count": 1,
   "id": "913d7c8b-6876-409d-b460-278f145f390c",
   "metadata": {},
   "outputs": [
    {
     "name": "stdin",
     "output_type": "stream",
     "text": [
      "enter the number 45\n",
      "enter the number 45\n",
      "enter the number 9\n"
     ]
    },
    {
     "name": "stdout",
     "output_type": "stream",
     "text": [
      "A is greater\n",
      "a is tie to another number...\n"
     ]
    }
   ],
   "source": [
    "# write a program check which of three number is largest if ties special msg \n",
    "\n",
    "a = int(input(\"enter the number\"))\n",
    "b = int(input(\"enter the number\"))\n",
    "c = int(input(\"enter the number\"))\n",
    "\n",
    "if a > b or a > c:\n",
    "    print(\"A is greater\")\n",
    "    if a == b or a == c:\n",
    "        print(\"a is tie to another number...\")\n",
    "elif b > a or b > c:     \n",
    "    print(\"B is greater\")\n",
    "    if b == a or b == c:\n",
    "        print(\"b is tie to another number...\")\n",
    "elif c > a or c > b:     \n",
    "    print(\"c is greater\")\n",
    "    if c == a or c == b:\n",
    "        print(\"c is tie to another number...\")\n",
    "else:\n",
    "    print(\"invalid input....... \")"
   ]
  },
  {
   "cell_type": "code",
   "execution_count": 10,
   "id": "2cade94d-972c-4198-984f-e73ac2b02547",
   "metadata": {},
   "outputs": [
    {
     "name": "stdin",
     "output_type": "stream",
     "text": [
      "enter the temperature 58\n"
     ]
    },
    {
     "name": "stdout",
     "output_type": "stream",
     "text": [
      "it's hot\n",
      "it's really too hot\n"
     ]
    }
   ],
   "source": [
    "# write a program to take input as a temperature and clasify the condition hot , colt or pleasant and very cold\n",
    "\n",
    "temp = int(input(\"enter the temperature\"))\n",
    "if temp >= 50:\n",
    "    print(\"it's hot\")\n",
    "    if temp >= 55:\n",
    "        print(\"it's really too hot\")\n",
    "elif temp <= 0:\n",
    "    print(\"it's cold\")\n",
    "    if temp <= -15:\n",
    "        print(\"it's too cold\")\n",
    "elif temp >= 20 and temp <= 30:\n",
    "    print(\"it is pleasant today\")\n",
    "else: \n",
    "    print(\"invalid input\")"
   ]
  },
  {
   "cell_type": "code",
   "execution_count": 12,
   "id": "fb1982f2-ee19-4388-9f8e-98e131135a0a",
   "metadata": {},
   "outputs": [
    {
     "name": "stdin",
     "output_type": "stream",
     "text": [
      "enter the year 1800\n"
     ]
    },
    {
     "name": "stdout",
     "output_type": "stream",
     "text": [
      "Not a leap year\n"
     ]
    }
   ],
   "source": [
    "# write a program to check wheater the year is leap year or not\n",
    "\n",
    "year = int(input(\"enter the year\"))\n",
    "if year % 100 == 0:\n",
    "    if year % 400 == 0:\n",
    "        print(\"it is a leap year\")\n",
    "    else:\n",
    "        print(\"Not a leap year\") \n",
    "elif year % 4 == 0:\n",
    "    print(\"you have enterd a leap year\")\n",
    "else:\n",
    "    print(\"not a leap year\")\n",
    "\n",
    "\n",
    "#                                            or\n",
    "\n",
    "# year = int(input(\"enter the year\"))\n",
    "# if year % 4 == 0:\n",
    "#     print(\"you have enterd a leap year\")\n",
    "# else:\n",
    "#     print(\"not a leap year\")\n",
    "   "
   ]
  },
  {
   "cell_type": "code",
   "execution_count": 14,
   "id": "f9552359-f446-47c7-86fa-67c1ebf89e57",
   "metadata": {},
   "outputs": [
    {
     "name": "stdin",
     "output_type": "stream",
     "text": [
      "enter a three digit number 126\n"
     ]
    },
    {
     "name": "stdout",
     "output_type": "stream",
     "text": [
      "number is divisible by both 3 and 7\n"
     ]
    }
   ],
   "source": [
    "# write a program to check if three digit number is divisible by both three and seven\n",
    "# ex 126 , 147 , 168 , 189\n",
    "\n",
    "num = int(input(\"enter a three digit number\"))\n",
    "if num > 99 and num < 1000:\n",
    "    if num % 3 == 0 and num % 7 == 0:\n",
    "        print(\"number is divisible by both 3 and 7\")\n",
    "    else:\n",
    "        print(\"not divisible by 3 and 7\")\n",
    "else:\n",
    "    print(\"enter a valid three digit number\")"
   ]
  },
  {
   "cell_type": "code",
   "execution_count": 26,
   "id": "6f78fb2a-7cd0-4055-9234-853c5d19f314",
   "metadata": {},
   "outputs": [
    {
     "name": "stdin",
     "output_type": "stream",
     "text": [
      "enter your name or a string value amit\n"
     ]
    },
    {
     "name": "stdout",
     "output_type": "stream",
     "text": [
      "your name start with a vovel alphabet\n"
     ]
    }
   ],
   "source": [
    "# write a program to check a name that is started with vovels or consonant\n",
    "\n",
    "a = input(\"enter your name or a string value\")\n",
    "if a[0] in (\"a\",\"e\",\"i\",\"o\",\"u\"):\n",
    "    print(\"your name start with a vovel alphabet\")\n",
    "else:\n",
    "    print(\"your name start with consonant\")\n"
   ]
  },
  {
   "cell_type": "code",
   "execution_count": 32,
   "id": "2885f34c-12d9-4bfa-9eef-dcaef1a17538",
   "metadata": {},
   "outputs": [
    {
     "name": "stdin",
     "output_type": "stream",
     "text": [
      "enter a string name eve\n"
     ]
    },
    {
     "name": "stdout",
     "output_type": "stream",
     "text": [
      "it is a palindrome name\n"
     ]
    }
   ],
   "source": [
    "# write a python program to check if a string is palindrome or not\n",
    "# ex - Hannah - Ada - Otto - Eve - Bob - Nitin\n",
    "\n",
    "\n",
    "a = input(\"enter a string name\")\n",
    "if a[:] == a[::-1]:\n",
    "    print(\"it is a palindrome name\")\n",
    "else:\n",
    "    print(\"not a palindrome name\")"
   ]
  },
  {
   "cell_type": "code",
   "execution_count": null,
   "id": "f21c3b6b-40ee-4b88-9cc5-f04a9c69f516",
   "metadata": {},
   "outputs": [],
   "source": [
    " # 29-07-2025  ------------------  no class"
   ]
  },
  {
   "cell_type": "code",
   "execution_count": 19,
   "id": "17b81c81-8445-464f-bf47-2e9add8835ab",
   "metadata": {},
   "outputs": [
    {
     "name": "stdin",
     "output_type": "stream",
     "text": [
      "enter the number -144\n"
     ]
    },
    {
     "name": "stdout",
     "output_type": "stream",
     "text": [
      "Number is negative and divisible by 3 , 9 , 16 ,18\n"
     ]
    }
   ],
   "source": [
    "# Write a Python program that classifies a number based on its value and properties.\n",
    "# 🧩 Requirements:\n",
    "# - Input: num (an integer)\n",
    "# - Logic:\n",
    "# - If num is positive:\n",
    "# - If num is even → Output: \"Positive and even\"\n",
    "# - Else → Output: \"Positive and odd\"\n",
    "# - Else if num is negative:\n",
    "# - If num is divisible by 3 → Output: \"Negative and divisible by 3\"\n",
    "# - Else → Output: \"Negative and not divisible by 3\"\n",
    "# - Else → Output: \"Zero\"\n",
    "\n",
    "a = int(input(\"enter the number\"))\n",
    "if a >= 0:\n",
    "    if a % 2 == 0:\n",
    "        print(\"Number is positive and even\")\n",
    "    else:\n",
    "        print(\"number is positive and odd\")\n",
    "elif a < 0 :\n",
    "    if a % 3 == 0:\n",
    "        if a % 9 == 0:\n",
    "            if a % 16 == 0:\n",
    "                if a % 18 == 0:\n",
    "                    print(\"Number is negative and divisible by 3 , 9 , 16 ,18\")\n",
    "                else:\n",
    "                    print(\"Number is negative but not divisible by 3\")    \n",
    "else:\n",
    "    print(\"Zero\")\n",
    "        \n",
    "\n"
   ]
  },
  {
   "cell_type": "code",
   "execution_count": null,
   "id": "dbcf1e82-938f-44ba-a534-4a781e6c6981",
   "metadata": {},
   "outputs": [],
   "source": []
  },
  {
   "cell_type": "code",
   "execution_count": 13,
   "id": "afdfbfd1-e554-419e-b50c-10dbbf2b3c70",
   "metadata": {},
   "outputs": [
    {
     "name": "stdin",
     "output_type": "stream",
     "text": [
      "enter your vehical type Car, Truck, bike car\n",
      "enter the weight of your car 2001\n"
     ]
    },
    {
     "name": "stdout",
     "output_type": "stream",
     "text": [
      "you have to pay 100 ruppe \n"
     ]
    }
   ],
   "source": [
    "                                           # 29-07-2025\n",
    "# - Q4: Build a toll calculator:\n",
    "# - Ask for vehicle type (Car, Truck, Bike)\n",
    "# - If Car, check if it’s peak hours\n",
    "# - If Truck, check number of axles\n",
    "# - If Bike, apply flat rat\n",
    "\n",
    "vehical = input(\"enter your vehical type Car, Truck, bike\")\n",
    "if vehical == \"car\":\n",
    "    weight = float(input(\"enter the weight of your car\"))\n",
    "    if weight >= 800:\n",
    "         print(\"you have to pay 100 ruppe \")\n",
    "    elif weight >= 2000:    \n",
    "         print(\"Your car is overweight\")\n",
    "    else:\n",
    "        print(\"you have to pay 50 ruppe\")\n",
    "elif vehical == \"Truck\":\n",
    "    weight = float(input(\"enter the weight of your truck\"))\n",
    "    if weight >= 10000:\n",
    "        \n",
    "        print(\"you have to pay 2000 rupee\")\n",
    "    else:\n",
    "        print(\"you have to pay 1000 rupee\")\n",
    "elif vehical == \"bike\":\n",
    "    weight = float(input(\"enter the weight of your truck\"))\n",
    "    if weight >= 180:\n",
    "        \n",
    "        print(\"you have to pay 30 rupee\")\n",
    "    else:\n",
    "        print(\"you have to pay 10 rupee\")      \n",
    "else:\n",
    "    print(\"invalid input\")\n",
    "        \n",
    "\n"
   ]
  },
  {
   "cell_type": "code",
   "execution_count": 7,
   "id": "775f5c4f-4aea-4f2e-ad58-c411537d636f",
   "metadata": {},
   "outputs": [
    {
     "name": "stdin",
     "output_type": "stream",
     "text": [
      "enter your status single , married , head of household single\n",
      "enter your annual income 600000\n"
     ]
    },
    {
     "name": "stdout",
     "output_type": "stream",
     "text": [
      "you have to pay 20% of tax that is = 120000.0\n"
     ]
    }
   ],
   "source": [
    "# - Tax calculator:\n",
    "# - Ask filing status (Single, Married, Head of Household)\n",
    "# - Ask income\n",
    "# - Single pays 10% if income < ₹500,000, else 20%\n",
    "# - Married pays 5% if income < ₹800,000, else 15%\n",
    "# - Head of Household pays 7% if income < ₹700,000, else 17%\n",
    "\n",
    "status = input(\"enter your status single , married , head of household\" )\n",
    "if status == \"single\":\n",
    "    income = float(input(\"enter your annual income\"))\n",
    "    if income <= 500000:\n",
    "        print(\"you have to pay 10% of tax that is =\",income*0.10)\n",
    "    else:\n",
    "        print(\"you have to pay 20% of tax that is =\",income*0.20)\n",
    "elif status == \"married\":\n",
    "    income = float(input(\"enter your annual income\"))\n",
    "    if income <= 800000:\n",
    "        print(\"you have to pay 5% of tax that is =\",income*0.05)\n",
    "    else:\n",
    "        print(\"you have to pay 15% of tax that is =\",income*0.15)\n",
    "elif status == \"head\":\n",
    "    income = float(input(\"enter your annual income\"))\n",
    "    if income <= 700000:\n",
    "        print(\"you have to pay 7% of tax that is =\",income*0.07)\n",
    "    else:\n",
    "        print(\"you have to pay 17% of tax that is =\",income*0.17)        \n",
    "\n",
    "            \n"
   ]
  },
  {
   "cell_type": "code",
   "execution_count": 37,
   "id": "dc659e39-3bb0-4e71-a6ae-f8acb8bf443e",
   "metadata": {},
   "outputs": [],
   "source": [
    "                                                    # 30-07-2025"
   ]
  },
  {
   "cell_type": "code",
   "execution_count": 38,
   "id": "bfea842b-6d33-48a4-867f-b07233d0c2e8",
   "metadata": {},
   "outputs": [],
   "source": [
    "mylist = [1,2,3,4,5,6,7,8,9,10,11,12,13,14,15]"
   ]
  },
  {
   "cell_type": "code",
   "execution_count": 13,
   "id": "76242c9c-946b-4e65-a4b9-9d76b4484a29",
   "metadata": {},
   "outputs": [
    {
     "name": "stdout",
     "output_type": "stream",
     "text": [
      "1\n"
     ]
    }
   ],
   "source": [
    "# how do you access the first element of a list called myList\n",
    "\n",
    "print(mylist[0])"
   ]
  },
  {
   "cell_type": "code",
   "execution_count": 15,
   "id": "3bd8abe1-77e2-4b15-a6bc-cd912ee8571f",
   "metadata": {},
   "outputs": [
    {
     "name": "stdout",
     "output_type": "stream",
     "text": [
      "15\n"
     ]
    }
   ],
   "source": [
    "# what does mylist[-1] retrive from mylist 1 to 15\n",
    "\n",
    "''' ans = it will retrive 15 '''\n",
    "print(mylist[-1])"
   ]
  },
  {
   "cell_type": "code",
   "execution_count": 16,
   "id": "47cf344c-71c3-48b8-a4f1-4d7330c59a58",
   "metadata": {},
   "outputs": [
    {
     "name": "stdout",
     "output_type": "stream",
     "text": [
      "[2, 3, 4]\n"
     ]
    }
   ],
   "source": [
    "# write a slice expression to get the element 2,3,4 from my list\n",
    "\n",
    "print(mylist[1:4])"
   ]
  },
  {
   "cell_type": "code",
   "execution_count": 17,
   "id": "ee369c13-7746-42be-926b-05a37bad4351",
   "metadata": {},
   "outputs": [
    {
     "name": "stdout",
     "output_type": "stream",
     "text": [
      "15\n"
     ]
    }
   ],
   "source": [
    "# how do you accesss the last element of the list\n",
    "\n",
    "print(mylist[-1])"
   ]
  },
  {
   "cell_type": "code",
   "execution_count": 18,
   "id": "f6828f6f-90d5-4799-8ff0-f6d5ac09e35b",
   "metadata": {},
   "outputs": [
    {
     "data": {
      "text/plain": [
       "[2, 3, 4]"
      ]
     },
     "execution_count": 18,
     "metadata": {},
     "output_type": "execute_result"
    }
   ],
   "source": [
    "# what is the result of my list[1:4]\n",
    "\n",
    "mylist[1:4]"
   ]
  },
  {
   "cell_type": "code",
   "execution_count": 19,
   "id": "f1fdd2e1-90d5-4eda-89f7-71580706af5b",
   "metadata": {},
   "outputs": [
    {
     "name": "stdout",
     "output_type": "stream",
     "text": [
      "10\n"
     ]
    }
   ],
   "source": [
    "# describe what negative indexing means and give example\n",
    "\n",
    "''' ans = Negative indexing means the reverse order of given elements\n",
    "          it shows the reverse or negative direction of the list '''\n",
    "print(mylist[-6])"
   ]
  },
  {
   "cell_type": "code",
   "execution_count": 20,
   "id": "63bf4dd2-c0ab-42cd-93c6-54c2432dc51f",
   "metadata": {},
   "outputs": [
    {
     "name": "stdout",
     "output_type": "stream",
     "text": [
      "[1, 3, 5, 7, 9, 11, 13, 15]\n"
     ]
    }
   ],
   "source": [
    "# how do you retrive every second element from the list using  slicing\n",
    "\n",
    "print(mylist[::2])"
   ]
  },
  {
   "cell_type": "code",
   "execution_count": 21,
   "id": "a3a864ba-f221-438d-b296-6a5d992515d7",
   "metadata": {},
   "outputs": [
    {
     "name": "stdout",
     "output_type": "stream",
     "text": [
      "[1, 2, 3]\n",
      "[4, 5, 6, 7, 8, 9, 10, 11, 12, 13, 14, 15]\n",
      "[2, 3]\n",
      "[]\n",
      "[13, 14]\n"
     ]
    }
   ],
   "source": [
    "# what does mylist [:3] and [3:] and [1:3] and [-1:-3] and [-3:-1] represent\n",
    "\n",
    "print(mylist[:3])\n",
    "print(mylist[3:])\n",
    "print(mylist[1:3])\n",
    "print(mylist[-1:-3])\n",
    "print(mylist[-3:-1])"
   ]
  },
  {
   "cell_type": "code",
   "execution_count": 22,
   "id": "bca8aa32-30cf-4da8-ad2a-311c880929d8",
   "metadata": {},
   "outputs": [
    {
     "name": "stdout",
     "output_type": "stream",
     "text": [
      "[2, 3, 4, 5, 6, 7, 8, 9, 10, 11, 12, 13, 14]\n"
     ]
    }
   ],
   "source": [
    "# write a slice to return all element accept the first and last element of the list\n",
    "\n",
    "print(mylist[1:-1])"
   ]
  },
  {
   "cell_type": "code",
   "execution_count": 23,
   "id": "4e4316b9-7ebd-4665-a5a6-0aadf233167b",
   "metadata": {},
   "outputs": [
    {
     "name": "stdout",
     "output_type": "stream",
     "text": [
      "[]\n"
     ]
    }
   ],
   "source": [
    "# what happens if a slice start index is greater than the stop index\n",
    "\n",
    "''' ans = if the starting index is greater than the last index it will try to fecth the element from the wrong direction\n",
    "          because the default stepsize of slicing is +1 and thats why it will throw the emty list '''\n",
    "print(mylist[6:3])"
   ]
  },
  {
   "cell_type": "code",
   "execution_count": 2,
   "id": "a60e0e20-ec37-4260-8daa-303e1a25ee4c",
   "metadata": {},
   "outputs": [
    {
     "name": "stdin",
     "output_type": "stream",
     "text": [
      "enter the name Apple\n"
     ]
    },
    {
     "name": "stdout",
     "output_type": "stream",
     "text": [
      "your name start with vovel alphabet\n",
      "your name start with 'a' alphabet\n"
     ]
    }
   ],
   "source": [
    "# write a program to ftech the string start with \"a\" then give the output as string started with \"a\" and then \n",
    "# if the string is starting with char like vovels or consonants give the output for them \n",
    "\n",
    "a = input(\"enter the name\").upper()\n",
    "if a[0] in \"AEIOU\":\n",
    "    print(\"your name start with vovel alphabet\")\n",
    "    if a[0] == \"A\":\n",
    "         print(\"your name start with 'a' alphabet\")\n",
    "else:\n",
    "    print(\"your name start with consonant alphabet\")"
   ]
  },
  {
   "cell_type": "markdown",
   "id": "004af191-b967-4c73-a315-71eac9818371",
   "metadata": {},
   "source": [
    "<h3>.isdigit</h3> "
   ]
  },
  {
   "cell_type": "raw",
   "id": "dd9299ea-bfbf-4fc0-8e27-6c609a754b63",
   "metadata": {},
   "source": [
    "The isdigit() method is used with strings to check whether all \n",
    "characters in the string are digits (0–9). It’s a handy way to \n",
    "validate numeric input before converting it to an integer."
   ]
  },
  {
   "cell_type": "code",
   "execution_count": 42,
   "id": "3a83a485-f40c-4c26-af21-be2a669de736",
   "metadata": {},
   "outputs": [
    {
     "name": "stdout",
     "output_type": "stream",
     "text": [
      "False\n"
     ]
    }
   ],
   "source": [
    "a = \"hello\"\n",
    "print(a.isdigit())"
   ]
  },
  {
   "cell_type": "code",
   "execution_count": 44,
   "id": "67591abf-aeec-42d3-9ca6-da57f46dee04",
   "metadata": {},
   "outputs": [
    {
     "name": "stdout",
     "output_type": "stream",
     "text": [
      "True\n"
     ]
    }
   ],
   "source": [
    "a = \"123\"\n",
    "print(a.isdigit())"
   ]
  },
  {
   "cell_type": "markdown",
   "id": "d87ec7ae-731b-4744-8d8c-b8e79d6d481e",
   "metadata": {},
   "source": [
    "<h3>.isalpha</h3>"
   ]
  },
  {
   "cell_type": "raw",
   "id": "70aa6db1-7ec3-4cfe-a537-63180fa3a1c3",
   "metadata": {},
   "source": [
    "This method checks whether all characters in a string are \n",
    "alphabetic (A–Z or a–z). It returns True if the string \n",
    "contains only letters and at least one character, otherwise False."
   ]
  },
  {
   "cell_type": "code",
   "execution_count": 46,
   "id": "14c3fa96-dd70-4cc0-84b8-4042c6a37f0c",
   "metadata": {},
   "outputs": [
    {
     "name": "stdout",
     "output_type": "stream",
     "text": [
      "True\n"
     ]
    }
   ],
   "source": [
    "word = \"tushar\"\n",
    "print(word.isalpha())"
   ]
  },
  {
   "cell_type": "code",
   "execution_count": 47,
   "id": "037f5bd0-4d4f-407a-acc0-019136a6bef4",
   "metadata": {},
   "outputs": [
    {
     "name": "stdout",
     "output_type": "stream",
     "text": [
      "False\n"
     ]
    }
   ],
   "source": [
    "word = \"tushar12\"\n",
    "print(word.isalpha())"
   ]
  },
  {
   "cell_type": "markdown",
   "id": "2e0a32cd-f10a-4ed9-ad18-d0fb66b3926a",
   "metadata": {},
   "source": [
    "<h3>.lower</h3>"
   ]
  },
  {
   "cell_type": "raw",
   "id": "d56a024a-93d4-45ee-9e7e-5c3ff18a5214",
   "metadata": {},
   "source": [
    "The .lower() method is a built-in string function that returns a \n",
    "new string with all uppercase letters converted to lowercase.\n",
    "It’s perfect for making comparisons or cleaning up user input \n",
    "when case doesn’t matter."
   ]
  },
  {
   "cell_type": "code",
   "execution_count": 50,
   "id": "97f24bfc-4f7f-46a1-a20c-4ce282b5ec99",
   "metadata": {},
   "outputs": [
    {
     "name": "stdout",
     "output_type": "stream",
     "text": [
      "hello , tushar\n"
     ]
    }
   ],
   "source": [
    "text = \"HELLO , TUSHAR\"\n",
    "print(text.lower())"
   ]
  },
  {
   "cell_type": "markdown",
   "id": "dcfb7b49-50d7-43bb-abcf-e30f45319fc3",
   "metadata": {},
   "source": [
    "<h3>.upper</h3>"
   ]
  },
  {
   "cell_type": "raw",
   "id": "d5b1d74c-be56-4296-84e4-c931eb6a7eea",
   "metadata": {},
   "source": [
    ".upper() — a handy string method that converts all lowercase letters to uppercase."
   ]
  },
  {
   "cell_type": "code",
   "execution_count": 51,
   "id": "bd68177e-d2a4-4479-9a09-c8f19f71d518",
   "metadata": {},
   "outputs": [
    {
     "name": "stdout",
     "output_type": "stream",
     "text": [
      "HELLO , TUSHAR\n"
     ]
    }
   ],
   "source": [
    "text = \"hello , tushar\"\n",
    "print(text.upper())"
   ]
  },
  {
   "cell_type": "code",
   "execution_count": 52,
   "id": "4fcbe769-60bb-47ed-826e-ee7b7ca8608f",
   "metadata": {},
   "outputs": [],
   "source": [
    "                                                # 31-07-2025"
   ]
  },
  {
   "cell_type": "code",
   "execution_count": 62,
   "id": "04e0e625-aba7-47ed-8f59-e837f2f84089",
   "metadata": {},
   "outputs": [
    {
     "name": "stdin",
     "output_type": "stream",
     "text": [
      "enter a four digit number:  12334\n"
     ]
    },
    {
     "name": "stdout",
     "output_type": "stream",
     "text": [
      "not a four digit number\n"
     ]
    }
   ],
   "source": [
    "# write a program to check a 4 digit number is palindrome or not and with the next condition\n",
    "# the sum of first two digit is equal to the sum of last to digit\n",
    "\n",
    "a = int(input(\"enter a four digit number: \"))\n",
    "if a>999 and a<10000:\n",
    "    if str(a) == str(a)[::-1]:\n",
    "        print(\"its a palindrome\") \n",
    "    else:    \n",
    "        print(\"its not a palindrome\")\n",
    "else:\n",
    "    print(\"its not a four digit number\")\n",
    "        \n",
    "\n",
    "    "
   ]
  },
  {
   "cell_type": "code",
   "execution_count": 13,
   "id": "728f0c1d-f333-4126-8426-171825780389",
   "metadata": {},
   "outputs": [
    {
     "name": "stdin",
     "output_type": "stream",
     "text": [
      "enter a four digit number:  6208\n"
     ]
    },
    {
     "name": "stdout",
     "output_type": "stream",
     "text": [
      "The sum of starting two digit is equal to the sum of last two digit number\n"
     ]
    }
   ],
   "source": [
    "a = int(input(\"enter a four digit number: \"))\n",
    "if a>999 and a<10000:\n",
    "    a_str = str(a)\n",
    "    if a_str == a_str[::-1]:\n",
    "        print(\"its a palindrome\") \n",
    "    else:    \n",
    "        sum1 = int(a_str[0]) + int(a_str[1])\n",
    "        sum2 = int(a_str[2]) + int(a_str[3])\n",
    "        if sum1 == sum2:\n",
    "            print(\"The sum of starting two digit is equal to the sum of last two digit number\")\n",
    "        else:    \n",
    "            print(\"not equal\")      \n",
    "else:\n",
    "    print(\"its not a four digit number\")"
   ]
  },
  {
   "cell_type": "code",
   "execution_count": null,
   "id": "7e97af94-9a38-4d4f-ba14-99210039f67c",
   "metadata": {},
   "outputs": [],
   "source": [
    "                                                      # 01-08-2025"
   ]
  },
  {
   "cell_type": "code",
   "execution_count": 12,
   "id": "76bacbe1-b4f5-4c31-8f7b-ca94d74533e8",
   "metadata": {},
   "outputs": [
    {
     "name": "stdin",
     "output_type": "stream",
     "text": [
      "enter your age 2\n",
      "yes or no no\n"
     ]
    },
    {
     "name": "stdout",
     "output_type": "stream",
     "text": [
      "you have to pay 5$\n"
     ]
    }
   ],
   "source": [
    "#  # write a program that determines the price of movie ticket based on age and membership status\n",
    "# if the person is under 12 the ticket is 5& \n",
    "# if  the person  is 60 or above the tickect is $7\n",
    "# for age between 12 and 59 if they are the member ticket is 8 $ otherwise 12$\n",
    "\n",
    "age = int(input(\"enter your age\"))\n",
    "member = input(\"yes or no\").upper()\n",
    "if age <= 12:\n",
    "    print(\"you have to pay 5$\")\n",
    "elif age > 12 and age <= 59:\n",
    "    if member == \"YES\":\n",
    "        print(\"you are a member you have to pay 8$\")\n",
    "    else:\n",
    "        print(\"you are not a member you have to pay 12$\")\n",
    "else:\n",
    "    if age > 60:\n",
    "        print(\"you have to pay 6$\")  \n",
    "\n"
   ]
  },
  {
   "cell_type": "code",
   "execution_count": 20,
   "id": "57bbdd43-7310-47f5-9d3f-e5c2b83c6b04",
   "metadata": {},
   "outputs": [
    {
     "name": "stdin",
     "output_type": "stream",
     "text": [
      "enter the month 19\n",
      "enter the temperature 7\n"
     ]
    },
    {
     "name": "stdout",
     "output_type": "stream",
     "text": [
      "invalid month\n"
     ]
    }
   ],
   "source": [
    "# write a python pro that takes the number of month 1 to 12 and temp as an input accourding to month \n",
    "# print the season winter , summer , autom ,spring\n",
    "# for winter if the temp is less than 10 print freezing\n",
    "#     spring or summer if temp > 30 print hot \n",
    "# if the month is not between 1 to 12 print invalid \n",
    "\n",
    "month = int(input(\"enter the month\"))\n",
    "temp = int(input(\"enter the temperature\"))\n",
    "if month >= 1 and month <= 3 :\n",
    "    print(\"its winter\")\n",
    "    if temp <= 10:\n",
    "        print(\" freezing\")\n",
    "elif month >= 4 and month <= 6 :\n",
    "    print(\"its spring\")\n",
    "    if temp >= 30:\n",
    "        print(\"hot\") \n",
    "elif month >= 7 and month <= 9 :\n",
    "    print(\"its summer\")\n",
    "    if temp >= 30:\n",
    "        print(\"hot\") \n",
    "elif month >= 10 and month <= 12 :\n",
    "    print(\"its automn\")\n",
    "else:\n",
    "    print(\"invalid month\")"
   ]
  },
  {
   "cell_type": "code",
   "execution_count": 21,
   "id": "9ffc9e2e-3559-4027-af4b-bfb8903df5f9",
   "metadata": {},
   "outputs": [
    {
     "name": "stdin",
     "output_type": "stream",
     "text": [
      "enter the weight 12\n",
      "enter the height 23\n"
     ]
    },
    {
     "name": "stdout",
     "output_type": "stream",
     "text": [
      "you are underweight\n",
      "you are seviorly underweight\n"
     ]
    }
   ],
   "source": [
    "# write a python program to cal bmi using a person weight in kg and height in meters\n",
    "# if bmi is less thaon 18.5 print underweight further if the bmi is less than 15 also print seviorly underweight\n",
    "# if the bmi is between 18 .5 to 25 print normal \n",
    "# if the bmi is above 25 print overweight or obus\n",
    "# BMI = weight (kg) / (height (m))**2\n",
    "\n",
    "weight = float(input(\"enter the weight\"))\n",
    "height = float(input(\"enter the height\"))     \n",
    "\n",
    "bmi = weight / (height)**2\n",
    "if bmi <= 18.5:\n",
    "    print(\"you are underweight\")\n",
    "    if bmi <= 15:\n",
    "        print(\"you are seviorly underweight\")\n",
    "elif bmi > 18.5 and bmi < 25:\n",
    "    print(\"you are normal\")\n",
    "elif bmi >= 25:\n",
    "    print(\"you are overweight\")\n",
    "\n",
    "else:\n",
    "     print(\"invalid\")\n",
    "         \n"
   ]
  },
  {
   "cell_type": "code",
   "execution_count": null,
   "id": "396ae599-9df1-4f37-a51c-832c2392c703",
   "metadata": {},
   "outputs": [],
   "source": [
    "                                                # 02-08-2025"
   ]
  },
  {
   "cell_type": "code",
   "execution_count": 4,
   "id": "93f52493-650b-42d7-8d34-2ee118b9d4b7",
   "metadata": {},
   "outputs": [
    {
     "name": "stdin",
     "output_type": "stream",
     "text": [
      "enter the year 1700\n"
     ]
    },
    {
     "name": "stdout",
     "output_type": "stream",
     "text": [
      "not a leap year\n"
     ]
    }
   ],
   "source": [
    "year = int(input(\"enter the year\"))\n",
    "if (year % 4 == 0 and year % 100 != 0) or year % 400 == 0:\n",
    "                 print(\"it is leap year\")\n",
    "else:\n",
    "                 print(\"not a leap year\")\n",
    "                 "
   ]
  },
  {
   "cell_type": "code",
   "execution_count": 5,
   "id": "99aad5d5-fe4e-4450-9e9b-def9b4b805e2",
   "metadata": {},
   "outputs": [
    {
     "ename": "TypeError",
     "evalue": "'str' object does not support item assignment",
     "output_type": "error",
     "traceback": [
      "\u001b[1;31m---------------------------------------------------------------------------\u001b[0m",
      "\u001b[1;31mTypeError\u001b[0m                                 Traceback (most recent call last)",
      "Cell \u001b[1;32mIn[5], line 2\u001b[0m\n\u001b[0;32m      1\u001b[0m b \u001b[38;5;241m=\u001b[39m \u001b[38;5;124m\"\u001b[39m\u001b[38;5;124mcybrom\u001b[39m\u001b[38;5;124m\"\u001b[39m\n\u001b[1;32m----> 2\u001b[0m b[\u001b[38;5;241m2\u001b[39m] \u001b[38;5;241m=\u001b[39m \u001b[38;5;124m'\u001b[39m\u001b[38;5;124mc\u001b[39m\u001b[38;5;124m'\u001b[39m\n\u001b[0;32m      3\u001b[0m b\n",
      "\u001b[1;31mTypeError\u001b[0m: 'str' object does not support item assignment"
     ]
    }
   ],
   "source": [
    "b = \"cybrom\"\n",
    "b[2] = 'c'\n",
    "b"
   ]
  },
  {
   "cell_type": "code",
   "execution_count": null,
   "id": "73d68621-8471-4cea-afc6-9518df72fea9",
   "metadata": {},
   "outputs": [],
   "source": []
  }
 ],
 "metadata": {
  "kernelspec": {
   "display_name": "Python [conda env:base] *",
   "language": "python",
   "name": "conda-base-py"
  },
  "language_info": {
   "codemirror_mode": {
    "name": "ipython",
    "version": 3
   },
   "file_extension": ".py",
   "mimetype": "text/x-python",
   "name": "python",
   "nbconvert_exporter": "python",
   "pygments_lexer": "ipython3",
   "version": "3.12.7"
  }
 },
 "nbformat": 4,
 "nbformat_minor": 5
}
