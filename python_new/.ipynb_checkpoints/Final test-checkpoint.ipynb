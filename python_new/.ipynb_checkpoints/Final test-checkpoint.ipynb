{
 "cells": [
  {
   "cell_type": "code",
   "execution_count": null,
   "id": "7453cac8-f9ed-4ddc-ab31-34baab0a01e5",
   "metadata": {},
   "outputs": [],
   "source": [
    "                                                # Sheet one"
   ]
  },
  {
   "cell_type": "code",
   "execution_count": null,
   "id": "a7187131-49ce-4add-88e9-a0c779de6b41",
   "metadata": {},
   "outputs": [],
   "source": [
    "1 Write a Python program that takes an integer input from the user. Check whether the number is negative, zero, or positive.\n",
    "If the number is positive, further determine whether it is even or odd, and display the appropriate messages."
   ]
  },
  {
   "cell_type": "code",
   "execution_count": null,
   "id": "bb674e5f-ffc6-41ac-9edf-cbf461090fbb",
   "metadata": {},
   "outputs": [],
   "source": [
    "2 Write a Python program to simulate a bank transaction where the user is asked to input their available account balance\n",
    "and the amount they wish to withdraw. If the withdrawal amount is less than or equal to the available balance,\n",
    "complete the transaction and display the remaining balance; otherwise, display an Insufficient funds message."
   ]
  },
  {
   "cell_type": "code",
   "execution_count": null,
   "id": "ace4fbb2-f4fc-4dfe-8744-5fac0cccba25",
   "metadata": {},
   "outputs": [],
   "source": [
    "3 Write a Python program to calculate a students percentage and\n",
    "determine their division based on marks obtained in five subjects\n",
    "(Maths, Science, Hindi, English, and Social Science). The user should\n",
    "input the marks for each subject out of 100. Compute the overall\n",
    "percentage and classify the result as follows:\n",
    "1 Division A for percentages 65 and above,\n",
    "2 Division B for percentages 50 to less than 65,\n",
    "3 Division C for percentages 33 to less than 50.\n",
    "If the percentage is below 33, indicate that the student has failed."
   ]
  },
  {
   "cell_type": "code",
   "execution_count": null,
   "id": "24c5c836-47be-46d2-805d-6fb1d57df14a",
   "metadata": {},
   "outputs": [],
   "source": [
    "4 wap to determine the type of trinange based on the lengths of its side the types are\n",
    "if\n",
    "   1. all sides are equal = equlateral triangle\n",
    "   2. isosceles triangle= two sides are equal\n",
    "   3. scalene triangle = all side are different"
   ]
  },
  {
   "cell_type": "code",
   "execution_count": null,
   "id": "58122daf-5385-4c42-b311-626afa0f56c4",
   "metadata": {},
   "outputs": [],
   "source": [
    "5 Write a Python program that takes a positive integer n as input and calculates the following for all numbers from 1 to n:\n",
    "   1. The sum of all even numbers.\n",
    "   2. The sum of all odd numbers.\n",
    "   3. The count of even numbers.\n",
    "   4. The count of odd numbers."
   ]
  },
  {
   "cell_type": "code",
   "execution_count": null,
   "id": "1b12bc37-376c-4f2b-8be3-f960392becb9",
   "metadata": {},
   "outputs": [],
   "source": [
    "6 write a program to check weather a no is prime or not"
   ]
  },
  {
   "cell_type": "code",
   "execution_count": null,
   "id": "0d321171-26bf-4fa6-9bb7-e63bbff04dbf",
   "metadata": {},
   "outputs": [],
   "source": [
    "7 Write for loop statement to print the loop 100,200,300….3000"
   ]
  },
  {
   "cell_type": "code",
   "execution_count": null,
   "id": "da31cfef-705e-4022-9431-1a97fc94f475",
   "metadata": {},
   "outputs": [],
   "source": [
    "8 write a program to print the first 10 even number with their sum"
   ]
  },
  {
   "cell_type": "code",
   "execution_count": null,
   "id": "9720de0f-6f3d-48fe-8d84-6f1a40f1aed5",
   "metadata": {},
   "outputs": [],
   "source": [
    "9 write a python program for the Fibonacci series"
   ]
  },
  {
   "cell_type": "code",
   "execution_count": null,
   "id": "0e6b4c87-da7d-4bcc-9eb4-37fe64dec2a3",
   "metadata": {},
   "outputs": [],
   "source": [
    "10 write a python program to print the factorial number that will taken from user"
   ]
  },
  {
   "cell_type": "code",
   "execution_count": null,
   "id": "9bbef4e0-11cc-4b03-a1c6-dbeb3fbc56df",
   "metadata": {},
   "outputs": [],
   "source": [
    "                                         # sheet two "
   ]
  },
  {
   "cell_type": "code",
   "execution_count": null,
   "id": "9fe73af5-8729-47fe-a4a4-d29215996143",
   "metadata": {},
   "outputs": [],
   "source": [
    "Question 1. Write a program to convert a list of tuples into a dictionary.\n",
    "Example Input: [(1, &amp;#39;a&amp;#39;), (2, &amp;#39;b&amp;#39;), (3,&amp;#39;c&amp;#39;)]\n",
    "Output: {1: &amp;#39;a&amp;#39;, 2: &amp;#39;b&amp;#39;, 3: &amp;#39;c&amp;#39;}"
   ]
  },
  {
   "cell_type": "code",
   "execution_count": null,
   "id": "f2e9b527-3945-4420-86a7-508cb7fb34ab",
   "metadata": {},
   "outputs": [],
   "source": [
    "Question 2. Write a Python program to print a hollow pyramid pattern. \n",
    "The program should ask for a single integer input, n, which represents the height of the pyramid?"
   ]
  },
  {
   "cell_type": "code",
   "execution_count": null,
   "id": "aef4cc1e-7f89-414f-9595-41a90064d185",
   "metadata": {},
   "outputs": [],
   "source": [
    "Question 3. Write a python program to create the logic of sorting into ascending order"
   ]
  },
  {
   "cell_type": "code",
   "execution_count": null,
   "id": "733421d0-1ad3-4fc8-b450-2bfe79075959",
   "metadata": {},
   "outputs": [],
   "source": [
    "Question 4.\n",
    "    \n",
    "A\n",
    "ABA\n",
    "ABCAB\n",
    "ABCDABC\n",
    "ABCDEABCD"
   ]
  },
  {
   "cell_type": "code",
   "execution_count": 12,
   "id": "bcc2bc73-7776-4b8a-8551-430c56e5ace7",
   "metadata": {},
   "outputs": [
    {
     "name": "stdout",
     "output_type": "stream",
     "text": [
      "{'a': 8, 'b': 3, 'c': 5}\n"
     ]
    }
   ],
   "source": [
    "# Question 5. Create a dictionary where the keys are words and the values are their lengths\n",
    "# (e.g., {&amp;#39;apple&amp;#39;:5, &amp;#39;banana&amp;#39;: 6}).\n",
    "\n",
    "n =['a','b','b','b','c','c','c','c','c','a','a','a','a','a','a','a']\n",
    "d = {}\n",
    "for i in n:\n",
    "    if i in d:\n",
    "        d[i] += 1\n",
    "    else:\n",
    "        d[i] = 1    \n",
    "print(d)        "
   ]
  }
 ],
 "metadata": {
  "kernelspec": {
   "display_name": "Python [conda env:base] *",
   "language": "python",
   "name": "conda-base-py"
  },
  "language_info": {
   "codemirror_mode": {
    "name": "ipython",
    "version": 3
   },
   "file_extension": ".py",
   "mimetype": "text/x-python",
   "name": "python",
   "nbconvert_exporter": "python",
   "pygments_lexer": "ipython3",
   "version": "3.12.7"
  }
 },
 "nbformat": 4,
 "nbformat_minor": 5
}
