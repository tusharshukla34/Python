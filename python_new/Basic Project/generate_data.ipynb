{
 "cells": [
  {
   "cell_type": "code",
   "execution_count": 1,
   "id": "e4c69b3e-8942-49f8-b958-b71cc528de98",
   "metadata": {},
   "outputs": [
    {
     "name": "stdout",
     "output_type": "stream",
     "text": [
      "Collecting faker\n",
      "  Downloading faker-37.6.0-py3-none-any.whl.metadata (15 kB)\n",
      "Requirement already satisfied: pandas in c:\\users\\hp\\anaconda3\\lib\\site-packages (2.2.2)\n",
      "Requirement already satisfied: tzdata in c:\\users\\hp\\anaconda3\\lib\\site-packages (from faker) (2023.3)\n",
      "Requirement already satisfied: numpy>=1.26.0 in c:\\users\\hp\\anaconda3\\lib\\site-packages (from pandas) (1.26.4)\n",
      "Requirement already satisfied: python-dateutil>=2.8.2 in c:\\users\\hp\\anaconda3\\lib\\site-packages (from pandas) (2.9.0.post0)\n",
      "Requirement already satisfied: pytz>=2020.1 in c:\\users\\hp\\anaconda3\\lib\\site-packages (from pandas) (2024.1)\n",
      "Requirement already satisfied: six>=1.5 in c:\\users\\hp\\anaconda3\\lib\\site-packages (from python-dateutil>=2.8.2->pandas) (1.16.0)\n",
      "Downloading faker-37.6.0-py3-none-any.whl (1.9 MB)\n",
      "   ---------------------------------------- 0.0/1.9 MB ? eta -:--:--\n",
      "   ---------------------------------------- 0.0/1.9 MB ? eta -:--:--\n",
      "   ---------------------------------------- 0.0/1.9 MB ? eta -:--:--\n",
      "   ----- ---------------------------------- 0.3/1.9 MB ? eta -:--:--\n",
      "   ---------------- ----------------------- 0.8/1.9 MB 1.8 MB/s eta 0:00:01\n",
      "   -------------------------- ------------- 1.3/1.9 MB 2.0 MB/s eta 0:00:01\n",
      "   -------------------------------- ------- 1.6/1.9 MB 2.0 MB/s eta 0:00:01\n",
      "   ---------------------------------------- 1.9/1.9 MB 2.0 MB/s eta 0:00:00\n",
      "Installing collected packages: faker\n",
      "Successfully installed faker-37.6.0\n",
      "Note: you may need to restart the kernel to use updated packages.\n"
     ]
    }
   ],
   "source": [
    "pip install faker pandas"
   ]
  },
  {
   "cell_type": "code",
   "execution_count": 1,
   "id": "62290fcf-e2ad-4f39-9084-addc49a7e2d1",
   "metadata": {},
   "outputs": [
    {
     "name": "stdout",
     "output_type": "stream",
     "text": [
      "✅ Dataset generated: vaccines.csv, countries.csv, patients.csv, trials.csv\n"
     ]
    }
   ],
   "source": [
    "import pandas as pd\n",
    "import random\n",
    "from faker import Faker\n",
    "from datetime import datetime\n",
    "\n",
    "fake = Faker()\n",
    "\n",
    "# -------------------------\n",
    "# 1. Real Vaccines (static)\n",
    "# -------------------------\n",
    "vaccines = [\n",
    "    (1, \"Pfizer-BioNTech\", \"Pfizer, BioNTech\", \"2020-12-11\"),\n",
    "    (2, \"Moderna\", \"Moderna\", \"2020-12-18\"),\n",
    "    (3, \"Covaxin\", \"Bharat Biotech\", \"2021-01-03\"),\n",
    "    (4, \"AstraZeneca (Covishield)\", \"Oxford, AstraZeneca\", \"2020-12-30\"),\n",
    "    (5, \"Sputnik V\", \"Gamaleya Research Institute\", \"2020-08-11\"),\n",
    "    (6, \"Sinovac\", \"Sinovac Biotech\", \"2021-02-05\")\n",
    "]\n",
    "\n",
    "df_vaccines = pd.DataFrame(vaccines, columns=[\"vaccine_id\", \"vaccine_name\", \"manufacturer\", \"approval_date\"])\n",
    "df_vaccines.to_csv(\"vaccines.csv\", index=False)\n",
    "\n",
    "# -------------------------\n",
    "# 2. Countries (static)\n",
    "# -------------------------\n",
    "countries = [\n",
    "    (1, \"India\", \"Asia\"),\n",
    "    (2, \"USA\", \"North America\"),\n",
    "    (3, \"Brazil\", \"South America\"),\n",
    "    (4, \"UK\", \"Europe\"),\n",
    "    (5, \"Nigeria\", \"Africa\"),\n",
    "    (6, \"Australia\", \"Oceania\")\n",
    "]\n",
    "\n",
    "df_countries = pd.DataFrame(countries, columns=[\"country_id\", \"country_name\", \"continent\"])\n",
    "df_countries.to_csv(\"countries.csv\", index=False)\n",
    "\n",
    "# -------------------------\n",
    "# 3. Patients (synthetic, 10k)\n",
    "# -------------------------\n",
    "num_patients = 10000\n",
    "patients = []\n",
    "\n",
    "for pid in range(1, num_patients + 1):\n",
    "    name = fake.name()\n",
    "    age = random.randint(18, 80)\n",
    "    gender = random.choice([\"Male\", \"Female\"])\n",
    "    country_id = random.choice([c[0] for c in countries])\n",
    "    patients.append((pid, name, age, gender, country_id))\n",
    "\n",
    "df_patients = pd.DataFrame(patients, columns=[\"patient_id\", \"name\", \"age\", \"gender\", \"country_id\"])\n",
    "df_patients.to_csv(\"patients.csv\", index=False)\n",
    "\n",
    "# -------------------------\n",
    "# 4. Trials (synthetic, 50k)\n",
    "# -------------------------\n",
    "num_trials = 50000\n",
    "trials = []\n",
    "\n",
    "# Vaccine outcome probabilities\n",
    "outcome_probs = {\n",
    "    1: [\"Success\"] * 90 + [\"Side Effect\"] * 8 + [\"Failure\"] * 2,  # Pfizer\n",
    "    2: [\"Success\"] * 90 + [\"Side Effect\"] * 8 + [\"Failure\"] * 2,  # Moderna\n",
    "    3: [\"Success\"] * 80 + [\"Side Effect\"] * 15 + [\"Failure\"] * 5, # Covaxin\n",
    "    4: [\"Success\"] * 80 + [\"Side Effect\"] * 15 + [\"Failure\"] * 5, # AstraZeneca\n",
    "    5: [\"Success\"] * 70 + [\"Side Effect\"] * 20 + [\"Failure\"] * 10,# Sputnik V\n",
    "    6: [\"Success\"] * 70 + [\"Side Effect\"] * 20 + [\"Failure\"] * 10 # Sinovac\n",
    "}\n",
    "\n",
    "for tid in range(1, num_trials + 1):\n",
    "    patient_id = random.randint(1, num_patients)\n",
    "    vaccine_id = random.choice([v[0] for v in vaccines])\n",
    "    trial_date = fake.date_between(start_date=datetime(2020, 6, 1), end_date=datetime(2023, 12, 31))\n",
    "    outcome = random.choice(outcome_probs[vaccine_id])\n",
    "    trials.append((tid, patient_id, vaccine_id, trial_date, outcome))\n",
    "\n",
    "df_trials = pd.DataFrame(trials, columns=[\"trial_id\", \"patient_id\", \"vaccine_id\", \"trial_date\", \"outcome\"])\n",
    "df_trials.to_csv(\"trials.csv\", index=False)\n",
    "\n",
    "print(\"✅ Dataset generated: vaccines.csv, countries.csv, patients.csv, trials.csv\")\n"
   ]
  }
 ],
 "metadata": {
  "kernelspec": {
   "display_name": "Python [conda env:base] *",
   "language": "python",
   "name": "conda-base-py"
  },
  "language_info": {
   "codemirror_mode": {
    "name": "ipython",
    "version": 3
   },
   "file_extension": ".py",
   "mimetype": "text/x-python",
   "name": "python",
   "nbconvert_exporter": "python",
   "pygments_lexer": "ipython3",
   "version": "3.12.7"
  }
 },
 "nbformat": 4,
 "nbformat_minor": 5
}
