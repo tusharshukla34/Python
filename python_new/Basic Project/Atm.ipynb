{
 "cells": [
  {
   "cell_type": "markdown",
   "id": "e72e0987-6e56-4a54-b1cc-6366b6f3e824",
   "metadata": {},
   "source": [
    "<h1 style=\"color:green; font-family:'Comic Sans MS'; text-align:center;\">ATM Machine</h1>"
   ]
  },
  {
   "cell_type": "code",
   "execution_count": 11,
   "id": "f01b3b66-4234-4453-bdf2-abc7e742d45b",
   "metadata": {},
   "outputs": [
    {
     "name": "stdin",
     "output_type": "stream",
     "text": [
      "Enter your available balance 453\n",
      "Enter your account type from below option :\n",
      "1. Saving\n",
      "2. Current\n",
      " saving\n",
      "Select What service you need:\n",
      "    1. Withdrawl\n",
      "    2. Balance inquiry\n",
      "    3. Deposit\n",
      "     deposit\n",
      "Enter how would u like to deposite:\n",
      "        1. Cash\n",
      "        2. online\n",
      "        3. Qr\n",
      "        4. Yono online\n",
      "         cash\n",
      "Enter the amount to deposite 5000\n"
     ]
    },
    {
     "name": "stdout",
     "output_type": "stream",
     "text": [
      "Now your avalaible balance is : 5453.0\n"
     ]
    }
   ],
   "source": [
    "balance = float(input(\"Enter your available balance\"))\n",
    "account_type = input('''Enter your account type from below option :\n",
    "1. Saving\n",
    "2. Current\n",
    "''').lower()\n",
    "if account_type == \"saving\":\n",
    "    service = input('''Select What service you need:\n",
    "    1. Withdrawl\n",
    "    2. Balance inquiry\n",
    "    3. Deposit\n",
    "    ''').lower()\n",
    "    if service == \"withdrawl\":\n",
    "        withdrawl_amo = float(input(\"Enter the withdrawl account\"))\n",
    "        if withdrawl_amo <= balance:\n",
    "            remaining_amo = balance - withdrawl_amo\n",
    "            print(\"The remaining amount is :\",remaining_amo)\n",
    "        else:\n",
    "            print(\"insufficint fund\")\n",
    "    elif service == \"balance inquiry\":\n",
    "        print(\"You have \",balance,\" in your Saving account\")\n",
    "    elif service == \"deposit\":\n",
    "        how = input('''Enter how would u like to deposite:\n",
    "        1. Cash\n",
    "        2. online\n",
    "        3. Qr\n",
    "        4. Yono online\n",
    "        ''').lower()\n",
    "        if how == \"cash\":\n",
    "            deposite_amo = float(input(\"Enter the amount to deposite\"))\n",
    "            sav_bal = balance + deposite_amo\n",
    "            print(\"Now your avalaible balance is :\",sav_bal)\n",
    "        elif how == \"online\":\n",
    "            print(\"This service is temporarly unavailable now\")\n",
    "        elif how == \"qr\":\n",
    "            print(\"This service is temporarly unavailable now\")\n",
    "        elif how == \"yono online\":\n",
    "            print(\"This service is temporarly unavailable now\")\n",
    "            \n",
    "elif account_type == \"current\":\n",
    "    service = input('''Select What service you need:\n",
    "    1. Withdrawl\n",
    "    2. Balance inquiry\n",
    "    3. Deposit\n",
    "    ''').lower()\n",
    "    if service == \"withdrawl\":\n",
    "        withdrawl_amo = float(input(\"Enter the withdrawl account\"))\n",
    "        if withdrawl_amo <= balance:\n",
    "            remaining_amo = balance - withdrawl_amo\n",
    "            print(\"The remaining amount is :\",remaining_amo)\n",
    "        else:\n",
    "            print(\"insufficint fund\")\n",
    "    elif service == \"balance inquiry\":\n",
    "        print(\"You have \",balance,\" in your Saving account\")\n",
    "    elif service == \"deposit\":\n",
    "        how = input('''Enter how would u like to deposite:\n",
    "        1. Cash\n",
    "        2. online\n",
    "        3. Qr\n",
    "        4. Yono online\n",
    "        ''').lower()\n",
    "        if how == \"cash\":\n",
    "            deposite_amo = float(input(\"Enter the amount to deposite\"))\n",
    "            sav_bal = balance + deposite_amo\n",
    "            print(\"Now your avalaible balance is :\",sav_bal)\n",
    "        elif how == \"online\":\n",
    "            print(\"This service is temporarly unavailable now\")\n",
    "        elif how == \"qr\":\n",
    "            print(\"This service is temporarly unavailable now\")\n",
    "        elif how == \"yono online\":\n",
    "            print(\"This service is temporarly unavailable now\")\n",
    "else:\n",
    "    print(\"Invalid Account Type retry!!!!!!!!!!!!!!!\")"
   ]
  }
 ],
 "metadata": {
  "kernelspec": {
   "display_name": "Python [conda env:base] *",
   "language": "python",
   "name": "conda-base-py"
  },
  "language_info": {
   "codemirror_mode": {
    "name": "ipython",
    "version": 3
   },
   "file_extension": ".py",
   "mimetype": "text/x-python",
   "name": "python",
   "nbconvert_exporter": "python",
   "pygments_lexer": "ipython3",
   "version": "3.12.7"
  }
 },
 "nbformat": 4,
 "nbformat_minor": 5
}
