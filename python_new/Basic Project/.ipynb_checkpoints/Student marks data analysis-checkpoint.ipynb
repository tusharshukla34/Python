{
 "cells": [
  {
   "cell_type": "markdown",
   "id": "12d5affa-4c1f-4b1b-b516-f675538e296f",
   "metadata": {},
   "source": [
    "<h1 style=\"color:green; font-family:'Comic Sans MS'; text-align:center;\">Student Marks Data Analysis</h1>"
   ]
  },
  {
   "cell_type": "code",
   "execution_count": 1,
   "id": "b9836db8-7120-44e6-a8eb-81bc360be1b8",
   "metadata": {},
   "outputs": [
    {
     "name": "stdin",
     "output_type": "stream",
     "text": [
      "Enter the Number of Student to fill: 4\n"
     ]
    },
    {
     "name": "stdout",
     "output_type": "stream",
     "text": [
      "Remainder Enter the marks out of 100 only !!!!!!!!!!\n",
      " "
     ]
    },
    {
     "name": "stdin",
     "output_type": "stream",
     "text": [
      "Enter the Name of 1 Student : Tushar\n",
      "Enter the marks of English subject : 98\n",
      "Enter the marks of Maths subject : 97\n",
      "Enter the marks of History subject : 96\n",
      "Enter the marks of Computer subject : 95\n",
      "Enter the marks of Science subject : 94\n"
     ]
    },
    {
     "name": "stdout",
     "output_type": "stream",
     "text": [
      " "
     ]
    },
    {
     "name": "stdin",
     "output_type": "stream",
     "text": [
      "Enter the Name of 2 Student : Sallu\n",
      "Enter the marks of English subject : 87\n",
      "Enter the marks of Maths subject : 67\n",
      "Enter the marks of History subject : 78\n",
      "Enter the marks of Computer subject : 45\n",
      "Enter the marks of Science subject : 98\n"
     ]
    },
    {
     "name": "stdout",
     "output_type": "stream",
     "text": [
      " "
     ]
    },
    {
     "name": "stdin",
     "output_type": "stream",
     "text": [
      "Enter the Name of 3 Student : sachin\n",
      "Enter the marks of English subject : 98\n",
      "Enter the marks of Maths subject : 34\n",
      "Enter the marks of History subject : 67\n",
      "Enter the marks of Computer subject : 98\n",
      "Enter the marks of Science subject : 76\n"
     ]
    },
    {
     "name": "stdout",
     "output_type": "stream",
     "text": [
      " "
     ]
    },
    {
     "name": "stdin",
     "output_type": "stream",
     "text": [
      "Enter the Name of 4 Student : Amita\n",
      "Enter the marks of English subject : 87\n",
      "Enter the marks of Maths subject : 68\n",
      "Enter the marks of History subject : 67\n",
      "Enter the marks of Computer subject : 97\n",
      "Enter the marks of Science subject : 76\n"
     ]
    },
    {
     "name": "stdout",
     "output_type": "stream",
     "text": [
      " \n",
      "STUDENT PROGRESS REPORT\n",
      "Student Name: Tushar\n",
      "Average: 96.0\n",
      "Total: 480\n",
      "Grade: A+\n",
      "--------------------------------------------------\n",
      "STUDENT PROGRESS REPORT\n",
      "Student Name: Sallu\n",
      "Average: 75.0\n",
      "Total: 375\n",
      "Grade: A\n",
      "--------------------------------------------------\n",
      "STUDENT PROGRESS REPORT\n",
      "Student Name: sachin\n",
      "Average: 74.6\n",
      "Total: 373\n",
      "Grade: A\n",
      "--------------------------------------------------\n",
      "STUDENT PROGRESS REPORT\n",
      "Student Name: Amita\n",
      "Average: 79.0\n",
      "Total: 395\n",
      "Grade: A\n",
      "--------------------------------------------------\n",
      "Topper Student name is:  Tushar\n",
      "\n",
      "Average Math: 66.5\n",
      "Average Science: 86.0\n",
      "Average English: 92.5\n",
      "Average Computer: 83.75\n",
      "Average History: 77.0\n"
     ]
    }
   ],
   "source": [
    "number = int(input(\"Enter the Number of Student to fill:\"))\n",
    "print(end = \"\")\n",
    "d = {}\n",
    "total = 0\n",
    "print(\"Remainder Enter the marks out of 100 only !!!!!!!!!!\")\n",
    "print(end = \" \")\n",
    "for i in range(1,number+1):\n",
    "    name = input(\"Enter the Name of \"+ str(i) + \" Student :\")\n",
    "    english = int(input(\"Enter the marks of English subject :\"))\n",
    "    math = int(input(\"Enter the marks of Maths subject :\"))\n",
    "    history = int(input(\"Enter the marks of History subject :\"))\n",
    "    computer = int(input(\"Enter the marks of Computer subject :\"))\n",
    "    science = int(input(\"Enter the marks of Science subject :\"))\n",
    "    print(end = \" \")\n",
    "    total = english + math + history + computer + science \n",
    "    avg = total/5\n",
    "    if avg > 90:\n",
    "        grade = \"A+\"\n",
    "    elif avg > 70:\n",
    "        grade = \"A\"\n",
    "    elif avg > 50:\n",
    "        grade = \"B\"\n",
    "    elif avg > 45:\n",
    "        grade = \"C\"\n",
    "    else:\n",
    "        grade = \"Fail\"\n",
    "        \n",
    "    d[name] = {\"English\": english, \"Math\": math ,\"History\": history, \"Computer\": computer, \"Science\": science, \"Total\": total,\n",
    "               \"Average\": avg, \"Grade\": grade}\n",
    "print()    \n",
    "# print individual report\n",
    "\n",
    "for name in d:\n",
    "    print(\"STUDENT PROGRESS REPORT\")\n",
    "    print(\"Student Name:\",name)\n",
    "    print(\"Average:\",d[name][\"Average\"])\n",
    "    print(\"Total:\",d[name][\"Total\"])\n",
    "    print(\"Grade:\",d[name][\"Grade\"])\n",
    "    print(\"-\" * 50)\n",
    "\n",
    "# Topper Name\n",
    "\n",
    "highest_total= max(d[name][\"Total\"] for name in d) \n",
    "for name in d:\n",
    "    if d[name][\"Total\"] == highest_total:\n",
    "        print(\"Topper Student name is: \",name)\n",
    "print() \n",
    "\n",
    "# subject Average\n",
    "\n",
    "subjects = [\"Math\",\"Science\",\"English\",\"Computer\",\"History\"]\n",
    "for subj in subjects:\n",
    "    total_for_sub = 0\n",
    "    for name in d:\n",
    "        total_for_sub = total_for_sub + d[name][subj]\n",
    "    avg_marks = total_for_sub/number\n",
    "    print(\"Average of \" + subj + \"subject: \" + str(round(avg_marks, 2)))\n",
    "\n"
   ]
  },
  {
   "cell_type": "code",
   "execution_count": null,
   "id": "8a9a9d91-39e8-4ade-b7d6-92ac5aacf0e2",
   "metadata": {},
   "outputs": [],
   "source": []
  }
 ],
 "metadata": {
  "kernelspec": {
   "display_name": "Python [conda env:base] *",
   "language": "python",
   "name": "conda-base-py"
  },
  "language_info": {
   "codemirror_mode": {
    "name": "ipython",
    "version": 3
   },
   "file_extension": ".py",
   "mimetype": "text/x-python",
   "name": "python",
   "nbconvert_exporter": "python",
   "pygments_lexer": "ipython3",
   "version": "3.12.7"
  }
 },
 "nbformat": 4,
 "nbformat_minor": 5
}
