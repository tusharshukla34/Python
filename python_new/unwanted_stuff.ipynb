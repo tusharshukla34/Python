{
 "cells": [
  {
   "cell_type": "code",
   "execution_count": 2,
   "id": "3c44d11e-6906-45f6-a066-ab8a3bbf37da",
   "metadata": {},
   "outputs": [
    {
     "name": "stdout",
     "output_type": "stream",
     "text": [
      "Requirement already satisfied: qrcode[pil] in c:\\users\\hp\\anaconda3\\lib\\site-packages (8.2)\n",
      "Requirement already satisfied: colorama in c:\\users\\hp\\anaconda3\\lib\\site-packages (from qrcode[pil]) (0.4.6)\n",
      "Requirement already satisfied: pillow>=9.1.0 in c:\\users\\hp\\anaconda3\\lib\\site-packages (from qrcode[pil]) (10.4.0)\n",
      "Note: you may need to restart the kernel to use updated packages.\n"
     ]
    }
   ],
   "source": [
    "pip install qrcode[pil]"
   ]
  },
  {
   "cell_type": "code",
   "execution_count": 2,
   "id": "eed06a86-269e-4e61-b30d-d01838d1987b",
   "metadata": {},
   "outputs": [
    {
     "name": "stdout",
     "output_type": "stream",
     "text": [
      "Custom QR code generated successfully!\n"
     ]
    }
   ],
   "source": [
    "import qrcode\n",
    "\n",
    "# Create a QRCode object with custom settings\n",
    "qr = qrcode.QRCode(\n",
    "    version=1,  # controls the size of the QR Code (1 is 21x21)\n",
    "    error_correction=qrcode.constants.ERROR_CORRECT_L,  # L: 7% error correction\n",
    "    box_size=10,  # size of each box in pixels\n",
    "    border=4,  # thickness of the border (default is 4)\n",
    ")\n",
    "\n",
    "# Add your data\n",
    "qr.add_data(\"Tushar\")\n",
    "qr.make(fit=True)\n",
    "\n",
    "# Create the image\n",
    "img = qr.make_image(fill_color=\"darkblue\", back_color=\"lightyellow\")\n",
    "\n",
    "# Save it\n",
    "img.save(\"custom_qrcode.png\")\n",
    "print(\"Custom QR code generated successfully!\")"
   ]
  },
  {
   "cell_type": "code",
   "execution_count": null,
   "id": "3ed16cc9-74c7-4bc0-ab91-79086ca3dcda",
   "metadata": {},
   "outputs": [],
   "source": []
  }
 ],
 "metadata": {
  "kernelspec": {
   "display_name": "Python [conda env:base] *",
   "language": "python",
   "name": "conda-base-py"
  },
  "language_info": {
   "codemirror_mode": {
    "name": "ipython",
    "version": 3
   },
   "file_extension": ".py",
   "mimetype": "text/x-python",
   "name": "python",
   "nbconvert_exporter": "python",
   "pygments_lexer": "ipython3",
   "version": "3.12.7"
  }
 },
 "nbformat": 4,
 "nbformat_minor": 5
}
